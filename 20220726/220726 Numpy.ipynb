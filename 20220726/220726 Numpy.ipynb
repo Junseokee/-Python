{
 "cells": [
  {
   "cell_type": "markdown",
   "metadata": {},
   "source": [
    "https://drive.google.com/file/d/11y3dj4r-FMYHSJs298MPdqdOsNSRzKyM/view #무슨 데이터\n",
    "https://han.gl/LwZOD #하우스 데이터 링크 \n",
    "https://archive.ics.uci.edu/ml/machine-learning-databases/housing/housing.data #하우스 데이터\n"
   ]
  },
  {
   "cell_type": "code",
   "execution_count": 1,
   "metadata": {},
   "outputs": [
    {
     "data": {
      "text/html": [
       "<div>\n",
       "<style scoped>\n",
       "    .dataframe tbody tr th:only-of-type {\n",
       "        vertical-align: middle;\n",
       "    }\n",
       "\n",
       "    .dataframe tbody tr th {\n",
       "        vertical-align: top;\n",
       "    }\n",
       "\n",
       "    .dataframe thead th {\n",
       "        text-align: right;\n",
       "    }\n",
       "</style>\n",
       "<table border=\"1\" class=\"dataframe\">\n",
       "  <thead>\n",
       "    <tr style=\"text-align: right;\">\n",
       "      <th></th>\n",
       "      <th>CRIM</th>\n",
       "      <th>ZN</th>\n",
       "      <th>INDUS</th>\n",
       "      <th>CHAS</th>\n",
       "      <th>NOX</th>\n",
       "      <th>RM</th>\n",
       "      <th>AGE</th>\n",
       "      <th>DIS</th>\n",
       "      <th>RAD</th>\n",
       "      <th>TAX</th>\n",
       "      <th>PTRATIO</th>\n",
       "      <th>B</th>\n",
       "      <th>LSTAT</th>\n",
       "      <th>MEDV</th>\n",
       "    </tr>\n",
       "  </thead>\n",
       "  <tbody>\n",
       "    <tr>\n",
       "      <th>0</th>\n",
       "      <td>0.00632</td>\n",
       "      <td>18.0</td>\n",
       "      <td>2.31</td>\n",
       "      <td>0</td>\n",
       "      <td>0.538</td>\n",
       "      <td>6.575</td>\n",
       "      <td>65.2</td>\n",
       "      <td>4.0900</td>\n",
       "      <td>1</td>\n",
       "      <td>296.0</td>\n",
       "      <td>15.3</td>\n",
       "      <td>396.90</td>\n",
       "      <td>4.98</td>\n",
       "      <td>24.0</td>\n",
       "    </tr>\n",
       "    <tr>\n",
       "      <th>1</th>\n",
       "      <td>0.02731</td>\n",
       "      <td>0.0</td>\n",
       "      <td>7.07</td>\n",
       "      <td>0</td>\n",
       "      <td>0.469</td>\n",
       "      <td>6.421</td>\n",
       "      <td>78.9</td>\n",
       "      <td>4.9671</td>\n",
       "      <td>2</td>\n",
       "      <td>242.0</td>\n",
       "      <td>17.8</td>\n",
       "      <td>396.90</td>\n",
       "      <td>9.14</td>\n",
       "      <td>21.6</td>\n",
       "    </tr>\n",
       "    <tr>\n",
       "      <th>2</th>\n",
       "      <td>0.02729</td>\n",
       "      <td>0.0</td>\n",
       "      <td>7.07</td>\n",
       "      <td>0</td>\n",
       "      <td>0.469</td>\n",
       "      <td>7.185</td>\n",
       "      <td>61.1</td>\n",
       "      <td>4.9671</td>\n",
       "      <td>2</td>\n",
       "      <td>242.0</td>\n",
       "      <td>17.8</td>\n",
       "      <td>392.83</td>\n",
       "      <td>4.03</td>\n",
       "      <td>34.7</td>\n",
       "    </tr>\n",
       "    <tr>\n",
       "      <th>3</th>\n",
       "      <td>0.03237</td>\n",
       "      <td>0.0</td>\n",
       "      <td>2.18</td>\n",
       "      <td>0</td>\n",
       "      <td>0.458</td>\n",
       "      <td>6.998</td>\n",
       "      <td>45.8</td>\n",
       "      <td>6.0622</td>\n",
       "      <td>3</td>\n",
       "      <td>222.0</td>\n",
       "      <td>18.7</td>\n",
       "      <td>394.63</td>\n",
       "      <td>2.94</td>\n",
       "      <td>33.4</td>\n",
       "    </tr>\n",
       "    <tr>\n",
       "      <th>4</th>\n",
       "      <td>0.06905</td>\n",
       "      <td>0.0</td>\n",
       "      <td>2.18</td>\n",
       "      <td>0</td>\n",
       "      <td>0.458</td>\n",
       "      <td>7.147</td>\n",
       "      <td>54.2</td>\n",
       "      <td>6.0622</td>\n",
       "      <td>3</td>\n",
       "      <td>222.0</td>\n",
       "      <td>18.7</td>\n",
       "      <td>396.90</td>\n",
       "      <td>5.33</td>\n",
       "      <td>36.2</td>\n",
       "    </tr>\n",
       "  </tbody>\n",
       "</table>\n",
       "</div>"
      ],
      "text/plain": [
       "      CRIM    ZN  INDUS  CHAS    NOX     RM   AGE     DIS  RAD    TAX  \\\n",
       "0  0.00632  18.0   2.31     0  0.538  6.575  65.2  4.0900    1  296.0   \n",
       "1  0.02731   0.0   7.07     0  0.469  6.421  78.9  4.9671    2  242.0   \n",
       "2  0.02729   0.0   7.07     0  0.469  7.185  61.1  4.9671    2  242.0   \n",
       "3  0.03237   0.0   2.18     0  0.458  6.998  45.8  6.0622    3  222.0   \n",
       "4  0.06905   0.0   2.18     0  0.458  7.147  54.2  6.0622    3  222.0   \n",
       "\n",
       "   PTRATIO       B  LSTAT  MEDV  \n",
       "0     15.3  396.90   4.98  24.0  \n",
       "1     17.8  396.90   9.14  21.6  \n",
       "2     17.8  392.83   4.03  34.7  \n",
       "3     18.7  394.63   2.94  33.4  \n",
       "4     18.7  396.90   5.33  36.2  "
      ]
     },
     "execution_count": 1,
     "metadata": {},
     "output_type": "execute_result"
    }
   ],
   "source": [
    "import pandas as pd\n",
    "data_url = \"https://archive.ics.uci.edu/ml/machine-learning-databases/housing/housing.data\"\n",
    "df_data = pd.read_csv(data_url, sep = '\\s+', header = None) # csv로 로드 sep = '\\s+'(공백으로 칸을 나누는데 여러개일수도 있음)\n",
    "df_data.columns = ['CRIM', 'ZN', 'INDUS', 'CHAS',\n",
    "                  'NOX', 'RM', 'AGE','DIS','RAD',\n",
    "                  'TAX','PTRATIO','B','LSTAT','MEDV']\n",
    "df_data.head()\n"
   ]
  },
  {
   "cell_type": "code",
   "execution_count": 2,
   "metadata": {},
   "outputs": [
    {
     "data": {
      "text/plain": [
       "array([[ 614.88713341],\n",
       "       [ 566.78199356],\n",
       "       [ 549.9009266 ],\n",
       "       [ 520.62024234],\n",
       "       [ 528.85998819],\n",
       "       [ 530.18675818],\n",
       "       [ 634.56388783],\n",
       "       [ 658.84591652],\n",
       "       [ 657.36782094],\n",
       "       [ 644.48446718],\n",
       "       [ 655.18451312],\n",
       "       [ 647.99916788],\n",
       "       [ 611.66168155],\n",
       "       [ 618.1243626 ],\n",
       "       [ 623.64855656],\n",
       "       [ 613.28943734],\n",
       "       [ 587.13918885],\n",
       "       [ 627.04187726],\n",
       "       [ 527.22780922],\n",
       "       [ 619.82154902],\n",
       "       [ 633.36674114],\n",
       "       [ 636.05186036],\n",
       "       [ 642.00557347],\n",
       "       [ 646.77521756],\n",
       "       [ 641.67141261],\n",
       "       [ 574.39742251],\n",
       "       [ 626.97179751],\n",
       "       [ 578.88276995],\n",
       "       [ 636.84971208],\n",
       "       [ 626.17573535],\n",
       "       [ 620.06748588],\n",
       "       [ 633.29713394],\n",
       "       [ 526.417111  ],\n",
       "       [ 618.48038434],\n",
       "       [ 546.02699516],\n",
       "       [ 595.61796377],\n",
       "       [ 578.04539176],\n",
       "       [ 576.29544195],\n",
       "       [ 565.98781741],\n",
       "       [ 581.20477705],\n",
       "       [ 576.30028123],\n",
       "       [ 495.52236892],\n",
       "       [ 497.03470853],\n",
       "       [ 504.81730103],\n",
       "       [ 526.34679841],\n",
       "       [ 526.5830142 ],\n",
       "       [ 527.15319615],\n",
       "       [ 563.98990221],\n",
       "       [ 576.84688889],\n",
       "       [ 549.25879138],\n",
       "       [ 559.86706682],\n",
       "       [ 570.49140111],\n",
       "       [ 540.92370496],\n",
       "       [ 541.84320583],\n",
       "       [ 810.47087463],\n",
       "       [ 570.3678162 ],\n",
       "       [ 657.355724  ],\n",
       "       [ 616.10455992],\n",
       "       [ 589.11140708],\n",
       "       [ 606.37074455],\n",
       "       [ 620.15570111],\n",
       "       [ 628.59549903],\n",
       "       [ 621.07096851],\n",
       "       [ 603.55721208],\n",
       "       [ 538.47691754],\n",
       "       [ 664.62832147],\n",
       "       [ 675.61157381],\n",
       "       [ 632.33018494],\n",
       "       [ 645.20073688],\n",
       "       [ 641.43708143],\n",
       "       [ 567.96310458],\n",
       "       [ 572.06724452],\n",
       "       [ 573.36595995],\n",
       "       [ 563.44694154],\n",
       "       [ 664.05200653],\n",
       "       [ 685.3424199 ],\n",
       "       [ 700.8441791 ],\n",
       "       [ 688.45625406],\n",
       "       [ 694.96982676],\n",
       "       [ 687.85231196],\n",
       "       [ 587.45122948],\n",
       "       [ 613.98764088],\n",
       "       [ 586.80497552],\n",
       "       [ 593.35356374],\n",
       "       [ 548.95037761],\n",
       "       [ 550.82742404],\n",
       "       [ 546.71147188],\n",
       "       [ 553.1968382 ],\n",
       "       [ 595.32489218],\n",
       "       [ 577.86463501],\n",
       "       [ 577.90160177],\n",
       "       [ 584.37474465],\n",
       "       [ 595.90318392],\n",
       "       [ 578.27782159],\n",
       "       [ 615.00392831],\n",
       "       [ 554.08532006],\n",
       "       [ 586.56045013],\n",
       "       [ 593.11852352],\n",
       "       [ 562.12268885],\n",
       "       [ 583.66915284],\n",
       "       [ 702.81101582],\n",
       "       [ 696.72544464],\n",
       "       [ 488.91754998],\n",
       "       [ 708.95671096],\n",
       "       [ 709.18817497],\n",
       "       [ 715.72891349],\n",
       "       [ 713.90388587],\n",
       "       [ 702.52103192],\n",
       "       [ 716.10579164],\n",
       "       [ 709.94292592],\n",
       "       [ 684.12992464],\n",
       "       [ 751.39858796],\n",
       "       [ 760.36037752],\n",
       "       [ 763.86497111],\n",
       "       [ 748.43494528],\n",
       "       [ 723.21074083],\n",
       "       [ 743.65198421],\n",
       "       [ 751.43613299],\n",
       "       [ 707.86432278],\n",
       "       [ 737.46576837],\n",
       "       [ 510.7184464 ],\n",
       "       [ 513.44969659],\n",
       "       [ 520.94195833],\n",
       "       [ 520.35569713],\n",
       "       [ 523.78537647],\n",
       "       [ 521.5365345 ],\n",
       "       [ 512.23088721],\n",
       "       [ 768.37636916],\n",
       "       [ 773.30448975],\n",
       "       [ 771.12794817],\n",
       "       [ 771.68331674],\n",
       "       [ 772.18170937],\n",
       "       [ 764.52497229],\n",
       "       [ 765.61357005],\n",
       "       [ 683.53739059],\n",
       "       [ 771.95976218],\n",
       "       [ 757.29928463],\n",
       "       [ 770.95636717],\n",
       "       [ 770.83495487],\n",
       "       [ 773.27622309],\n",
       "       [ 765.46671586],\n",
       "       [ 778.44962693],\n",
       "       [ 744.19871296],\n",
       "       [ 744.25315013],\n",
       "       [ 743.0663311 ],\n",
       "       [ 593.59316004],\n",
       "       [ 588.52409562],\n",
       "       [ 738.12304271],\n",
       "       [ 713.13496999],\n",
       "       [ 708.94320571],\n",
       "       [ 723.04318579],\n",
       "       [ 703.721248  ],\n",
       "       [ 695.7698036 ],\n",
       "       [ 649.71066712],\n",
       "       [ 687.54386045],\n",
       "       [ 521.10610848],\n",
       "       [ 529.8847753 ],\n",
       "       [ 714.74222705],\n",
       "       [ 710.51573485],\n",
       "       [ 717.82377965],\n",
       "       [ 694.86321383],\n",
       "       [ 716.79346084],\n",
       "       [ 732.59786365],\n",
       "       [ 729.0922396 ],\n",
       "       [ 734.05919695],\n",
       "       [ 630.18094432],\n",
       "       [ 717.89890128],\n",
       "       [ 612.13902411],\n",
       "       [ 670.89330968],\n",
       "       [ 692.61083062],\n",
       "       [ 667.39947449],\n",
       "       [ 706.52163639],\n",
       "       [ 626.15102719],\n",
       "       [ 620.76071666],\n",
       "       [ 608.12232078],\n",
       "       [ 579.9294393 ],\n",
       "       [ 593.12695133],\n",
       "       [ 612.81585004],\n",
       "       [ 610.54585974],\n",
       "       [ 502.24438829],\n",
       "       [ 520.1172367 ],\n",
       "       [ 505.83480873],\n",
       "       [ 524.93263605],\n",
       "       [ 529.5458898 ],\n",
       "       [ 523.30865593],\n",
       "       [ 505.39782863],\n",
       "       [ 496.04321667],\n",
       "       [ 713.96058873],\n",
       "       [ 697.79445229],\n",
       "       [ 714.6553188 ],\n",
       "       [ 690.23251571],\n",
       "       [ 705.00905608],\n",
       "       [ 701.85620721],\n",
       "       [ 571.99026409],\n",
       "       [ 567.09636446],\n",
       "       [ 593.4044064 ],\n",
       "       [ 666.33184044],\n",
       "       [ 640.53077721],\n",
       "       [ 666.82936828],\n",
       "       [ 733.1128052 ],\n",
       "       [ 723.59088227],\n",
       "       [ 687.34440631],\n",
       "       [ 670.94546754],\n",
       "       [ 574.5392023 ],\n",
       "       [ 571.88173508],\n",
       "       [ 561.70559979],\n",
       "       [ 582.74074726],\n",
       "       [ 595.45544677],\n",
       "       [ 579.20854804],\n",
       "       [ 621.27993636],\n",
       "       [ 611.70160775],\n",
       "       [ 611.89957351],\n",
       "       [ 581.72665556],\n",
       "       [ 561.22792544],\n",
       "       [ 524.40209508],\n",
       "       [ 573.88272869],\n",
       "       [ 584.7931693 ],\n",
       "       [ 605.38820209],\n",
       "       [ 616.05323028],\n",
       "       [ 611.51757654],\n",
       "       [ 636.13737833],\n",
       "       [ 643.39936247],\n",
       "       [ 627.72941913],\n",
       "       [ 633.79223701],\n",
       "       [ 623.00312805],\n",
       "       [ 624.55813656],\n",
       "       [ 630.53417852],\n",
       "       [ 616.10834014],\n",
       "       [ 573.39350629],\n",
       "       [ 578.40681137],\n",
       "       [ 613.19397929],\n",
       "       [ 616.728078  ],\n",
       "       [ 620.22361764],\n",
       "       [ 613.60168881],\n",
       "       [ 599.00723204],\n",
       "       [ 607.08481866],\n",
       "       [ 626.0232739 ],\n",
       "       [ 622.44390998],\n",
       "       [ 588.534782  ],\n",
       "       [ 609.0320392 ],\n",
       "       [ 623.96439262],\n",
       "       [ 634.29810129],\n",
       "       [ 610.88442071],\n",
       "       [ 577.85976857],\n",
       "       [ 653.5666367 ],\n",
       "       [ 661.56925643],\n",
       "       [ 634.44029309],\n",
       "       [ 657.55975255],\n",
       "       [ 634.32333634],\n",
       "       [ 623.39109437],\n",
       "       [ 621.342099  ],\n",
       "       [ 604.87627095],\n",
       "       [ 610.45892604],\n",
       "       [ 619.04333115],\n",
       "       [ 650.86154836],\n",
       "       [ 643.59355051],\n",
       "       [ 586.7564027 ],\n",
       "       [ 600.09235847],\n",
       "       [ 605.93628827],\n",
       "       [ 611.5864171 ],\n",
       "       [ 599.59556362],\n",
       "       [ 601.65754761],\n",
       "       [ 602.02383757],\n",
       "       [ 609.6995832 ],\n",
       "       [ 602.97278117],\n",
       "       [ 585.47104773],\n",
       "       [ 597.01408676],\n",
       "       [ 583.01637549],\n",
       "       [ 575.61518554],\n",
       "       [ 546.77327811],\n",
       "       [ 530.99799254],\n",
       "       [ 516.21918012],\n",
       "       [ 545.80931185],\n",
       "       [ 538.10392032],\n",
       "       [ 570.47620069],\n",
       "       [ 577.70230435],\n",
       "       [ 578.20445053],\n",
       "       [ 564.97427778],\n",
       "       [ 570.76018005],\n",
       "       [ 520.82839123],\n",
       "       [ 538.16303258],\n",
       "       [ 522.0473779 ],\n",
       "       [ 520.64470578],\n",
       "       [ 539.11348459],\n",
       "       [ 620.76956745],\n",
       "       [ 619.96176371],\n",
       "       [ 546.80591399],\n",
       "       [ 618.8121879 ],\n",
       "       [ 629.37165895],\n",
       "       [ 596.30741304],\n",
       "       [ 584.63403581],\n",
       "       [ 584.56927395],\n",
       "       [ 581.65231631],\n",
       "       [ 571.84677116],\n",
       "       [ 589.71802768],\n",
       "       [ 580.93944966],\n",
       "       [ 592.98799651],\n",
       "       [ 603.01098205],\n",
       "       [ 661.6751868 ],\n",
       "       [ 656.54623829],\n",
       "       [ 697.13750157],\n",
       "       [ 647.24131667],\n",
       "       [ 622.80664434],\n",
       "       [ 626.03073214],\n",
       "       [ 541.61205938],\n",
       "       [ 553.78695593],\n",
       "       [ 565.5482678 ],\n",
       "       [ 564.63949692],\n",
       "       [ 629.08838754],\n",
       "       [ 625.46819075],\n",
       "       [ 566.66993363],\n",
       "       [ 607.2732365 ],\n",
       "       [ 635.73285041],\n",
       "       [ 627.63946494],\n",
       "       [ 633.06623383],\n",
       "       [ 627.2235663 ],\n",
       "       [ 629.05308284],\n",
       "       [ 624.27216215],\n",
       "       [ 618.26106599],\n",
       "       [ 613.68074103],\n",
       "       [ 592.45386782],\n",
       "       [ 593.83483863],\n",
       "       [ 590.93645669],\n",
       "       [ 605.784309  ],\n",
       "       [ 583.43605756],\n",
       "       [ 562.93358984],\n",
       "       [ 575.72760089],\n",
       "       [ 588.06937099],\n",
       "       [ 696.72773982],\n",
       "       [ 684.99706787],\n",
       "       [ 692.32493243],\n",
       "       [ 609.8176102 ],\n",
       "       [ 583.64358799],\n",
       "       [ 517.78272277],\n",
       "       [ 518.11521561],\n",
       "       [ 520.19584657],\n",
       "       [ 528.70324125],\n",
       "       [ 537.45106992],\n",
       "       [ 521.04372122],\n",
       "       [ 527.75646907],\n",
       "       [ 537.21653884],\n",
       "       [ 603.45693969],\n",
       "       [ 715.81973424],\n",
       "       [ 709.01634877],\n",
       "       [ 682.2501785 ],\n",
       "       [ 643.39766792],\n",
       "       [ 632.50980882],\n",
       "       [ 687.55521645],\n",
       "       [ 616.46601648],\n",
       "       [ 642.38345887],\n",
       "       [ 654.35127033],\n",
       "       [ 719.72017286],\n",
       "       [ 722.01107924],\n",
       "       [ 538.61711428],\n",
       "       [ 658.70241553],\n",
       "       [ 651.84431193],\n",
       "       [ 996.05294087],\n",
       "       [ 999.15473641],\n",
       "       [ 996.2378283 ],\n",
       "       [ 991.54331366],\n",
       "       [ 984.45853162],\n",
       "       [ 971.87298766],\n",
       "       [ 994.73367099],\n",
       "       [ 971.8179084 ],\n",
       "       [ 966.31217505],\n",
       "       [ 970.01947794],\n",
       "       [ 948.24586055],\n",
       "       [ 831.04888893],\n",
       "       [ 991.92030303],\n",
       "       [ 989.82605206],\n",
       "       [1001.44394999],\n",
       "       [ 987.61322969],\n",
       "       [ 967.40794144],\n",
       "       [1014.38942925],\n",
       "       [1015.99033299],\n",
       "       [1009.1997806 ],\n",
       "       [ 984.75296892],\n",
       "       [1010.44254554],\n",
       "       [1010.85261557],\n",
       "       [1010.30938669],\n",
       "       [1014.50416931],\n",
       "       [1011.47953653],\n",
       "       [1011.85152497],\n",
       "       [1011.89255559],\n",
       "       [ 933.47898803],\n",
       "       [1012.99468342],\n",
       "       [1014.72607106],\n",
       "       [1007.76434646],\n",
       "       [ 997.95969312],\n",
       "       [1010.36180759],\n",
       "       [1006.44299753],\n",
       "       [ 985.41487449],\n",
       "       [1010.54309578],\n",
       "       [1004.59318892],\n",
       "       [1006.96971403],\n",
       "       [1006.25109573],\n",
       "       [1007.65001641],\n",
       "       [1007.4858842 ],\n",
       "       [1017.10641847],\n",
       "       [ 957.64464804],\n",
       "       [1014.63776496],\n",
       "       [1011.77509908],\n",
       "       [ 997.23710482],\n",
       "       [1010.07175694],\n",
       "       [ 960.76841649],\n",
       "       [1010.99297551],\n",
       "       [ 994.89736175],\n",
       "       [ 965.66818365],\n",
       "       [ 955.27485981],\n",
       "       [ 865.15281153],\n",
       "       [ 748.37598306],\n",
       "       [ 768.29948049],\n",
       "       [ 767.63797248],\n",
       "       [ 888.25902239],\n",
       "       [ 811.77123671],\n",
       "       [ 765.59408839],\n",
       "       [ 753.38618825],\n",
       "       [ 825.25498325],\n",
       "       [ 763.28495107],\n",
       "       [ 760.43851212],\n",
       "       [ 957.71276729],\n",
       "       [ 954.73539195],\n",
       "       [ 930.2470042 ],\n",
       "       [ 735.41483676],\n",
       "       [ 724.3534125 ],\n",
       "       [ 747.69295455],\n",
       "       [ 730.60043824],\n",
       "       [ 743.42477138],\n",
       "       [ 793.31496684],\n",
       "       [ 782.73378324],\n",
       "       [ 789.53181593],\n",
       "       [ 794.83305736],\n",
       "       [ 789.57444641],\n",
       "       [ 801.6118311 ],\n",
       "       [ 807.81689654],\n",
       "       [ 815.25447984],\n",
       "       [ 757.93797428],\n",
       "       [ 752.58021493],\n",
       "       [ 785.40371757],\n",
       "       [1007.42517447],\n",
       "       [1004.12573314],\n",
       "       [1001.95039845],\n",
       "       [1009.29084633],\n",
       "       [1004.33342502],\n",
       "       [ 904.81465074],\n",
       "       [ 770.42638493],\n",
       "       [ 954.77217518],\n",
       "       [1002.61729466],\n",
       "       [1010.15198458],\n",
       "       [ 947.46222436],\n",
       "       [ 738.25619598],\n",
       "       [ 981.28390274],\n",
       "       [ 996.50542806],\n",
       "       [ 996.18915236],\n",
       "       [ 744.40182063],\n",
       "       [ 767.84667545],\n",
       "       [ 741.89268348],\n",
       "       [ 731.73562584],\n",
       "       [ 914.95966893],\n",
       "       [ 998.88911643],\n",
       "       [ 907.70344827],\n",
       "       [ 997.64210336],\n",
       "       [ 997.71101644],\n",
       "       [ 999.76247816],\n",
       "       [ 984.97245797],\n",
       "       [ 929.988137  ],\n",
       "       [ 746.96368953],\n",
       "       [ 963.20558912],\n",
       "       [ 972.16658042],\n",
       "       [ 979.50416091],\n",
       "       [ 998.87540631],\n",
       "       [1001.91539682],\n",
       "       [ 989.30125354],\n",
       "       [ 970.60893091],\n",
       "       [ 977.79095026],\n",
       "       [ 946.79761368],\n",
       "       [1005.57593048],\n",
       "       [ 979.32782568],\n",
       "       [ 997.13210923],\n",
       "       [ 992.43193953],\n",
       "       [ 983.93486957],\n",
       "       [ 988.06043772],\n",
       "       [ 990.99109313],\n",
       "       [ 963.40761342],\n",
       "       [ 950.01981523],\n",
       "       [ 969.1004532 ],\n",
       "       [ 993.17590365],\n",
       "       [ 969.52581563],\n",
       "       [1029.49511786],\n",
       "       [1000.56117197],\n",
       "       [ 984.45673831],\n",
       "       [1030.66540214],\n",
       "       [1023.12247618],\n",
       "       [ 693.52308098],\n",
       "       [ 685.59934413],\n",
       "       [ 674.28631908],\n",
       "       [ 709.74501118],\n",
       "       [ 706.50449921],\n",
       "       [ 702.03926391],\n",
       "       [ 707.73023549],\n",
       "       [ 712.94568578],\n",
       "       [ 585.31928732],\n",
       "       [ 593.86782904],\n",
       "       [ 603.48708398],\n",
       "       [ 600.26389396],\n",
       "       [ 596.72241669]])"
      ]
     },
     "execution_count": 2,
     "metadata": {},
     "output_type": "execute_result"
    }
   ],
   "source": [
    "import numpy as np\n",
    "\n",
    "df_data['weight_0'] = 1 # weight 0 칼럼 추가\n",
    "df_data = df_data.drop(\"MEDV\", axis=1) # Y값을 제거\n",
    "df_matrix = df_data.values # 행렬 데이터로 변환 .values 함수 -> 컬럼과 테이블 말고 데이터만 가져옴\n",
    "weight_vector = np.random.random_sample((14,1)) # 가중치 w 생성 (랜덤하게 만든 임의값)\n",
    "df_matrix.dot(weight_vector) # 내적 연산 실행 결과 출력"
   ]
  },
  {
   "cell_type": "code",
   "execution_count": 3,
   "metadata": {},
   "outputs": [
    {
     "data": {
      "text/plain": [
       "array([1, 4, 5, 8])"
      ]
     },
     "execution_count": 3,
     "metadata": {},
     "output_type": "execute_result"
    }
   ],
   "source": [
    "import numpy as np\n",
    "test_array = np.array([1,4,5,8])\n",
    "test_array"
   ]
  },
  {
   "cell_type": "code",
   "execution_count": 4,
   "metadata": {},
   "outputs": [
    {
     "data": {
      "text/plain": [
       "numpy.int32"
      ]
     },
     "execution_count": 4,
     "metadata": {},
     "output_type": "execute_result"
    }
   ],
   "source": [
    "type(test_array[3])"
   ]
  },
  {
   "cell_type": "code",
   "execution_count": 5,
   "metadata": {},
   "outputs": [
    {
     "data": {
      "text/plain": [
       "array([1., 4., 5., 8.])"
      ]
     },
     "execution_count": 5,
     "metadata": {},
     "output_type": "execute_result"
    }
   ],
   "source": [
    "test_array = np.array([1,4,5,8], float)\n",
    "test_array"
   ]
  },
  {
   "cell_type": "code",
   "execution_count": 8,
   "metadata": {},
   "outputs": [
    {
     "data": {
      "text/plain": [
       "numpy.float64"
      ]
     },
     "execution_count": 8,
     "metadata": {},
     "output_type": "execute_result"
    }
   ],
   "source": [
    "type(test_array[3])"
   ]
  },
  {
   "cell_type": "code",
   "execution_count": 14,
   "metadata": {},
   "outputs": [
    {
     "name": "stdout",
     "output_type": "stream",
     "text": [
      "[1. 4. 5. 8.]\n"
     ]
    }
   ],
   "source": [
    "test_array = np.array([1,4,5,\"8\"], float)\n",
    "print(test_array) # 넘파이 배열은 쉼표가 없음"
   ]
  },
  {
   "cell_type": "code",
   "execution_count": 15,
   "metadata": {},
   "outputs": [
    {
     "name": "stdout",
     "output_type": "stream",
     "text": [
      "<class 'numpy.float64'>\n",
      "float64\n"
     ]
    },
    {
     "data": {
      "text/plain": [
       "(4,)"
      ]
     },
     "execution_count": 15,
     "metadata": {},
     "output_type": "execute_result"
    }
   ],
   "source": [
    "print(type(test_array[3])) # 형변환\n",
    "print(test_array.dtype) #배열 전체 타입\n",
    "(test_array.shape) # 배열의 구조를 반환함 1차원 요소값만 4개"
   ]
  },
  {
   "cell_type": "code",
   "execution_count": 16,
   "metadata": {},
   "outputs": [
    {
     "data": {
      "text/plain": [
       "(3, 4)"
      ]
     },
     "execution_count": 16,
     "metadata": {},
     "output_type": "execute_result"
    }
   ],
   "source": [
    "matrix = [[1,2,5,8],\n",
    "          [1,2,5,8],\n",
    "          [1,2,5,8]]\n",
    "np.array(matrix, int).shape"
   ]
  },
  {
   "cell_type": "code",
   "execution_count": 18,
   "metadata": {},
   "outputs": [
    {
     "data": {
      "text/plain": [
       "(4, 3, 4)"
      ]
     },
     "execution_count": 18,
     "metadata": {},
     "output_type": "execute_result"
    }
   ],
   "source": [
    "tensor_rank3 = [\n",
    "    [[1,2,5,8],[1,2,5,8],[1,2,5,8]],\n",
    "    [[1,2,5,8],[1,2,5,8],[1,2,5,8]],\n",
    "    [[1,2,5,8],[1,2,5,8],[1,2,5,8]],\n",
    "    [[1,2,5,8],[1,2,5,8],[1,2,5,8]]\n",
    "]\n",
    "np.array(tensor_rank3, int).shape"
   ]
  },
  {
   "cell_type": "code",
   "execution_count": 20,
   "metadata": {},
   "outputs": [
    {
     "data": {
      "text/plain": [
       "3"
      ]
     },
     "execution_count": 20,
     "metadata": {},
     "output_type": "execute_result"
    }
   ],
   "source": [
    "np.array(tensor_rank3, int).ndim #차원 알아보기"
   ]
  },
  {
   "cell_type": "code",
   "execution_count": 21,
   "metadata": {},
   "outputs": [
    {
     "data": {
      "text/plain": [
       "48"
      ]
     },
     "execution_count": 21,
     "metadata": {},
     "output_type": "execute_result"
    }
   ],
   "source": [
    "np.array(tensor_rank3, int).size # 크기 알아보기"
   ]
  },
  {
   "cell_type": "code",
   "execution_count": 25,
   "metadata": {},
   "outputs": [
    {
     "data": {
      "text/plain": [
       "array([[1, 2, 3],\n",
       "       [4, 5, 6]])"
      ]
     },
     "execution_count": 25,
     "metadata": {},
     "output_type": "execute_result"
    }
   ],
   "source": [
    "#dtype 함수로 원하는 데이터 형태로 저장 가능하다.\n",
    "np.array([[1,2,3.7], [4,5,6.5]], dtype=int ) #정수형 선언으로 소숫점 밑은 절삭"
   ]
  },
  {
   "cell_type": "code",
   "execution_count": 24,
   "metadata": {},
   "outputs": [
    {
     "data": {
      "text/plain": [
       "array([[1. , 2. , 3.7],\n",
       "       [4. , 5. , 6.5]])"
      ]
     },
     "execution_count": 24,
     "metadata": {},
     "output_type": "execute_result"
    }
   ],
   "source": [
    "np.array([[1,2,3.7], [4,5,6.5]], dtype=float )"
   ]
  },
  {
   "cell_type": "code",
   "execution_count": 26,
   "metadata": {},
   "outputs": [
    {
     "data": {
      "text/plain": [
       "array([[1. , 2. , 3.5],\n",
       "       [4. , 5. , 6.5]])"
      ]
     },
     "execution_count": 26,
     "metadata": {},
     "output_type": "execute_result"
    }
   ],
   "source": [
    "np.array([[1,2,3.5], [4,5,6.5]]) # 생략시 가장 포함할수 있는 타입으로 선언"
   ]
  },
  {
   "cell_type": "code",
   "execution_count": 27,
   "metadata": {},
   "outputs": [
    {
     "data": {
      "text/plain": [
       "8"
      ]
     },
     "execution_count": 27,
     "metadata": {},
     "output_type": "execute_result"
    }
   ],
   "source": [
    "np.array([[1,2,3.5], [4,5,6.5]], dtype=np.float64).itemsize # 차지하는 바이트를 출력 (메모리할당량)"
   ]
  },
  {
   "cell_type": "code",
   "execution_count": 28,
   "metadata": {},
   "outputs": [
    {
     "data": {
      "text/plain": [
       "4"
      ]
     },
     "execution_count": 28,
     "metadata": {},
     "output_type": "execute_result"
    }
   ],
   "source": [
    "np.array([[1,2,3.5], [4,5,6.5]], dtype=np.float32).itemsize"
   ]
  },
  {
   "cell_type": "markdown",
   "metadata": {},
   "source": [
    "### 배열 구조 다루기\n",
    "- 상황에따라 구조 변경할 경우엔 reshape 함수를 사용"
   ]
  },
  {
   "cell_type": "code",
   "execution_count": 29,
   "metadata": {},
   "outputs": [
    {
     "data": {
      "text/plain": [
       "(2, 4)"
      ]
     },
     "execution_count": 29,
     "metadata": {},
     "output_type": "execute_result"
    }
   ],
   "source": [
    "x = np.array([[1,2,5,8],[1,2,5,8]])\n",
    "x.shape"
   ]
  },
  {
   "cell_type": "code",
   "execution_count": 30,
   "metadata": {},
   "outputs": [
    {
     "data": {
      "text/plain": [
       "array([1, 2, 5, 8, 1, 2, 5, 8])"
      ]
     },
     "execution_count": 30,
     "metadata": {},
     "output_type": "execute_result"
    }
   ],
   "source": [
    "x.reshape(-1,) # 축소?"
   ]
  },
  {
   "cell_type": "code",
   "execution_count": 32,
   "metadata": {},
   "outputs": [
    {
     "data": {
      "text/plain": [
       "array([0, 1, 2, 3, 4, 5, 6, 7])"
      ]
     },
     "execution_count": 32,
     "metadata": {},
     "output_type": "execute_result"
    }
   ],
   "source": [
    "x = np.array(range(8))\n",
    "x"
   ]
  },
  {
   "cell_type": "code",
   "execution_count": 34,
   "metadata": {},
   "outputs": [
    {
     "data": {
      "text/plain": [
       "array([[0, 1, 2, 3],\n",
       "       [4, 5, 6, 7]])"
      ]
     },
     "execution_count": 34,
     "metadata": {},
     "output_type": "execute_result"
    }
   ],
   "source": [
    "x.reshape(2,4) # 분할 ? "
   ]
  },
  {
   "cell_type": "code",
   "execution_count": 35,
   "metadata": {},
   "outputs": [
    {
     "data": {
      "text/plain": [
       "array([[0, 1],\n",
       "       [2, 3],\n",
       "       [4, 5],\n",
       "       [6, 7]])"
      ]
     },
     "execution_count": 35,
     "metadata": {},
     "output_type": "execute_result"
    }
   ],
   "source": [
    "x = np.array(range(8)).reshape(4,2)\n",
    "x"
   ]
  },
  {
   "cell_type": "code",
   "execution_count": 40,
   "metadata": {},
   "outputs": [
    {
     "data": {
      "text/plain": [
       "array([[0, 1, 2, 3],\n",
       "       [4, 5, 6, 7]])"
      ]
     },
     "execution_count": 40,
     "metadata": {},
     "output_type": "execute_result"
    }
   ],
   "source": [
    "x.reshape(2,-1) #-1은 전체요소의 갯수는 고정하고 전체요소 갯수를 고려하여 마지막 차원이 자동으로 지정되는 기법이다."
   ]
  },
  {
   "cell_type": "code",
   "execution_count": 41,
   "metadata": {},
   "outputs": [
    {
     "data": {
      "text/plain": [
       "array([[[0, 1],\n",
       "        [2, 3]],\n",
       "\n",
       "       [[4, 5],\n",
       "        [6, 7]]])"
      ]
     },
     "execution_count": 41,
     "metadata": {},
     "output_type": "execute_result"
    }
   ],
   "source": [
    "x.reshape(2,2,-1)"
   ]
  },
  {
   "cell_type": "code",
   "execution_count": 43,
   "metadata": {},
   "outputs": [
    {
     "data": {
      "text/plain": [
       "array([[0, 1, 2, 3, 4, 5, 6, 7]])"
      ]
     },
     "execution_count": 43,
     "metadata": {},
     "output_type": "execute_result"
    }
   ],
   "source": [
    "x.reshape(1,-1)"
   ]
  },
  {
   "cell_type": "code",
   "execution_count": 45,
   "metadata": {},
   "outputs": [
    {
     "data": {
      "text/plain": [
       "array([0, 1, 2, 3, 4, 5, 6, 7])"
      ]
     },
     "execution_count": 45,
     "metadata": {},
     "output_type": "execute_result"
    }
   ],
   "source": [
    "x.flatten() #데이터를 1차원으로 변경"
   ]
  },
  {
   "cell_type": "code",
   "execution_count": 51,
   "metadata": {},
   "outputs": [
    {
     "data": {
      "text/plain": [
       "array([[1, 2, 3],\n",
       "       [4, 5, 6]])"
      ]
     },
     "execution_count": 51,
     "metadata": {},
     "output_type": "execute_result"
    }
   ],
   "source": [
    "# 넘파이도 인덱싱과 슬라이싱 가능\n",
    "\n",
    "x = np.array([[1,2,3],[4.5,5,6]], int)\n",
    "x"
   ]
  },
  {
   "cell_type": "code",
   "execution_count": 52,
   "metadata": {},
   "outputs": [
    {
     "data": {
      "text/plain": [
       "1"
      ]
     },
     "execution_count": 52,
     "metadata": {},
     "output_type": "execute_result"
    }
   ],
   "source": [
    "x[0][0] #[행][열]"
   ]
  },
  {
   "cell_type": "code",
   "execution_count": 53,
   "metadata": {},
   "outputs": [
    {
     "data": {
      "text/plain": [
       "3"
      ]
     },
     "execution_count": 53,
     "metadata": {},
     "output_type": "execute_result"
    }
   ],
   "source": [
    "x[0,2] #[행,열]"
   ]
  },
  {
   "cell_type": "code",
   "execution_count": 55,
   "metadata": {},
   "outputs": [
    {
     "data": {
      "text/plain": [
       "array([[  1, 100,   3],\n",
       "       [  4,   5,   6]])"
      ]
     },
     "execution_count": 55,
     "metadata": {},
     "output_type": "execute_result"
    }
   ],
   "source": [
    "x[0,1] = 100\n",
    "x"
   ]
  },
  {
   "cell_type": "markdown",
   "metadata": {},
   "source": [
    "#### 슬라이싱"
   ]
  },
  {
   "cell_type": "code",
   "execution_count": 56,
   "metadata": {},
   "outputs": [
    {
     "data": {
      "text/plain": [
       "array([[ 3,  4,  5],\n",
       "       [ 8,  9, 10]])"
      ]
     },
     "execution_count": 56,
     "metadata": {},
     "output_type": "execute_result"
    }
   ],
   "source": [
    "x = np.array([[1,2,3,4,5],[6,7,8,9,10]], int)\n",
    "x[:,2:] #전체 행의 2열 이상"
   ]
  },
  {
   "cell_type": "code",
   "execution_count": 58,
   "metadata": {},
   "outputs": [
    {
     "data": {
      "text/plain": [
       "array([7, 8])"
      ]
     },
     "execution_count": 58,
     "metadata": {},
     "output_type": "execute_result"
    }
   ],
   "source": [
    "x[1,1:3] #1행의 1~2열"
   ]
  },
  {
   "cell_type": "code",
   "execution_count": 61,
   "metadata": {},
   "outputs": [
    {
     "data": {
      "text/plain": [
       "array([[ 6,  7,  8,  9, 10]])"
      ]
     },
     "execution_count": 61,
     "metadata": {},
     "output_type": "execute_result"
    }
   ],
   "source": [
    "x[1:3] # 1행 ~ 2행의 전체"
   ]
  },
  {
   "cell_type": "code",
   "execution_count": 62,
   "metadata": {},
   "outputs": [
    {
     "data": {
      "text/plain": [
       "array([[ 0,  1,  2,  3,  4],\n",
       "       [ 5,  6,  7,  8,  9],\n",
       "       [10, 11, 12, 13, 14]])"
      ]
     },
     "execution_count": 62,
     "metadata": {},
     "output_type": "execute_result"
    }
   ],
   "source": [
    "x = np.array(range(15), int).reshape(3,-1)\n",
    "x"
   ]
  },
  {
   "cell_type": "code",
   "execution_count": 63,
   "metadata": {},
   "outputs": [
    {
     "data": {
      "text/plain": [
       "array([[ 0,  2,  4],\n",
       "       [ 5,  7,  9],\n",
       "       [10, 12, 14]])"
      ]
     },
     "execution_count": 63,
     "metadata": {},
     "output_type": "execute_result"
    }
   ],
   "source": [
    "x[:,::2]"
   ]
  },
  {
   "cell_type": "code",
   "execution_count": 65,
   "metadata": {},
   "outputs": [
    {
     "data": {
      "text/plain": [
       "array([[ 0,  3],\n",
       "       [10, 13]])"
      ]
     },
     "execution_count": 65,
     "metadata": {},
     "output_type": "execute_result"
    }
   ],
   "source": [
    "x[::2,::3] #::2 = 1,3 행만 선택 ::3 3칸씩마다"
   ]
  },
  {
   "cell_type": "markdown",
   "metadata": {},
   "source": [
    "#### 배열생성 함수\n",
    "    - arnage(시작인덱스, 마지막인덱스, 증가값) *실수형도 입력 가능"
   ]
  },
  {
   "cell_type": "code",
   "execution_count": 67,
   "metadata": {},
   "outputs": [
    {
     "data": {
      "text/plain": [
       "array([0, 1, 2, 3, 4, 5, 6, 7, 8, 9])"
      ]
     },
     "execution_count": 67,
     "metadata": {},
     "output_type": "execute_result"
    }
   ],
   "source": [
    "np.arange(10)"
   ]
  },
  {
   "cell_type": "code",
   "execution_count": 69,
   "metadata": {},
   "outputs": [
    {
     "data": {
      "text/plain": [
       "array([-5, -3, -1,  1,  3])"
      ]
     },
     "execution_count": 69,
     "metadata": {},
     "output_type": "execute_result"
    }
   ],
   "source": [
    "np.arange(-5,5,2)"
   ]
  },
  {
   "cell_type": "code",
   "execution_count": 70,
   "metadata": {},
   "outputs": [
    {
     "data": {
      "text/plain": [
       "array([0. , 0.5, 1. , 1.5, 2. , 2.5, 3. , 3.5, 4. , 4.5])"
      ]
     },
     "execution_count": 70,
     "metadata": {},
     "output_type": "execute_result"
    }
   ],
   "source": [
    "np.arange(0,5,0.5)"
   ]
  },
  {
   "cell_type": "markdown",
   "metadata": {},
   "source": [
    "- ones, zeros, empty\n",
    "- 추가로 ones_like 처럼 뒤에 _like를 붙으면 어떤 배열을 1,0 으로 반환\n",
    "\n",
    "    - ones() : 1로만 구성된 넘파이 배열 생성\n",
    "    - zeros() : 0으로만 구성된 넘파이 배열 생성\n",
    "    - empty() : 활용가능한 메모리 공간 확보, 메모리 공간에 남은값 반환\n",
    "    - 전부다 shape 파라미터로 크기 지정가능"
   ]
  },
  {
   "cell_type": "code",
   "execution_count": 71,
   "metadata": {},
   "outputs": [
    {
     "data": {
      "text/plain": [
       "array([[1, 1],\n",
       "       [1, 1],\n",
       "       [1, 1],\n",
       "       [1, 1],\n",
       "       [1, 1]], dtype=int8)"
      ]
     },
     "execution_count": 71,
     "metadata": {},
     "output_type": "execute_result"
    }
   ],
   "source": [
    "np.ones(shape =(5,2), dtype=np.int8)"
   ]
  },
  {
   "cell_type": "code",
   "execution_count": 72,
   "metadata": {},
   "outputs": [
    {
     "data": {
      "text/plain": [
       "array([[0., 0.],\n",
       "       [0., 0.]], dtype=float32)"
      ]
     },
     "execution_count": 72,
     "metadata": {},
     "output_type": "execute_result"
    }
   ],
   "source": [
    "np.zeros(shape=(2,2), dtype = np.float32)"
   ]
  },
  {
   "cell_type": "code",
   "execution_count": 74,
   "metadata": {},
   "outputs": [
    {
     "data": {
      "text/plain": [
       "array([[7.7103857e-26, 4.8344797e-43, 7.7107998e-26, 4.8344797e-43],\n",
       "       [7.7107209e-26, 4.8344797e-43, 7.7108392e-26, 4.8344797e-43]],\n",
       "      dtype=float32)"
      ]
     },
     "execution_count": 74,
     "metadata": {},
     "output_type": "execute_result"
    }
   ],
   "source": [
    "np.empty(shape=(2,4), dtype = np.float32) #거의 안쓰임"
   ]
  },
  {
   "cell_type": "code",
   "execution_count": 76,
   "metadata": {},
   "outputs": [
    {
     "data": {
      "text/plain": [
       "array([[0., 0., 0., 0., 0.],\n",
       "       [0., 0., 0., 0., 0.],\n",
       "       [0., 0., 0., 0., 0.]], dtype=float32)"
      ]
     },
     "execution_count": 76,
     "metadata": {},
     "output_type": "execute_result"
    }
   ],
   "source": [
    "np.zeros(shape=x.shape, dtype = np.float32) #zeros_like와 동일하게 사용가능"
   ]
  },
  {
   "cell_type": "code",
   "execution_count": 78,
   "metadata": {},
   "outputs": [
    {
     "data": {
      "text/plain": [
       "array([[1, 0, 0],\n",
       "       [0, 1, 0],\n",
       "       [0, 0, 1]])"
      ]
     },
     "execution_count": 78,
     "metadata": {},
     "output_type": "execute_result"
    }
   ],
   "source": [
    "#identity() : 단위행렬 생성\n",
    "\n",
    "np.identity(n=3, dtype = int) #대각선이 1로 가득찬 단위행렬 생성"
   ]
  },
  {
   "cell_type": "code",
   "execution_count": 79,
   "metadata": {},
   "outputs": [
    {
     "data": {
      "text/plain": [
       "array([[1, 0, 0, 0],\n",
       "       [0, 1, 0, 0],\n",
       "       [0, 0, 1, 0],\n",
       "       [0, 0, 0, 1]])"
      ]
     },
     "execution_count": 79,
     "metadata": {},
     "output_type": "execute_result"
    }
   ],
   "source": [
    "np.identity(n=4, dtype = int)"
   ]
  },
  {
   "cell_type": "code",
   "execution_count": 81,
   "metadata": {},
   "outputs": [
    {
     "data": {
      "text/plain": [
       "array([[1., 0., 0., 0., 0.],\n",
       "       [0., 1., 0., 0., 0.],\n",
       "       [0., 0., 1., 0., 0.]])"
      ]
     },
     "execution_count": 81,
     "metadata": {},
     "output_type": "execute_result"
    }
   ],
   "source": [
    "#eye() 함수는 동일하게 1을 생성하는 함수지만 시작점과 크기를 지정할 수 있음\n",
    "\n",
    "np.eye(N=3, M=5)"
   ]
  },
  {
   "cell_type": "code",
   "execution_count": 83,
   "metadata": {},
   "outputs": [
    {
     "data": {
      "text/plain": [
       "array([[0., 0., 1., 0., 0.],\n",
       "       [0., 0., 0., 1., 0.],\n",
       "       [0., 0., 0., 0., 1.]])"
      ]
     },
     "execution_count": 83,
     "metadata": {},
     "output_type": "execute_result"
    }
   ],
   "source": [
    "np.eye(N=3,M=5,k=2)"
   ]
  },
  {
   "cell_type": "code",
   "execution_count": 84,
   "metadata": {},
   "outputs": [
    {
     "data": {
      "text/plain": [
       "array([[0, 1, 2],\n",
       "       [3, 4, 5],\n",
       "       [6, 7, 8]])"
      ]
     },
     "execution_count": 84,
     "metadata": {},
     "output_type": "execute_result"
    }
   ],
   "source": [
    "#diag 행렬값을 추출할때 사용 -> 대각행렬만 뽑을때 사용\n",
    "matrix = np.arange(9).reshape(3,3)\n",
    "matrix"
   ]
  },
  {
   "cell_type": "code",
   "execution_count": 85,
   "metadata": {},
   "outputs": [
    {
     "data": {
      "text/plain": [
       "array([0, 4, 8])"
      ]
     },
     "execution_count": 85,
     "metadata": {},
     "output_type": "execute_result"
    }
   ],
   "source": [
    "np.diag(matrix)"
   ]
  },
  {
   "cell_type": "code",
   "execution_count": null,
   "metadata": {},
   "outputs": [],
   "source": [
    "np.diag(matrix, k = 1) #k로 시작점 사용가능"
   ]
  },
  {
   "cell_type": "code",
   "execution_count": 90,
   "metadata": {},
   "outputs": [
    {
     "data": {
      "text/plain": [
       "array([4.21711177, 4.27068809, 3.83609234, 2.7171139 , 3.4861444 ,\n",
       "       0.63185384, 3.08115791, 4.25662143, 2.94806018, 1.65087567])"
      ]
     },
     "execution_count": 90,
     "metadata": {},
     "output_type": "execute_result"
    }
   ],
   "source": [
    "# 통계분석 함수\n",
    "# uniform() -> 균등분포, normal() -> 정규분포\n",
    "\n",
    "np.random.uniform(0,5,10) # np.random.uniform(시작값, 끝값, 데이터개수)"
   ]
  },
  {
   "cell_type": "code",
   "execution_count": 91,
   "metadata": {},
   "outputs": [
    {
     "data": {
      "text/plain": [
       "array([ 3.22805398,  2.55738837, -1.50900092, -2.81676538,  1.69928611,\n",
       "        0.59524015, -2.27381348,  2.60292036,  2.87472027, -1.06075766])"
      ]
     },
     "execution_count": 91,
     "metadata": {},
     "output_type": "execute_result"
    }
   ],
   "source": [
    "np.random.normal(0,2,10) # np.random.normal시작값, 분산, 데이터개수)"
   ]
  },
  {
   "cell_type": "markdown",
   "metadata": {},
   "source": [
    "## 넘파이 배열 연산\n",
    "\n",
    "### 연산함수\n",
    "    - std, mean, sum과 같은 함수 등\n",
    "    - 중요한 개념은 축(axis)이다. 축은 배열의 구조(shape)를 설명할때 사용한 개념, 랭크(rank)가 증가할때마다 새로운 차원 이것이 축이라함\n",
    "    \n",
    "    식이나 수학 정리가 궁금하면 공돌이의 수학블로그 ㄱ"
   ]
  },
  {
   "cell_type": "code",
   "execution_count": 92,
   "metadata": {},
   "outputs": [
    {
     "data": {
      "text/plain": [
       "55"
      ]
     },
     "execution_count": 92,
     "metadata": {},
     "output_type": "execute_result"
    }
   ],
   "source": [
    "test_array = np.arange(1,11)\n",
    "test_array.sum()"
   ]
  },
  {
   "cell_type": "code",
   "execution_count": 93,
   "metadata": {},
   "outputs": [
    {
     "data": {
      "text/plain": [
       "array([[ 1,  2,  3,  4],\n",
       "       [ 5,  6,  7,  8],\n",
       "       [ 9, 10, 11, 12]])"
      ]
     },
     "execution_count": 93,
     "metadata": {},
     "output_type": "execute_result"
    }
   ],
   "source": [
    "# 2차원 행렬값을  행또는 열을 기준으로 적용할떄 axis를 사용하여 연산을 수행\n",
    "\n",
    "test_array = np.arange(1,13).reshape(3,4)\n",
    "test_array"
   ]
  },
  {
   "cell_type": "code",
   "execution_count": 94,
   "metadata": {},
   "outputs": [
    {
     "data": {
      "text/plain": [
       "array([15, 18, 21, 24])"
      ]
     },
     "execution_count": 94,
     "metadata": {},
     "output_type": "execute_result"
    }
   ],
   "source": [
    "test_array.sum(axis=0) # 0 = 세로로"
   ]
  },
  {
   "cell_type": "code",
   "execution_count": 95,
   "metadata": {},
   "outputs": [
    {
     "data": {
      "text/plain": [
       "array([10, 26, 42])"
      ]
     },
     "execution_count": 95,
     "metadata": {},
     "output_type": "execute_result"
    }
   ],
   "source": [
    "test_array.sum(axis=1) # 1 = 가로로"
   ]
  },
  {
   "cell_type": "code",
   "execution_count": 97,
   "metadata": {},
   "outputs": [
    {
     "data": {
      "text/plain": [
       "array([[[ 1,  2,  3,  4],\n",
       "        [ 5,  6,  7,  8],\n",
       "        [ 9, 10, 11, 12]],\n",
       "\n",
       "       [[ 1,  2,  3,  4],\n",
       "        [ 5,  6,  7,  8],\n",
       "        [ 9, 10, 11, 12]],\n",
       "\n",
       "       [[ 1,  2,  3,  4],\n",
       "        [ 5,  6,  7,  8],\n",
       "        [ 9, 10, 11, 12]]])"
      ]
     },
     "execution_count": 97,
     "metadata": {},
     "output_type": "execute_result"
    }
   ],
   "source": [
    "test_array = np.arange(1,13).reshape(3,4)\n",
    "\n",
    "third_order_tensor = np.array([test_array, test_array, test_array])\n",
    "third_order_tensor"
   ]
  },
  {
   "cell_type": "code",
   "execution_count": 98,
   "metadata": {},
   "outputs": [
    {
     "data": {
      "text/plain": [
       "array([[ 3,  6,  9, 12],\n",
       "       [15, 18, 21, 24],\n",
       "       [27, 30, 33, 36]])"
      ]
     },
     "execution_count": 98,
     "metadata": {},
     "output_type": "execute_result"
    }
   ],
   "source": [
    "third_order_tensor.sum(axis=0) #1+1+1"
   ]
  },
  {
   "cell_type": "code",
   "execution_count": 99,
   "metadata": {},
   "outputs": [
    {
     "data": {
      "text/plain": [
       "array([[15, 18, 21, 24],\n",
       "       [15, 18, 21, 24],\n",
       "       [15, 18, 21, 24]])"
      ]
     },
     "execution_count": 99,
     "metadata": {},
     "output_type": "execute_result"
    }
   ],
   "source": [
    "third_order_tensor.sum(axis=1) #1+5+9"
   ]
  },
  {
   "cell_type": "code",
   "execution_count": 100,
   "metadata": {},
   "outputs": [
    {
     "data": {
      "text/plain": [
       "array([[10, 26, 42],\n",
       "       [10, 26, 42],\n",
       "       [10, 26, 42]])"
      ]
     },
     "execution_count": 100,
     "metadata": {},
     "output_type": "execute_result"
    }
   ],
   "source": [
    "third_order_tensor.sum(axis=2) # 1+2+3+4"
   ]
  },
  {
   "cell_type": "code",
   "execution_count": 102,
   "metadata": {},
   "outputs": [
    {
     "data": {
      "text/plain": [
       "array([[ 1,  2,  3,  4],\n",
       "       [ 5,  6,  7,  8],\n",
       "       [ 9, 10, 11, 12]])"
      ]
     },
     "execution_count": 102,
     "metadata": {},
     "output_type": "execute_result"
    }
   ],
   "source": [
    "test_array = np.arange(1,13).reshape(3,4)\n",
    "test_array"
   ]
  },
  {
   "cell_type": "code",
   "execution_count": 104,
   "metadata": {},
   "outputs": [
    {
     "data": {
      "text/plain": [
       "array([ 2.5,  6.5, 10.5])"
      ]
     },
     "execution_count": 104,
     "metadata": {},
     "output_type": "execute_result"
    }
   ],
   "source": [
    "test_array.mean(axis=1) # axis = 1축을 기준으로 평균 연ㅅㄴ"
   ]
  },
  {
   "cell_type": "code",
   "execution_count": 106,
   "metadata": {},
   "outputs": [
    {
     "data": {
      "text/plain": [
       "3.452052529534663"
      ]
     },
     "execution_count": 106,
     "metadata": {},
     "output_type": "execute_result"
    }
   ],
   "source": [
    "test_array.std() # 전체 값에 대한 표준편차"
   ]
  },
  {
   "cell_type": "code",
   "execution_count": 107,
   "metadata": {},
   "outputs": [
    {
     "data": {
      "text/plain": [
       "array([3.26598632, 3.26598632, 3.26598632, 3.26598632])"
      ]
     },
     "execution_count": 107,
     "metadata": {},
     "output_type": "execute_result"
    }
   ],
   "source": [
    "test_array.std(axis=0) # axis = 0 축을 기준으로 표준편차 연산"
   ]
  },
  {
   "cell_type": "code",
   "execution_count": 108,
   "metadata": {},
   "outputs": [
    {
     "data": {
      "text/plain": [
       "array([[1.        , 1.41421356, 1.73205081, 2.        ],\n",
       "       [2.23606798, 2.44948974, 2.64575131, 2.82842712],\n",
       "       [3.        , 3.16227766, 3.31662479, 3.46410162]])"
      ]
     },
     "execution_count": 108,
     "metadata": {},
     "output_type": "execute_result"
    }
   ],
   "source": [
    "np.sqrt(test_array) # 각 요소에 제곱근 연산 수행"
   ]
  },
  {
   "cell_type": "code",
   "execution_count": 109,
   "metadata": {},
   "outputs": [
    {
     "data": {
      "text/plain": [
       "array([[1, 2, 3],\n",
       "       [4, 5, 6]])"
      ]
     },
     "execution_count": 109,
     "metadata": {},
     "output_type": "execute_result"
    }
   ],
   "source": [
    "# 넘파이 연결 함수 축을 기준으로 발생\n",
    "# 벡터간의 연결을 통해 행렬 생성 , vstack(수직스택), hstack(수평스택)\n",
    "v1 = np.array([1,2,3])\n",
    "v2 = np.array([4,5,6])\n",
    "np.vstack((v1,v2))"
   ]
  },
  {
   "cell_type": "code",
   "execution_count": 110,
   "metadata": {},
   "outputs": [
    {
     "data": {
      "text/plain": [
       "array([1, 2, 3, 4, 5, 6])"
      ]
     },
     "execution_count": 110,
     "metadata": {},
     "output_type": "execute_result"
    }
   ],
   "source": [
    "np.hstack((v1,v2))"
   ]
  },
  {
   "cell_type": "code",
   "execution_count": 111,
   "metadata": {},
   "outputs": [
    {
     "data": {
      "text/plain": [
       "array([[1],\n",
       "       [2],\n",
       "       [3]])"
      ]
     },
     "execution_count": 111,
     "metadata": {},
     "output_type": "execute_result"
    }
   ],
   "source": [
    "v1 = v1.reshape(-1,1)\n",
    "v2 = v2.reshape(-1,1)\n",
    "v1"
   ]
  },
  {
   "cell_type": "code",
   "execution_count": 112,
   "metadata": {},
   "outputs": [
    {
     "data": {
      "text/plain": [
       "array([[4],\n",
       "       [5],\n",
       "       [6]])"
      ]
     },
     "execution_count": 112,
     "metadata": {},
     "output_type": "execute_result"
    }
   ],
   "source": [
    "v2"
   ]
  },
  {
   "cell_type": "code",
   "execution_count": 113,
   "metadata": {},
   "outputs": [
    {
     "data": {
      "text/plain": [
       "array([[1, 4],\n",
       "       [2, 5],\n",
       "       [3, 6]])"
      ]
     },
     "execution_count": 113,
     "metadata": {},
     "output_type": "execute_result"
    }
   ],
   "source": [
    "np.hstack((v1,v2))"
   ]
  },
  {
   "cell_type": "code",
   "execution_count": 116,
   "metadata": {},
   "outputs": [
    {
     "data": {
      "text/plain": [
       "array([1, 2, 3, 4, 5, 6])"
      ]
     },
     "execution_count": 116,
     "metadata": {},
     "output_type": "execute_result"
    }
   ],
   "source": [
    "v1 = np.array([1,2,3])\n",
    "v2 = np.array([4,5,6])\n",
    "np.concatenate((v1,v2), axis=0)"
   ]
  },
  {
   "cell_type": "code",
   "execution_count": 117,
   "metadata": {},
   "outputs": [],
   "source": [
    "# concatenate 두개의 배열을 결합하는 함수\n",
    "# axis로 행(0)기준 열(1) 기준 연결할지 선택가능"
   ]
  },
  {
   "cell_type": "code",
   "execution_count": 130,
   "metadata": {},
   "outputs": [
    {
     "data": {
      "text/plain": [
       "array([[1, 2],\n",
       "       [3, 4]])"
      ]
     },
     "execution_count": 130,
     "metadata": {},
     "output_type": "execute_result"
    }
   ],
   "source": [
    "v1 = np.array([[1,2,3,4]]).reshape(2,2)\n",
    "v2 = np.array([[5,6]]).T\n",
    "v1"
   ]
  },
  {
   "cell_type": "code",
   "execution_count": 131,
   "metadata": {},
   "outputs": [
    {
     "data": {
      "text/plain": [
       "array([[5],\n",
       "       [6]])"
      ]
     },
     "execution_count": 131,
     "metadata": {},
     "output_type": "execute_result"
    }
   ],
   "source": [
    "v2"
   ]
  },
  {
   "cell_type": "code",
   "execution_count": 132,
   "metadata": {},
   "outputs": [
    {
     "data": {
      "text/plain": [
       "array([[1, 2, 5],\n",
       "       [3, 4, 6]])"
      ]
     },
     "execution_count": 132,
     "metadata": {},
     "output_type": "execute_result"
    }
   ],
   "source": [
    "np.concatenate((v1,v2), axis =1)"
   ]
  },
  {
   "cell_type": "code",
   "execution_count": 133,
   "metadata": {},
   "outputs": [
    {
     "data": {
      "text/plain": [
       "array([[1, 2, 3],\n",
       "       [4, 5, 6]])"
      ]
     },
     "execution_count": 133,
     "metadata": {},
     "output_type": "execute_result"
    }
   ],
   "source": [
    "#사칙연산은 같은 위치에 행렬값끼리 곱해준다\n",
    "\n",
    "x = np.arange(1,7).reshape(2,3)\n",
    "x"
   ]
  },
  {
   "cell_type": "code",
   "execution_count": 134,
   "metadata": {},
   "outputs": [
    {
     "data": {
      "text/plain": [
       "array([[ 2,  4,  6],\n",
       "       [ 8, 10, 12]])"
      ]
     },
     "execution_count": 134,
     "metadata": {},
     "output_type": "execute_result"
    }
   ],
   "source": [
    "x + x"
   ]
  },
  {
   "cell_type": "code",
   "execution_count": 135,
   "metadata": {},
   "outputs": [
    {
     "data": {
      "text/plain": [
       "array([[0, 0, 0],\n",
       "       [0, 0, 0]])"
      ]
     },
     "execution_count": 135,
     "metadata": {},
     "output_type": "execute_result"
    }
   ],
   "source": [
    "x - x"
   ]
  },
  {
   "cell_type": "code",
   "execution_count": 136,
   "metadata": {},
   "outputs": [
    {
     "data": {
      "text/plain": [
       "array([[1., 1., 1.],\n",
       "       [1., 1., 1.]])"
      ]
     },
     "execution_count": 136,
     "metadata": {},
     "output_type": "execute_result"
    }
   ],
   "source": [
    "x / x"
   ]
  },
  {
   "cell_type": "code",
   "execution_count": 137,
   "metadata": {},
   "outputs": [
    {
     "data": {
      "text/plain": [
       "array([[ 1,  4,  9],\n",
       "       [16, 25, 36]])"
      ]
     },
     "execution_count": 137,
     "metadata": {},
     "output_type": "execute_result"
    }
   ],
   "source": [
    "x * x"
   ]
  },
  {
   "cell_type": "code",
   "execution_count": 138,
   "metadata": {},
   "outputs": [
    {
     "data": {
      "text/plain": [
       "array([[    1,     4,    27],\n",
       "       [  256,  3125, 46656]], dtype=int32)"
      ]
     },
     "execution_count": 138,
     "metadata": {},
     "output_type": "execute_result"
    }
   ],
   "source": [
    "x ** x"
   ]
  },
  {
   "cell_type": "code",
   "execution_count": 143,
   "metadata": {},
   "outputs": [
    {
     "data": {
      "text/plain": [
       "array([[1, 2, 3],\n",
       "       [4, 5, 6]])"
      ]
     },
     "execution_count": 143,
     "metadata": {},
     "output_type": "execute_result"
    }
   ],
   "source": [
    "# 벡터의 내적 연산 (행렬곱) \n",
    "# (m x n)*(n x k) = (m x k)인 행렬이 결과로 나온다\n",
    "\n",
    "x_1 = np.arange(1,7).reshape(2,3)\n",
    "x_2 = np.arange(1,7).reshape(3,2)\n",
    "x_1"
   ]
  },
  {
   "cell_type": "code",
   "execution_count": 144,
   "metadata": {},
   "outputs": [
    {
     "data": {
      "text/plain": [
       "array([[1, 2],\n",
       "       [3, 4],\n",
       "       [5, 6]])"
      ]
     },
     "execution_count": 144,
     "metadata": {},
     "output_type": "execute_result"
    }
   ],
   "source": [
    "x_2"
   ]
  },
  {
   "cell_type": "code",
   "execution_count": 145,
   "metadata": {},
   "outputs": [
    {
     "data": {
      "text/plain": [
       "array([[22, 28],\n",
       "       [49, 64]])"
      ]
     },
     "execution_count": 145,
     "metadata": {},
     "output_type": "execute_result"
    }
   ],
   "source": [
    "x_1.dot(x_2) "
   ]
  },
  {
   "cell_type": "code",
   "execution_count": 152,
   "metadata": {},
   "outputs": [
    {
     "data": {
      "text/plain": [
       "array([[1, 2, 3],\n",
       "       [4, 5, 6],\n",
       "       [7, 8, 9]])"
      ]
     },
     "execution_count": 152,
     "metadata": {},
     "output_type": "execute_result"
    }
   ],
   "source": [
    "#브로드캐스팅 연산 -> 행렬과 하나의 값 or 벡터와 연산 하는 개념\n",
    "\n",
    "x = np.arange(1,10).reshape(3,3)\n",
    "x"
   ]
  },
  {
   "cell_type": "code",
   "execution_count": 153,
   "metadata": {},
   "outputs": [
    {
     "data": {
      "text/plain": [
       "array([[11, 12, 13],\n",
       "       [14, 15, 16],\n",
       "       [17, 18, 19]])"
      ]
     },
     "execution_count": 153,
     "metadata": {},
     "output_type": "execute_result"
    }
   ],
   "source": [
    "x+10"
   ]
  },
  {
   "cell_type": "code",
   "execution_count": 154,
   "metadata": {},
   "outputs": [
    {
     "data": {
      "text/plain": [
       "array([[0, 0, 1],\n",
       "       [1, 1, 2],\n",
       "       [2, 2, 3]], dtype=int32)"
      ]
     },
     "execution_count": 154,
     "metadata": {},
     "output_type": "execute_result"
    }
   ],
   "source": [
    "x//3"
   ]
  },
  {
   "cell_type": "code",
   "execution_count": 155,
   "metadata": {},
   "outputs": [
    {
     "data": {
      "text/plain": [
       "array([[1, 2, 0],\n",
       "       [1, 2, 0],\n",
       "       [1, 2, 0]], dtype=int32)"
      ]
     },
     "execution_count": 155,
     "metadata": {},
     "output_type": "execute_result"
    }
   ],
   "source": [
    "x%3"
   ]
  },
  {
   "cell_type": "code",
   "execution_count": 156,
   "metadata": {},
   "outputs": [
    {
     "data": {
      "text/plain": [
       "array([[ 1,  2,  3],\n",
       "       [ 4,  5,  6],\n",
       "       [ 7,  8,  9],\n",
       "       [10, 11, 12]])"
      ]
     },
     "execution_count": 156,
     "metadata": {},
     "output_type": "execute_result"
    }
   ],
   "source": [
    "x = np.arange(1,13).reshape(4,3)\n",
    "x"
   ]
  },
  {
   "cell_type": "code",
   "execution_count": 157,
   "metadata": {},
   "outputs": [
    {
     "data": {
      "text/plain": [
       "array([10, 20, 30])"
      ]
     },
     "execution_count": 157,
     "metadata": {},
     "output_type": "execute_result"
    }
   ],
   "source": [
    "v = np.arange(10,40,10)\n",
    "v"
   ]
  },
  {
   "cell_type": "code",
   "execution_count": 158,
   "metadata": {},
   "outputs": [
    {
     "data": {
      "text/plain": [
       "array([[11, 22, 33],\n",
       "       [14, 25, 36],\n",
       "       [17, 28, 39],\n",
       "       [20, 31, 42]])"
      ]
     },
     "execution_count": 158,
     "metadata": {},
     "output_type": "execute_result"
    }
   ],
   "source": [
    "x+v"
   ]
  },
  {
   "cell_type": "markdown",
   "metadata": {},
   "source": [
    "### 비교 연산과 데이터 추출\n",
    "\n",
    "    - boolean type 계산\n",
    "    - 브로드캐스팅 연산도 가능"
   ]
  },
  {
   "cell_type": "code",
   "execution_count": 159,
   "metadata": {},
   "outputs": [
    {
     "data": {
      "text/plain": [
       "array([ True, False, False,  True,  True,  True])"
      ]
     },
     "execution_count": 159,
     "metadata": {},
     "output_type": "execute_result"
    }
   ],
   "source": [
    "x = np.array([4,3,2,6,8,5])\n",
    "x > 3"
   ]
  },
  {
   "cell_type": "code",
   "execution_count": 160,
   "metadata": {},
   "outputs": [
    {
     "data": {
      "text/plain": [
       "array([False,  True,  True])"
      ]
     },
     "execution_count": 160,
     "metadata": {},
     "output_type": "execute_result"
    }
   ],
   "source": [
    "x = np.array([1,3,9])\n",
    "y = np.array([2,1,7]) #배열끼리도 비교 가능\n",
    "x > y"
   ]
  },
  {
   "cell_type": "code",
   "execution_count": 161,
   "metadata": {},
   "outputs": [
    {
     "data": {
      "text/plain": [
       "array([ True,  True,  True, False, False])"
      ]
     },
     "execution_count": 161,
     "metadata": {},
     "output_type": "execute_result"
    }
   ],
   "source": [
    "# all과 any 배열 내부의 값이 참인지 거짓인지에 따라 값 반환\n",
    "# all() = 모든값이 참이면 True, 하나라도 아니면 False\n",
    "# any() = 모든값중 하나라도 참이면 True, 모두 거짓이면 False\n",
    "\n",
    "x = np.array([4,6,7,3,2])\n",
    "(x>3)"
   ]
  },
  {
   "cell_type": "code",
   "execution_count": 162,
   "metadata": {},
   "outputs": [
    {
     "data": {
      "text/plain": [
       "False"
      ]
     },
     "execution_count": 162,
     "metadata": {},
     "output_type": "execute_result"
    }
   ],
   "source": [
    "(x>3).all()"
   ]
  },
  {
   "cell_type": "code",
   "execution_count": 163,
   "metadata": {},
   "outputs": [
    {
     "data": {
      "text/plain": [
       "True"
      ]
     },
     "execution_count": 163,
     "metadata": {},
     "output_type": "execute_result"
    }
   ],
   "source": [
    "(x>3).any()"
   ]
  },
  {
   "cell_type": "code",
   "execution_count": 164,
   "metadata": {},
   "outputs": [
    {
     "data": {
      "text/plain": [
       "True"
      ]
     },
     "execution_count": 164,
     "metadata": {},
     "output_type": "execute_result"
    }
   ],
   "source": [
    "(x<10).any()"
   ]
  },
  {
   "cell_type": "code",
   "execution_count": 166,
   "metadata": {},
   "outputs": [
    {
     "data": {
      "text/plain": [
       "False"
      ]
     },
     "execution_count": 166,
     "metadata": {},
     "output_type": "execute_result"
    }
   ],
   "source": [
    "(x>10).any()"
   ]
  },
  {
   "cell_type": "code",
   "execution_count": 167,
   "metadata": {},
   "outputs": [
    {
     "data": {
      "text/plain": [
       "array([False,  True,  True, False, False])"
      ]
     },
     "execution_count": 167,
     "metadata": {},
     "output_type": "execute_result"
    }
   ],
   "source": [
    "# 인덱스 반환함수\n",
    "\n",
    "x = np.array([4,6,7,3,2])\n",
    "(x>5)"
   ]
  },
  {
   "cell_type": "code",
   "execution_count": 169,
   "metadata": {},
   "outputs": [
    {
     "data": {
      "text/plain": [
       "(array([1, 2], dtype=int64),)"
      ]
     },
     "execution_count": 169,
     "metadata": {},
     "output_type": "execute_result"
    }
   ],
   "source": [
    "np.where(x>5) # 조건 만족하는 값의 위치를 알려줌"
   ]
  },
  {
   "cell_type": "code",
   "execution_count": 170,
   "metadata": {},
   "outputs": [
    {
     "data": {
      "text/plain": [
       "array([20, 10, 10, 20, 20])"
      ]
     },
     "execution_count": 170,
     "metadata": {},
     "output_type": "execute_result"
    }
   ],
   "source": [
    "\n",
    "x = np.array([4,6,7,3,2])\n",
    "np.where(x>5, 10, 20)"
   ]
  },
  {
   "cell_type": "code",
   "execution_count": 176,
   "metadata": {},
   "outputs": [
    {
     "data": {
      "text/plain": [
       "array([4, 3, 0, 1, 2], dtype=int64)"
      ]
     },
     "execution_count": 176,
     "metadata": {},
     "output_type": "execute_result"
    }
   ],
   "source": [
    "x = np.array([4,6,7,3,2]) # 작은순의 배열내 순서를 반환\n",
    "np.argsort(x)"
   ]
  },
  {
   "cell_type": "code",
   "execution_count": 177,
   "metadata": {},
   "outputs": [
    {
     "data": {
      "text/plain": [
       "array([ True,  True,  True, False, False])"
      ]
     },
     "execution_count": 177,
     "metadata": {},
     "output_type": "execute_result"
    }
   ],
   "source": [
    "#불린 인덱스\n",
    "\n",
    "x = np.array([4,6,7,3,2])\n",
    "(x>3)"
   ]
  },
  {
   "cell_type": "code",
   "execution_count": 178,
   "metadata": {},
   "outputs": [
    {
     "data": {
      "text/plain": [
       "array([4, 6, 7])"
      ]
     },
     "execution_count": 178,
     "metadata": {},
     "output_type": "execute_result"
    }
   ],
   "source": [
    "cond = x > 3\n",
    "x[cond] # True 값만 저장한 변수"
   ]
  },
  {
   "cell_type": "code",
   "execution_count": 182,
   "metadata": {},
   "outputs": [
    {
     "data": {
      "text/plain": [
       "array([4, 6, 7])"
      ]
     },
     "execution_count": 182,
     "metadata": {},
     "output_type": "execute_result"
    }
   ],
   "source": [
    "con = x>3\n",
    "x[con]"
   ]
  },
  {
   "cell_type": "code",
   "execution_count": 180,
   "metadata": {},
   "outputs": [
    {
     "data": {
      "text/plain": [
       "(5,)"
      ]
     },
     "execution_count": 180,
     "metadata": {},
     "output_type": "execute_result"
    }
   ],
   "source": [
    "x.shape"
   ]
  },
  {
   "cell_type": "code",
   "execution_count": 183,
   "metadata": {},
   "outputs": [
    {
     "data": {
      "text/plain": [
       "(5,)"
      ]
     },
     "execution_count": 183,
     "metadata": {},
     "output_type": "execute_result"
    }
   ],
   "source": [
    "cond.shape"
   ]
  },
  {
   "cell_type": "code",
   "execution_count": 184,
   "metadata": {},
   "outputs": [
    {
     "data": {
      "text/plain": [
       "array([6, 7, 4, 7, 7, 7])"
      ]
     },
     "execution_count": 184,
     "metadata": {},
     "output_type": "execute_result"
    }
   ],
   "source": [
    "# fancy index\n",
    "\n",
    "x = np.array([4,6,7,3,2])\n",
    "cond = np.array([1,2,0,2,2,2],int)\n",
    "x[cond]"
   ]
  },
  {
   "cell_type": "code",
   "execution_count": 185,
   "metadata": {},
   "outputs": [
    {
     "data": {
      "text/plain": [
       "array([6, 7, 4, 7, 7, 7])"
      ]
     },
     "execution_count": 185,
     "metadata": {},
     "output_type": "execute_result"
    }
   ],
   "source": [
    "x.take(cond)"
   ]
  },
  {
   "cell_type": "code",
   "execution_count": 186,
   "metadata": {},
   "outputs": [
    {
     "data": {
      "text/plain": [
       "array([ 1,  9,  9, 16,  4,  4])"
      ]
     },
     "execution_count": 186,
     "metadata": {},
     "output_type": "execute_result"
    }
   ],
   "source": [
    "x = np.array([[1,4],[9,16]], int)\n",
    "a = np.array([0,1,1,1,0,0], int)\n",
    "b = np.array([0,0,0,1,1,1], int)\n",
    "x[a,b]"
   ]
  },
  {
   "cell_type": "code",
   "execution_count": null,
   "metadata": {},
   "outputs": [],
   "source": []
  }
 ],
 "metadata": {
  "kernelspec": {
   "display_name": "Python 3",
   "language": "python",
   "name": "python3"
  },
  "language_info": {
   "codemirror_mode": {
    "name": "ipython",
    "version": 3
   },
   "file_extension": ".py",
   "mimetype": "text/x-python",
   "name": "python",
   "nbconvert_exporter": "python",
   "pygments_lexer": "ipython3",
   "version": "3.7.6"
  }
 },
 "nbformat": 4,
 "nbformat_minor": 4
}
