{
  "nbformat": 4,
  "nbformat_minor": 0,
  "metadata": {
    "colab": {
      "name": "220729 ML(선형회귀 심화).ipynb",
      "provenance": [],
      "collapsed_sections": [],
      "authorship_tag": "ABX9TyNiEwnufmZcL3qsnDUGGYYQ"
    },
    "kernelspec": {
      "name": "python3",
      "display_name": "Python 3"
    },
    "language_info": {
      "name": "python"
    }
  },
  "cells": [
    {
      "cell_type": "markdown",
      "source": [
        "### 경사하강법의 종류\n",
        "  - 경사하강법은 현재 머신러닝의 핵심이라고 할 수 있는 딥러닝의 기본이 되는 알고리즘이다.\n",
        "  - 최근에 좋은 성능을 내는 대부분이 경사하강법을 기본으로 하고있다.\n",
        "\n",
        "### 전체- 배치 경사하강법\n",
        "  - 우리가 앞에서 배운 경사하강법은 하나의 값에 대한 경사도(gradient)를 구한 다음 값들을 업데이트 한다.\n",
        "  - 하지만 실제 매개변수를 업데이트하면 다음 수식과 같이 시그마 기호를 포함하여 경사도를 반영한다.\n",
        "    - 이는 각 데이터의 경사도를 모두 더해 하나의 값으로 가중치를 업데이트 하는과정\n",
        "  - 이러한 방식을 전체-배치 경사하강법(full-batch gradient descent)라 한다.\n",
        "  - 일반적으로 선형회귀에서 사용하는 경사하강법이다.\n",
        "    - 배치는 하나의 데이터 셋을 말하며, 전체-배치란 모든 데이터를 한번에 사용하여 가중치를 한번 업데이트\n",
        "  - 전체 경사도 평균을 취해 가중치를 업데이트하는 이유는 값을 한 개씩 사용해 업데이트하면 시간이 오래걸린다.\n",
        "  - 시작점이 어딘지에 따라 그래프 전체에서 최솟점을 찾지 못하고 부분최솟점에 최적점이 위치하게 된다. 이를 지역 최적화(local optimum)에 빠졌다 한다.\n",
        "  (기울기가 엄청 다양할때에 특정 구간 최소점에 빠지는 경우) -> 보폭조정을 통해 해결\n",
        "  - 손실함수 = 비용함수\n",
        "- 전체-배치 경사하강법의 일반적인 경사하강법과 대비해 특징 \n",
        "  - 업데이트 횟수 감소\n",
        "  - 안정적인 비용함수 수렴\n",
        "  - 업데이트 속도 증가\n",
        "\n",
        "\n",
        "### - 확률적 경사하강법(Stochastic Gradient Decent, SGD)\n",
        "  - 지역 최적화문제를 해결하기 위해 제안된 알고리즘\n",
        "  - 경사하강법과는 달리 SGD\n",
        "\n",
        "  - 장점\n",
        "    - 모델성능변화 빠륵 파악\n",
        "    - 빠른 결과값\n",
        "    - 지역 최적화 회피 유용\n",
        "  - 단점\n",
        "    - 대용량 데이터는 매우오래걸림\n",
        "    - 결과의 마지막값 확인 힘듬 튀는현상이라는 현상 발생\n",
        "    - 비용함수값이 계속 변함\n",
        "\n",
        "### - 미니배치 경사하강법\n",
        "  - 미니-배치 경사하강법은 SGD는 모든 데이터를 입력하지 않고 데이터의 일부분 랜덤하게 섞은 후 입력해서 해당 값들의 경사도 평균을 구해 가중치를 업데이트 하는 방법.\n",
        "  - 경사하강법 중 가장 일반적으로 사용되는 방법\n",
        "  - 한번의 배치당 메모리 크기를 고려해 일반적으로 2의 n승 개를 사용\n",
        "\n",
        "  - 에포크(epoch) : 데이터를 한번에 모두 학습시키는 횟수를 의미\n",
        "    SGD를 한번 학습하는 루프가 실행될 때 1에포크의 데이터가 학습된다라고 할 수있음\n",
        "\n",
        "  - 배치사이즈(batch-size) : 한번에 학습이 되는 데이터의 갯수를 의미한다.\n",
        "\n",
        "\n",
        "### - Optimizer 종류\n",
        " - GD : 기초가 되는 알고리즘 모든자료를 다 검토해서 내위치의 산기울기를 계산해 방향을 찾겠다.\n",
        " - SGD : 조금만보고 빨리 판단한다. 같은 시간에 더 많이 간다.\n",
        " - SGD에서 스텝방향과 스텝사이즈에 따라 나뉘어짐\n",
        " - 자주 사용되는 것은 SGD, RMSProp, Adam, Nadam정도가 있다.\n"
      ],
      "metadata": {
        "id": "2HP-esq5uRPN"
      }
    },
    {
      "cell_type": "markdown",
      "source": [
        "### 과대적합과 정규화\n",
        "  - 모델이 특정한 데이터셋에서만 잘 작동된다면 우리는 해당 모델을 overfitting이라 부른다.\n",
        "  - 과대적합을 방지하기 위한 기법을 이해하기 위해 편향-분산 트레이드오프 관계를 이해해야한다.\n",
        "  - 편향(bias) : 모델의 결과가 얼마나 한쪽으로 쏠려 있는지를 나타내는 것으로, 학습된 모델이 학습 데이터에 대해 만들어낸 예측값과 실제값과의 차이를 말한다.\n",
        "  - 분산 : 모델의 결과가 얼마나 퍼져있는지를 나타냄\n",
        "  - 학습된 모델이 테스팅 데이터에 대해 만들어낸 예측값과 실제값과의 차이를 말한다. 높을수록 과소적합\n",
        " \n",
        "#### 과대적합이 발생할떄 일반적으로 나타나는 현상은 loop가 진행될수록 학습 데이터셋에 대한 비용함수는 줄어들지만 테스트 데이터셋에대한 비용함수가 커지는 현상 발생\n",
        "\n",
        "  - 과대적합 해결책\n",
        "    - 더 많은 데이터 활용하기\n",
        "    - 피쳐의 개수 줄이기\n",
        "    - 적절한 매개변수 선정하기\n",
        "    - 정규화 적용하기"
      ],
      "metadata": {
        "id": "WPVonzEszN1g"
      }
    },
    {
      "cell_type": "markdown",
      "source": [
        "### L2 정규화 리지 회귀(ridge regression)\n",
        "\n",
        "  - 정규화 방법중 하나는 L2 정규화라고 부르는 리지 회귀이다.\n",
        "  - 정규화를 이해하기 위해 놈(norm)이라 부르는 벡터의 크기를 측정하는 기법을 알아보자.\n",
        "    - 벡터는 방향과 크기가 있다.\n",
        "    - 놈은 좌표평면의 원점에서 점까지의 거리를 나타내는 방법\n",
        "    - 피타고라스 정리와 같이 각 선분의 제곱의 합에 제곱근을 구하는 방식, 삼각함수, 유클리디안 기법?\n",
        "\n",
        "\n",
        "### - L1 정규화 : 라쏘 회귀\n",
        "\n"
      ],
      "metadata": {
        "id": "jn_i6e_P07tp"
      }
    },
    {
      "cell_type": "markdown",
      "source": [
        ""
      ],
      "metadata": {
        "id": "HR3RIIoY2Icg"
      }
    },
    {
      "cell_type": "markdown",
      "source": [
        "#### 사이킷런을 이용한 선형회귀 구현\n",
        "\n",
        "  - 유명한 보스턴 집값 데이터를 사용\n",
        "    - 1970년에 보스턴 지역집값을 사용해 주택의 영향 요소들을 추출하는 데이터.\n",
        "\n",
        "  - 보스턴 집값을 예측하는 과제"
      ],
      "metadata": {
        "id": "Kjz4_82P2V2D"
      }
    },
    {
      "cell_type": "code",
      "source": [
        "from sklearn.datasets import load_boston\n",
        "import matplotlib.pyplot as plt\n",
        "import numpy as np\n",
        "import pandas as pd\n",
        "\n",
        "boston = load_boston()\n",
        "boston.keys()"
      ],
      "metadata": {
        "colab": {
          "base_uri": "https://localhost:8080/"
        },
        "id": "EXWBbLQT2WIn",
        "outputId": "73bad524-fc8d-4c6b-e614-d1df0e5a155a"
      },
      "execution_count": null,
      "outputs": [
        {
          "output_type": "stream",
          "name": "stderr",
          "text": [
            "/usr/local/lib/python3.7/dist-packages/sklearn/utils/deprecation.py:87: FutureWarning: Function load_boston is deprecated; `load_boston` is deprecated in 1.0 and will be removed in 1.2.\n",
            "\n",
            "    The Boston housing prices dataset has an ethical problem. You can refer to\n",
            "    the documentation of this function for further details.\n",
            "\n",
            "    The scikit-learn maintainers therefore strongly discourage the use of this\n",
            "    dataset unless the purpose of the code is to study and educate about\n",
            "    ethical issues in data science and machine learning.\n",
            "\n",
            "    In this special case, you can fetch the dataset from the original\n",
            "    source::\n",
            "\n",
            "        import pandas as pd\n",
            "        import numpy as np\n",
            "\n",
            "\n",
            "        data_url = \"http://lib.stat.cmu.edu/datasets/boston\"\n",
            "        raw_df = pd.read_csv(data_url, sep=\"\\s+\", skiprows=22, header=None)\n",
            "        data = np.hstack([raw_df.values[::2, :], raw_df.values[1::2, :2]])\n",
            "        target = raw_df.values[1::2, 2]\n",
            "\n",
            "    Alternative datasets include the California housing dataset (i.e.\n",
            "    :func:`~sklearn.datasets.fetch_california_housing`) and the Ames housing\n",
            "    dataset. You can load the datasets as follows::\n",
            "\n",
            "        from sklearn.datasets import fetch_california_housing\n",
            "        housing = fetch_california_housing()\n",
            "\n",
            "    for the California housing dataset and::\n",
            "\n",
            "        from sklearn.datasets import fetch_openml\n",
            "        housing = fetch_openml(name=\"house_prices\", as_frame=True)\n",
            "\n",
            "    for the Ames housing dataset.\n",
            "    \n",
            "  warnings.warn(msg, category=FutureWarning)\n"
          ]
        },
        {
          "output_type": "execute_result",
          "data": {
            "text/plain": [
              "dict_keys(['data', 'target', 'feature_names', 'DESCR', 'filename', 'data_module'])"
            ]
          },
          "metadata": {},
          "execution_count": 8
        }
      ]
    },
    {
      "cell_type": "code",
      "source": [
        "boston['data'] # 배열의 한 라인이 하나의 샘플"
      ],
      "metadata": {
        "colab": {
          "base_uri": "https://localhost:8080/"
        },
        "id": "Mjk9sffGIfOa",
        "outputId": "596aadd3-7154-4a74-92ee-470375648121"
      },
      "execution_count": null,
      "outputs": [
        {
          "output_type": "execute_result",
          "data": {
            "text/plain": [
              "array([[6.3200e-03, 1.8000e+01, 2.3100e+00, ..., 1.5300e+01, 3.9690e+02,\n",
              "        4.9800e+00],\n",
              "       [2.7310e-02, 0.0000e+00, 7.0700e+00, ..., 1.7800e+01, 3.9690e+02,\n",
              "        9.1400e+00],\n",
              "       [2.7290e-02, 0.0000e+00, 7.0700e+00, ..., 1.7800e+01, 3.9283e+02,\n",
              "        4.0300e+00],\n",
              "       ...,\n",
              "       [6.0760e-02, 0.0000e+00, 1.1930e+01, ..., 2.1000e+01, 3.9690e+02,\n",
              "        5.6400e+00],\n",
              "       [1.0959e-01, 0.0000e+00, 1.1930e+01, ..., 2.1000e+01, 3.9345e+02,\n",
              "        6.4800e+00],\n",
              "       [4.7410e-02, 0.0000e+00, 1.1930e+01, ..., 2.1000e+01, 3.9690e+02,\n",
              "        7.8800e+00]])"
            ]
          },
          "metadata": {},
          "execution_count": 2
        }
      ]
    },
    {
      "cell_type": "code",
      "source": [
        "x_data = boston.data # 보스턴 데이터를 할당\n",
        "y_data = boston.target.reshape(boston.target.size,1) # 타겟을 2차원 배열로 변경 길이,1인 배열\n",
        "y_data.shape"
      ],
      "metadata": {
        "colab": {
          "base_uri": "https://localhost:8080/"
        },
        "id": "oKx9zUQ7IiFW",
        "outputId": "880a95c2-c032-4220-dcfb-eadab501bba6"
      },
      "execution_count": null,
      "outputs": [
        {
          "output_type": "execute_result",
          "data": {
            "text/plain": [
              "(506, 1)"
            ]
          },
          "metadata": {},
          "execution_count": 10
        }
      ]
    },
    {
      "cell_type": "code",
      "source": [
        "from sklearn import preprocessing\n",
        "\n",
        "minmax_scale = preprocessing.MinMaxScaler(feature_range=(0,5)).fit(x_data) # scaler 진행할때 fit과 transform 둘다 필요\n",
        "x_scaled_data = minmax_scale.transform(x_data) #max min scaler진행\n",
        "x_scaled_data[:3] # 3개만 출력"
      ],
      "metadata": {
        "colab": {
          "base_uri": "https://localhost:8080/"
        },
        "id": "or6dMnGyIw1j",
        "outputId": "720fedae-d44a-40a2-9872-8dd2fe6e8a20"
      },
      "execution_count": null,
      "outputs": [
        {
          "output_type": "execute_result",
          "data": {
            "text/plain": [
              "array([[0.00000000e+00, 9.00000000e-01, 3.39076246e-01, 0.00000000e+00,\n",
              "        1.57407407e+00, 2.88752635e+00, 3.20803296e+00, 1.34601570e+00,\n",
              "        0.00000000e+00, 1.04007634e+00, 1.43617021e+00, 5.00000000e+00,\n",
              "        4.48399558e-01],\n",
              "       [1.17961270e-03, 0.00000000e+00, 1.21151026e+00, 0.00000000e+00,\n",
              "        8.64197531e-01, 2.73998850e+00, 3.91349125e+00, 1.74480990e+00,\n",
              "        2.17391304e-01, 5.24809160e-01, 2.76595745e+00, 5.00000000e+00,\n",
              "        1.02235099e+00],\n",
              "       [1.17848872e-03, 0.00000000e+00, 1.21151026e+00, 0.00000000e+00,\n",
              "        8.64197531e-01, 3.47192949e+00, 2.99691040e+00, 1.74480990e+00,\n",
              "        2.17391304e-01, 5.24809160e-01, 2.76595745e+00, 4.94868627e+00,\n",
              "        3.17328918e-01]])"
            ]
          },
          "metadata": {},
          "execution_count": 13
        }
      ]
    },
    {
      "cell_type": "code",
      "source": [
        "from sklearn.model_selection import train_test_split\n",
        "\n",
        "X_train, X_test, y_train, y_test = train_test_split(x_scaled_data, y_data, test_size = 0.33) # train, test 분리\n",
        "\n",
        "\n",
        "X_train.shape, X_test.shape, y_train.shape, y_test.shape # 길이와 특성 확인"
      ],
      "metadata": {
        "colab": {
          "base_uri": "https://localhost:8080/"
        },
        "id": "vZREtlFyKrVk",
        "outputId": "34aed43b-aaab-4aaf-9256-444928ccc035"
      },
      "execution_count": null,
      "outputs": [
        {
          "output_type": "execute_result",
          "data": {
            "text/plain": [
              "((339, 13), (167, 13), (339, 1), (167, 1))"
            ]
          },
          "metadata": {},
          "execution_count": 14
        }
      ]
    },
    {
      "cell_type": "code",
      "source": [
        "from sklearn import linear_model\n",
        "\n",
        "regr = linear_model.LinearRegression( #사용한 모델 선언\n",
        "    fit_intercept = True, normalize= False, copy_X=True, n_jobs=-1) # n_jobs = 사용할 cpu 갯수? -1이면 최대\n",
        "lasso_regr = linear_model.Lasso(\n",
        "    alpha = 0.01, fit_intercept=True,normalize=False, copy_X = True)\n",
        "ridge_regr = linear_model.Ridge(\n",
        "    alpha = 0.01, fit_intercept=True,normalize=False, copy_X = True)\n",
        "SGD_regr = linear_model.SGDRegressor(penalty=\"l2\", alpha=0.01,\n",
        "                                     max_iter=1000, tol=0.001, eta0=0.01) # L2 방법으로 경사하강법 1000번 진행\n"
      ],
      "metadata": {
        "id": "3vCFuZk5MCnd"
      },
      "execution_count": null,
      "outputs": []
    },
    {
      "cell_type": "code",
      "source": [
        "regr.fit(X_train, y_train)"
      ],
      "metadata": {
        "colab": {
          "base_uri": "https://localhost:8080/"
        },
        "id": "sd8OmyCbNvtv",
        "outputId": "3b994655-7e77-4752-bdb9-9324f4078410"
      },
      "execution_count": null,
      "outputs": [
        {
          "output_type": "stream",
          "name": "stderr",
          "text": [
            "/usr/local/lib/python3.7/dist-packages/sklearn/linear_model/_base.py:155: FutureWarning: 'normalize' was deprecated in version 1.0 and will be removed in 1.2. Please leave the normalize parameter to its default value to silence this warning. The default behavior of this estimator is to not do any normalization. If normalization is needed please use sklearn.preprocessing.StandardScaler instead.\n",
            "  FutureWarning,\n"
          ]
        },
        {
          "output_type": "execute_result",
          "data": {
            "text/plain": [
              "LinearRegression(n_jobs=-1, normalize=False)"
            ]
          },
          "metadata": {},
          "execution_count": 18
        }
      ]
    },
    {
      "cell_type": "code",
      "source": [
        "print('coefficients: ', regr.coef_) # 기울기를 구하는 함수 <- feature 갯수만큼\n",
        "print('intercept : ', regr.intercept_ ) # 절편을 구하는 함수 <- 1개"
      ],
      "metadata": {
        "colab": {
          "base_uri": "https://localhost:8080/"
        },
        "id": "YgczV6l4Nzhi",
        "outputId": "04759849-c2a5-400c-dc42-495cd73d7101"
      },
      "execution_count": null,
      "outputs": [
        {
          "output_type": "stream",
          "name": "stdout",
          "text": [
            "coefficients:  [[-1.80781089  0.63723598  0.14834757  0.40263941 -1.60113877  5.92746452\n",
            "  -0.125991   -2.80151107  0.94011402 -1.03454417 -1.90836588  1.0992212\n",
            "  -2.50381316]]\n",
            "intercept :  [18.31079658]\n"
          ]
        }
      ]
    },
    {
      "cell_type": "code",
      "source": [
        "regr.predict(x_data[:5]) # 5개만 문제를 줌"
      ],
      "metadata": {
        "colab": {
          "base_uri": "https://localhost:8080/"
        },
        "id": "TUQ2SPgaO8Vi",
        "outputId": "ed605489-e8b8-4fd2-c9dc-a5a21b428eea"
      },
      "execution_count": null,
      "outputs": [
        {
          "output_type": "execute_result",
          "data": {
            "text/plain": [
              "array([[137.880122  ],\n",
              "       [163.71115134],\n",
              "       [178.8030652 ],\n",
              "       [200.4585887 ],\n",
              "       [196.72826466]])"
            ]
          },
          "metadata": {},
          "execution_count": 21
        }
      ]
    },
    {
      "cell_type": "code",
      "source": [
        "x_data[:5].dot(regr.coef_.T) + regr.intercept_ # dot <- 행렬곱 내적함수, regr.coef_ 특성들의 가중치 + 절편 => ax + b"
      ],
      "metadata": {
        "colab": {
          "base_uri": "https://localhost:8080/"
        },
        "id": "6waggE-BQBMt",
        "outputId": "99b5261d-5add-4122-9b28-ec55e7152ef6"
      },
      "execution_count": null,
      "outputs": [
        {
          "output_type": "execute_result",
          "data": {
            "text/plain": [
              "array([[137.880122  ],\n",
              "       [163.71115134],\n",
              "       [178.8030652 ],\n",
              "       [200.4585887 ],\n",
              "       [196.72826466]])"
            ]
          },
          "metadata": {},
          "execution_count": 23
        }
      ]
    },
    {
      "cell_type": "code",
      "source": [
        "from sklearn.metrics import r2_score\n",
        "from sklearn.metrics import mean_absolute_error\n",
        "from sklearn.metrics import mean_squared_error\n",
        "\n",
        "y_true = y_test.copy() # y_true에 테스트값 복사\n",
        "y_hat = regr.predict(X_test) #예측값\n",
        "\n",
        "r2_score(y_true, y_hat), mean_absolute_error(y_true, y_hat), \\ # r2 스코어는 크면 좋음, MAE와 MSE는 낮은게 좋다.\n",
        "mean_squared_error(y_true, y_hat)"
      ],
      "metadata": {
        "colab": {
          "base_uri": "https://localhost:8080/"
        },
        "id": "gTZQN8R2QLbM",
        "outputId": "d256a2fc-60c8-49d4-8820-3da566945a04"
      },
      "execution_count": null,
      "outputs": [
        {
          "output_type": "execute_result",
          "data": {
            "text/plain": [
              "(0.5707828988874872, 3.4999032508367582, 30.90220830282783)"
            ]
          },
          "metadata": {},
          "execution_count": 24
        }
      ]
    },
    {
      "cell_type": "code",
      "source": [
        "plt.scatter(y_true, y_hat, s = 10)\n",
        "plt.xlabel(\"Prices: $Y_i$\")\n",
        "plt.ylabel('Predicted prices: $\\hat{Y}_i$')\n",
        "plt.title(\"Prices vs Predicted prices : $Y_i$ vs $\\hat{Y}_i$\")"
      ],
      "metadata": {
        "colab": {
          "base_uri": "https://localhost:8080/",
          "height": 323
        },
        "id": "NgOZc3XoRL9O",
        "outputId": "99ba7104-c05c-41d0-b341-02868e027ac2"
      },
      "execution_count": null,
      "outputs": [
        {
          "output_type": "execute_result",
          "data": {
            "text/plain": [
              "Text(0.5, 1.0, 'Prices vs Predicted prices : $Y_i$ vs $\\\\hat{Y}_i$')"
            ]
          },
          "metadata": {},
          "execution_count": 26
        },
        {
          "output_type": "display_data",
          "data": {
            "text/plain": [
              "<Figure size 432x288 with 1 Axes>"
            ],
            "image/png": "[encoded data removed]"
          },
          "metadata": {
            "needs_background": "light"
          }
        }
      ]
    },
    {
      "cell_type": "code",
      "source": [
        "lasso_regr.fit(X_train,y_train)"
      ],
      "metadata": {
        "colab": {
          "base_uri": "https://localhost:8080/"
        },
        "id": "Ju93vqbQR5Gw",
        "outputId": "3bc2811a-96ec-4028-b1e5-004d3b41f1f9"
      },
      "execution_count": null,
      "outputs": [
        {
          "output_type": "stream",
          "name": "stderr",
          "text": [
            "/usr/local/lib/python3.7/dist-packages/sklearn/linear_model/_base.py:155: FutureWarning: 'normalize' was deprecated in version 1.0 and will be removed in 1.2. Please leave the normalize parameter to its default value to silence this warning. The default behavior of this estimator is to not do any normalization. If normalization is needed please use sklearn.preprocessing.StandardScaler instead.\n",
            "  FutureWarning,\n"
          ]
        },
        {
          "output_type": "execute_result",
          "data": {
            "text/plain": [
              "Lasso(alpha=0.01, normalize=False)"
            ]
          },
          "metadata": {},
          "execution_count": 28
        }
      ]
    },
    {
      "cell_type": "code",
      "source": [
        "print('coefficients: ', lasso_regr.coef_) \n",
        "print('intercept : ', lasso_regr.intercept_ ) "
      ],
      "metadata": {
        "colab": {
          "base_uri": "https://localhost:8080/"
        },
        "id": "uLL71odMShLF",
        "outputId": "0f1b81c5-f482-4348-e254-e279f2b28034"
      },
      "execution_count": null,
      "outputs": [
        {
          "output_type": "stream",
          "name": "stdout",
          "text": [
            "coefficients:  [-1.72557768  0.6118787   0.09857877  0.40425577 -1.5533032   5.92009122\n",
            " -0.11232344 -2.74201431  0.88200126 -0.97820094 -1.89761944  1.0898531\n",
            " -2.51134465]\n",
            "intercept :  [18.23236946]\n"
          ]
        }
      ]
    },
    {
      "cell_type": "code",
      "source": [
        "ridge_regr.fit(X_train,y_train)"
      ],
      "metadata": {
        "colab": {
          "base_uri": "https://localhost:8080/"
        },
        "id": "MicjdhccSzYF",
        "outputId": "43409100-22ca-4fee-91a9-2b0671b7a750"
      },
      "execution_count": null,
      "outputs": [
        {
          "output_type": "stream",
          "name": "stderr",
          "text": [
            "/usr/local/lib/python3.7/dist-packages/sklearn/linear_model/_base.py:155: FutureWarning: 'normalize' was deprecated in version 1.0 and will be removed in 1.2. Please leave the normalize parameter to its default value to silence this warning. The default behavior of this estimator is to not do any normalization. If normalization is needed please use sklearn.preprocessing.StandardScaler instead.\n",
            "  FutureWarning,\n"
          ]
        },
        {
          "output_type": "execute_result",
          "data": {
            "text/plain": [
              "Ridge(alpha=0.01, normalize=False)"
            ]
          },
          "metadata": {},
          "execution_count": 30
        }
      ]
    },
    {
      "cell_type": "code",
      "source": [
        "print('coefficients: ', ridge_regr.coef_) \n",
        "print('intercept : ', ridge_regr.intercept_ )"
      ],
      "metadata": {
        "colab": {
          "base_uri": "https://localhost:8080/"
        },
        "id": "RujBgfoRS4Y9",
        "outputId": "e6c2cbbf-c49a-497d-ab70-e7a375ca07ca"
      },
      "execution_count": null,
      "outputs": [
        {
          "output_type": "stream",
          "name": "stdout",
          "text": [
            "coefficients:  [[-1.80741101  0.63719656  0.14823194  0.40266309 -1.60092258  5.92692562\n",
            "  -0.12589811 -2.80118788  0.93999219 -1.03446165 -1.90834898  1.09917225\n",
            "  -2.50406431]]\n",
            "intercept :  [18.31189736]\n"
          ]
        }
      ]
    },
    {
      "cell_type": "code",
      "source": [
        "SGD_regr.fit(X_train,y_train)"
      ],
      "metadata": {
        "colab": {
          "base_uri": "https://localhost:8080/"
        },
        "id": "7zTceR5JS9P6",
        "outputId": "8ca1aca9-6cff-4249-d9e5-b2b0351c48de"
      },
      "execution_count": null,
      "outputs": [
        {
          "output_type": "stream",
          "name": "stderr",
          "text": [
            "/usr/local/lib/python3.7/dist-packages/sklearn/utils/validation.py:993: DataConversionWarning: A column-vector y was passed when a 1d array was expected. Please change the shape of y to (n_samples, ), for example using ravel().\n",
            "  y = column_or_1d(y, warn=True)\n"
          ]
        },
        {
          "output_type": "execute_result",
          "data": {
            "text/plain": [
              "SGDRegressor(alpha=0.01)"
            ]
          },
          "metadata": {},
          "execution_count": 33
        }
      ]
    },
    {
      "cell_type": "code",
      "source": [
        "print('coefficients: ', SGD_regr.coef_) \n",
        "print('intercept : ', SGD_regr.intercept_ )"
      ],
      "metadata": {
        "colab": {
          "base_uri": "https://localhost:8080/"
        },
        "id": "29eSN8jBTG4j",
        "outputId": "f586293e-6fbb-4fb4-d78a-b782beb96907"
      },
      "execution_count": null,
      "outputs": [
        {
          "output_type": "stream",
          "name": "stdout",
          "text": [
            "coefficients:  [-1.01234464  0.71613952  0.49176067  0.44543899 -0.66970767  7.63528043\n",
            "  0.38555757 -0.85721694  0.7265236  -0.94629315 -1.35514702  1.78983596\n",
            " -1.90819401]\n",
            "intercept :  [2.15294481]\n"
          ]
        }
      ]
    },
    {
      "cell_type": "code",
      "source": [
        ""
      ],
      "metadata": {
        "id": "D2OaZLaATJw-"
      },
      "execution_count": null,
      "outputs": []
    }
  ]
}