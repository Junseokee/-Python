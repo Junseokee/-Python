{
  "nbformat": 4,
  "nbformat_minor": 0,
  "metadata": {
    "colab": {
      "name": "220802 로지스틱 회귀의 기초.ipynb",
      "provenance": [],
      "collapsed_sections": [],
      "authorship_tag": "ABX9TyNWr/8b9AwIjjPoJo08g7Jk",
      "include_colab_link": true
    },
    "kernelspec": {
      "name": "python3",
      "display_name": "Python 3"
    },
    "language_info": {
      "name": "python"
    }
  },
  "cells": [
    {
      "cell_type": "markdown",
      "metadata": {
        "id": "view-in-github",
        "colab_type": "text"
      },
      "source": [
        "<a href=\"https://colab.research.google.com/github/Junseokee/Study-Python/blob/main/220802_%EB%A1%9C%EC%A7%80%EC%8A%A4%ED%8B%B1_%ED%9A%8C%EA%B7%80%EC%9D%98_%EA%B8%B0%EC%B4%88.ipynb\" target=\"_parent\"><img src=\"https://colab.research.google.com/assets/colab-badge.svg\" alt=\"Open In Colab\"/></a>"
      ]
    },
    {
      "cell_type": "markdown",
      "source": [
        "### 로지스틱 회귀\n",
        "  \n",
        "  - 분류 문제를 수행하는 모델.\n",
        "  - 일반적인 회귀 문제와는 다르게 몇가지의 이산적인 값 중 하나를 선택하는 모델\n",
        "  - 로지스틱 회귀는 분류 모델이다 예측 x\n",
        "\n",
        "  - (복습) 오차가 작은지 확인하는건 비용함수이다. MSE, MAE 등\n",
        "  - 회귀는 어떠한 연속적인 값\n"
      ],
      "metadata": {
        "id": "SpJV_nagrJ0N"
      }
    },
    {
      "cell_type": "markdown",
      "source": [
        "### 로짓함수 분류에 사용됨\n",
        "#### 로지스틱\n",
        "  - 시그모이드 함수 <- x값이 작아지면 작아질수록 0에 가깝게 수렴하고 커지면 1에 가깜게 수렴한다. 1과 0이 되지는 않는다. 1/(1+e^-z)\n",
        "  - z는 가중치의 값과 피쳐값의 선형 결합\n",
        "  - 이를 학습하기위해 경사하강법 적용\n",
        "\n",
        "#### 비용함수\n",
        "- 로지스틱 회귀도 선형회귀와 마찬가지로 예측값과 실제값 간의 차이를 최소하는 방향으로 학습\n",
        "- 실제값이 1일때와 0일때 다른 식 적용\n",
        "- h값이 1에 가까워질수록 비용함수는 0에가까워진다.\n",
        "- h값이 0에 가까워질수록 0에 가까워진다.\n",
        "\n"
      ],
      "metadata": {
        "id": "4G646nc0uEe6"
      }
    },
    {
      "cell_type": "markdown",
      "source": [
        "### 분류 문제의 성능지표\n",
        "\n",
        " - 분류문제의 평가방법은 회귀, 분류, 클러스터링 등 문제 해결방법에 따라 다른 성능지표 사용\n",
        "  - 회귀 : MAE, MSE, RMSE, R2, SSE\n",
        "  - 분류 : 정확도, 정밀도, 민감도, F1 스코어, 컨퓨전매트릭스, ROC 커브(정밀도와 민감도로 그래프를 그림 *잘안쓰임, 기울기가 1에 가까울수록 좋다), 리프트 차트\n",
        "  - 클러스터링 : DBI, 엘보우 메서드, 실루엣계수 <- 비지도학습이라 신뢰도가 떨어짐\n",
        " "
      ],
      "metadata": {
        "id": "069EYRpdy-Db"
      }
    },
    {
      "cell_type": "markdown",
      "source": [
        "### 혼동 행렬\n",
        "  - 혼동행렬(confusion matrix)는 예측값이 실제값 대비 얼마나 잘맞는지 행렬로 표현하는 기법이다.\n",
        "  - 행이 실제값 0이면 오답 1이면 정답\n",
        "  - 열이 예측값\n",
        "  - 1,1 = True Positive\n",
        "  - 1,0 = False Positive\n",
        "  - 0,1 = False Negetive\n",
        "  - 0,0 = True Negetive "
      ],
      "metadata": {
        "id": "uHbt3RB-0si-"
      }
    },
    {
      "cell_type": "code",
      "source": [
        "from sklearn.metrics import confusion_matrix\n",
        "y_true = [1,0,1,1,0,1]\n",
        "y_pred = [0,0,1,1,0,1]\n",
        "confusion_matrix(y_true, y_pred)"
      ],
      "metadata": {
        "colab": {
          "base_uri": "https://localhost:8080/"
        },
        "id": "ZWYFuZRB1SRv",
        "outputId": "dddeac0c-b613-4ea2-9aeb-96ae8050c63f"
      },
      "execution_count": 3,
      "outputs": [
        {
          "output_type": "execute_result",
          "data": {
            "text/plain": [
              "array([[2, 0],\n",
              "       [1, 3]])"
            ]
          },
          "metadata": {},
          "execution_count": 3
        }
      ]
    },
    {
      "cell_type": "code",
      "source": [
        "tn, fp, fn, tp = confusion_matrix(y_true,y_pred).ravel() #ravel() : 2차원 배열을 1차원으로 펴줌\n",
        "(tn,fp,fn,tp)"
      ],
      "metadata": {
        "colab": {
          "base_uri": "https://localhost:8080/"
        },
        "id": "1m_k8eHn1jKr",
        "outputId": "ef8be5fd-af15-40b3-c5c4-f5440ad0311a"
      },
      "execution_count": 7,
      "outputs": [
        {
          "output_type": "execute_result",
          "data": {
            "text/plain": [
              "(2, 0, 1, 3)"
            ]
          },
          "metadata": {},
          "execution_count": 7
        }
      ]
    },
    {
      "cell_type": "code",
      "source": [
        "confusion_matrix(y_true, y_pred)"
      ],
      "metadata": {
        "colab": {
          "base_uri": "https://localhost:8080/"
        },
        "id": "Vh5rvnd32Fnp",
        "outputId": "f1617891-f88c-4025-ec4a-ec077fc30801"
      },
      "execution_count": 8,
      "outputs": [
        {
          "output_type": "execute_result",
          "data": {
            "text/plain": [
              "array([[2, 0],\n",
              "       [1, 3]])"
            ]
          },
          "metadata": {},
          "execution_count": 8
        }
      ]
    },
    {
      "cell_type": "markdown",
      "source": [
        "### 혼동행렬표를 사용한 지표\n",
        "  - accuracy(정확도) : 단순히 얼마나 맞췄는지를 측정하는 정보\n",
        "  - precision(정밀도) : 1이라고 예측했을때 그 값이 얼마나 정답이었는지 보여줌\n",
        "  - recall(민감도,재현률) : 1인값을 얼마나 안놓치고 정답으로 맞추는지에 대한 지표\n",
        "\n",
        "\n"
      ],
      "metadata": {
        "id": "4XDuTaPa2SeO"
      }
    },
    {
      "cell_type": "markdown",
      "source": [
        "  - 정확도 = 전체 데이터 갯수 대비 정답 갯수의미\n",
        "    - ACC = TP+TN/(전체 데이터)\n",
        "    - 정확도만 믿으면 안됨\n",
        "    "
      ],
      "metadata": {
        "id": "HXoP0lEN3m-q"
      }
    },
    {
      "cell_type": "code",
      "source": [
        "import numpy as np\n",
        "from sklearn.metrics import accuracy_score\n",
        "y_pred = np.array([0,1,1,0])\n",
        "y_true = np.array([0,1,0,0])\n",
        "sum(y_true == y_pred) / len(y_true)"
      ],
      "metadata": {
        "colab": {
          "base_uri": "https://localhost:8080/"
        },
        "id": "72KQn3qz3phK",
        "outputId": "889f985f-6547-41cb-c720-ea14533634ac"
      },
      "execution_count": 10,
      "outputs": [
        {
          "output_type": "execute_result",
          "data": {
            "text/plain": [
              "0.75"
            ]
          },
          "metadata": {},
          "execution_count": 10
        }
      ]
    },
    {
      "cell_type": "code",
      "source": [
        "accuracy_score(y_true, y_pred)"
      ],
      "metadata": {
        "colab": {
          "base_uri": "https://localhost:8080/"
        },
        "id": "FmNp7il03rhK",
        "outputId": "8d201bf4-9701-44ee-dbb4-1a5ef7b6e4fd"
      },
      "execution_count": 11,
      "outputs": [
        {
          "output_type": "execute_result",
          "data": {
            "text/plain": [
              "0.75"
            ]
          },
          "metadata": {},
          "execution_count": 11
        }
      ]
    },
    {
      "cell_type": "code",
      "source": [
        "# 오차율 = 오답을 맞춘갯수\n",
        "# ERR = 1-ACC\n",
        "err_rate = 1-accuracy_score(y_true,y_pred)\n",
        "err_rate"
      ],
      "metadata": {
        "colab": {
          "base_uri": "https://localhost:8080/"
        },
        "id": "oqUY-XAH4AOK",
        "outputId": "664784be-7af6-4f05-d43e-9023edb3373e"
      },
      "execution_count": 12,
      "outputs": [
        {
          "output_type": "execute_result",
          "data": {
            "text/plain": [
              "0.25"
            ]
          },
          "metadata": {},
          "execution_count": 12
        }
      ]
    },
    {
      "cell_type": "markdown",
      "source": [
        "- 정밀도 민감도(재현률), F1 스코어\n",
        "  - 정밀도, 민감도(재현률)는 불균형한 데이터셋을 다룰 때 유용한 지표이다\n",
        "  - 정밀도와 민감도는 trade off 관계라서 반비례 관계이다.\n",
        "  - 서로 교차되는 지점이 제일 좋다.\n",
        "  \n",
        "- 정밀도 : 모델이 1이라고 예측했을때 그 값이 얼마나 정답이었는지를 보여주는 지표, 아래 수식에서 분모는 모델이 1이라고 예측한 데이터의 수이며 분자는 맞은 정답의 갯수\n",
        "  - PPV(Precision) = TP/TP+FP\n",
        "\n",
        "- 민감도 : 1인값을 얼마나 안놓치고 맞췄는지에 대한 지표. 분모는 실제값이 1인 데이터의 갯수 분자는 모델이 제대로 맞춘 데이터의 갯수\n",
        "  - RECALL(TPR) = TP/TP+FN\n",
        "\n",
        "- F1 스코어 : 정밀도와 민감도를 통합한 지표로 정밀도와 민감도의 조화평균값. 모델의 성능이 좋은지를 확인할때 한개의 지표로 정리할 필요가 있을때 적합한 지표중 하나.\n",
        "  - Precision-RECALL / Precision+RECALL"
      ],
      "metadata": {
        "id": "3yTdkXyZ4bsg"
      }
    },
    {
      "cell_type": "code",
      "source": [
        "from sklearn.metrics import precision_score\n",
        "from sklearn.metrics import recall_score\n",
        "from sklearn.metrics import f1_score\n",
        "\n",
        "y_pred = np.array([0,1,1,0,1,1,1,0])\n",
        "y_true = np.array([0,1,0,0,0,0,1,1])"
      ],
      "metadata": {
        "id": "vwHczDtw4yPT"
      },
      "execution_count": 13,
      "outputs": []
    },
    {
      "cell_type": "code",
      "source": [
        "precision_score(y_true, y_pred) # 정밀도"
      ],
      "metadata": {
        "colab": {
          "base_uri": "https://localhost:8080/"
        },
        "id": "dN624MCF-S84",
        "outputId": "2c6b23b5-3c95-4816-88ae-d9e4de5cdb6b"
      },
      "execution_count": 14,
      "outputs": [
        {
          "output_type": "execute_result",
          "data": {
            "text/plain": [
              "0.4"
            ]
          },
          "metadata": {},
          "execution_count": 14
        }
      ]
    },
    {
      "cell_type": "code",
      "source": [
        "recall_score(y_true, y_pred) # 민감도"
      ],
      "metadata": {
        "colab": {
          "base_uri": "https://localhost:8080/"
        },
        "id": "RB8GeDNj-YcP",
        "outputId": "2ed6da32-10e0-4f81-ec2b-198adcf3edba"
      },
      "execution_count": 15,
      "outputs": [
        {
          "output_type": "execute_result",
          "data": {
            "text/plain": [
              "0.6666666666666666"
            ]
          },
          "metadata": {},
          "execution_count": 15
        }
      ]
    },
    {
      "cell_type": "code",
      "source": [
        "f1_score(y_true, y_pred) # F1 스코어"
      ],
      "metadata": {
        "colab": {
          "base_uri": "https://localhost:8080/"
        },
        "id": "-lNFdEr9-cy2",
        "outputId": "2c91f26f-a066-4f84-aecf-cb24474284ca"
      },
      "execution_count": 16,
      "outputs": [
        {
          "output_type": "execute_result",
          "data": {
            "text/plain": [
              "0.5"
            ]
          },
          "metadata": {},
          "execution_count": 16
        }
      ]
    },
    {
      "cell_type": "markdown",
      "source": [
        "### 로지스틱 회귀 구현하기\n",
        "#### 로지스틱 회귀 구현을 위한 함수\n",
        "  - 로지스틱 회귀의 구현은 선형회귀의 구현과 사실상 동일한 방식이다.\n",
        "  - 시그모이드 함수 만들기\n",
        "    - def sigmoid(z):\n",
        "      - return 1 / (1+np.exp(z))\n",
        "\n",
        "    "
      ],
      "metadata": {
        "id": "u-wCBQET-ivH"
      }
    },
    {
      "cell_type": "markdown",
      "source": [
        "### 가설함수\n",
        "  - 시그모이드 함수를 약간 업데이트한 가설함수\n",
        "    - 시그모이드 함수는 입력 값은 단순히 $z$를 사용하는데, 실제로는 피쳐값인 벡터\n",
        "\n",
        "### 비용함수는 실제값이 0과 1일떄 다른 식으로 사용\n",
        "\n",
        "### 경사하강법 : 가중치 업데이트\n"
      ],
      "metadata": {
        "id": "VjCioMXT_M6u"
      }
    },
    {
      "cell_type": "code",
      "source": [
        "# 사이킷런을 통해 학습하기\n",
        "# 와튼대학교의 'uva.csv' 데이터 사용\n",
        "# 인터넷 사용자가 뉴비인지 아닌지 구별하는 데이터 셋\n",
        "\n",
        "import pandas as pd\n",
        "data_url = \"http://www-stat.wharton.upenn.edu/~waterman/DataSets/uva.txt\""
      ],
      "metadata": {
        "id": "3oqTAGAY_qVd"
      },
      "execution_count": 24,
      "outputs": []
    },
    {
      "cell_type": "code",
      "source": [
        "#!pip install fsspec"
      ],
      "metadata": {
        "id": "LrdZxdTvAVvb"
      },
      "execution_count": 25,
      "outputs": []
    },
    {
      "cell_type": "code",
      "source": [
        "df = pd.read_table(data_url) # Tab문자로 구별된 파일이라 Table로 연다\n",
        "df.head()"
      ],
      "metadata": {
        "colab": {
          "base_uri": "https://localhost:8080/",
          "height": 214
        },
        "id": "pW2OhYtJAErG",
        "outputId": "e8c2c19f-2ade-4c04-c6ce-f1934abb5f0a"
      },
      "execution_count": 28,
      "outputs": [
        {
          "output_type": "execute_result",
          "data": {
            "text/plain": [
              "       who  Newbie   Age  Gender Household Income Sexual Preference  \\\n",
              "0  id74364       0  54.0    Male           $50-74          Gay male   \n",
              "1  id84505       0  39.0  Female        Over $100      Heterosexual   \n",
              "2  id84509       1  49.0  Female           $40-49      Heterosexual   \n",
              "3  id87028       1  22.0  Female           $40-49      Heterosexual   \n",
              "4  id76087       0  20.0    Male           $30-39          Bisexual   \n",
              "\n",
              "      Country Education Attainment Major Occupation Marital Status  \\\n",
              "0     Ontario         Some College         Computer          Other   \n",
              "1      Sweden         Professional            Other          Other   \n",
              "2  Washington         Some College       Management          Other   \n",
              "3     Florida         Some College         Computer        Married   \n",
              "4  New Jersey         Some College        Education         Single   \n",
              "\n",
              "  Years on Internet  \n",
              "0            4-6 yr  \n",
              "1            1-3 yr  \n",
              "2        Under 6 mo  \n",
              "3           6-12 mo  \n",
              "4            1-3 yr  "
            ],
            "text/html": [
              "\n",
              "  <div id=\"df-7d3b1dc8-95ea-47f7-9d69-c8de9e6f2171\">\n",
              "    <div class=\"colab-df-container\">\n",
              "      <div>\n",
              "<style scoped>\n",
              "    .dataframe tbody tr th:only-of-type {\n",
              "        vertical-align: middle;\n",
              "    }\n",
              "\n",
              "    .dataframe tbody tr th {\n",
              "        vertical-align: top;\n",
              "    }\n",
              "\n",
              "    .dataframe thead th {\n",
              "        text-align: right;\n",
              "    }\n",
              "</style>\n",
              "<table border=\"1\" class=\"dataframe\">\n",
              "  <thead>\n",
              "    <tr style=\"text-align: right;\">\n",
              "      <th></th>\n",
              "      <th>who</th>\n",
              "      <th>Newbie</th>\n",
              "      <th>Age</th>\n",
              "      <th>Gender</th>\n",
              "      <th>Household Income</th>\n",
              "      <th>Sexual Preference</th>\n",
              "      <th>Country</th>\n",
              "      <th>Education Attainment</th>\n",
              "      <th>Major Occupation</th>\n",
              "      <th>Marital Status</th>\n",
              "      <th>Years on Internet</th>\n",
              "    </tr>\n",
              "  </thead>\n",
              "  <tbody>\n",
              "    <tr>\n",
              "      <th>0</th>\n",
              "      <td>id74364</td>\n",
              "      <td>0</td>\n",
              "      <td>54.0</td>\n",
              "      <td>Male</td>\n",
              "      <td>$50-74</td>\n",
              "      <td>Gay male</td>\n",
              "      <td>Ontario</td>\n",
              "      <td>Some College</td>\n",
              "      <td>Computer</td>\n",
              "      <td>Other</td>\n",
              "      <td>4-6 yr</td>\n",
              "    </tr>\n",
              "    <tr>\n",
              "      <th>1</th>\n",
              "      <td>id84505</td>\n",
              "      <td>0</td>\n",
              "      <td>39.0</td>\n",
              "      <td>Female</td>\n",
              "      <td>Over $100</td>\n",
              "      <td>Heterosexual</td>\n",
              "      <td>Sweden</td>\n",
              "      <td>Professional</td>\n",
              "      <td>Other</td>\n",
              "      <td>Other</td>\n",
              "      <td>1-3 yr</td>\n",
              "    </tr>\n",
              "    <tr>\n",
              "      <th>2</th>\n",
              "      <td>id84509</td>\n",
              "      <td>1</td>\n",
              "      <td>49.0</td>\n",
              "      <td>Female</td>\n",
              "      <td>$40-49</td>\n",
              "      <td>Heterosexual</td>\n",
              "      <td>Washington</td>\n",
              "      <td>Some College</td>\n",
              "      <td>Management</td>\n",
              "      <td>Other</td>\n",
              "      <td>Under 6 mo</td>\n",
              "    </tr>\n",
              "    <tr>\n",
              "      <th>3</th>\n",
              "      <td>id87028</td>\n",
              "      <td>1</td>\n",
              "      <td>22.0</td>\n",
              "      <td>Female</td>\n",
              "      <td>$40-49</td>\n",
              "      <td>Heterosexual</td>\n",
              "      <td>Florida</td>\n",
              "      <td>Some College</td>\n",
              "      <td>Computer</td>\n",
              "      <td>Married</td>\n",
              "      <td>6-12 mo</td>\n",
              "    </tr>\n",
              "    <tr>\n",
              "      <th>4</th>\n",
              "      <td>id76087</td>\n",
              "      <td>0</td>\n",
              "      <td>20.0</td>\n",
              "      <td>Male</td>\n",
              "      <td>$30-39</td>\n",
              "      <td>Bisexual</td>\n",
              "      <td>New Jersey</td>\n",
              "      <td>Some College</td>\n",
              "      <td>Education</td>\n",
              "      <td>Single</td>\n",
              "      <td>1-3 yr</td>\n",
              "    </tr>\n",
              "  </tbody>\n",
              "</table>\n",
              "</div>\n",
              "      <button class=\"colab-df-convert\" onclick=\"convertToInteractive('df-7d3b1dc8-95ea-47f7-9d69-c8de9e6f2171')\"\n",
              "              title=\"Convert this dataframe to an interactive table.\"\n",
              "              style=\"display:none;\">\n",
              "        \n",
              "  <svg xmlns=\"http://www.w3.org/2000/svg\" height=\"24px\"viewBox=\"0 0 24 24\"\n",
              "       width=\"24px\">\n",
              "    <path d=\"M0 0h24v24H0V0z\" fill=\"none\"/>\n",
              "    <path d=\"M18.56 5.44l.94 2.06.94-2.06 2.06-.94-2.06-.94-.94-2.06-.94 2.06-2.06.94zm-11 1L8.5 8.5l.94-2.06 2.06-.94-2.06-.94L8.5 2.5l-.94 2.06-2.06.94zm10 10l.94 2.06.94-2.06 2.06-.94-2.06-.94-.94-2.06-.94 2.06-2.06.94z\"/><path d=\"M17.41 7.96l-1.37-1.37c-.4-.4-.92-.59-1.43-.59-.52 0-1.04.2-1.43.59L10.3 9.45l-7.72 7.72c-.78.78-.78 2.05 0 2.83L4 21.41c.39.39.9.59 1.41.59.51 0 1.02-.2 1.41-.59l7.78-7.78 2.81-2.81c.8-.78.8-2.07 0-2.86zM5.41 20L4 18.59l7.72-7.72 1.47 1.35L5.41 20z\"/>\n",
              "  </svg>\n",
              "      </button>\n",
              "      \n",
              "  <style>\n",
              "    .colab-df-container {\n",
              "      display:flex;\n",
              "      flex-wrap:wrap;\n",
              "      gap: 12px;\n",
              "    }\n",
              "\n",
              "    .colab-df-convert {\n",
              "      background-color: #E8F0FE;\n",
              "      border: none;\n",
              "      border-radius: 50%;\n",
              "      cursor: pointer;\n",
              "      display: none;\n",
              "      fill: #1967D2;\n",
              "      height: 32px;\n",
              "      padding: 0 0 0 0;\n",
              "      width: 32px;\n",
              "    }\n",
              "\n",
              "    .colab-df-convert:hover {\n",
              "      background-color: #E2EBFA;\n",
              "      box-shadow: 0px 1px 2px rgba(60, 64, 67, 0.3), 0px 1px 3px 1px rgba(60, 64, 67, 0.15);\n",
              "      fill: #174EA6;\n",
              "    }\n",
              "\n",
              "    [theme=dark] .colab-df-convert {\n",
              "      background-color: #3B4455;\n",
              "      fill: #D2E3FC;\n",
              "    }\n",
              "\n",
              "    [theme=dark] .colab-df-convert:hover {\n",
              "      background-color: #434B5C;\n",
              "      box-shadow: 0px 1px 3px 1px rgba(0, 0, 0, 0.15);\n",
              "      filter: drop-shadow(0px 1px 2px rgba(0, 0, 0, 0.3));\n",
              "      fill: #FFFFFF;\n",
              "    }\n",
              "  </style>\n",
              "\n",
              "      <script>\n",
              "        const buttonEl =\n",
              "          document.querySelector('#df-7d3b1dc8-95ea-47f7-9d69-c8de9e6f2171 button.colab-df-convert');\n",
              "        buttonEl.style.display =\n",
              "          google.colab.kernel.accessAllowed ? 'block' : 'none';\n",
              "\n",
              "        async function convertToInteractive(key) {\n",
              "          const element = document.querySelector('#df-7d3b1dc8-95ea-47f7-9d69-c8de9e6f2171');\n",
              "          const dataTable =\n",
              "            await google.colab.kernel.invokeFunction('convertToInteractive',\n",
              "                                                     [key], {});\n",
              "          if (!dataTable) return;\n",
              "\n",
              "          const docLinkHtml = 'Like what you see? Visit the ' +\n",
              "            '<a target=\"_blank\" href=https://colab.research.google.com/notebooks/data_table.ipynb>data table notebook</a>'\n",
              "            + ' to learn more about interactive tables.';\n",
              "          element.innerHTML = '';\n",
              "          dataTable['output_type'] = 'display_data';\n",
              "          await google.colab.output.renderOutput(dataTable, element);\n",
              "          const docLink = document.createElement('div');\n",
              "          docLink.innerHTML = docLinkHtml;\n",
              "          element.appendChild(docLink);\n",
              "        }\n",
              "      </script>\n",
              "    </div>\n",
              "  </div>\n",
              "  "
            ]
          },
          "metadata": {},
          "execution_count": 28
        }
      ]
    },
    {
      "cell_type": "markdown",
      "source": [
        "### 데이터 전처리"
      ],
      "metadata": {
        "id": "wB8x7IFtAO-s"
      }
    },
    {
      "cell_type": "code",
      "source": [
        "# pop 메서드는 DataFrame에서 열 레이블을 꺼낸다. 즉 원본 DataFame에서 해당 열이 제거\n",
        "df.pop('who') # 개인 ID\n",
        "df.pop('Country') #거주지\n",
        "df.pop('Years on Internet') # newbie와 겹치기때문에 삭제\n",
        "\n",
        "df.dtypes"
      ],
      "metadata": {
        "colab": {
          "base_uri": "https://localhost:8080/"
        },
        "id": "rbIR97b4Av8t",
        "outputId": "ca63ed18-a253-4173-9897-126147383b35"
      },
      "execution_count": 29,
      "outputs": [
        {
          "output_type": "execute_result",
          "data": {
            "text/plain": [
              "Newbie                    int64\n",
              "Age                     float64\n",
              "Gender                   object\n",
              "Household Income         object\n",
              "Sexual Preference        object\n",
              "Education Attainment     object\n",
              "Major Occupation         object\n",
              "Marital Status           object\n",
              "dtype: object"
            ]
          },
          "metadata": {},
          "execution_count": 29
        }
      ]
    },
    {
      "cell_type": "code",
      "source": [
        "# catergory 변수를 원핫인코딩 형태로 바꾸기 위해 타입 변경\n",
        "\n",
        "category_cols = ['Gender','Household Income','Sexual Preference',\n",
        "            'Education Attainment', 'Major Occupation', 'Marital Status']"
      ],
      "metadata": {
        "id": "ZRgt_EE0BHHi"
      },
      "execution_count": 32,
      "outputs": []
    },
    {
      "cell_type": "code",
      "source": [
        "for col in category_cols: # 판다스에서제공하는 category 자료형으로 변경\n",
        "  df[col] = df[col].astype('category') # 반복문을 통해 타입 변경\n",
        "\n",
        "df.dtypes"
      ],
      "metadata": {
        "colab": {
          "base_uri": "https://localhost:8080/"
        },
        "id": "CUArZQTcB2Lg",
        "outputId": "59ed8a2e-c823-4984-e18c-1757c5d37fb2"
      },
      "execution_count": 35,
      "outputs": [
        {
          "output_type": "execute_result",
          "data": {
            "text/plain": [
              "Newbie                     int64\n",
              "Age                      float64\n",
              "Gender                  category\n",
              "Household Income        category\n",
              "Sexual Preference       category\n",
              "Education Attainment    category\n",
              "Major Occupation        category\n",
              "Marital Status          category\n",
              "dtype: object"
            ]
          },
          "metadata": {},
          "execution_count": 35
        }
      ]
    },
    {
      "cell_type": "code",
      "source": [
        "df_onehot = pd.get_dummies(df)"
      ],
      "metadata": {
        "id": "fIHgteqHB81b"
      },
      "execution_count": 38,
      "outputs": []
    },
    {
      "cell_type": "code",
      "source": [
        "df_onehot.shape"
      ],
      "metadata": {
        "colab": {
          "base_uri": "https://localhost:8080/"
        },
        "id": "7dodPzAIC9ug",
        "outputId": "f14b3e77-82bb-49e3-f4fd-97586e170951"
      },
      "execution_count": 53,
      "outputs": [
        {
          "output_type": "execute_result",
          "data": {
            "text/plain": [
              "(19583, 38)"
            ]
          },
          "metadata": {},
          "execution_count": 53
        }
      ]
    },
    {
      "cell_type": "code",
      "source": [
        "df_onehot.isnull().sum()"
      ],
      "metadata": {
        "colab": {
          "base_uri": "https://localhost:8080/"
        },
        "id": "u4UtIPEvCn2k",
        "outputId": "53992658-bc38-4772-b618-32034e4590c7"
      },
      "execution_count": 54,
      "outputs": [
        {
          "output_type": "execute_result",
          "data": {
            "text/plain": [
              "Newbie                               0\n",
              "Age                                  0\n",
              "Gender_Female                        0\n",
              "Gender_Male                          0\n",
              "Household Income_$10-19              0\n",
              "Household Income_$20-29              0\n",
              "Household Income_$30-39              0\n",
              "Household Income_$40-49              0\n",
              "Household Income_$50-74              0\n",
              "Household Income_$75-99              0\n",
              "Household Income_Over $100           0\n",
              "Household Income_Under $10           0\n",
              "Sexual Preference_Bisexual           0\n",
              "Sexual Preference_Gay male           0\n",
              "Sexual Preference_Heterosexual       0\n",
              "Sexual Preference_Lesbian            0\n",
              "Sexual Preference_Transgender        0\n",
              "Sexual Preference_na                 0\n",
              "Education Attainment_College         0\n",
              "Education Attainment_Doctoral        0\n",
              "Education Attainment_Grammar         0\n",
              "Education Attainment_High School     0\n",
              "Education Attainment_Masters         0\n",
              "Education Attainment_Other           0\n",
              "Education Attainment_Professional    0\n",
              "Education Attainment_Some College    0\n",
              "Education Attainment_Special         0\n",
              "Major Occupation_Computer            0\n",
              "Major Occupation_Education           0\n",
              "Major Occupation_Management          0\n",
              "Major Occupation_Other               0\n",
              "Major Occupation_Professional        0\n",
              "Marital Status_Divorced              0\n",
              "Marital Status_Married               0\n",
              "Marital Status_Other                 0\n",
              "Marital Status_Separated             0\n",
              "Marital Status_Single                0\n",
              "Marital Status_Widowed               0\n",
              "dtype: int64"
            ]
          },
          "metadata": {},
          "execution_count": 54
        }
      ]
    },
    {
      "cell_type": "code",
      "source": [
        "# age의 널값을 평균값으로 대체, fillna로 하는게 더 간편\n",
        "df_onehot.loc[pd.isnull(df_onehot['Age']),'Age'] = df_onehot['Age'].mean()"
      ],
      "metadata": {
        "id": "sCPPvWU5C3Tf"
      },
      "execution_count": 55,
      "outputs": []
    },
    {
      "cell_type": "code",
      "source": [
        "df_onehot.isnull().sum()"
      ],
      "metadata": {
        "colab": {
          "base_uri": "https://localhost:8080/"
        },
        "id": "2smTdlSNDn94",
        "outputId": "09abfdcd-6ab6-4114-de04-6ff31991ecdd"
      },
      "execution_count": 56,
      "outputs": [
        {
          "output_type": "execute_result",
          "data": {
            "text/plain": [
              "Newbie                               0\n",
              "Age                                  0\n",
              "Gender_Female                        0\n",
              "Gender_Male                          0\n",
              "Household Income_$10-19              0\n",
              "Household Income_$20-29              0\n",
              "Household Income_$30-39              0\n",
              "Household Income_$40-49              0\n",
              "Household Income_$50-74              0\n",
              "Household Income_$75-99              0\n",
              "Household Income_Over $100           0\n",
              "Household Income_Under $10           0\n",
              "Sexual Preference_Bisexual           0\n",
              "Sexual Preference_Gay male           0\n",
              "Sexual Preference_Heterosexual       0\n",
              "Sexual Preference_Lesbian            0\n",
              "Sexual Preference_Transgender        0\n",
              "Sexual Preference_na                 0\n",
              "Education Attainment_College         0\n",
              "Education Attainment_Doctoral        0\n",
              "Education Attainment_Grammar         0\n",
              "Education Attainment_High School     0\n",
              "Education Attainment_Masters         0\n",
              "Education Attainment_Other           0\n",
              "Education Attainment_Professional    0\n",
              "Education Attainment_Some College    0\n",
              "Education Attainment_Special         0\n",
              "Major Occupation_Computer            0\n",
              "Major Occupation_Education           0\n",
              "Major Occupation_Management          0\n",
              "Major Occupation_Other               0\n",
              "Major Occupation_Professional        0\n",
              "Marital Status_Divorced              0\n",
              "Marital Status_Married               0\n",
              "Marital Status_Other                 0\n",
              "Marital Status_Separated             0\n",
              "Marital Status_Single                0\n",
              "Marital Status_Widowed               0\n",
              "dtype: int64"
            ]
          },
          "metadata": {},
          "execution_count": 56
        }
      ]
    },
    {
      "cell_type": "markdown",
      "source": [
        "### 데이터 분리"
      ],
      "metadata": {
        "id": "_DfwogO5DuwA"
      }
    },
    {
      "cell_type": "code",
      "source": [
        "x_data = df_onehot.iloc[:, 1:].values # 전체행에서 1번만 부터 값을 넣음\n",
        "y_data = df_onehot.iloc[:, 0].values.reshape(-1,1) # 0번째 행만 값을 넣음 (정답 y값 = Newbie 여부)\n",
        "y_data.shape, x_data.shape"
      ],
      "metadata": {
        "colab": {
          "base_uri": "https://localhost:8080/"
        },
        "id": "uffNLL36EPGU",
        "outputId": "c67f9f9d-6419-43e4-f9ae-647991a24ecb"
      },
      "execution_count": 57,
      "outputs": [
        {
          "output_type": "execute_result",
          "data": {
            "text/plain": [
              "((19583, 1), (19583, 37))"
            ]
          },
          "metadata": {},
          "execution_count": 57
        }
      ]
    },
    {
      "cell_type": "code",
      "source": [
        "from sklearn import preprocessing # Min-Max Standardzation\n",
        "\n",
        "min_max_scaler = preprocessing.MinMaxScaler()\n",
        "x_data = min_max_scaler.fit_transform(x_data) # 스케일링과 fit, transform 동시에"
      ],
      "metadata": {
        "id": "cO8RkwJPEnWD"
      },
      "execution_count": 58,
      "outputs": []
    },
    {
      "cell_type": "code",
      "source": [
        "from sklearn.model_selection import train_test_split \n",
        "\n",
        "X_train, X_test, y_train, y_test = train_test_split( #train set 과 test set 분리\n",
        "    x_data, y_data, test_size=0.33, random_state=42)\n",
        "X_train.shape, X_test.shape"
      ],
      "metadata": {
        "colab": {
          "base_uri": "https://localhost:8080/"
        },
        "id": "Wr2iI8UGE9UL",
        "outputId": "0f33b750-e746-4dcb-9df7-30a65e7ebbd4"
      },
      "execution_count": 59,
      "outputs": [
        {
          "output_type": "execute_result",
          "data": {
            "text/plain": [
              "((13120, 37), (6463, 37))"
            ]
          },
          "metadata": {},
          "execution_count": 59
        }
      ]
    },
    {
      "cell_type": "code",
      "source": [
        "from sklearn.linear_model import LogisticRegression # 선형에 있지만 분류모델임\n",
        "\n",
        "logreg = LogisticRegression(fit_intercept = True) # 로지스틱 회귀모델 학습 , fit_intercept = 절편사용유무\n",
        "logreg.fit(X_train, y_train.flatten()) # flatten() 2차원 배열을 평평하게 펴주는 함수"
      ],
      "metadata": {
        "colab": {
          "base_uri": "https://localhost:8080/"
        },
        "id": "khdrOhNUFZnb",
        "outputId": "844af1bd-f635-4325-de02-4f73c6f6b0a2"
      },
      "execution_count": 60,
      "outputs": [
        {
          "output_type": "execute_result",
          "data": {
            "text/plain": [
              "LogisticRegression()"
            ]
          },
          "metadata": {},
          "execution_count": 60
        }
      ]
    },
    {
      "cell_type": "code",
      "source": [
        "# # LosisticRegression 클래스 입력파라미터 종류\n",
        "# LogisticRegression(penalty='l2', max_iter = 100, # 규제에 사용될 기준지정(l1,l2,elasticnet,None) - default : l2, 기울기 값찾는 반복 수\n",
        "#                     n_jobs=None) # 사용코어 갯수 defult = 1개, -1은 모든 코어\n",
        "                   "
      ],
      "metadata": {
        "colab": {
          "base_uri": "https://localhost:8080/"
        },
        "id": "wQJe4VfRGfGy",
        "outputId": "c6ca95e2-11ef-4045-99ef-848421d00c6f"
      },
      "execution_count": 51,
      "outputs": [
        {
          "output_type": "execute_result",
          "data": {
            "text/plain": [
              "LogisticRegression()"
            ]
          },
          "metadata": {},
          "execution_count": 51
        }
      ]
    },
    {
      "cell_type": "markdown",
      "source": [
        "penalty : 규제에 사용 된 기준을 지정 (l1, l2, elasticnet, none) – default : l2\n",
        "dual : 이중 또는 초기 공식\n",
        "tol : 정밀도\n",
        "C : 규제 강도\n",
        "fit_intercept : 모형에 상수항 (절편)이 있는가 없는가를 결정하는 인수 (default : True)\n",
        "intercept_scaling : 정규화 효과 정도\n",
        "class_weight : 클래스의 가중치\n",
        "random_state : 난수 seed 설정\n",
        "solver : 최적화 문제에 사용하는 알고리즘\n",
        "max_iter : 계산에 사용할 작업 수\n",
        "multi_class : 다중 분류 시에 (ovr, multinomial, auto)로 설정\n",
        "verbose : 동작 과정에 대한 출력 메시지\n",
        "warm_start : 이전 모델을 초기화로 적합하게 사용할 것인지 여부\n",
        "n_jobs : 병렬 처리 할 때 사용되는 CPU 코어 수\n",
        "l1_ratio : L1 규제의 비율(Elastic-Net 믹싱 파라미터 경우에만 사용)"
      ],
      "metadata": {
        "id": "bprUkyNMKSGy"
      }
    },
    {
      "cell_type": "markdown",
      "source": [
        "#### 값 예측하기와 성능 측정하기"
      ],
      "metadata": {
        "id": "jf8qdmTLLp5v"
      }
    },
    {
      "cell_type": "code",
      "source": [
        "logreg.predict_proba(X_test[:5]) # 0열 : 0 , 1열 : 1, 큰값으로 예측한다, 5개 모두 0으로 예측함"
      ],
      "metadata": {
        "colab": {
          "base_uri": "https://localhost:8080/"
        },
        "id": "Skrz3UZoKfob",
        "outputId": "3d06d459-2170-4ecb-bede-4287c328b492"
      },
      "execution_count": 61,
      "outputs": [
        {
          "output_type": "execute_result",
          "data": {
            "text/plain": [
              "array([[0.56843257, 0.43156743],\n",
              "       [0.91112573, 0.08887427],\n",
              "       [0.79481084, 0.20518916],\n",
              "       [0.85841562, 0.14158438],\n",
              "       [0.62764602, 0.37235398]])"
            ]
          },
          "metadata": {},
          "execution_count": 61
        }
      ]
    },
    {
      "cell_type": "code",
      "source": [
        "logreg.predict(X_test[0:10])"
      ],
      "metadata": {
        "colab": {
          "base_uri": "https://localhost:8080/"
        },
        "id": "j9-h9LuaKg5u",
        "outputId": "aa60963b-300d-4629-a2d0-c61d49365298"
      },
      "execution_count": 63,
      "outputs": [
        {
          "output_type": "execute_result",
          "data": {
            "text/plain": [
              "array([0, 0, 0, 0, 0, 0, 0, 0, 0, 0])"
            ]
          },
          "metadata": {},
          "execution_count": 63
        }
      ]
    },
    {
      "cell_type": "code",
      "source": [
        "from sklearn.metrics import confusion_matrix\n",
        "from sklearn.metrics import accuracy_score\n",
        "\n",
        "y_true = y_test.copy()\n",
        "y_pred = logreg.predict(X_test)\n",
        "confusion_matrix(y_true, y_pred)"
      ],
      "metadata": {
        "colab": {
          "base_uri": "https://localhost:8080/"
        },
        "id": "sFeYLPUkKg-W",
        "outputId": "d9b6b89e-3bdb-4fb1-bac5-62d3a48b9b0f"
      },
      "execution_count": 65,
      "outputs": [
        {
          "output_type": "execute_result",
          "data": {
            "text/plain": [
              "array([[4487,  275],\n",
              "       [1350,  351]])"
            ]
          },
          "metadata": {},
          "execution_count": 65
        }
      ]
    },
    {
      "cell_type": "code",
      "source": [
        "accuracy_score(y_true, y_pred) # 엄청틀렸는데 0의 값이 압도적으로 많아서 ACC가 높게나옴"
      ],
      "metadata": {
        "colab": {
          "base_uri": "https://localhost:8080/"
        },
        "id": "jvQBiIPJKhCV",
        "outputId": "0b292e33-0b2d-4425-f989-05569d780ebe"
      },
      "execution_count": 66,
      "outputs": [
        {
          "output_type": "execute_result",
          "data": {
            "text/plain": [
              "0.7485687761101656"
            ]
          },
          "metadata": {},
          "execution_count": 66
        }
      ]
    },
    {
      "cell_type": "code",
      "source": [
        ""
      ],
      "metadata": {
        "id": "9l5YqXMGMm_Y"
      },
      "execution_count": null,
      "outputs": []
    }
  ]
}