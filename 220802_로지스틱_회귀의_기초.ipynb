{
  "nbformat": 4,
  "nbformat_minor": 0,
  "metadata": {
    "colab": {
      "name": "220802 로지스틱 회귀의 기초.ipynb",
      "provenance": [],
      "collapsed_sections": [],
      "authorship_tag": "ABX9TyPCfZnqjEXYLpVwYcrnCzlk",
      "include_colab_link": true
    },
    "kernelspec": {
      "name": "python3",
      "display_name": "Python 3"
    },
    "language_info": {
      "name": "python"
    }
  },
  "cells": [
    {
      "cell_type": "markdown",
      "metadata": {
        "id": "view-in-github",
        "colab_type": "text"
      },
      "source": [
        "<a href=\"https://colab.research.google.com/github/Junseokee/Study-Python/blob/main/220802_%EB%A1%9C%EC%A7%80%EC%8A%A4%ED%8B%B1_%ED%9A%8C%EA%B7%80%EC%9D%98_%EA%B8%B0%EC%B4%88.ipynb\" target=\"_parent\"><img src=\"https://colab.research.google.com/assets/colab-badge.svg\" alt=\"Open In Colab\"/></a>"
      ]
    },
    {
      "cell_type": "markdown",
      "source": [
        "### 로지스틱 회귀\n",
        "  \n",
        "  - 분류 문제를 수행하는 모델.\n",
        "  - 일반적인 회귀 문제와는 다르게 몇가지의 이산적인 값 중 하나를 선택하는 모델\n",
        "  - 로지스틱 회귀는 분류 모델이다 예측 x\n",
        "\n",
        "  - (복습) 오차가 작은지 확인하는건 비용함수이다. MSE, MAE 등\n",
        "  - 회귀는 어떠한 연속적인 값\n"
      ],
      "metadata": {
        "id": "SpJV_nagrJ0N"
      }
    },
    {
      "cell_type": "markdown",
      "source": [
        "### 로짓함수 분류에 사용됨\n",
        "#### 로지스틱\n",
        "  - 시그모이드 함수 <- x값이 작아지면 작아질수록 0에 가깝게 수렴하고 커지면 1에 가깜게 수렴한다. 1과 0이 되지는 않는다. 1/(1+e^-z)\n",
        "  - z는 가중치의 값과 피쳐값의 선형 결합\n",
        "  - 이를 학습하기위해 경사하강법 적용\n",
        "\n",
        "#### 비용함수\n",
        "- 로지스틱 회귀도 선형회귀와 마찬가지로 예측값과 실제값 간의 차이를 최소하는 방향으로 학습\n",
        "- 실제값이 1일때와 0일때 다른 식 적용\n",
        "- h값이 1에 가까워질수록 비용함수는 0에가까워진다.\n",
        "- h값이 0에 가까워질수록 0에 가까워진다.\n",
        "\n"
      ],
      "metadata": {
        "id": "4G646nc0uEe6"
      }
    },
    {
      "cell_type": "markdown",
      "source": [
        "### 분류 문제의 성능지표\n",
        "\n",
        " - 분류문제의 평가방법은 회귀, 분류, 클러스터링 등 문제 해결방법에 따라 다른 성능지표 사용\n",
        "  - 회귀 : MAE, MSE, RMSE, R2, SSE\n",
        "  - 분류 : 정확도, 정밀도, 민감도, F1 스코어, 컨퓨전매트릭스, ROC 커브(정밀도와 민감도로 그래프를 그림 *잘안쓰임, 기울기가 1에 가까울수록 좋다), 리프트 차트\n",
        "  - 클러스터링 : DBI, 엘보우 메서드, 실루엣계수 <- 비지도학습이라 신뢰도가 떨어짐\n",
        " "
      ],
      "metadata": {
        "id": "069EYRpdy-Db"
      }
    },
    {
      "cell_type": "markdown",
      "source": [
        "### 혼동 행렬\n",
        "  - 혼동행렬(confusion matrix)는 예측값이 실제값 대비 얼마나 잘맞는지 행렬로 표현하는 기법이다.\n",
        "  - 행이 실제값 0이면 오답 1이면 정답\n",
        "  - 열이 예측값\n",
        "  - 1,1 = True Positive\n",
        "  - 1,0 = False Positive\n",
        "  - 0,1 = False Negetive\n",
        "  - 0,0 = True Negetive "
      ],
      "metadata": {
        "id": "uHbt3RB-0si-"
      }
    },
    {
      "cell_type": "code",
      "source": [
        "from sklearn.metrics import confusion_matrix\n",
        "y_true = [1,0,1,1,0,1]\n",
        "y_pred = [0,0,1,1,0,1]\n",
        "confusion_matrix(y_true, y_pred)"
      ],
      "metadata": {
        "colab": {
          "base_uri": "https://localhost:8080/"
        },
        "id": "ZWYFuZRB1SRv",
        "outputId": "dddeac0c-b613-4ea2-9aeb-96ae8050c63f"
      },
      "execution_count": 3,
      "outputs": [
        {
          "output_type": "execute_result",
          "data": {
            "text/plain": [
              "array([[2, 0],\n",
              "       [1, 3]])"
            ]
          },
          "metadata": {},
          "execution_count": 3
        }
      ]
    },
    {
      "cell_type": "code",
      "source": [
        "tn, fp, fn, tp = confusion_matrix(y_true,y_pred).ravel() #ravel() : 2차원 배열을 1차원으로 펴줌\n",
        "(tn,fp,fn,tp)"
      ],
      "metadata": {
        "colab": {
          "base_uri": "https://localhost:8080/"
        },
        "id": "1m_k8eHn1jKr",
        "outputId": "ef8be5fd-af15-40b3-c5c4-f5440ad0311a"
      },
      "execution_count": 7,
      "outputs": [
        {
          "output_type": "execute_result",
          "data": {
            "text/plain": [
              "(2, 0, 1, 3)"
            ]
          },
          "metadata": {},
          "execution_count": 7
        }
      ]
    },
    {
      "cell_type": "code",
      "source": [
        "confusion_matrix(y_true, y_pred)"
      ],
      "metadata": {
        "colab": {
          "base_uri": "https://localhost:8080/"
        },
        "id": "Vh5rvnd32Fnp",
        "outputId": "f1617891-f88c-4025-ec4a-ec077fc30801"
      },
      "execution_count": 8,
      "outputs": [
        {
          "output_type": "execute_result",
          "data": {
            "text/plain": [
              "array([[2, 0],\n",
              "       [1, 3]])"
            ]
          },
          "metadata": {},
          "execution_count": 8
        }
      ]
    },
    {
      "cell_type": "markdown",
      "source": [
        "### 혼동행렬표를 사용한 지표\n",
        "  - accuracy(정확도) : 단순히 얼마나 맞췄는지를 측정하는 정보\n",
        "  - precision(정밀도) : 1이라고 예측했을때 그 값이 얼마나 정답이었는지 보여줌\n",
        "  - recall(민감도,재현률) : 1인값을 얼마나 안놓치고 정답으로 맞추는지에 대한 지표\n",
        "\n",
        "\n"
      ],
      "metadata": {
        "id": "4XDuTaPa2SeO"
      }
    },
    {
      "cell_type": "markdown",
      "source": [
        "  - 정확도 = 전체 데이터 갯수 대비 정답 갯수의미\n",
        "    - ACC = TP+TN/(전체 데이터)\n",
        "    - 정확도만 믿으면 안됨\n",
        "    "
      ],
      "metadata": {
        "id": "HXoP0lEN3m-q"
      }
    },
    {
      "cell_type": "code",
      "source": [
        "import numpy as np\n",
        "from sklearn.metrics import accuracy_score\n",
        "y_pred = np.array([0,1,1,0])\n",
        "y_true = np.array([0,1,0,0])\n",
        "sum(y_true == y_pred) / len(y_true)"
      ],
      "metadata": {
        "colab": {
          "base_uri": "https://localhost:8080/"
        },
        "id": "72KQn3qz3phK",
        "outputId": "889f985f-6547-41cb-c720-ea14533634ac"
      },
      "execution_count": 10,
      "outputs": [
        {
          "output_type": "execute_result",
          "data": {
            "text/plain": [
              "0.75"
            ]
          },
          "metadata": {},
          "execution_count": 10
        }
      ]
    },
    {
      "cell_type": "code",
      "source": [
        "accuracy_score(y_true, y_pred)"
      ],
      "metadata": {
        "colab": {
          "base_uri": "https://localhost:8080/"
        },
        "id": "FmNp7il03rhK",
        "outputId": "8d201bf4-9701-44ee-dbb4-1a5ef7b6e4fd"
      },
      "execution_count": 11,
      "outputs": [
        {
          "output_type": "execute_result",
          "data": {
            "text/plain": [
              "0.75"
            ]
          },
          "metadata": {},
          "execution_count": 11
        }
      ]
    },
    {
      "cell_type": "code",
      "source": [
        "# 오차율 = 오답을 맞춘갯수\n",
        "# ERR = 1-ACC\n",
        "err_rate = 1-accuracy_score(y_true,y_pred)\n",
        "err_rate"
      ],
      "metadata": {
        "colab": {
          "base_uri": "https://localhost:8080/"
        },
        "id": "oqUY-XAH4AOK",
        "outputId": "664784be-7af6-4f05-d43e-9023edb3373e"
      },
      "execution_count": 12,
      "outputs": [
        {
          "output_type": "execute_result",
          "data": {
            "text/plain": [
              "0.25"
            ]
          },
          "metadata": {},
          "execution_count": 12
        }
      ]
    },
    {
      "cell_type": "markdown",
      "source": [
        "- 정밀도 민감도(재현률), F1 스코어\n",
        "  - 정밀도, 민감도(재현률)는 불균형한 데이터셋을 다룰 때 유용한 지표이다\n",
        "  - 정밀도와 민감도는 trade off 관계라서 반비례 관계이다.\n",
        "  \n",
        "- 정밀도 : 모델이 1이라고 예측했을때 그 값이 얼마나 정답이었는지를 보여주는 지표, 아래 수식에서 분모는 모델이 1이라고 예측한 데이터의 수이며 분자는 맞은 정답의 갯수\n",
        "  - PPV(Precision) = TP/TP+FP\n",
        "\n",
        "- 민감도 : 1인값을 얼마나 안놓치고 맞췄는지에 대한 지표. 분모는 실제값이 1인 데이터의 갯수 분자는 모델이 제대로 맞춘 데이터의 갯수\n",
        "  - RECALL(TPR) = TP/TP+FN\n",
        "\n",
        "- F1 스코어 : 정밀도와 민감도를 통합한 지표로 정밀도와 민감도의 조화평균값. 모델의 성능이 좋은지를 확인할때 한개의 지표로 정리할 필요가 있을때 적합한 지표중 하나.\n",
        "  - Precision RECALL / Precision RECALL"
      ],
      "metadata": {
        "id": "3yTdkXyZ4bsg"
      }
    },
    {
      "cell_type": "code",
      "source": [
        "\n",
        "\n"
      ],
      "metadata": {
        "id": "vwHczDtw4yPT"
      },
      "execution_count": null,
      "outputs": []
    }
  ]
}