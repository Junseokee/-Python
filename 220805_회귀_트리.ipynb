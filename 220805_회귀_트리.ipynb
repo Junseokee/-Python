{
  "nbformat": 4,
  "nbformat_minor": 0,
  "metadata": {
    "colab": {
      "name": "220805 회귀 트리.ipynb",
      "provenance": [],
      "authorship_tag": "ABX9TyPbD7zxG48TfgGCRQuK8C8H",
      "include_colab_link": true
    },
    "kernelspec": {
      "name": "python3",
      "display_name": "Python 3"
    },
    "language_info": {
      "name": "python"
    }
  },
  "cells": [
    {
      "cell_type": "markdown",
      "metadata": {
        "id": "view-in-github",
        "colab_type": "text"
      },
      "source": [
        "<a href=\"https://colab.research.google.com/github/Junseokee/Study-Python/blob/main/220805_%ED%9A%8C%EA%B7%80_%ED%8A%B8%EB%A6%AC.ipynb\" target=\"_parent\"><img src=\"https://colab.research.google.com/assets/colab-badge.svg\" alt=\"Open In Colab\"/></a>"
      ]
    },
    {
      "cell_type": "markdown",
      "source": [
        "## 회귀트리\n",
        "  - 지금까지 학습한 회귀 방법은 선형회귀에 기반한 회귀 기법이었다.\n",
        "  일반적으로 선형회귀는 데이터셋에 결합하는 회귀 함수를 구해, 새로운 특성에 따른 결과 값을 예측하는 방법이다. 따라서 머신러닝의 회귀는 가중치를 기반으로 하는 최적의(오차가 가장작은) 회귀 함수를 도출하는 것이 목표이다.\n",
        "  "
      ],
      "metadata": {
        "id": "YSTJIza5TIwf"
      }
    },
    {
      "cell_type": "markdown",
      "source": [
        "## 트리 기반의 회귀 방식\n",
        "\n",
        "트리 기반의 회귀는 회귀 트리를 이용하는 것이다.\n",
        "회귀를 위한 트리를 생성하고 이를 기반으로 회귀 예측을 하는 것. 일반적으로 분류모델에서 학습한 분류 트리와 큰 차이는 없다.\n",
        "다만 리프노드에서 예측 결정 값을 만드는 과정에서 차이만 있다. 분류 트리에서 특정 클래스 레이블을 결정했다면, 회귀 트리는 리프노드에 있는 데이터 값의 평균 값을 구하여 회귀 예측값을 계산한다."
      ],
      "metadata": {
        "id": "eR-wsgd_TgrD"
      }
    },
    {
      "cell_type": "markdown",
      "source": [
        "### 사이킷런에서 제공하는 회귀 알고리즘\n",
        "- Decision Tree\n",
        "- Gredient Boositng\n",
        "- XGBoost\n",
        "- lightGBM\n"
      ],
      "metadata": {
        "id": "4s-QI4PHUSrd"
      }
    },
    {
      "cell_type": "code",
      "source": [
        "from sklearn.datasets import load_boston\n",
        "from sklearn.model_selection import cross_val_score\n",
        "from sklearn.ensemble import RandomForestRegressor\n",
        "import pandas as pd\n",
        "import numpy as np\n",
        "import time\n",
        "\n",
        "#보스턴 데이터 세트 로드\n",
        "boston = load_boston()\n",
        "bostonDF = pd.DataFrame(boston.data, columns = boston.feature_names)\n",
        "\n",
        "bostonDF['PRICE'] = boston.target\n",
        "y_target = bostonDF['PRICE']\n",
        "X_data = bostonDF.drop(['PRICE'], axis=1, inplace = False)\n",
        "\n",
        "start_time = time.time()\n",
        "rf = RandomForestRegressor(random_state=0, n_estimators = 1000)\n",
        "neg_mse_scores = cross_val_score(rf, X_data, y_target, \n",
        "                                 scoring = 'neg_mean_squared_error', cv=5)\n",
        "rmse_scores = np.sqrt(-1 * neg_mse_scores)\n",
        "avg_rmse = np.mean(rmse_scores)\n",
        "\n",
        "print('실행시간{0:.0f}초'.format(time.time() - start_time))\n",
        "\n",
        "print('5 교차 검증의 개별 Negative MSE scores : ', np.round(neg_mse_scores,2))\n",
        "print('5 교차 검증의 개별 RMSE scores : ', np.round(rmse_scores,2))\n",
        "print('5 교차 검증의 개별 RMSE : {0:.3f}'.format(avg_rmse))"
      ],
      "metadata": {
        "colab": {
          "base_uri": "https://localhost:8080/"
        },
        "id": "MKm4PtXfWERZ",
        "outputId": "1c812741-c4c4-4cae-f3b4-3a8889714a7e"
      },
      "execution_count": null,
      "outputs": [
        {
          "output_type": "stream",
          "name": "stderr",
          "text": [
            "/usr/local/lib/python3.7/dist-packages/sklearn/utils/deprecation.py:87: FutureWarning: Function load_boston is deprecated; `load_boston` is deprecated in 1.0 and will be removed in 1.2.\n",
            "\n",
            "    The Boston housing prices dataset has an ethical problem. You can refer to\n",
            "    the documentation of this function for further details.\n",
            "\n",
            "    The scikit-learn maintainers therefore strongly discourage the use of this\n",
            "    dataset unless the purpose of the code is to study and educate about\n",
            "    ethical issues in data science and machine learning.\n",
            "\n",
            "    In this special case, you can fetch the dataset from the original\n",
            "    source::\n",
            "\n",
            "        import pandas as pd\n",
            "        import numpy as np\n",
            "\n",
            "\n",
            "        data_url = \"http://lib.stat.cmu.edu/datasets/boston\"\n",
            "        raw_df = pd.read_csv(data_url, sep=\"\\s+\", skiprows=22, header=None)\n",
            "        data = np.hstack([raw_df.values[::2, :], raw_df.values[1::2, :2]])\n",
            "        target = raw_df.values[1::2, 2]\n",
            "\n",
            "    Alternative datasets include the California housing dataset (i.e.\n",
            "    :func:`~sklearn.datasets.fetch_california_housing`) and the Ames housing\n",
            "    dataset. You can load the datasets as follows::\n",
            "\n",
            "        from sklearn.datasets import fetch_california_housing\n",
            "        housing = fetch_california_housing()\n",
            "\n",
            "    for the California housing dataset and::\n",
            "\n",
            "        from sklearn.datasets import fetch_openml\n",
            "        housing = fetch_openml(name=\"house_prices\", as_frame=True)\n",
            "\n",
            "    for the Ames housing dataset.\n",
            "    \n",
            "  warnings.warn(msg, category=FutureWarning)\n"
          ]
        },
        {
          "output_type": "stream",
          "name": "stdout",
          "text": [
            "실행시간18초\n",
            "5 교차 검증의 개별 Negative MSe scores :  [ -7.88 -13.14 -20.57 -46.23 -18.88]\n",
            "5 교차 검증의 개별 RMSE scores :  [2.81 3.63 4.54 6.8  4.34]\n",
            "5 교차 검증의 개별 RMSE : 4.423\n"
          ]
        }
      ]
    },
    {
      "cell_type": "code",
      "source": [
        "def get_model_cv_prediction(model, X_data, y_target):\n",
        "  start_time = time.time()\n",
        "  neg_mse_scores = cross_val_score(model, X_data, y_target,\n",
        "                                   scoring = 'neg_mean_squared_error', cv=5)\n",
        "  rmse_scores = np.sqrt(-1 * neg_mse_scores)\n",
        "  avg_rmse = np.mean(rmse_scores)\n",
        "\n",
        "  print('#####', model.__class__.__name__, '#####')\n",
        "  print('실행시간{0:.0f}초'.format(time.time() - start_time))\n",
        "  print('5 교차 검증의 평균 RMSE : {0:.3f}'.format(avg_rmse))\n",
        "  print(\"\")"
      ],
      "metadata": {
        "id": "nBoscCcpYRDU"
      },
      "execution_count": null,
      "outputs": []
    },
    {
      "cell_type": "code",
      "source": [
        "from sklearn.tree import DecisionTreeRegressor\n",
        "from sklearn.ensemble import GradientBoostingRegressor\n",
        "from xgboost import XGBRegressor\n",
        "from lightgbm import LGBMRegressor\n",
        "import warnings\n",
        "warnings.filterwarnings(action='ignore')\n",
        "dt_reg = DecisionTreeRegressor(random_state=0, max_depth=4)\n",
        "rf_reg = RandomForestRegressor(random_state=0, n_estimators = 1000)\n",
        "gb_reg = GradientBoostingRegressor(random_state=0, n_estimators = 1000)\n",
        "xgb_reg = XGBRegressor(n_estimators = 1000)\n",
        "lgb_reg = LGBMRegressor(n_estimators = 1000)\n",
        "\n",
        "# 트리 기반의 회귀 모델을 반복하면서 평가 수행\n",
        "models = [dt_reg, rf_reg, gb_reg, xgb_reg, lgb_reg]\n",
        "for model in models:\n",
        "  get_model_cv_prediction(model, X_data, y_target)"
      ],
      "metadata": {
        "colab": {
          "base_uri": "https://localhost:8080/"
        },
        "id": "hbJ4BZ9eawMz",
        "outputId": "9badb556-f1b4-45c2-b9b5-91fa8370d784"
      },
      "execution_count": null,
      "outputs": [
        {
          "output_type": "stream",
          "name": "stdout",
          "text": [
            "##### DecisionTreeRegressor #####\n",
            "실행시간0초\n",
            "5 교차 검증의 평균 RMSE : 5.978\n",
            "\n",
            "##### RandomForestRegressor #####\n",
            "실행시간15초\n",
            "5 교차 검증의 평균 RMSE : 4.423\n",
            "\n",
            "##### GradientBoostingRegressor #####\n",
            "실행시간7초\n",
            "5 교차 검증의 평균 RMSE : 4.269\n",
            "\n",
            "[00:38:54] WARNING: /workspace/src/objective/regression_obj.cu:152: reg:linear is now deprecated in favor of reg:squarederror.\n",
            "[00:38:55] WARNING: /workspace/src/objective/regression_obj.cu:152: reg:linear is now deprecated in favor of reg:squarederror.\n",
            "[00:38:55] WARNING: /workspace/src/objective/regression_obj.cu:152: reg:linear is now deprecated in favor of reg:squarederror.\n",
            "[00:38:56] WARNING: /workspace/src/objective/regression_obj.cu:152: reg:linear is now deprecated in favor of reg:squarederror.\n",
            "[00:38:56] WARNING: /workspace/src/objective/regression_obj.cu:152: reg:linear is now deprecated in favor of reg:squarederror.\n",
            "##### XGBRegressor #####\n",
            "실행시간2초\n",
            "5 교차 검증의 평균 RMSE : 4.089\n",
            "\n",
            "##### LGBMRegressor #####\n",
            "실행시간3초\n",
            "5 교차 검증의 평균 RMSE : 4.646\n",
            "\n"
          ]
        }
      ]
    },
    {
      "cell_type": "code",
      "source": [
        "# 특성 중요도 평가 \n",
        "import seaborn as sns\n",
        "\n",
        "rf_reg = RandomForestRegressor(n_estimators=1000)\n",
        "\n",
        "# 앞 예제에서 만들어진 X_data, y_target 데이터 셋을 적용하여 학습합니다.   \n",
        "rf_reg.fit(X_data, y_target)\n",
        "\n",
        "feature_series = pd.Series(data=rf_reg.feature_importances_, index=X_data.columns )\n",
        "feature_series = feature_series.sort_values(ascending=False)\n",
        "sns.barplot(x= feature_series, y=feature_series.index)"
      ],
      "metadata": {
        "id": "Cvaou3xYbzJB"
      },
      "execution_count": null,
      "outputs": []
    },
    {
      "cell_type": "code",
      "source": [
        "# 데이터셋 나눠서 MSE MAE RMSE R2 스코어 출력"
      ],
      "metadata": {
        "id": "uuZeyBa6dzgy"
      },
      "execution_count": null,
      "outputs": []
    }
  ]
}