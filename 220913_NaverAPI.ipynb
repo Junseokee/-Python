{
  "nbformat": 4,
  "nbformat_minor": 0,
  "metadata": {
    "colab": {
      "provenance": [],
      "collapsed_sections": [],
      "authorship_tag": "ABX9TyNKEU7I7AHcjCxMDdpUPVoJ",
      "include_colab_link": true
    },
    "kernelspec": {
      "name": "python3",
      "display_name": "Python 3"
    },
    "language_info": {
      "name": "python"
    },
    "widgets": {
      "application/vnd.jupyter.widget-state+json": {
        "40c8a5631e8a490296df4eccb0b2b237": {
          "model_module": "@jupyter-widgets/controls",
          "model_name": "HBoxModel",
          "model_module_version": "1.5.0",
          "state": {
            "_dom_classes": [],
            "_model_module": "@jupyter-widgets/controls",
            "_model_module_version": "1.5.0",
            "_model_name": "HBoxModel",
            "_view_count": null,
            "_view_module": "@jupyter-widgets/controls",
            "_view_module_version": "1.5.0",
            "_view_name": "HBoxView",
            "box_style": "",
            "children": [
              "IPY_MODEL_c3a35cee50e542eb8d4f3caee78b7c87",
              "IPY_MODEL_14f9b51452894ad38c3bcdc66ae7c848",
              "IPY_MODEL_e615c972b80c4fb69b1d6f23173c3c72"
            ],
            "layout": "IPY_MODEL_8254425beb7b43f29c17ce56e6b6ca83"
          }
        },
        "c3a35cee50e542eb8d4f3caee78b7c87": {
          "model_module": "@jupyter-widgets/controls",
          "model_name": "HTMLModel",
          "model_module_version": "1.5.0",
          "state": {
            "_dom_classes": [],
            "_model_module": "@jupyter-widgets/controls",
            "_model_module_version": "1.5.0",
            "_model_name": "HTMLModel",
            "_view_count": null,
            "_view_module": "@jupyter-widgets/controls",
            "_view_module_version": "1.5.0",
            "_view_name": "HTMLView",
            "description": "",
            "description_tooltip": null,
            "layout": "IPY_MODEL_6339738a8b56489eb305b368f7c46049",
            "placeholder": "​",
            "style": "IPY_MODEL_20f8c5011e7140f3aef546d3c77b611f",
            "value": "100%"
          }
        },
        "14f9b51452894ad38c3bcdc66ae7c848": {
          "model_module": "@jupyter-widgets/controls",
          "model_name": "FloatProgressModel",
          "model_module_version": "1.5.0",
          "state": {
            "_dom_classes": [],
            "_model_module": "@jupyter-widgets/controls",
            "_model_module_version": "1.5.0",
            "_model_name": "FloatProgressModel",
            "_view_count": null,
            "_view_module": "@jupyter-widgets/controls",
            "_view_module_version": "1.5.0",
            "_view_name": "ProgressView",
            "bar_style": "success",
            "description": "",
            "description_tooltip": null,
            "layout": "IPY_MODEL_c38a72a14f314c18ae9f8e0c9e3aa3ef",
            "max": 9,
            "min": 0,
            "orientation": "horizontal",
            "style": "IPY_MODEL_4669898d1081477e93a73dc54b6c7d54",
            "value": 9
          }
        },
        "e615c972b80c4fb69b1d6f23173c3c72": {
          "model_module": "@jupyter-widgets/controls",
          "model_name": "HTMLModel",
          "model_module_version": "1.5.0",
          "state": {
            "_dom_classes": [],
            "_model_module": "@jupyter-widgets/controls",
            "_model_module_version": "1.5.0",
            "_model_name": "HTMLModel",
            "_view_count": null,
            "_view_module": "@jupyter-widgets/controls",
            "_view_module_version": "1.5.0",
            "_view_name": "HTMLView",
            "description": "",
            "description_tooltip": null,
            "layout": "IPY_MODEL_05d3cbf67510426aa753fd317f121d97",
            "placeholder": "​",
            "style": "IPY_MODEL_669093917d7e4293b3858e11f724513d",
            "value": " 9/9 [00:17&lt;00:00,  1.91s/it]"
          }
        },
        "8254425beb7b43f29c17ce56e6b6ca83": {
          "model_module": "@jupyter-widgets/base",
          "model_name": "LayoutModel",
          "model_module_version": "1.2.0",
          "state": {
            "_model_module": "@jupyter-widgets/base",
            "_model_module_version": "1.2.0",
            "_model_name": "LayoutModel",
            "_view_count": null,
            "_view_module": "@jupyter-widgets/base",
            "_view_module_version": "1.2.0",
            "_view_name": "LayoutView",
            "align_content": null,
            "align_items": null,
            "align_self": null,
            "border": null,
            "bottom": null,
            "display": null,
            "flex": null,
            "flex_flow": null,
            "grid_area": null,
            "grid_auto_columns": null,
            "grid_auto_flow": null,
            "grid_auto_rows": null,
            "grid_column": null,
            "grid_gap": null,
            "grid_row": null,
            "grid_template_areas": null,
            "grid_template_columns": null,
            "grid_template_rows": null,
            "height": null,
            "justify_content": null,
            "justify_items": null,
            "left": null,
            "margin": null,
            "max_height": null,
            "max_width": null,
            "min_height": null,
            "min_width": null,
            "object_fit": null,
            "object_position": null,
            "order": null,
            "overflow": null,
            "overflow_x": null,
            "overflow_y": null,
            "padding": null,
            "right": null,
            "top": null,
            "visibility": null,
            "width": null
          }
        },
        "6339738a8b56489eb305b368f7c46049": {
          "model_module": "@jupyter-widgets/base",
          "model_name": "LayoutModel",
          "model_module_version": "1.2.0",
          "state": {
            "_model_module": "@jupyter-widgets/base",
            "_model_module_version": "1.2.0",
            "_model_name": "LayoutModel",
            "_view_count": null,
            "_view_module": "@jupyter-widgets/base",
            "_view_module_version": "1.2.0",
            "_view_name": "LayoutView",
            "align_content": null,
            "align_items": null,
            "align_self": null,
            "border": null,
            "bottom": null,
            "display": null,
            "flex": null,
            "flex_flow": null,
            "grid_area": null,
            "grid_auto_columns": null,
            "grid_auto_flow": null,
            "grid_auto_rows": null,
            "grid_column": null,
            "grid_gap": null,
            "grid_row": null,
            "grid_template_areas": null,
            "grid_template_columns": null,
            "grid_template_rows": null,
            "height": null,
            "justify_content": null,
            "justify_items": null,
            "left": null,
            "margin": null,
            "max_height": null,
            "max_width": null,
            "min_height": null,
            "min_width": null,
            "object_fit": null,
            "object_position": null,
            "order": null,
            "overflow": null,
            "overflow_x": null,
            "overflow_y": null,
            "padding": null,
            "right": null,
            "top": null,
            "visibility": null,
            "width": null
          }
        },
        "20f8c5011e7140f3aef546d3c77b611f": {
          "model_module": "@jupyter-widgets/controls",
          "model_name": "DescriptionStyleModel",
          "model_module_version": "1.5.0",
          "state": {
            "_model_module": "@jupyter-widgets/controls",
            "_model_module_version": "1.5.0",
            "_model_name": "DescriptionStyleModel",
            "_view_count": null,
            "_view_module": "@jupyter-widgets/base",
            "_view_module_version": "1.2.0",
            "_view_name": "StyleView",
            "description_width": ""
          }
        },
        "c38a72a14f314c18ae9f8e0c9e3aa3ef": {
          "model_module": "@jupyter-widgets/base",
          "model_name": "LayoutModel",
          "model_module_version": "1.2.0",
          "state": {
            "_model_module": "@jupyter-widgets/base",
            "_model_module_version": "1.2.0",
            "_model_name": "LayoutModel",
            "_view_count": null,
            "_view_module": "@jupyter-widgets/base",
            "_view_module_version": "1.2.0",
            "_view_name": "LayoutView",
            "align_content": null,
            "align_items": null,
            "align_self": null,
            "border": null,
            "bottom": null,
            "display": null,
            "flex": null,
            "flex_flow": null,
            "grid_area": null,
            "grid_auto_columns": null,
            "grid_auto_flow": null,
            "grid_auto_rows": null,
            "grid_column": null,
            "grid_gap": null,
            "grid_row": null,
            "grid_template_areas": null,
            "grid_template_columns": null,
            "grid_template_rows": null,
            "height": null,
            "justify_content": null,
            "justify_items": null,
            "left": null,
            "margin": null,
            "max_height": null,
            "max_width": null,
            "min_height": null,
            "min_width": null,
            "object_fit": null,
            "object_position": null,
            "order": null,
            "overflow": null,
            "overflow_x": null,
            "overflow_y": null,
            "padding": null,
            "right": null,
            "top": null,
            "visibility": null,
            "width": null
          }
        },
        "4669898d1081477e93a73dc54b6c7d54": {
          "model_module": "@jupyter-widgets/controls",
          "model_name": "ProgressStyleModel",
          "model_module_version": "1.5.0",
          "state": {
            "_model_module": "@jupyter-widgets/controls",
            "_model_module_version": "1.5.0",
            "_model_name": "ProgressStyleModel",
            "_view_count": null,
            "_view_module": "@jupyter-widgets/base",
            "_view_module_version": "1.2.0",
            "_view_name": "StyleView",
            "bar_color": null,
            "description_width": ""
          }
        },
        "05d3cbf67510426aa753fd317f121d97": {
          "model_module": "@jupyter-widgets/base",
          "model_name": "LayoutModel",
          "model_module_version": "1.2.0",
          "state": {
            "_model_module": "@jupyter-widgets/base",
            "_model_module_version": "1.2.0",
            "_model_name": "LayoutModel",
            "_view_count": null,
            "_view_module": "@jupyter-widgets/base",
            "_view_module_version": "1.2.0",
            "_view_name": "LayoutView",
            "align_content": null,
            "align_items": null,
            "align_self": null,
            "border": null,
            "bottom": null,
            "display": null,
            "flex": null,
            "flex_flow": null,
            "grid_area": null,
            "grid_auto_columns": null,
            "grid_auto_flow": null,
            "grid_auto_rows": null,
            "grid_column": null,
            "grid_gap": null,
            "grid_row": null,
            "grid_template_areas": null,
            "grid_template_columns": null,
            "grid_template_rows": null,
            "height": null,
            "justify_content": null,
            "justify_items": null,
            "left": null,
            "margin": null,
            "max_height": null,
            "max_width": null,
            "min_height": null,
            "min_width": null,
            "object_fit": null,
            "object_position": null,
            "order": null,
            "overflow": null,
            "overflow_x": null,
            "overflow_y": null,
            "padding": null,
            "right": null,
            "top": null,
            "visibility": null,
            "width": null
          }
        },
        "669093917d7e4293b3858e11f724513d": {
          "model_module": "@jupyter-widgets/controls",
          "model_name": "DescriptionStyleModel",
          "model_module_version": "1.5.0",
          "state": {
            "_model_module": "@jupyter-widgets/controls",
            "_model_module_version": "1.5.0",
            "_model_name": "DescriptionStyleModel",
            "_view_count": null,
            "_view_module": "@jupyter-widgets/base",
            "_view_module_version": "1.2.0",
            "_view_name": "StyleView",
            "description_width": ""
          }
        }
      }
    }
  },
  "cells": [
    {
      "cell_type": "markdown",
      "metadata": {
        "id": "view-in-github",
        "colab_type": "text"
      },
      "source": [
        "<a href=\"https://colab.research.google.com/github/Junseokee/-Python/blob/main/220913_NaverAPI.ipynb\" target=\"_parent\"><img src=\"https://colab.research.google.com/assets/colab-badge.svg\" alt=\"Open In Colab\"/></a>"
      ]
    },
    {
      "cell_type": "code",
      "source": [
        "# 네이버 검색 API예제는 블로그를 비롯 전문자료까지 호출방법이 동일하므로 blog검색만 대표로 예제를 올렸습니다.\n",
        "# 네이버 검색 Open API 예제 - 블로그 검색\n",
        "import os\n",
        "import sys\n",
        "import urllib.request\n",
        "client_id = \"GmpYIKB3N61qPAlf14eu\"\n",
        "client_secret = \"qMhaxo4pbj\"\n",
        "encText = urllib.parse.quote(\"영국\")\n",
        "url = \"https://openapi.naver.com/v1/search/blog?query=\" + encText # json 결과\n",
        "# url = \"https://openapi.naver.com/v1/search/blog.xml?query=\" + encText # xml 결과\n",
        "request = urllib.request.Request(url)\n",
        "request.add_header(\"X-Naver-Client-Id\",client_id)\n",
        "request.add_header(\"X-Naver-Client-Secret\",client_secret)\n",
        "response = urllib.request.urlopen(request)\n",
        "rescode = response.getcode()\n",
        "if(rescode==200):\n",
        "    response_body = response.read()\n",
        "    print(response_body.decode('utf-8'))\n",
        "else:\n",
        "    print(\"Error Code:\" + rescode)"
      ],
      "metadata": {
        "colab": {
          "base_uri": "https://localhost:8080/"
        },
        "id": "EZjRsfRZt8bf",
        "outputId": "68ee4313-dc2c-4dcc-a890-b0646e77bd9a"
      },
      "execution_count": 1,
      "outputs": [
        {
          "output_type": "stream",
          "name": "stdout",
          "text": [
            "{\n",
            "\t\"lastBuildDate\":\"Tue, 13 Sep 2022 16:23:24 +0900\",\n",
            "\t\"total\":8486764,\n",
            "\t\"start\":1,\n",
            "\t\"display\":10,\n",
            "\t\"items\":[\n",
            "\t\t{\n",
            "\t\t\t\"title\":\"<b>영국<\\/b>여행 인천공항에서 경유지 파리 샤를 드 골 공항\",\n",
            "\t\t\t\"link\":\"https:\\/\\/blog.naver.com\\/eterna01?Redirect=Log&logNo=222864556483\",\n",
            "\t\t\t\"description\":\"2022년 9월 1일 부터 (아직까지는) 10월 5일까지의 <b>영국<\\/b>여행 일정의 기록 DAY 1 3년만의 인천공항 진상이네 - 인천공항 - 파리 샤를 드 골 공항 01 짐을 싸긴 싸야 하는 데. 지난 4월에 <b>영국<\\/b> 스코틀랜드에 가기로... \",\n",
            "\t\t\t\"bloggername\":\"Jer 29:11\",\n",
            "\t\t\t\"bloggerlink\":\"https:\\/\\/blog.naver.com\\/eterna01\",\n",
            "\t\t\t\"postdate\":\"20220902\"\n",
            "\t\t},\n",
            "\t\t{\n",
            "\t\t\t\"title\":\"<b>영국<\\/b>남자 제주도편에 등장한 갈치조림 맛집 제주광해\",\n",
            "\t\t\t\"link\":\"https:\\/\\/blog.naver.com\\/cpuhoya?Redirect=Log&logNo=222864881792\",\n",
            "\t\t\t\"description\":\"얼마 전 <b>영국<\\/b>남자 제주도편 영상에서 야무지게 식사를 하고 있는 모습에 반해버려 식당을 방문하게... <b>영국<\\/b>남자 제주도 영상을 보고 오긴 했지만 이미 많은 사람들에게 소문이 나있어서 많은 연예인들의... \",\n",
            "\t\t\t\"bloggername\":\"심리학스토리 공식블로그\",\n",
            "\t\t\t\"bloggerlink\":\"https:\\/\\/blog.naver.com\\/cpuhoya\",\n",
            "\t\t\t\"postdate\":\"20220902\"\n",
            "\t\t},\n",
            "\t\t{\n",
            "\t\t\t\"title\":\"<b>영국<\\/b> 여행 런던 한식당: 뉴몰든 트리스톤 정육식당에서... \",\n",
            "\t\t\t\"link\":\"https:\\/\\/blog.naver.com\\/suksuk444?Redirect=Log&logNo=222871688161\",\n",
            "\t\t\t\"description\":\"<b>영국<\\/b> 여행 런던 한식당: 뉴몰든 트리스톤 정육식당에서 소고기 플렉스하기 (The Tree Stone) <b>영국<\\/b> 런던의 한인타운이라고 불리우는 뉴몰든. 코시국 직전에 처음이자 마지막으로 갔었을때의 뉴몰든은 서울플라자에... \",\n",
            "\t\t\t\"bloggername\":\"영국 일상과 여행, 그 한끝 차이\",\n",
            "\t\t\t\"bloggerlink\":\"https:\\/\\/blog.naver.com\\/suksuk444\",\n",
            "\t\t\t\"postdate\":\"20220911\"\n",
            "\t\t},\n",
            "\t\t{\n",
            "\t\t\t\"title\":\"<b>영국<\\/b>유학 시작합니다.;;\",\n",
            "\t\t\t\"link\":\"https:\\/\\/blog.naver.com\\/g2s_academy?Redirect=Log&logNo=222790813793\",\n",
            "\t\t\t\"description\":\"<b>영국<\\/b>유학 그 미지의 세계로. ㅎㅎ 생각지도 못했는데 깜놀했어요 ___씨 ㅎㅎ 암튼 도깨비 ㅋㅋ 고마와요... 아까 급작 보는 바람에 내일 출국으로 잘못들었네요 ㅜ ㅋㅋ 대학은 <b>영국<\\/b> 그 대학 그대로 가는거죠?... \",\n",
            "\t\t\t\"bloggername\":\"지투에스님의블로그\",\n",
            "\t\t\t\"bloggerlink\":\"https:\\/\\/blog.naver.com\\/g2s_academy\",\n",
            "\t\t\t\"postdate\":\"20220627\"\n",
            "\t\t},\n",
            "\t\t{\n",
            "\t\t\t\"title\":\"【엘리자베스 여왕 추모】 <b>영국<\\/b>왕실과 프리메이슨\",\n",
            "\t\t\t\"link\":\"https:\\/\\/blog.naver.com\\/kenpa44?Redirect=Log&logNo=222870694047\",\n",
            "\t\t\t\"description\":\"<b>영국<\\/b>의 엘리자베스 여왕이 96세 나이로 세상을 떠났습니다. 고인의 명복을 빕니다. 엘리자베스... 1952년 2월, 아버지 조지6세의 뒤를 이어 왕위에 올라 딱 70년 간 <b>영국<\\/b>을 다스렸습니다. 올해 재위... \",\n",
            "\t\t\t\"bloggername\":\"부기부집\",\n",
            "\t\t\t\"bloggerlink\":\"https:\\/\\/blog.naver.com\\/kenpa44\",\n",
            "\t\t\t\"postdate\":\"20220909\"\n",
            "\t\t},\n",
            "\t\t{\n",
            "\t\t\t\"title\":\"<b>영국<\\/b> 왕실도 인정한 <b>영국<\\/b>의 슈퍼카 브랜드 애스턴마틴 DBX 707\",\n",
            "\t\t\t\"link\":\"https:\\/\\/blog.naver.com\\/ysh2119?Redirect=Log&logNo=222873045134\",\n",
            "\t\t\t\"description\":\"<b>영국<\\/b>왕실 펜할리곤스 방향제보다 더 최고급 방향제 ! 안녕하세요!굳맨 양승호 입니다. 오늘 보여드릴차량은 <b>영국<\\/b>의 슈퍼카 제조사 애스턴마틴 의 슈퍼 SUV DBX 에 대한 내용 입니다. 애스턴마틴 dbx 기본형... \",\n",
            "\t\t\t\"bloggername\":\"굳맨\",\n",
            "\t\t\t\"bloggerlink\":\"https:\\/\\/blog.naver.com\\/ysh2119\",\n",
            "\t\t\t\"postdate\":\"20220913\"\n",
            "\t\t},\n",
            "\t\t{\n",
            "\t\t\t\"title\":\"<b>영국<\\/b> 초등학생 생일파티 주최하기 2\",\n",
            "\t\t\t\"link\":\"https:\\/\\/blog.naver.com\\/heun817?Redirect=Log&logNo=222867992971\",\n",
            "\t\t\t\"description\":\"<b>영국<\\/b>아이들은 정말 축구에 진심이구나... 하는 생각을 했다. 너무 거칠게 공을 빼앗고 뛰어다녀서... 미국에서는 아이들 뿐 아니라 부모들도 파티 음식을 적극적으로 다 잘 먹는 분위기였는데, <b>영국<\\/b>의... \",\n",
            "\t\t\t\"bloggername\":\"Simple, slow, and healthy\",\n",
            "\t\t\t\"bloggerlink\":\"https:\\/\\/blog.naver.com\\/heun817\",\n",
            "\t\t\t\"postdate\":\"20220906\"\n",
            "\t\t},\n",
            "\t\t{\n",
            "\t\t\t\"title\":\"뒷 이야기들 (68) 1934년, 나치 경례를 거부한 <b>영국<\\/b> 골키퍼\",\n",
            "\t\t\t\"link\":\"https:\\/\\/bestan.tistory.com\\/1520\",\n",
            "\t\t\t\"description\":\"이에 조비 감독은 구단 고위층에게 선수들의 의사를 전달했지만 <b>영국<\\/b> 대사가 '갈등을 일으키지... 심지어 '아마도 그를 노려보고 있었을' <b>영국<\\/b>과 독일 측 고위인사들로부터 등까지 돌려버렸다. 당시의... \",\n",
            "\t\t\t\"bloggername\":\"BesTan Time ReSearch\",\n",
            "\t\t\t\"bloggerlink\":\"https:\\/\\/bestan.tistory.com\\/\",\n",
            "\t\t\t\"postdate\":\"20220902\"\n",
            "\t\t},\n",
            "\t\t{\n",
            "\t\t\t\"title\":\"<b>영국<\\/b> 레고랜드 윈저 리조트 방문기 :: 아이와 <b>영국<\\/b> 여행\",\n",
            "\t\t\t\"link\":\"https:\\/\\/blog.naver.com\\/ribboncake?Redirect=Log&logNo=222871048583\",\n",
            "\t\t\t\"description\":\"아이와 유럽여행 :: <b>영국<\\/b> 편 윈저 레고랜드 LEGOLAND® Windsor Resort @ribboncake [ 목차 ] 유로스타 탑승기(파리디즈니랜드-<b>영국<\\/b>) 런던 가볼 만한 곳 엠엔엠즈 월드 런던 아이와 가볼 만한 곳 레고 스토어 레고랜드 윈저... \",\n",
            "\t\t\t\"bloggername\":\"R I B B O N C A K E B L O G\",\n",
            "\t\t\t\"bloggerlink\":\"https:\\/\\/blog.naver.com\\/ribboncake\",\n",
            "\t\t\t\"postdate\":\"20220909\"\n",
            "\t\t},\n",
            "\t\t{\n",
            "\t\t\t\"title\":\"[<b>영국<\\/b>워홀] <b>영국<\\/b> 워홀 짐싸기\\/준비물\",\n",
            "\t\t\t\"link\":\"https:\\/\\/blog.naver.com\\/glvlepdl?Redirect=Log&logNo=222834060682\",\n",
            "\t\t\t\"description\":\"드디어 <b>영국<\\/b> 워홀에 있어 중요한 짐싸기 포스팅을 들고왔다. 사실 <b>영국<\\/b>와서 매일 포스팅하기로 했지만,, 매일 술먹고 뻗어서 자고 있다ㅎㅎ 아직도 일자리는 소식이 없고 매일 어쩌지.. 하면서 지내고... \",\n",
            "\t\t\t\"bloggername\":\"보짱의 소소한 이야기\",\n",
            "\t\t\t\"bloggerlink\":\"https:\\/\\/blog.naver.com\\/glvlepdl\",\n",
            "\t\t\t\"postdate\":\"20220729\"\n",
            "\t\t}\n",
            "\t]\n",
            "}\n"
          ]
        }
      ]
    },
    {
      "cell_type": "code",
      "source": [
        "import time\n",
        "from tqdm.notebook import tqdm\n",
        "import requests\n",
        "import pandas as pd"
      ],
      "metadata": {
        "id": "XnN293AOuvT-"
      },
      "execution_count": 2,
      "outputs": []
    },
    {
      "cell_type": "code",
      "source": [
        "client_id = \"GmpYIKB3N61qPAlf14eu\"\n",
        "client_secret = \"qMhaxo4pbj\"\n",
        "keyword = input(\"네이버 검색어 입력 : \")"
      ],
      "metadata": {
        "colab": {
          "base_uri": "https://localhost:8080/"
        },
        "id": "Kle5IS2vvQb-",
        "outputId": "4e0f8c02-d95e-4807-9f76-774ae4f570a2"
      },
      "execution_count": 3,
      "outputs": [
        {
          "name": "stdout",
          "output_type": "stream",
          "text": [
            "네이버 검색어 입력 : 영국\n"
          ]
        }
      ]
    },
    {
      "cell_type": "code",
      "source": [],
      "metadata": {
        "id": "wuQySztO3Yvn"
      },
      "execution_count": null,
      "outputs": []
    },
    {
      "cell_type": "code",
      "source": [
        "base_url = 'https://openapi.naver.com/v1/search/news?query='\n",
        "start_url = '&start='\n",
        "dis_url = '&display='"
      ],
      "metadata": {
        "id": "3tz1pFj9vpLc"
      },
      "execution_count": 4,
      "outputs": []
    },
    {
      "cell_type": "code",
      "source": [
        "# clientID, client Scrit Header로 전송\n",
        "headers = {\"X-Naver-Client-Id\" : client_id,\n",
        "           \"X-Naver-Client-Secret\" : client_secret}"
      ],
      "metadata": {
        "id": "kcduP7f7wCAI"
      },
      "execution_count": 19,
      "outputs": []
    },
    {
      "cell_type": "code",
      "source": [
        "df = pd.DataFrame()\n",
        "df"
      ],
      "metadata": {
        "colab": {
          "base_uri": "https://localhost:8080/",
          "height": 49
        },
        "id": "EsxbB2Rrwlc4",
        "outputId": "47494145-3782-448d-b867-aa754b4f6c1d"
      },
      "execution_count": 6,
      "outputs": [
        {
          "output_type": "execute_result",
          "data": {
            "text/plain": [
              "Empty DataFrame\n",
              "Columns: []\n",
              "Index: []"
            ],
            "text/html": [
              "\n",
              "  <div id=\"df-e27087cd-a36c-40fb-85a2-b19f2e273c1f\">\n",
              "    <div class=\"colab-df-container\">\n",
              "      <div>\n",
              "<style scoped>\n",
              "    .dataframe tbody tr th:only-of-type {\n",
              "        vertical-align: middle;\n",
              "    }\n",
              "\n",
              "    .dataframe tbody tr th {\n",
              "        vertical-align: top;\n",
              "    }\n",
              "\n",
              "    .dataframe thead th {\n",
              "        text-align: right;\n",
              "    }\n",
              "</style>\n",
              "<table border=\"1\" class=\"dataframe\">\n",
              "  <thead>\n",
              "    <tr style=\"text-align: right;\">\n",
              "      <th></th>\n",
              "    </tr>\n",
              "  </thead>\n",
              "  <tbody>\n",
              "  </tbody>\n",
              "</table>\n",
              "</div>\n",
              "      <button class=\"colab-df-convert\" onclick=\"convertToInteractive('df-e27087cd-a36c-40fb-85a2-b19f2e273c1f')\"\n",
              "              title=\"Convert this dataframe to an interactive table.\"\n",
              "              style=\"display:none;\">\n",
              "        \n",
              "  <svg xmlns=\"http://www.w3.org/2000/svg\" height=\"24px\"viewBox=\"0 0 24 24\"\n",
              "       width=\"24px\">\n",
              "    <path d=\"M0 0h24v24H0V0z\" fill=\"none\"/>\n",
              "    <path d=\"M18.56 5.44l.94 2.06.94-2.06 2.06-.94-2.06-.94-.94-2.06-.94 2.06-2.06.94zm-11 1L8.5 8.5l.94-2.06 2.06-.94-2.06-.94L8.5 2.5l-.94 2.06-2.06.94zm10 10l.94 2.06.94-2.06 2.06-.94-2.06-.94-.94-2.06-.94 2.06-2.06.94z\"/><path d=\"M17.41 7.96l-1.37-1.37c-.4-.4-.92-.59-1.43-.59-.52 0-1.04.2-1.43.59L10.3 9.45l-7.72 7.72c-.78.78-.78 2.05 0 2.83L4 21.41c.39.39.9.59 1.41.59.51 0 1.02-.2 1.41-.59l7.78-7.78 2.81-2.81c.8-.78.8-2.07 0-2.86zM5.41 20L4 18.59l7.72-7.72 1.47 1.35L5.41 20z\"/>\n",
              "  </svg>\n",
              "      </button>\n",
              "      \n",
              "  <style>\n",
              "    .colab-df-container {\n",
              "      display:flex;\n",
              "      flex-wrap:wrap;\n",
              "      gap: 12px;\n",
              "    }\n",
              "\n",
              "    .colab-df-convert {\n",
              "      background-color: #E8F0FE;\n",
              "      border: none;\n",
              "      border-radius: 50%;\n",
              "      cursor: pointer;\n",
              "      display: none;\n",
              "      fill: #1967D2;\n",
              "      height: 32px;\n",
              "      padding: 0 0 0 0;\n",
              "      width: 32px;\n",
              "    }\n",
              "\n",
              "    .colab-df-convert:hover {\n",
              "      background-color: #E2EBFA;\n",
              "      box-shadow: 0px 1px 2px rgba(60, 64, 67, 0.3), 0px 1px 3px 1px rgba(60, 64, 67, 0.15);\n",
              "      fill: #174EA6;\n",
              "    }\n",
              "\n",
              "    [theme=dark] .colab-df-convert {\n",
              "      background-color: #3B4455;\n",
              "      fill: #D2E3FC;\n",
              "    }\n",
              "\n",
              "    [theme=dark] .colab-df-convert:hover {\n",
              "      background-color: #434B5C;\n",
              "      box-shadow: 0px 1px 3px 1px rgba(0, 0, 0, 0.15);\n",
              "      filter: drop-shadow(0px 1px 2px rgba(0, 0, 0, 0.3));\n",
              "      fill: #FFFFFF;\n",
              "    }\n",
              "  </style>\n",
              "\n",
              "      <script>\n",
              "        const buttonEl =\n",
              "          document.querySelector('#df-e27087cd-a36c-40fb-85a2-b19f2e273c1f button.colab-df-convert');\n",
              "        buttonEl.style.display =\n",
              "          google.colab.kernel.accessAllowed ? 'block' : 'none';\n",
              "\n",
              "        async function convertToInteractive(key) {\n",
              "          const element = document.querySelector('#df-e27087cd-a36c-40fb-85a2-b19f2e273c1f');\n",
              "          const dataTable =\n",
              "            await google.colab.kernel.invokeFunction('convertToInteractive',\n",
              "                                                     [key], {});\n",
              "          if (!dataTable) return;\n",
              "\n",
              "          const docLinkHtml = 'Like what you see? Visit the ' +\n",
              "            '<a target=\"_blank\" href=https://colab.research.google.com/notebooks/data_table.ipynb>data table notebook</a>'\n",
              "            + ' to learn more about interactive tables.';\n",
              "          element.innerHTML = '';\n",
              "          dataTable['output_type'] = 'display_data';\n",
              "          await google.colab.output.renderOutput(dataTable, element);\n",
              "          const docLink = document.createElement('div');\n",
              "          docLink.innerHTML = docLinkHtml;\n",
              "          element.appendChild(docLink);\n",
              "        }\n",
              "      </script>\n",
              "    </div>\n",
              "  </div>\n",
              "  "
            ]
          },
          "metadata": {},
          "execution_count": 6
        }
      ]
    },
    {
      "cell_type": "code",
      "source": [
        "test_url = base_url + keyword + start_url + '1' + dis_url + '10'\n",
        "print(test_url)"
      ],
      "metadata": {
        "colab": {
          "base_uri": "https://localhost:8080/"
        },
        "id": "oFERJW00wn0B",
        "outputId": "ff5498a1-0996-4511-97bf-f423a93a3003"
      },
      "execution_count": 13,
      "outputs": [
        {
          "output_type": "stream",
          "name": "stdout",
          "text": [
            "https://openapi.naver.com/v1/search/news?query=영국&start=1&display=10\n"
          ]
        }
      ]
    },
    {
      "cell_type": "code",
      "source": [
        "response_data = requests.get(test_url, headers=headers)\n",
        "response_data"
      ],
      "metadata": {
        "colab": {
          "base_uri": "https://localhost:8080/"
        },
        "id": "sG3byJAhxGRZ",
        "outputId": "4be56401-30e1-4627-f7ac-441559f3767e"
      },
      "execution_count": 20,
      "outputs": [
        {
          "output_type": "execute_result",
          "data": {
            "text/plain": [
              "<Response [200]>"
            ]
          },
          "metadata": {},
          "execution_count": 20
        }
      ]
    },
    {
      "cell_type": "code",
      "source": [
        "response_data.json()"
      ],
      "metadata": {
        "id": "qU4go-7KxYEw"
      },
      "execution_count": null,
      "outputs": []
    },
    {
      "cell_type": "code",
      "source": [
        "test_url = base_url + keyword + start_url + '2' + dis_url + '10'\n",
        "response_data = requests.get(test_url, headers=headers)\n",
        "response_data.json()"
      ],
      "metadata": {
        "id": "eBizfJuHyD_N"
      },
      "execution_count": null,
      "outputs": []
    },
    {
      "cell_type": "code",
      "source": [
        "response_data.json()['items']"
      ],
      "metadata": {
        "id": "IqFQaWiwy5VQ"
      },
      "execution_count": null,
      "outputs": []
    },
    {
      "cell_type": "code",
      "source": [
        "pd.DataFrame(response_data.json()['items'])"
      ],
      "metadata": {
        "id": "W0-X7F6xzpAg"
      },
      "execution_count": null,
      "outputs": []
    },
    {
      "cell_type": "code",
      "source": [
        "df = pd.concat([df,pd.DataFrame(response_data.json()['items'])])\n",
        "df"
      ],
      "metadata": {
        "id": "8u5TiI6pz8Gh"
      },
      "execution_count": null,
      "outputs": []
    },
    {
      "cell_type": "code",
      "source": [
        "import time\n",
        "from tqdm.notebook import tqdm\n",
        "import requests\n",
        "import pandas as pd\n",
        "\n",
        "client_id = \"GmpYIKB3N61qPAlf14eu\"\n",
        "client_secret = \"qMhaxo4pbj\"\n",
        "keyword = input(\"네이버 검색어 입력 : \")\n",
        "\n",
        "# clientID, client Scrit Header로 전송\n",
        "headers = {\"X-Naver-Client-Id\" : client_id,\n",
        "           \"X-Naver-Client-Secret\" : client_secret}\n",
        "\n",
        "base_url = 'https://openapi.naver.com/v1/search/news?query='\n",
        "start_url = '&start='\n",
        "dis_url = '&display='\n",
        "\n",
        "df = pd.DataFrame()\n",
        "for page_num in tqdm(range(1,10)):\n",
        "  url = base_url + keyword + start_url + str(page_num) + dis_url + '10' \n",
        "  response_data = requests.get(url, headers=headers)\n",
        "  df = pd.concat([df,pd.DataFrame(response_data.json()['items'])])\n",
        "  time.sleep(1)\n",
        "  if(rescode==200):\n",
        "      response_body = response.read()\n",
        "      print(response_body.decode('utf-8'))\n",
        "      \n",
        "  else:\n",
        "      print(\"Error Code:\")\n",
        "  \n",
        "# df.to_csv('../content/')"
      ],
      "metadata": {
        "colab": {
          "base_uri": "https://localhost:8080/",
          "height": 232,
          "referenced_widgets": [
            "40c8a5631e8a490296df4eccb0b2b237",
            "c3a35cee50e542eb8d4f3caee78b7c87",
            "14f9b51452894ad38c3bcdc66ae7c848",
            "e615c972b80c4fb69b1d6f23173c3c72",
            "8254425beb7b43f29c17ce56e6b6ca83",
            "6339738a8b56489eb305b368f7c46049",
            "20f8c5011e7140f3aef546d3c77b611f",
            "c38a72a14f314c18ae9f8e0c9e3aa3ef",
            "4669898d1081477e93a73dc54b6c7d54",
            "05d3cbf67510426aa753fd317f121d97",
            "669093917d7e4293b3858e11f724513d"
          ]
        },
        "id": "GLrVEPU90Wu_",
        "outputId": "a0483036-9f5f-4d5e-8b53-e52d579825ad"
      },
      "execution_count": 37,
      "outputs": [
        {
          "name": "stdout",
          "output_type": "stream",
          "text": [
            "네이버 검색어 입력 : 한식\n"
          ]
        },
        {
          "output_type": "display_data",
          "data": {
            "text/plain": [
              "  0%|          | 0/9 [00:00<?, ?it/s]"
            ],
            "application/vnd.jupyter.widget-view+json": {
              "version_major": 2,
              "version_minor": 0,
              "model_id": "40c8a5631e8a490296df4eccb0b2b237"
            }
          },
          "metadata": {}
        },
        {
          "output_type": "stream",
          "name": "stdout",
          "text": [
            "\n",
            "\n",
            "\n",
            "\n",
            "\n",
            "\n",
            "\n",
            "\n",
            "\n"
          ]
        }
      ]
    },
    {
      "cell_type": "code",
      "source": [
        "df"
      ],
      "metadata": {
        "colab": {
          "base_uri": "https://localhost:8080/",
          "height": 641
        },
        "id": "U0rxAtnZ4iEx",
        "outputId": "d79b1621-94f4-4db4-89f3-5e410ff2657e"
      },
      "execution_count": 39,
      "outputs": [
        {
          "output_type": "execute_result",
          "data": {
            "text/plain": [
              "                                          title  \\\n",
              "0                   추석 남은 음식, 이렇게 활용하세요! [알쓸건잡]   \n",
              "1           [유통이슈] 한솥, ‘데미햄버그 불고기 2종’ 수량한정 출시 外   \n",
              "2                       문체부, 우즈벡·말레이시아 한류 저변 확대   \n",
              "3      삼양식품, 겨울 제철 코다리 활용 &apos;코다리볶음면&apos; 출시   \n",
              "4        “건강 친화적인 <b>한식</b>…프리미엄 마케팅으로 수출시장 확대”   \n",
              "..                                          ...   \n",
              "5              삼양식품, 매콤달콤 &apos;코다리볶음면&apos; 출시   \n",
              "6                      영산대, 사찰음식 전문가 홍승스님 초청 특강   \n",
              "7   한류축제 &apos;2022 모꼬지 대한민국&apos; 우즈벡·말레이시아 개최   \n",
              "8      간편식에도 트렌드가 있다! 5060 간편식 구매 늘고 선호하는 종류 변화   \n",
              "9    케냐 고교생, 韓 대학생 인성교육에 &quot;남 이해·배려 배워&quot;   \n",
              "\n",
              "                                         originallink  \\\n",
              "0   http://www.mkhealth.co.kr/news/articleView.htm...   \n",
              "1   http://www.lawissue.co.kr/view.php?ud=20220913...   \n",
              "2   http://www.newstomato.com/ReadNews.aspx?no=114...   \n",
              "3   http://www.finomy.com/news/articleView.html?id...   \n",
              "4   https://www.donga.com/news/article/all/2022091...   \n",
              "..                                                ...   \n",
              "5   http://www.smedaily.co.kr/news/articleView.htm...   \n",
              "6      https://www.ajunews.com/view/20220913141245330   \n",
              "7   https://www.gukjenews.com/news/articleView.htm...   \n",
              "8   http://www.dailypop.kr/news/articleView.html?i...   \n",
              "9   https://www.yna.co.kr/view/AKR2022091310650037...   \n",
              "\n",
              "                                                 link  \\\n",
              "0   http://www.mkhealth.co.kr/news/articleView.htm...   \n",
              "1   http://www.lawissue.co.kr/view.php?ud=20220913...   \n",
              "2   http://www.newstomato.com/ReadNews.aspx?no=114...   \n",
              "3   http://www.finomy.com/news/articleView.html?id...   \n",
              "4   https://n.news.naver.com/mnews/article/020/000...   \n",
              "..                                                ...   \n",
              "5   http://www.smedaily.co.kr/news/articleView.htm...   \n",
              "6      https://www.ajunews.com/view/20220913141245330   \n",
              "7   https://www.gukjenews.com/news/articleView.htm...   \n",
              "8   http://www.dailypop.kr/news/articleView.html?i...   \n",
              "9   https://n.news.naver.com/mnews/article/001/001...   \n",
              "\n",
              "                                          description  \\\n",
              "0   좋지만 김치찌개를 끓일 때 전을 넣어주면 더욱 깊은 맛을 느낄 수 있다. 부친 전은...   \n",
              "1   한솥 관계자는 &quot;‘데미햄버그 불고기’는 양식 메뉴인 햄버그 스테이크와 <b...   \n",
              "2   2020년 처음 시작해 올해로 3회를 맞이한 모꼬지 대한민국은 전 세계 한류 애호가...   \n",
              "3   코다리볶음면은 다가오는 겨울이 제철인 코다리를 활용한 <b>한식</b> 요리 코다리...   \n",
              "4   한국농수산식품유통공사(aT)가 농림축산식품부와 함께 ‘제22회 런던 식품박람회(SF...   \n",
              "..                                                ...   \n",
              "5   코다리볶음면은 겨울이 제철인 코다리를 활용한 <b>한식</b> 요리 &apos;코다...   \n",
              "6   <b>한식</b>교육과정 지원사업 일환, &apos;약이 되는 먹거리 활용 사찰음식...   \n",
              "7   2020년 처음 시작해 올해로 3회를 맞이한 &apos;모꼬지 대한민국&apos;은...   \n",
              "8   그 외 <b>한식</b>류(반찬)(193.9%), 양식류(반찬)(104.5%), 즉...   \n",
              "9   또 한국 드라마 &apos;유미의 세포들&apos;을 주제로 <b>한식</b> 만들...   \n",
              "\n",
              "                            pubDate  \n",
              "0   Tue, 13 Sep 2022 17:10:00 +0900  \n",
              "1   Tue, 13 Sep 2022 16:58:00 +0900  \n",
              "2   Tue, 13 Sep 2022 16:58:00 +0900  \n",
              "3   Tue, 13 Sep 2022 16:52:00 +0900  \n",
              "4   Tue, 13 Sep 2022 16:46:00 +0900  \n",
              "..                              ...  \n",
              "5   Tue, 13 Sep 2022 16:08:00 +0900  \n",
              "6   Tue, 13 Sep 2022 16:06:00 +0900  \n",
              "7   Tue, 13 Sep 2022 16:04:00 +0900  \n",
              "8   Tue, 13 Sep 2022 15:46:00 +0900  \n",
              "9   Tue, 13 Sep 2022 15:39:00 +0900  \n",
              "\n",
              "[90 rows x 5 columns]"
            ],
            "text/html": [
              "\n",
              "  <div id=\"df-b900156c-0a7c-4cd8-81f2-842eb71658da\">\n",
              "    <div class=\"colab-df-container\">\n",
              "      <div>\n",
              "<style scoped>\n",
              "    .dataframe tbody tr th:only-of-type {\n",
              "        vertical-align: middle;\n",
              "    }\n",
              "\n",
              "    .dataframe tbody tr th {\n",
              "        vertical-align: top;\n",
              "    }\n",
              "\n",
              "    .dataframe thead th {\n",
              "        text-align: right;\n",
              "    }\n",
              "</style>\n",
              "<table border=\"1\" class=\"dataframe\">\n",
              "  <thead>\n",
              "    <tr style=\"text-align: right;\">\n",
              "      <th></th>\n",
              "      <th>title</th>\n",
              "      <th>originallink</th>\n",
              "      <th>link</th>\n",
              "      <th>description</th>\n",
              "      <th>pubDate</th>\n",
              "    </tr>\n",
              "  </thead>\n",
              "  <tbody>\n",
              "    <tr>\n",
              "      <th>0</th>\n",
              "      <td>추석 남은 음식, 이렇게 활용하세요! [알쓸건잡]</td>\n",
              "      <td>http://www.mkhealth.co.kr/news/articleView.htm...</td>\n",
              "      <td>http://www.mkhealth.co.kr/news/articleView.htm...</td>\n",
              "      <td>좋지만 김치찌개를 끓일 때 전을 넣어주면 더욱 깊은 맛을 느낄 수 있다. 부친 전은...</td>\n",
              "      <td>Tue, 13 Sep 2022 17:10:00 +0900</td>\n",
              "    </tr>\n",
              "    <tr>\n",
              "      <th>1</th>\n",
              "      <td>[유통이슈] 한솥, ‘데미햄버그 불고기 2종’ 수량한정 출시 外</td>\n",
              "      <td>http://www.lawissue.co.kr/view.php?ud=20220913...</td>\n",
              "      <td>http://www.lawissue.co.kr/view.php?ud=20220913...</td>\n",
              "      <td>한솥 관계자는 &amp;quot;‘데미햄버그 불고기’는 양식 메뉴인 햄버그 스테이크와 &lt;b...</td>\n",
              "      <td>Tue, 13 Sep 2022 16:58:00 +0900</td>\n",
              "    </tr>\n",
              "    <tr>\n",
              "      <th>2</th>\n",
              "      <td>문체부, 우즈벡·말레이시아 한류 저변 확대</td>\n",
              "      <td>http://www.newstomato.com/ReadNews.aspx?no=114...</td>\n",
              "      <td>http://www.newstomato.com/ReadNews.aspx?no=114...</td>\n",
              "      <td>2020년 처음 시작해 올해로 3회를 맞이한 모꼬지 대한민국은 전 세계 한류 애호가...</td>\n",
              "      <td>Tue, 13 Sep 2022 16:58:00 +0900</td>\n",
              "    </tr>\n",
              "    <tr>\n",
              "      <th>3</th>\n",
              "      <td>삼양식품, 겨울 제철 코다리 활용 &amp;apos;코다리볶음면&amp;apos; 출시</td>\n",
              "      <td>http://www.finomy.com/news/articleView.html?id...</td>\n",
              "      <td>http://www.finomy.com/news/articleView.html?id...</td>\n",
              "      <td>코다리볶음면은 다가오는 겨울이 제철인 코다리를 활용한 &lt;b&gt;한식&lt;/b&gt; 요리 코다리...</td>\n",
              "      <td>Tue, 13 Sep 2022 16:52:00 +0900</td>\n",
              "    </tr>\n",
              "    <tr>\n",
              "      <th>4</th>\n",
              "      <td>“건강 친화적인 &lt;b&gt;한식&lt;/b&gt;…프리미엄 마케팅으로 수출시장 확대”</td>\n",
              "      <td>https://www.donga.com/news/article/all/2022091...</td>\n",
              "      <td>https://n.news.naver.com/mnews/article/020/000...</td>\n",
              "      <td>한국농수산식품유통공사(aT)가 농림축산식품부와 함께 ‘제22회 런던 식품박람회(SF...</td>\n",
              "      <td>Tue, 13 Sep 2022 16:46:00 +0900</td>\n",
              "    </tr>\n",
              "    <tr>\n",
              "      <th>...</th>\n",
              "      <td>...</td>\n",
              "      <td>...</td>\n",
              "      <td>...</td>\n",
              "      <td>...</td>\n",
              "      <td>...</td>\n",
              "    </tr>\n",
              "    <tr>\n",
              "      <th>5</th>\n",
              "      <td>삼양식품, 매콤달콤 &amp;apos;코다리볶음면&amp;apos; 출시</td>\n",
              "      <td>http://www.smedaily.co.kr/news/articleView.htm...</td>\n",
              "      <td>http://www.smedaily.co.kr/news/articleView.htm...</td>\n",
              "      <td>코다리볶음면은 겨울이 제철인 코다리를 활용한 &lt;b&gt;한식&lt;/b&gt; 요리 &amp;apos;코다...</td>\n",
              "      <td>Tue, 13 Sep 2022 16:08:00 +0900</td>\n",
              "    </tr>\n",
              "    <tr>\n",
              "      <th>6</th>\n",
              "      <td>영산대, 사찰음식 전문가 홍승스님 초청 특강</td>\n",
              "      <td>https://www.ajunews.com/view/20220913141245330</td>\n",
              "      <td>https://www.ajunews.com/view/20220913141245330</td>\n",
              "      <td>&lt;b&gt;한식&lt;/b&gt;교육과정 지원사업 일환, &amp;apos;약이 되는 먹거리 활용 사찰음식...</td>\n",
              "      <td>Tue, 13 Sep 2022 16:06:00 +0900</td>\n",
              "    </tr>\n",
              "    <tr>\n",
              "      <th>7</th>\n",
              "      <td>한류축제 &amp;apos;2022 모꼬지 대한민국&amp;apos; 우즈벡·말레이시아 개최</td>\n",
              "      <td>https://www.gukjenews.com/news/articleView.htm...</td>\n",
              "      <td>https://www.gukjenews.com/news/articleView.htm...</td>\n",
              "      <td>2020년 처음 시작해 올해로 3회를 맞이한 &amp;apos;모꼬지 대한민국&amp;apos;은...</td>\n",
              "      <td>Tue, 13 Sep 2022 16:04:00 +0900</td>\n",
              "    </tr>\n",
              "    <tr>\n",
              "      <th>8</th>\n",
              "      <td>간편식에도 트렌드가 있다! 5060 간편식 구매 늘고 선호하는 종류 변화</td>\n",
              "      <td>http://www.dailypop.kr/news/articleView.html?i...</td>\n",
              "      <td>http://www.dailypop.kr/news/articleView.html?i...</td>\n",
              "      <td>그 외 &lt;b&gt;한식&lt;/b&gt;류(반찬)(193.9%), 양식류(반찬)(104.5%), 즉...</td>\n",
              "      <td>Tue, 13 Sep 2022 15:46:00 +0900</td>\n",
              "    </tr>\n",
              "    <tr>\n",
              "      <th>9</th>\n",
              "      <td>케냐 고교생, 韓 대학생 인성교육에 &amp;quot;남 이해·배려 배워&amp;quot;</td>\n",
              "      <td>https://www.yna.co.kr/view/AKR2022091310650037...</td>\n",
              "      <td>https://n.news.naver.com/mnews/article/001/001...</td>\n",
              "      <td>또 한국 드라마 &amp;apos;유미의 세포들&amp;apos;을 주제로 &lt;b&gt;한식&lt;/b&gt; 만들...</td>\n",
              "      <td>Tue, 13 Sep 2022 15:39:00 +0900</td>\n",
              "    </tr>\n",
              "  </tbody>\n",
              "</table>\n",
              "<p>90 rows × 5 columns</p>\n",
              "</div>\n",
              "      <button class=\"colab-df-convert\" onclick=\"convertToInteractive('df-b900156c-0a7c-4cd8-81f2-842eb71658da')\"\n",
              "              title=\"Convert this dataframe to an interactive table.\"\n",
              "              style=\"display:none;\">\n",
              "        \n",
              "  <svg xmlns=\"http://www.w3.org/2000/svg\" height=\"24px\"viewBox=\"0 0 24 24\"\n",
              "       width=\"24px\">\n",
              "    <path d=\"M0 0h24v24H0V0z\" fill=\"none\"/>\n",
              "    <path d=\"M18.56 5.44l.94 2.06.94-2.06 2.06-.94-2.06-.94-.94-2.06-.94 2.06-2.06.94zm-11 1L8.5 8.5l.94-2.06 2.06-.94-2.06-.94L8.5 2.5l-.94 2.06-2.06.94zm10 10l.94 2.06.94-2.06 2.06-.94-2.06-.94-.94-2.06-.94 2.06-2.06.94z\"/><path d=\"M17.41 7.96l-1.37-1.37c-.4-.4-.92-.59-1.43-.59-.52 0-1.04.2-1.43.59L10.3 9.45l-7.72 7.72c-.78.78-.78 2.05 0 2.83L4 21.41c.39.39.9.59 1.41.59.51 0 1.02-.2 1.41-.59l7.78-7.78 2.81-2.81c.8-.78.8-2.07 0-2.86zM5.41 20L4 18.59l7.72-7.72 1.47 1.35L5.41 20z\"/>\n",
              "  </svg>\n",
              "      </button>\n",
              "      \n",
              "  <style>\n",
              "    .colab-df-container {\n",
              "      display:flex;\n",
              "      flex-wrap:wrap;\n",
              "      gap: 12px;\n",
              "    }\n",
              "\n",
              "    .colab-df-convert {\n",
              "      background-color: #E8F0FE;\n",
              "      border: none;\n",
              "      border-radius: 50%;\n",
              "      cursor: pointer;\n",
              "      display: none;\n",
              "      fill: #1967D2;\n",
              "      height: 32px;\n",
              "      padding: 0 0 0 0;\n",
              "      width: 32px;\n",
              "    }\n",
              "\n",
              "    .colab-df-convert:hover {\n",
              "      background-color: #E2EBFA;\n",
              "      box-shadow: 0px 1px 2px rgba(60, 64, 67, 0.3), 0px 1px 3px 1px rgba(60, 64, 67, 0.15);\n",
              "      fill: #174EA6;\n",
              "    }\n",
              "\n",
              "    [theme=dark] .colab-df-convert {\n",
              "      background-color: #3B4455;\n",
              "      fill: #D2E3FC;\n",
              "    }\n",
              "\n",
              "    [theme=dark] .colab-df-convert:hover {\n",
              "      background-color: #434B5C;\n",
              "      box-shadow: 0px 1px 3px 1px rgba(0, 0, 0, 0.15);\n",
              "      filter: drop-shadow(0px 1px 2px rgba(0, 0, 0, 0.3));\n",
              "      fill: #FFFFFF;\n",
              "    }\n",
              "  </style>\n",
              "\n",
              "      <script>\n",
              "        const buttonEl =\n",
              "          document.querySelector('#df-b900156c-0a7c-4cd8-81f2-842eb71658da button.colab-df-convert');\n",
              "        buttonEl.style.display =\n",
              "          google.colab.kernel.accessAllowed ? 'block' : 'none';\n",
              "\n",
              "        async function convertToInteractive(key) {\n",
              "          const element = document.querySelector('#df-b900156c-0a7c-4cd8-81f2-842eb71658da');\n",
              "          const dataTable =\n",
              "            await google.colab.kernel.invokeFunction('convertToInteractive',\n",
              "                                                     [key], {});\n",
              "          if (!dataTable) return;\n",
              "\n",
              "          const docLinkHtml = 'Like what you see? Visit the ' +\n",
              "            '<a target=\"_blank\" href=https://colab.research.google.com/notebooks/data_table.ipynb>data table notebook</a>'\n",
              "            + ' to learn more about interactive tables.';\n",
              "          element.innerHTML = '';\n",
              "          dataTable['output_type'] = 'display_data';\n",
              "          await google.colab.output.renderOutput(dataTable, element);\n",
              "          const docLink = document.createElement('div');\n",
              "          docLink.innerHTML = docLinkHtml;\n",
              "          element.appendChild(docLink);\n",
              "        }\n",
              "      </script>\n",
              "    </div>\n",
              "  </div>\n",
              "  "
            ]
          },
          "metadata": {},
          "execution_count": 39
        }
      ]
    },
    {
      "cell_type": "code",
      "source": [],
      "metadata": {
        "id": "MCvT19Nt6PCz"
      },
      "execution_count": null,
      "outputs": []
    }
  ]
}