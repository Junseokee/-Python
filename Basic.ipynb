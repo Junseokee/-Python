{
  "nbformat": 4,
  "nbformat_minor": 0,
  "metadata": {
    "colab": {
      "name": "연구학점제.ipynb",
      "provenance": [],
      "collapsed_sections": [],
      "authorship_tag": "ABX9TyOaAO7JS3mvBRcLDilETEX4",
      "include_colab_link": true
    },
    "kernelspec": {
      "name": "python3",
      "display_name": "Python 3"
    },
    "language_info": {
      "name": "python"
    }
  },
  "cells": [
    {
      "cell_type": "markdown",
      "metadata": {
        "id": "view-in-github",
        "colab_type": "text"
      },
      "source": [
        "<a href=\"https://colab.research.google.com/github/Junseokee/Study-Python/blob/main/Basic.ipynb\" target=\"_parent\"><img src=\"https://colab.research.google.com/assets/colab-badge.svg\" alt=\"Open In Colab\"/></a>"
      ]
    },
    {
      "cell_type": "code",
      "execution_count": null,
      "metadata": {
        "colab": {
          "resources": {
            "http://localhost:8080/nbextensions/google.colab/files.js": {
              "data": "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",
              "ok": true,
              "headers": [
                [
                  "content-type",
                  "application/javascript"
                ]
              ],
              "status": 200,
              "status_text": ""
            }
          },
          "base_uri": "https://localhost:8080/",
          "height": 77
        },
        "id": "_VhNXyQU3sEi",
        "outputId": "05f08bf6-e5ee-4f67-922e-db6ff87774ef"
      },
      "outputs": [
        {
          "output_type": "display_data",
          "data": {
            "text/html": [
              "\n",
              "     <input type=\"file\" id=\"files-9341f5b5-2993-48e1-bb0a-0623c2bb58a5\" name=\"files[]\" multiple disabled\n",
              "        style=\"border:none\" />\n",
              "     <output id=\"result-9341f5b5-2993-48e1-bb0a-0623c2bb58a5\">\n",
              "      Upload widget is only available when the cell has been executed in the\n",
              "      current browser session. Please rerun this cell to enable.\n",
              "      </output>\n",
              "      <script src=\"/nbextensions/google.colab/files.js\"></script> "
            ],
            "text/plain": [
              "<IPython.core.display.HTML object>"
            ]
          },
          "metadata": {}
        },
        {
          "output_type": "stream",
          "name": "stdout",
          "text": [
            "Saving Fish.csv to Fish (3).csv\n"
          ]
        }
      ],
      "source": [
        "from google.colab import files\n",
        "import pandas as pd\n",
        "uploaded = files.upload()\n",
        "import matplotlib.pyplot as plt"
      ]
    },
    {
      "cell_type": "markdown",
      "source": [
        ""
      ],
      "metadata": {
        "id": "atwvh7CF-vp-"
      }
    },
    {
      "cell_type": "code",
      "source": [
        "df=pd.read_csv('Fish.csv')\n",
        "plt.plot([1,2,3,4],[1,4,9,16],'ro')\n",
        "#포맷 문자열 ‘ro’는 빨간색 (‘red’)의 원형 (‘o’) 마커를 의미합니다.\n",
        "#또한, 예를 들어 ‘b-‘는 파란색 (‘blue’)의 실선 (‘-‘)을 의미합니다.\n",
        "plt.axis([0,6,0,20])\n",
        "#axis() 함수는 축의 범위를 지정 [xmin,xmax,ymin,ymax]\n",
        "plt.show()"
      ],
      "metadata": {
        "colab": {
          "base_uri": "https://localhost:8080/",
          "height": 269
        },
        "id": "amCArG3O-Qf3",
        "outputId": "23de4e9f-32d2-4121-8115-4a463bb053d4"
      },
      "execution_count": null,
      "outputs": [
        {
          "output_type": "display_data",
          "data": {
            "image/png": "[encoded data removed]",
            "text/plain": [
              "<Figure size 432x288 with 1 Axes>"
            ]
          },
          "metadata": {
            "needs_background": "light"
          }
        }
      ]
    },
    {
      "cell_type": "code",
      "source": [
        "#리스트 개념\n",
        "a=[]\n",
        "x=[1,2]\n",
        "y=[\"aa\",\"bb\"]\n",
        "z=[1,'ab',y]\n",
        "print(a+x+y+z)\n",
        "\n",
        "x=['a',2,'cc',50]\n",
        "print(x[0:4])\n",
        "\n",
        "a =[1,2,3,4]\n",
        "print(a[1:3])\n"
      ],
      "metadata": {
        "id": "zOVoYFSV-QrE",
        "colab": {
          "base_uri": "https://localhost:8080/"
        },
        "outputId": "b31f6547-2a3b-4ae3-a2fb-10d1ed4f6f93"
      },
      "execution_count": null,
      "outputs": [
        {
          "output_type": "stream",
          "name": "stdout",
          "text": [
            "[1, 2, 'aa', 'bb', 1, 'ab', ['aa', 'bb']]\n",
            "['a', 2, 'cc', 50]\n",
            "[2, 3]\n"
          ]
        }
      ]
    },
    {
      "cell_type": "code",
      "source": [
        "a=[1,2,3,4]\n",
        "a[2] = 100\n",
        "print(a)"
      ],
      "metadata": {
        "colab": {
          "base_uri": "https://localhost:8080/"
        },
        "id": "Qm35ww1HEc6Z",
        "outputId": "41cab335-80af-4460-b400-32bc96aeb13c"
      },
      "execution_count": null,
      "outputs": [
        {
          "output_type": "stream",
          "name": "stdout",
          "text": [
            "[1, 2, 100, 4]\n"
          ]
        }
      ]
    },
    {
      "cell_type": "code",
      "source": [
        "#리스트 내장함수\n",
        "#데이터 추가 -> append(값), insert(넣을 번호, 값)\n",
        "x=[]\n",
        "x.append('a')\n",
        "x.append(2)\n",
        "x.append(5)\n",
        "x.insert(2,'cc')\n",
        "print(x)\n",
        "\n",
        "#데이터 변경\n",
        "x[0]='b'\n",
        "x[3]=4\n",
        "print(x)\n",
        "\n",
        "#데이터 삭제 -> remove(값), pop(리스트번호)\n",
        "x.remove('cc')\n",
        "x.pop()\n",
        "x.pop(0)\n",
        "y=x.pop()\n",
        "print(y)\n",
        "\n",
        "#데이터 정렬 -> 변수.reverse() 내림차순, 변수.sort() 오름차순\n",
        "\n",
        "#리스트 연산자\n",
        "x=[1,2,3]\n",
        "y=[2,3,4]\n",
        "z=x+y\n",
        "print(x,y,z)"
      ],
      "metadata": {
        "id": "mO5Wc1xwEc9I",
        "colab": {
          "base_uri": "https://localhost:8080/"
        },
        "outputId": "c09fe708-c288-4f25-8a61-9e0593ba9e11"
      },
      "execution_count": null,
      "outputs": [
        {
          "output_type": "stream",
          "name": "stdout",
          "text": [
            "['a', 2, 'cc', 5]\n",
            "['b', 2, 'cc', 4]\n",
            "2\n",
            "[1, 2, 3] [2, 3, 4] [1, 2, 3, 2, 3, 4]\n"
          ]
        }
      ]
    },
    {
      "cell_type": "code",
      "source": [
        "#리스트 내장함수 실습\n",
        "a=[1,2,3,4]\n",
        "a.append(\"hi\")\n",
        "a.append(6)\n",
        "a.insert(0,10)\n",
        "a.remove(10)\n",
        "a.pop() #pop(리스트 번호) () = 맨뒤 데이터 삭제\n",
        "b=a.pop() #pop에서 삭제할 데이터를 output으로 반환 remove는 안된다.\n",
        "print(a)\n"
      ],
      "metadata": {
        "id": "h0yPK_kfEdAG",
        "colab": {
          "base_uri": "https://localhost:8080/"
        },
        "outputId": "b12bfbe7-05d7-4e9a-d937-79ef117735cb"
      },
      "execution_count": null,
      "outputs": [
        {
          "output_type": "stream",
          "name": "stdout",
          "text": [
            "[1, 2, 3, 4, 'hi']\n"
          ]
        }
      ]
    },
    {
      "cell_type": "code",
      "source": [
        "#튜플 : 순서의 개념이 있음, 데이터 수정이 불가, ()로 표현, \",\"로 구분, 형태의 접근은 가능 ex)a[2] 인덱스 번호 가능\n",
        "#장점 : 메모리 절약 + 데이터 보존\n",
        "a=(1,2,3)\n",
        "b=a[1]\n",
        "print(a,b)\n"
      ],
      "metadata": {
        "id": "i5e_LxPWEdCq",
        "colab": {
          "base_uri": "https://localhost:8080/"
        },
        "outputId": "0c88af1a-958e-4997-febd-60943be03ec6"
      },
      "execution_count": null,
      "outputs": [
        {
          "output_type": "stream",
          "name": "stdout",
          "text": [
            "(1, 2, 3) 2\n"
          ]
        }
      ]
    },
    {
      "cell_type": "code",
      "source": [
        "#len : 변수 길이 확인\n",
        "X=[1,2,3,4]\n",
        "num=len(X)\n",
        "print(num)\n",
        "\n",
        "# a in X : X 변수안에 값 a가 있는지 확인\n",
        "X = [1,2,3,4]\n",
        "print(3 in X)\n",
        "\n",
        "print(len('abcdef'))\n",
        "b=[1,2,3,4]\n",
        "print(3 in b)\n",
        "print('b' in 'abcdef')\n",
        "\n"
      ],
      "metadata": {
        "id": "tQdi-07XEdFG",
        "colab": {
          "base_uri": "https://localhost:8080/"
        },
        "outputId": "34360a4f-6719-4fdc-e5dd-3ab59a6a81cd"
      },
      "execution_count": null,
      "outputs": [
        {
          "output_type": "stream",
          "name": "stdout",
          "text": [
            "4\n",
            "True\n",
            "6\n",
            "True\n",
            "True\n"
          ]
        }
      ]
    },
    {
      "cell_type": "code",
      "source": [
        "a = {}\n",
        "a['a'] = 'apple'\n",
        "a['b'] = 'ball'\n",
        "a['c'] = 'cat'\n",
        "\n",
        "print(a)"
      ],
      "metadata": {
        "id": "x_0_D15jEdH5",
        "colab": {
          "base_uri": "https://localhost:8080/"
        },
        "outputId": "3b5467c3-f7e3-4064-bad3-36b5069268dc"
      },
      "execution_count": null,
      "outputs": [
        {
          "output_type": "stream",
          "name": "stdout",
          "text": [
            "{'a': 'apple', 'b': 'ball', 'c': 'cat'}\n"
          ]
        }
      ]
    },
    {
      "cell_type": "code",
      "source": [
        "#indexing\n",
        "#a[] : 키값을 사용해 접근 \n",
        "#a.속성 : 속성이름을 사용해 접급\n",
        "#a.함수 : 자료형만 갖는 함수기능을 사용\n",
        "#함수(a) : 함수 기능을 사용\n",
        "\n",
        "#형변환\n",
        "a = [1,2,3,4]\n",
        "b = tuple(a)\n",
        "c = set(b)\n",
        "d = list(c)\n",
        "\n",
        "e = {1:\"a\",2:\"b\"}\n",
        "print(list(e)) #키값만 나옴\n",
        "print(e.items()) #딕셔너리를 튜플로 가져온 리스트로 변환하는 함수)\n"
      ],
      "metadata": {
        "id": "d5XQHOaaEdKw",
        "colab": {
          "base_uri": "https://localhost:8080/"
        },
        "outputId": "0e832fe6-8fcb-43db-a025-cf9a2ec0c7cd"
      },
      "execution_count": null,
      "outputs": [
        {
          "output_type": "stream",
          "name": "stdout",
          "text": [
            "{1, 2, 3, 4}\n",
            "[1, 2]\n",
            "dict_items([(1, 'a'), (2, 'b')])\n"
          ]
        }
      ]
    },
    {
      "cell_type": "code",
      "source": [
        "a=[1,2,1,1,22,21,30,4,4] #종류가 다른 숫자는 몇개?\n",
        "b=set(a)\n",
        "print(len(b))\n"
      ],
      "metadata": {
        "id": "Xx9R2PdkEdNe",
        "colab": {
          "base_uri": "https://localhost:8080/"
        },
        "outputId": "2e219b06-fac1-415b-b11d-ccbfe843812a"
      },
      "execution_count": null,
      "outputs": [
        {
          "output_type": "stream",
          "name": "stdout",
          "text": [
            "6\n"
          ]
        }
      ]
    },
    {
      "cell_type": "markdown",
      "source": [
        "###함수####\n",
        "함수 선언 : \n",
        "def 함수명(input):\n",
        "  ...명령...\n",
        "  ...명령...\n",
        "  return output\n",
        "\n",
        "출력 :\n",
        "y = 함수명(input)   "
      ],
      "metadata": {
        "id": "ZT3wynf4-1U1"
      }
    },
    {
      "cell_type": "code",
      "source": [
        "#함수의 기본형\n",
        "def F(x) :\n",
        "  y = x+10\n",
        "  return y\n",
        "\n",
        "def func1(a):\n",
        "  output = a*3\n",
        "  return output\n",
        "#입력 2 => 출력 2\n",
        "def W(x1, x2):\n",
        "  y = x1+x2+1\n",
        "  return y\n",
        "#입력 X => 출력 1\n",
        "def Z():\n",
        "  y = 1+2\n",
        "  return y\n",
        "#입력 1 => 출력 2\n",
        "def F2(x):\n",
        "  y1 = x+10\n",
        "  y2 = x+20\n",
        "  return y1,y2\n",
        "#입력 1 => 출력이 X\n",
        "def F3(x):\n",
        "  y=x+10\n"
      ],
      "metadata": {
        "id": "wjz5Z41wEdTI"
      },
      "execution_count": null,
      "outputs": []
    },
    {
      "cell_type": "code",
      "source": [
        "x = 10\n",
        "y = F(x)\n",
        "print(y)\n",
        "\n",
        "print(func1(10))\n",
        "\n",
        "print(W(10,10))"
      ],
      "metadata": {
        "id": "6TWWDURiEdVe",
        "colab": {
          "base_uri": "https://localhost:8080/"
        },
        "outputId": "84aca5ba-938d-4326-91a3-437b61456b6c"
      },
      "execution_count": null,
      "outputs": [
        {
          "output_type": "stream",
          "name": "stdout",
          "text": [
            "20\n",
            "30\n",
            "21\n"
          ]
        }
      ]
    },
    {
      "cell_type": "markdown",
      "source": [
        "#함수의 Return"
      ],
      "metadata": {
        "id": "_3tmBJnktiFq"
      }
    },
    {
      "cell_type": "code",
      "source": [
        "def ff(x):\n",
        "  print(1)\n",
        "  print(2)\n",
        "  return 0 #리턴이 0이면 리턴 다음은 아무 의미가없다.\n",
        "  print(x+3)\n",
        "a= ff(1)\n",
        "print(\"end\")"
      ],
      "metadata": {
        "id": "rJUgk-j3EddX",
        "colab": {
          "base_uri": "https://localhost:8080/"
        },
        "outputId": "99082db9-b5e2-41d1-e6e7-80e31f8b10cc"
      },
      "execution_count": null,
      "outputs": [
        {
          "output_type": "stream",
          "name": "stdout",
          "text": [
            "1\n",
            "2\n",
            "end\n"
          ]
        }
      ]
    },
    {
      "cell_type": "code",
      "source": [
        "a = 1 #전역변수 : 어디에서나 사용가능\n",
        "def aaa():\n",
        "  print(a)\n",
        "aaa()"
      ],
      "metadata": {
        "id": "04Jz0ALMEdgO",
        "colab": {
          "base_uri": "https://localhost:8080/"
        },
        "outputId": "9fb54e80-ec4a-40e8-a43d-4207b276946e"
      },
      "execution_count": null,
      "outputs": [
        {
          "output_type": "stream",
          "name": "stdout",
          "text": [
            "1\n"
          ]
        }
      ]
    },
    {
      "cell_type": "code",
      "source": [
        "a = 100 #전역변수\n",
        "def bbb():\n",
        "  a = 50 #지역변수 : 함수 안에서의 변수는 함수 내에서만 쓸 수 있는 지역 변수이다.\n",
        "  print(a)\n",
        "bbb()\n",
        "print(a)"
      ],
      "metadata": {
        "id": "bflAD1tpEdih",
        "colab": {
          "base_uri": "https://localhost:8080/"
        },
        "outputId": "f44d341c-d4d0-43e2-96ca-d5107f251f84"
      },
      "execution_count": null,
      "outputs": [
        {
          "output_type": "stream",
          "name": "stdout",
          "text": [
            "50\n",
            "100\n"
          ]
        }
      ]
    },
    {
      "cell_type": "markdown",
      "source": [
        "(1) len 함수는 자료바구니 또는 문자열의 크기를 알려주는 파이썬의 내장함수이다.\n",
        "처음부터 이 함수가 없었다고 가정하고, len2로 정의된 함수이름 으로 동일한 기능을 하는 함수를 생성하여라.\n",
        "\n",
        "(2) list(range(n))은 n개의 크기만큼 0부터 1씩 증가하는 리스트를 만든다. range함수를 이용하지말고 rangeList로 정의된 함수 이름으로 list(range(n))과 동일한 기능의 함수를 생성하여라"
      ],
      "metadata": {
        "id": "fav6w8tSu-2l"
      }
    },
    {
      "cell_type": "code",
      "source": [
        "from itertools import count\n",
        "a=[1,2,3,4,5,6,7,8,90,0]\n",
        "b=(1,2,3,4,56,67,7,8)\n",
        "\n",
        "def len2(x):\n",
        "  \n",
        "  a=0\n",
        "  while True:\n",
        "    \n",
        "    a= a+1\n",
        "    if a == x:\n",
        "      break\n",
        "  return()\n",
        "\n",
        "len2(b)\n"
      ],
      "metadata": {
        "id": "F14nCs-eEdk2",
        "colab": {
          "base_uri": "https://localhost:8080/",
          "height": 336
        },
        "outputId": "37115c93-4c27-4cb6-eaeb-62d7fc0fd878"
      },
      "execution_count": null,
      "outputs": [
        {
          "output_type": "error",
          "ename": "NameError",
          "evalue": "ignored",
          "traceback": [
            "\u001b[0;31m---------------------------------------------------------------------------\u001b[0m",
            "\u001b[0;31mNameError\u001b[0m                                 Traceback (most recent call last)",
            "\u001b[0;32m<ipython-input-33-8051203bc66e>\u001b[0m in \u001b[0;36m<module>\u001b[0;34m()\u001b[0m\n\u001b[1;32m     13\u001b[0m   \u001b[0;32mreturn\u001b[0m\u001b[0;34m(\u001b[0m\u001b[0mlenlist\u001b[0m\u001b[0;34m)\u001b[0m\u001b[0;34m\u001b[0m\u001b[0;34m\u001b[0m\u001b[0m\n\u001b[1;32m     14\u001b[0m \u001b[0;34m\u001b[0m\u001b[0m\n\u001b[0;32m---> 15\u001b[0;31m \u001b[0mlen2\u001b[0m\u001b[0;34m(\u001b[0m\u001b[0mb\u001b[0m\u001b[0;34m)\u001b[0m\u001b[0;34m\u001b[0m\u001b[0;34m\u001b[0m\u001b[0m\n\u001b[0m",
            "\u001b[0;32m<ipython-input-33-8051203bc66e>\u001b[0m in \u001b[0;36mlen2\u001b[0;34m(x)\u001b[0m\n\u001b[1;32m      7\u001b[0m   \u001b[0ma\u001b[0m\u001b[0;34m=\u001b[0m\u001b[0;36m0\u001b[0m\u001b[0;34m\u001b[0m\u001b[0;34m\u001b[0m\u001b[0m\n\u001b[1;32m      8\u001b[0m   \u001b[0;32mwhile\u001b[0m \u001b[0;32mTrue\u001b[0m\u001b[0;34m:\u001b[0m\u001b[0;34m\u001b[0m\u001b[0;34m\u001b[0m\u001b[0m\n\u001b[0;32m----> 9\u001b[0;31m     \u001b[0mlenlist\u001b[0m\u001b[0;34m.\u001b[0m\u001b[0mappend\u001b[0m\u001b[0;34m(\u001b[0m\u001b[0mx\u001b[0m\u001b[0;34m)\u001b[0m\u001b[0;34m\u001b[0m\u001b[0;34m\u001b[0m\u001b[0m\n\u001b[0m\u001b[1;32m     10\u001b[0m     \u001b[0ma\u001b[0m\u001b[0;34m=\u001b[0m \u001b[0ma\u001b[0m\u001b[0;34m+\u001b[0m\u001b[0;36m1\u001b[0m\u001b[0;34m\u001b[0m\u001b[0;34m\u001b[0m\u001b[0m\n\u001b[1;32m     11\u001b[0m     \u001b[0;32mif\u001b[0m \u001b[0ma\u001b[0m \u001b[0;34m==\u001b[0m \u001b[0mx\u001b[0m\u001b[0;34m:\u001b[0m\u001b[0;34m\u001b[0m\u001b[0;34m\u001b[0m\u001b[0m\n",
            "\u001b[0;31mNameError\u001b[0m: name 'lenlist' is not defined"
          ]
        }
      ]
    },
    {
      "cell_type": "code",
      "source": [
        "#range list\n",
        "\n",
        "def rangelist(n):\n",
        "  listBaguni = []\n",
        "  a = 0\n",
        "  while True:\n",
        "    listBaguni.append(a)\n",
        "    a = a+1\n",
        "    if a == n: #n=3, (a=0,[0], a<--1) \n",
        "      break        #n=3, (a=1,[0,1],a<--2)\n",
        "          #n=3, (a=2, [0,1,2],a<--3)\n",
        "  return listBaguni\n",
        "\n",
        "print(list(range(10)))\n",
        "print(rangelist(10))\n"
      ],
      "metadata": {
        "id": "OfuWEGMq-Qtm",
        "colab": {
          "base_uri": "https://localhost:8080/"
        },
        "outputId": "fe5f5398-0aaf-476f-a93b-2d8397c300aa"
      },
      "execution_count": null,
      "outputs": [
        {
          "output_type": "stream",
          "name": "stdout",
          "text": [
            "[0, 1, 2, 3, 4, 5, 6, 7, 8, 9]\n",
            "[0, 1, 2, 3, 4, 5, 6, 7, 8, 9]\n"
          ]
        }
      ]
    },
    {
      "cell_type": "markdown",
      "source": [
        "## 파일 읽기\n",
        "1. 파일을 연다 : 파일 경로로 가서 클릭 -> f= open(\"c:\\aaa.txt\")\n",
        "2. 파일 내용을 본다. : 한라인을 읽는다 -> line = f.readline() # 문자열\n",
        "print(line)\n",
        "lineList = f.readlines() #리스트 형식으로\n",
        "for line in lineList:\n",
        "  print(line)과 같음\n",
        "3. 파일을 닫는다. : f.close"
      ],
      "metadata": {
        "id": "8wrN9Xd63HGF"
      }
    },
    {
      "cell_type": "code",
      "source": [
        "#f = open(r\"D:\\dddd.txt\") #\\한개면 \\t같은 특수문자로 인식 앞에 r을 붙이거나 \\2개\n",
        "\n",
        "lineList = f.readlines() #개행문자를 포함해 출력\n",
        "\n",
        "for line in lineList:\n",
        "  line = line.replace(\"\\n\",\"\") #개행문자 삭제\n",
        "  print(line)\n",
        "\n",
        "f.close() #해야 파일 충돌등을 방지할 수 있음"
      ],
      "metadata": {
        "colab": {
          "base_uri": "https://localhost:8080/",
          "height": 245
        },
        "id": "-tsEi6zB3DP9",
        "outputId": "3a0cc577-70e8-4286-d4e4-15d9cbcc3e6f"
      },
      "execution_count": null,
      "outputs": [
        {
          "output_type": "error",
          "ename": "FileNotFoundError",
          "evalue": "ignored",
          "traceback": [
            "\u001b[0;31m---------------------------------------------------------------------------\u001b[0m",
            "\u001b[0;31mFileNotFoundError\u001b[0m                         Traceback (most recent call last)",
            "\u001b[0;32m<ipython-input-5-f7a6442c364f>\u001b[0m in \u001b[0;36m<module>\u001b[0;34m()\u001b[0m\n\u001b[0;32m----> 1\u001b[0;31m \u001b[0mf\u001b[0m \u001b[0;34m=\u001b[0m \u001b[0mopen\u001b[0m\u001b[0;34m(\u001b[0m\u001b[0;34mr\"D:\\dddd.txt\"\u001b[0m\u001b[0;34m)\u001b[0m \u001b[0;31m#\\한개면 \\t같은 특수문자로 인식 앞에 r을 붙이거나 \\2개\u001b[0m\u001b[0;34m\u001b[0m\u001b[0;34m\u001b[0m\u001b[0m\n\u001b[0m\u001b[1;32m      2\u001b[0m \u001b[0;34m\u001b[0m\u001b[0m\n\u001b[1;32m      3\u001b[0m \u001b[0mlineList\u001b[0m \u001b[0;34m=\u001b[0m \u001b[0mf\u001b[0m\u001b[0;34m.\u001b[0m\u001b[0mreadlines\u001b[0m\u001b[0;34m(\u001b[0m\u001b[0;34m)\u001b[0m\u001b[0;34m\u001b[0m\u001b[0;34m\u001b[0m\u001b[0m\n\u001b[1;32m      4\u001b[0m \u001b[0;34m\u001b[0m\u001b[0m\n\u001b[1;32m      5\u001b[0m \u001b[0;32mfor\u001b[0m \u001b[0mline\u001b[0m \u001b[0;32min\u001b[0m \u001b[0mlineList\u001b[0m\u001b[0;34m:\u001b[0m\u001b[0;34m\u001b[0m\u001b[0;34m\u001b[0m\u001b[0m\n",
            "\u001b[0;31mFileNotFoundError\u001b[0m: [Errno 2] No such file or directory: 'D:\\\\dddd.txt'"
          ]
        }
      ]
    },
    {
      "cell_type": "code",
      "source": [
        "#전체 데이터 메모리 로드\n",
        "\n",
        "f = open(r\"c:\\abc.txt\")\n",
        "fileLines = f.readlines() #용량이 큰건 불가\n",
        "for line in fileLines:\n",
        "  print(line)\n",
        "f.close\n",
        "\n",
        "f = open(r\"c:\\abc.txt\")\n",
        "data=f.read() #위에거 보단 낫지만 그래도 힘듬\n",
        "print(data)\n",
        "f.close()"
      ],
      "metadata": {
        "id": "iJ99EYUB3DVE"
      },
      "execution_count": null,
      "outputs": []
    },
    {
      "cell_type": "code",
      "source": [
        "#라인별 메모리 로드\n",
        "f = open(r\"c:\\abc.txt\")\n",
        "\n",
        "while True: #한줄씩 로드하지만 코드가 복잡\n",
        "  line = f. readline()\n",
        "  if not line:\n",
        "    break\n",
        "  print(line)\n",
        "\n",
        "f.close\n",
        "\n",
        "\n",
        "f = open(r\"c:\\abc.txt\")\n",
        "\n",
        "for line in f: #가장 이상적인 코드 용량이 커도 읽을수 있음\n",
        "  print(line)\n",
        "\n",
        "f.close()"
      ],
      "metadata": {
        "id": "QojfFu813DSY"
      },
      "execution_count": null,
      "outputs": []
    },
    {
      "cell_type": "code",
      "source": [
        "f = open(r\"c:\\abc.txt\") # 파일의 숫자데이터 전부 더하기\n",
        "a=0\n",
        "for lineStr in f:\n",
        "  a = a + int(lineStr)\n",
        "print(a)\n",
        "f.close()"
      ],
      "metadata": {
        "id": "tafwt3t-3Ddn"
      },
      "execution_count": null,
      "outputs": []
    },
    {
      "cell_type": "code",
      "source": [
        "#점수가 80점 이상인 경우에만 print 해보자\n",
        "#아래 파일을 불러와서 이름을 key, 점수를 value로 하는 딕셔너리 만들기"
      ],
      "metadata": {
        "id": "i4_x5Xg_3Dgb"
      },
      "execution_count": null,
      "outputs": []
    },
    {
      "cell_type": "code",
      "source": [
        "#파일쓰기 기본 구조\n",
        "f = open(\"c:\\\\ddd.text\",'w') #ddd라는 파일을 생성후 파일을 쓰겠다 라는 명령\n",
        "f.write(\"안녕\")\n",
        "f.write(\"\\n\") #개행\n",
        "f.write(\"하세요\")\n",
        "#write는 반드시 문자열을 써야함\n",
        "f.close()"
      ],
      "metadata": {
        "id": "Rw7cOEQJ3Di4"
      },
      "execution_count": null,
      "outputs": []
    },
    {
      "cell_type": "code",
      "source": [
        "f= open(r\"d:/abc2.txt\",\"w\")\n",
        "\n",
        "for name in scoreDict:\n",
        "  score = scoreDict[name]\n",
        "  f.write(name+\":\"+str(score)+'\\n')\n",
        "\n",
        "f.close()\n"
      ],
      "metadata": {
        "id": "bA6RLrrqjIug"
      },
      "execution_count": null,
      "outputs": []
    },
    {
      "cell_type": "markdown",
      "source": [
        "##클래스\n",
        "데이터 : 값과 데이터 유형으로 구성\n",
        "데이터 유형 : 데이터가 어떤 범주에 속하는지 나타내는 요소 \n",
        " -> 모든 데이터 유형 그 자체가 클래스이다.\n",
        "\n",
        " 3 -> class가 int인 object\n",
        "\n",
        " \"aaa\" -> str인 객체\n",
        " [1,2,3] -> list인 객체\n",
        "\n",
        "a=[1,2,3]\n",
        "b=[3,4,5]는 같은 클래스라서 append함수를 사용할수 있다. \n",
        "\n",
        "클래스는 고유의 속성변수 및 함수를 갖고 있다.\n",
        "\n",
        "객체는 클래스에 속한다.\n",
        "객체는 해당클래스의 인스턴스이다.\n",
        "\n",
        "\n",
        "\n",
        "\n"
      ],
      "metadata": {
        "id": "OnWuzgGjuxRU"
      }
    },
    {
      "cell_type": "code",
      "source": [
        "#학생과 관련한 새로운 유형의 데이터 제작 \n",
        "#학생이름, 영어/수학 점수 등을 입력 및 확인 할수 있고 영어수학점수 종합 계산 하는 함수\n",
        "\n",
        "class Student:\n",
        "  name=None\n",
        "  math=None\n",
        "  eng=None\n",
        "  def __init__(self,name): #무조건 처음 실행되는 함수 -> 생성자(Constructor)\n",
        "    self.name = name #초기화 함수\n",
        "\n",
        "  def getTotScore(self): #클래스 내장함수는 self 필수\n",
        "    return self.math + self.eng\n",
        "\n",
        "\n",
        "\n",
        "st1 = Student(\"박준석\")\n",
        "st1.math = 30\n",
        "st1.eng = 70\n",
        "tot = st1.getTotScore()\n",
        "print(tot)"
      ],
      "metadata": {
        "colab": {
          "base_uri": "https://localhost:8080/"
        },
        "id": "pYrEJvM03Dl3",
        "outputId": "bbc7155b-4ec7-499a-b605-685ce2a18aac"
      },
      "execution_count": null,
      "outputs": [
        {
          "output_type": "stream",
          "name": "stdout",
          "text": [
            "100\n"
          ]
        }
      ]
    },
    {
      "cell_type": "markdown",
      "source": [
        "###모듈\n",
        "시스템이나 제품 등을 이루는 개별적인 부품이나 요소들\n",
        "\n",
        "Python에서 모듈이란, 함수나 변수 또는 클래스 들을 모아놓은 파일\n",
        "이미만들어져있는 코드를 재사용을 위해 사용\n",
        " -> import를 통해 모듈에서의 클래스, 함수, 변수등을 가져옴"
      ],
      "metadata": {
        "id": "jcw2vUsU4r5t"
      }
    },
    {
      "cell_type": "code",
      "source": [
        ""
      ],
      "metadata": {
        "id": "khpWinPt5Pi1"
      },
      "execution_count": null,
      "outputs": []
    },
    {
      "cell_type": "markdown",
      "source": [
        "import 사용방법\n",
        "\n",
        "import 모듈명\n",
        "모듈명.함수명\n",
        "모듈명.변수명\n",
        "모듈명. 클래스명\n",
        "import myMod1\n",
        "y=myMod1.myMax(3,4)\n",
        "\n",
        "from 모듈명 import 모듈함수\n",
        "함수명\n",
        "변수명\n",
        "클래스명\n",
        "from myMod1 import myMax\n",
        "y=myMax(5,4)\n",
        "\n",
        "from 모듈명 import * \n",
        "모든 함수를 사용가능 \n",
        "but, 이름이 겹치거나 원하지 않는\n",
        "함수도 가져와질수 있다.\n",
        "함수명\n",
        "변수명\n",
        "클래스명"
      ],
      "metadata": {
        "id": "RKpn7TA7DDJ2"
      }
    },
    {
      "cell_type": "code",
      "source": [
        "import myMod1\n",
        "y=myMod1.myMax(3,4)\n",
        "\n",
        "from myMod1 import myMax\n",
        "y=myMax(5,4)"
      ],
      "metadata": {
        "id": "ONVGBVQ35PlD"
      },
      "execution_count": null,
      "outputs": []
    },
    {
      "cell_type": "markdown",
      "source": [
        "## 내장 모듈\n",
        "python 내장 모듈 (Python Standard Library)\n",
        "\n"
      ],
      "metadata": {
        "id": "WPFGxh6mEKRM"
      }
    },
    {
      "cell_type": "markdown",
      "source": [
        "##외부모듈\n",
        "numpy : 매트릭스 연산\n",
        "pandas : 데이터 전처리 \n",
        "tensorflow : 머신러닝 라이브러리\n",
        "scipy, scikit-learn : 통계 관련\n",
        "\n",
        "beautifulsoup, selenium : web 데이터 parsing\n",
        "\n",
        "외에 SNS 데이터 수집, GUI 라이브러리 모듈이 있음\n",
        "\n",
        "외부모듈 설치방법\n",
        "\n",
        "외부 모듈 검색 -> 외부 모듈 선택 -> 정보확인(다운로드탭) -> 모듈 정보확인 대부분은 pip install 지원\n",
        "\n",
        "환경변수추가\n",
        "\n",
        "시스템 변수의 Path 항목에 c:\\python(version)을 추가 C:\\python(version)\\Scripts도 추가\n",
        "\n",
        "pip install \"패키지명\"\n",
        "pip list로 설치된 패키지확인\n",
        "\n"
      ],
      "metadata": {
        "id": "vLLAM4H4O9OB"
      }
    },
    {
      "cell_type": "code",
      "source": [
        ""
      ],
      "metadata": {
        "id": "p7kLGE7O5Pnc"
      },
      "execution_count": null,
      "outputs": []
    },
    {
      "cell_type": "code",
      "source": [
        ""
      ],
      "metadata": {
        "id": "xeQqIAEe5QCE"
      },
      "execution_count": null,
      "outputs": []
    }
  ]
}