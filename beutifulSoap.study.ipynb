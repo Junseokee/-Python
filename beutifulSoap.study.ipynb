{
 "cells": [
  {
   "cell_type": "markdown",
   "id": "e6d7108c",
   "metadata": {},
   "source": [
    "##HTML 구조##\n",
    "\n",
    "기본 구조\n",
    "\n",
    "<태그 속성=\"값\"> text문자 </태그>\n",
    "<td class=\"product\" </td>\n",
    "\n",
    "\n",
    "print(a_element.text) -> text 문자\n",
    "print(a_element.get(\"class\")) -> product\n"
   ]
  },
  {
   "cell_type": "code",
   "execution_count": null,
   "id": "b41ed9c1",
   "metadata": {},
   "outputs": [],
   "source": [
    "import requests\n",
    "from bs4 import BeautifulSoup\n",
    "\n",
    "headerData = "
   ]
  },
  {
   "cell_type": "code",
   "execution_count": null,
   "id": "381f22e6",
   "metadata": {},
   "outputs": [],
   "source": []
  },
  {
   "cell_type": "code",
   "execution_count": null,
   "id": "62472276",
   "metadata": {},
   "outputs": [],
   "source": []
  }
 ],
 "metadata": {
  "kernelspec": {
   "display_name": "Python 3",
   "language": "python",
   "name": "python3"
  },
  "language_info": {
   "codemirror_mode": {
    "name": "ipython",
    "version": 3
   },
   "file_extension": ".py",
   "mimetype": "text/x-python",
   "name": "python",
   "nbconvert_exporter": "python",
   "pygments_lexer": "ipython3",
   "version": "3.8.8"
  }
 },
 "nbformat": 4,
 "nbformat_minor": 5
}
