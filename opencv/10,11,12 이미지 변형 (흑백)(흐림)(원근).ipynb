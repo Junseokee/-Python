{
 "cells": [
  {
   "cell_type": "markdown",
   "id": "d8a205c5",
   "metadata": {},
   "source": [
    "# 10. 이미지 변형 (흑백)"
   ]
  },
  {
   "cell_type": "markdown",
   "id": "b92357e9",
   "metadata": {},
   "source": [
    "이미지를 흑백으로 읽음"
   ]
  },
  {
   "cell_type": "code",
   "execution_count": 2,
   "id": "03b93e6b",
   "metadata": {},
   "outputs": [],
   "source": [
    "import cv2\n",
    "img = cv2.imread('img.jpg', cv2.IMREAD_GRAYSCALE)\n",
    "\n",
    "\n",
    "cv2.imshow('img', img)\n",
    "cv2.waitKey(0)\n",
    "cv2.destroyAllWindows()"
   ]
  },
  {
   "cell_type": "markdown",
   "id": "795d66ec",
   "metadata": {},
   "source": [
    "불러온 이미지를 흑백으로 변경"
   ]
  },
  {
   "cell_type": "code",
   "execution_count": 4,
   "id": "bc13b580",
   "metadata": {},
   "outputs": [],
   "source": [
    "import cv2\n",
    "img = cv2.imread('img.jpg')\n",
    "\n",
    "dst = cv2.cvtColor(img, cv2.COLOR_BGR2GRAY)\n",
    "\n",
    "\n",
    "cv2.imshow('img', img)\n",
    "cv2.imshow('gray', dst)\n",
    "cv2.waitKey(0)\n",
    "cv2.destroyAllWindows()"
   ]
  },
  {
   "cell_type": "markdown",
   "id": "d36f82e3",
   "metadata": {},
   "source": [
    "# 11. 이미지 변형 (흐림)"
   ]
  },
  {
   "cell_type": "markdown",
   "id": "78c0d2b2",
   "metadata": {},
   "source": [
    "## 가우시안 블러"
   ]
  },
  {
   "cell_type": "markdown",
   "id": "3bb4d088",
   "metadata": {},
   "source": [
    "커널 사이즈 변화에 따른 흐림"
   ]
  },
  {
   "cell_type": "code",
   "execution_count": 6,
   "id": "ff880689",
   "metadata": {},
   "outputs": [],
   "source": [
    "import cv2\n",
    "img = cv2.imread('img.jpg')\n",
    "\n",
    "#(3,3), (5,5), (7,7) 커널사이즈는 대부분 홀수로 사용\n",
    "kernel_3 = cv2.GaussianBlur(img, (3,3), 0)\n",
    "kernel_5 = cv2.GaussianBlur(img, (5,5), 0)\n",
    "kernel_7 = cv2.GaussianBlur(img, (7,7), 0)\n",
    "\n",
    "cv2.imshow('img', img)\n",
    "cv2.imshow('kernel_3', kernel_3)\n",
    "cv2.imshow('kernel_5', kernel_5)\n",
    "cv2.imshow('kernel_7', kernel_7)\n",
    "cv2.waitKey(0)\n",
    "cv2.destroyAllWindows()"
   ]
  },
  {
   "cell_type": "markdown",
   "id": "5a20d628",
   "metadata": {},
   "source": [
    "표준 편차 변화에 따른 흐림"
   ]
  },
  {
   "cell_type": "code",
   "execution_count": 7,
   "id": "65764068",
   "metadata": {},
   "outputs": [],
   "source": [
    "import cv2\n",
    "img = cv2.imread('img.jpg')\n",
    "\n",
    "sigma_3 = cv2.GaussianBlur(img, (0,0), 1) # sigmaX - 가우시안 커널의 x 방향의 표준 편차\n",
    "sigma_5 = cv2.GaussianBlur(img, (0,0), 2)\n",
    "sigma_7 = cv2.GaussianBlur(img, (0,0), 3)\n",
    "\n",
    "cv2.imshow('img', img)\n",
    "cv2.imshow('sigma_3', sigma_3)\n",
    "cv2.imshow('sigma_5', sigma_5)\n",
    "cv2.imshow('sigma_7', sigma_7)\n",
    "cv2.waitKey(0)\n",
    "cv2.destroyAllWindows()"
   ]
  },
  {
   "cell_type": "markdown",
   "id": "2c2d5f2c",
   "metadata": {},
   "source": [
    "# 12. 이미지 변형 원근"
   ]
  },
  {
   "cell_type": "markdown",
   "id": "566f218e",
   "metadata": {},
   "source": [
    "## 사다리꼴 이미지 펼치기"
   ]
  },
  {
   "cell_type": "code",
   "execution_count": 12,
   "id": "1ed2f4e7",
   "metadata": {},
   "outputs": [],
   "source": [
    "import cv2\n",
    "import numpy as np\n",
    "\n",
    "img = cv2.imread('newspaper.jpg')\n",
    "\n",
    "width, height = 640, 240 # 가로 크기 640, 세로 크기 240 으로 결과물 출력\n",
    "\n",
    "src = np.array([ [511,350], [1008,345], [1122,584], [455,594]], dtype=np.float32) # Input 4개 지정\n",
    "dst = np.array([ [0,0], [width,0], [width, height], [0, height]], dtype=np.float32)\n",
    "# 좌상, 우상, 우하, 좌하 (시계방향으로 4 지점 정의)\n",
    "\n",
    "matrix = cv2. getPerspectiveTransform(src, dst) # Maxtrix 얻어옴 -> 변환 행렬 값을 가져옴\n",
    "result = cv2.warpPerspective(img, matrix, (width, height)) # matraix 대로 변환을 함 -> 가져온 행렬 값으로 변환\n",
    "\n",
    "cv2.imshow('img', img)\n",
    "cv2.imshow('result', result)\n",
    "\n",
    "cv2.waitKey(0)\n",
    "cv2.destroyAllWindows()"
   ]
  },
  {
   "cell_type": "markdown",
   "id": "c4967253",
   "metadata": {},
   "source": [
    "## 회전된 이미지 펼치기"
   ]
  },
  {
   "cell_type": "code",
   "execution_count": 13,
   "id": "6240566d",
   "metadata": {},
   "outputs": [],
   "source": [
    "import cv2\n",
    "import numpy as np\n",
    "\n",
    "img = cv2.imread('poker.jpg')\n",
    "\n",
    "width, height = 530, 710\n",
    "\n",
    "src = np.array([ [702, 143], [1133, 414], [726,1007], [276,700]], dtype=np.float32) # Input 4개 지정\n",
    "dst = np.array([ [0,0], [width,0], [width, height], [0, height]], dtype=np.float32)\n",
    "# 좌상, 우상, 우하, 좌하 (시계방향으로 4 지점 정의)\n",
    "\n",
    "matrix = cv2. getPerspectiveTransform(src, dst) # Maxtrix 얻어옴 -> 변환 행렬 값을 가져옴\n",
    "result = cv2.warpPerspective(img, matrix, (width, height)) # matraix 대로 변환을 함 -> 가져온 행렬 값으로 변환\n",
    "\n",
    "cv2.imshow('img', img)\n",
    "cv2.imshow('result', result)\n",
    "\n",
    "cv2.waitKey(0)\n",
    "cv2.destroyAllWindows()"
   ]
  },
  {
   "cell_type": "markdown",
   "id": "88863089",
   "metadata": {},
   "source": [
    "## 미니 프로젝트 : 반자동 문서 스캐너"
   ]
  },
  {
   "cell_type": "markdown",
   "id": "baf4ebef",
   "metadata": {},
   "source": [
    "### 마우스 이벤트 등록"
   ]
  },
  {
   "cell_type": "code",
   "execution_count": 7,
   "id": "7343b8c5",
   "metadata": {},
   "outputs": [
    {
     "name": "stdout",
     "output_type": "stream",
     "text": [
      "왼쪽 버튼 Down\n",
      "754 305\n",
      "오른쪽 버튼 Down\n",
      "왼쪽 버튼 Up\n",
      "754 304\n"
     ]
    }
   ],
   "source": [
    "import cv2\n",
    "\n",
    "def mouse_handler(event, x, y, flages, param):\n",
    "    if event == cv2.EVENT_LBUTTONDOWN: # 마우스 왼쪽 버튼 누름\n",
    "        print('왼쪽 버튼 Down')\n",
    "        print(x,y)\n",
    "    elif event == cv2.EVENT_LBUTTONUP: # 마우스 왼쪽 버튼 뗌\n",
    "        print('왼쪽 버튼 Up')\n",
    "        print(x,y)\n",
    "    elif event == cv2.EVENT_LBUTTONDBLCLK: # 마우스 왼쪽 버튼 더블클릭\n",
    "        print('왼쪽 버튼 더블클릭')\n",
    "#     elif event == cv2.EVENT_MOUSEMOVE: # 마우스 이동\n",
    "#         print('마우스 이동')\n",
    "    elif event == cv2.EVENT_RBUTTONDOWN: # 오른쪽 버튼 Downm\n",
    "        print('오른쪽 버튼 Down')\n",
    "\n",
    "img = cv2.imread('poker.jpg')\n",
    "cv2.namedWindow('img') # img란 이름의 윈도우를 먼저 만들어 두는것. 여기에 마우스 이벤트를 처리하기 위한 핸들러 적용\n",
    "cv2.setMouseCallback('img',mouse_handler)\n",
    "cv2.imshow('img', img)\n",
    "cv2.waitKey(0)\n",
    "cv2.destroyAllWindows()"
   ]
  },
  {
   "cell_type": "markdown",
   "id": "67627a44",
   "metadata": {},
   "source": [
    "### 프로젝트"
   ]
  },
  {
   "cell_type": "code",
   "execution_count": 20,
   "id": "2dc1296f",
   "metadata": {},
   "outputs": [],
   "source": [
    "import cv2\n",
    "import numpy as np\n",
    "\n",
    "point_list = []\n",
    "src_img = cv2.imread('poker.jpg')\n",
    "\n",
    "COLOR = (255, 0, 255) # 핑크\n",
    "THINCKNESS = 3 # 두께\n",
    "drawing = False # 선을 그릴지 여부\n",
    "\n",
    "def mouse_handler(event, x, y, flages, param):\n",
    "    global drawing\n",
    "    dst_img = src_img.copy() # 이미지를 카피해서 번짐 방지\n",
    "    \n",
    "    if event == cv2.EVENT_LBUTTONDOWN: # 마우스 왼쪽 버튼 누름\n",
    "        drawing = True # 선을 그리기 시작\n",
    "        point_list.append((x,y))\n",
    "        \n",
    "        \n",
    "    if drawing: \n",
    "        prev_point = None # 직선의 시작점\n",
    "        for point in  point_list:\n",
    "            cv2.circle(dst_img, point, 15, COLOR, cv2.FILLED)\n",
    "            if prev_point:\n",
    "                cv2.line(dst_img, prev_point, point, COLOR, THINCKNESS, cv2.LINE_AA)\n",
    "            prev_point = point\n",
    "        \n",
    "        next_point = (x,y) #마우스 핸들러에서 받아온 좌표\n",
    "        if len(point_list) == 4:\n",
    "            show_result() # 결과 출력\n",
    "            next_point = point_list[0] # 첫 번째 클릭한 지점\n",
    "            \n",
    "        cv2.line(dst_img, prev_point, next_point, COLOR, THINCKNESS, cv2.LINE_AA)\n",
    "    \n",
    "    cv2.imshow('img', dst_img)\n",
    "\n",
    "def show_result():\n",
    "    width, height = 530, 710\n",
    "\n",
    "    src = np.float32(point_list)\n",
    "    dst = np.array([ [0,0], [width,0], [width, height], [0, height]], dtype=np.float32)\n",
    "    # 좌상, 우상, 우하, 좌하 (시계방향으로 4 지점 정의)\n",
    "\n",
    "    matrix = cv2. getPerspectiveTransform(src, dst) # Maxtrix 얻어옴 -> 변환 행렬 값을 가져옴\n",
    "    result = cv2.warpPerspective(src_img,  matrix, (width, height)) # matraix 대로 변환을 함 -> 가져온 행렬 값으로 변환\n",
    "    cv2.imshow('result', result)\n",
    "\n",
    "cv2.namedWindow('img') \n",
    "cv2.setMouseCallback('img',mouse_handler)\n",
    "cv2.imshow('img', src_img)\n",
    "cv2.waitKey(0)\n",
    "cv2.destroyAllWindows()"
   ]
  }
 ],
 "metadata": {
  "kernelspec": {
   "display_name": "Python 3 (ipykernel)",
   "language": "python",
   "name": "python3"
  },
  "language_info": {
   "codemirror_mode": {
    "name": "ipython",
    "version": 3
   },
   "file_extension": ".py",
   "mimetype": "text/x-python",
   "name": "python",
   "nbconvert_exporter": "python",
   "pygments_lexer": "ipython3",
   "version": "3.9.12"
  }
 },
 "nbformat": 4,
 "nbformat_minor": 5
}
