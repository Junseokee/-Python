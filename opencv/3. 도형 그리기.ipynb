{
 "cells": [
  {
   "cell_type": "markdown",
   "id": "6ccdd5e2",
   "metadata": {},
   "source": [
    "# 3. 도형 그리기"
   ]
  },
  {
   "cell_type": "markdown",
   "id": "a209fb50",
   "metadata": {},
   "source": [
    "## 빈 스케치북 만들기"
   ]
  },
  {
   "cell_type": "code",
   "execution_count": 8,
   "id": "387545f8",
   "metadata": {},
   "outputs": [],
   "source": [
    "import cv2\n",
    "import numpy as np\n",
    "\n",
    "# 세로 480 x 가로 640, 3 channel(RGB)에 해당하는 스케치북 만들기\n",
    "img = np.zeros((480,640,3), dtype=np.uint8)\n",
    "#opencv는 BGR 순서\n",
    "#img[:] = (255,255,255) # 전체 공간을 흰색으로 채우기\n",
    "\n",
    "# print(img)\n",
    "cv2.imshow('img',img)\n",
    "cv2.waitKey(0)\n",
    "cv2.destroyAllWindows()"
   ]
  },
  {
   "cell_type": "markdown",
   "id": "92f85155",
   "metadata": {},
   "source": [
    "## 일부 영역 색칠"
   ]
  },
  {
   "cell_type": "code",
   "execution_count": 10,
   "id": "828bb2c1",
   "metadata": {},
   "outputs": [],
   "source": [
    "import cv2\n",
    "import numpy as np\n",
    "\n",
    "img = np.zeros((480,640,3), dtype=np.uint8)\n",
    "img [100:200, 200:300] = (255,255,255)# [세로,가로]\n",
    "\n",
    "cv2.imshow('img',img)\n",
    "cv2.waitKey(0)\n",
    "cv2.destroyAllWindows()"
   ]
  },
  {
   "cell_type": "markdown",
   "id": "56bc8d3f",
   "metadata": {},
   "source": [
    "## 직선 그리기\n",
    "직선의 종류 (line type)\n",
    "\n",
    "1. cv2.LINE_4 : 상하좌우 4 방향으로 연결된 선\n",
    "1. cv2.LINE_8 : 대각선을 포함한 8방향으로 연결된 선 (기본값)\n",
    "1. cv2.LINE_AA : 부드러운 선(anti-aliasing)"
   ]
  },
  {
   "cell_type": "code",
   "execution_count": 12,
   "id": "89e9a40a",
   "metadata": {},
   "outputs": [],
   "source": [
    "import cv2\n",
    "import numpy as np\n",
    "\n",
    "img = np.zeros((480,640,3), dtype=np.uint8)\n",
    "\n",
    "COLOR = (0,255,255) # BGR : Yellow\n",
    "THICKNESS = 3 # 두께\n",
    "\n",
    "cv2.line(img, (50,100), (400, 50), COLOR, THICKNESS, cv2.LINE_8)\n",
    "cv2.line(img, (50,200), (400, 150), COLOR, THICKNESS, cv2.LINE_4)\n",
    "cv2.line(img, (50,300), (400, 250), COLOR, THICKNESS, cv2.LINE_AA)\n",
    "#cv2.line(그릴 위치, 시작점, 끝점, 색깔, 두께, 선 종류)\n",
    "\n",
    "cv2.imshow('img',img)\n",
    "cv2.waitKey(0)\n",
    "cv2.destroyAllWindows()"
   ]
  },
  {
   "cell_type": "markdown",
   "id": "e640e324",
   "metadata": {},
   "source": [
    "## 원 그리기"
   ]
  },
  {
   "cell_type": "code",
   "execution_count": 15,
   "id": "a024fd44",
   "metadata": {},
   "outputs": [],
   "source": [
    "import cv2\n",
    "import numpy as np\n",
    "\n",
    "img = np.zeros((480,640,3), dtype=np.uint8)\n",
    "\n",
    "COLOR = (255,255,0) # BGR : 옥색\n",
    "RADIUS = 50 # 반지름\n",
    "THICKNESS = 10 # 두께\n",
    "\n",
    "cv2.circle(img, (200,100), RADIUS, COLOR, THICKNESS, cv2.LINE_AA) # 속이 빈 원\n",
    "# cv2.circle(그릴위치, 원의 중심점, 반지름, 색깔, 두께, 선종류)\n",
    "\n",
    "cv2.circle(img, (400,100), RADIUS, COLOR, cv2.FILLED, cv2.LINE_AA) # 속이 꽉찬 원\n",
    "\n",
    "cv2.imshow('img',img)\n",
    "cv2.waitKey(0)\n",
    "cv2.destroyAllWindows()"
   ]
  },
  {
   "cell_type": "markdown",
   "id": "2361f4cc",
   "metadata": {},
   "source": [
    "## 사각형 그리기"
   ]
  },
  {
   "cell_type": "code",
   "execution_count": 17,
   "id": "fa225c06",
   "metadata": {},
   "outputs": [],
   "source": [
    "import cv2\n",
    "import numpy as np\n",
    "\n",
    "img = np.zeros((480,640,3), dtype=np.uint8)\n",
    "\n",
    "COLOR = (0,255,0) # BGR : 옥색\n",
    "THICKNESS = 5 # 두께\n",
    "\n",
    "# cv2.rectangle(그릴위치,왼쪽 위 좌표, 오른쪽 아래 좌표, 색깔, 두께)\n",
    "cv2.rectangle(img, (100,100), (200,200), COLOR, THICKNESS) # 속이 빈 사격형\n",
    "cv2.rectangle(img, (300,100), (400,300), COLOR, cv2.FILLED) # 속이 빈 사격형\n",
    "\n",
    "\n",
    "cv2.imshow('img',img)\n",
    "cv2.waitKey(0)\n",
    "cv2.destroyAllWindows()"
   ]
  },
  {
   "cell_type": "markdown",
   "id": "c039daee",
   "metadata": {},
   "source": [
    "## 다각형 그리기"
   ]
  },
  {
   "cell_type": "code",
   "execution_count": 23,
   "id": "0b0c2bed",
   "metadata": {},
   "outputs": [],
   "source": [
    "import cv2\n",
    "import numpy as np\n",
    "\n",
    "img = np.zeros((480,640,3), dtype=np.uint8)\n",
    "\n",
    "COLOR = (0,0,255) # BGR : red\n",
    "THICKNESS = 3 # 두께\n",
    "\n",
    "pts1 = np.array([[100, 100],[200, 100],[100, 200]])\n",
    "pts2 = np.array([[200, 100],[300, 100],[300, 200]])\n",
    "\n",
    "pts3 = np.array([[[100, 300],[200, 300],[100, 400]],[[200, 300],[300, 300],[300, 400]]])\n",
    "\n",
    "# cv2.polylines(그릴위치, 그릴 좌표들(리스트), 닫힘 여부(마지막 선), 색깔, 두께, 선 종류)\n",
    "# cv2.polylines(img, [pts1], True, COLOR, THICKNESS, cv2.LINE_AA)\n",
    "# cv2.polylines(img, [pts2], True, COLOR, THICKNESS, cv2.LINE_AA)\n",
    "\n",
    "cv2.polylines(img, [pts1,pts2], True, COLOR, THICKNESS, cv2.LINE_AA) # 두번째 인자는 리스트 값이기 때문에 여러개 그리기 가능\n",
    "\n",
    "cv2.fillPoly(img, pts3, COLOR, cv2.LINE_AA)\n",
    "# cv2.fillPoly(그릴위치, 그릴 좌표, 색깔 , 선종류)\n",
    "\n",
    "cv2.imshow('img',img)\n",
    "cv2.waitKey(0)\n",
    "cv2.destroyAllWindows()"
   ]
  }
 ],
 "metadata": {
  "kernelspec": {
   "display_name": "Python 3 (ipykernel)",
   "language": "python",
   "name": "python3"
  },
  "language_info": {
   "codemirror_mode": {
    "name": "ipython",
    "version": 3
   },
   "file_extension": ".py",
   "mimetype": "text/x-python",
   "name": "python",
   "nbconvert_exporter": "python",
   "pygments_lexer": "ipython3",
   "version": "3.9.12"
  }
 },
 "nbformat": 4,
 "nbformat_minor": 5
}
