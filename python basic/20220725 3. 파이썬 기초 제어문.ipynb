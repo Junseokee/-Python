{
 "cells": [
  {
   "cell_type": "markdown",
   "id": "72b4749e",
   "metadata": {},
   "source": [
    "## 조건문\n",
    "    - 조건이 참이면 실행\n",
    "    - 거짓이면 실행하지 않음\n",
    "    - 구조\n",
    "    if '조건식':\n",
    "        (참일때 출력)\n",
    "    "
   ]
  },
  {
   "cell_type": "code",
   "execution_count": 3,
   "id": "ff66e5cd",
   "metadata": {},
   "outputs": [
    {
     "name": "stdout",
     "output_type": "stream",
     "text": [
      "자산이 5000 원 있습니다.\n"
     ]
    }
   ],
   "source": [
    "money = 5000\n",
    "if money >= 4000:\n",
    "    print(\"자산이\",money, \"원 있습니다.\")"
   ]
  },
  {
   "cell_type": "code",
   "execution_count": 4,
   "id": "06f68169",
   "metadata": {},
   "outputs": [
    {
     "name": "stdout",
     "output_type": "stream",
     "text": [
      "숫자를 입력해주세요: 333\n"
     ]
    },
    {
     "data": {
      "text/plain": [
       "'333'"
      ]
     },
     "execution_count": 4,
     "metadata": {},
     "output_type": "execute_result"
    }
   ],
   "source": [
    "# input() 함수 사용자가 컴퓨터에게 정보 입력\n",
    "# print() 함수 컴퓨터가 사용자에게 정보 출력\n",
    "\n",
    "# input() 함수는 사용자에게 받은 값을 항상 문자열로 인식\n",
    "\n",
    "input(\"숫자를 입력해주세요: \")\n",
    "\n",
    "#숫자형으로 받기 int(input(\"숫자를 입력해주세요: \")) "
   ]
  },
  {
   "cell_type": "code",
   "execution_count": 8,
   "id": "e402a085",
   "metadata": {},
   "outputs": [
    {
     "name": "stdout",
     "output_type": "stream",
     "text": [
      "현재 가지고 계신 금액을 입력하세요 : 4400\n",
      "아아 톨 사이즈를 구입 할 수 있습니다.\n"
     ]
    }
   ],
   "source": [
    "#input 값을 이용해 변수 money에 할당하고\n",
    "# 4100 이상이면 구매가능을 출력\n",
    "\n",
    "money = int(input(\"현재 가지고 계신 금액을 입력하세요 : \"))\n",
    "\n",
    "if money >= 4100:\n",
    "    print(\"아아 톨 사이즈를 구입 할 수 있습니다.\")"
   ]
  },
  {
   "cell_type": "code",
   "execution_count": 9,
   "id": "17a1e419",
   "metadata": {},
   "outputs": [
    {
     "name": "stdout",
     "output_type": "stream",
     "text": [
      "500 미만\n",
      "Thanks\n"
     ]
    }
   ],
   "source": [
    "# if - else 구조\n",
    "money = 300\n",
    "if money >= 500:\n",
    "    print(\"500 이상\")\n",
    "else:\n",
    "    print(\"500 미만\")\n",
    "print(\"Thanks\")\n",
    "    "
   ]
  },
  {
   "cell_type": "code",
   "execution_count": 11,
   "id": "47662490",
   "metadata": {},
   "outputs": [
    {
     "name": "stdout",
     "output_type": "stream",
     "text": [
      "현재 가지고 계신 금액을 입력하세요 : 4200\n",
      "아아 톨 사이즈를 구입 할 수 있습니다.\n"
     ]
    }
   ],
   "source": [
    "#input 값을 이용해 변수 money에 할당하고\n",
    "# 4100 이상이면 구매가능을 출력\n",
    "# 4100 미만이면 구매불가를 출력\n",
    "money = int(input(\"현재 가지고 계신 금액을 입력하세요 : \"))\n",
    "\n",
    "if money >= 4100:\n",
    "    print(\"아아 톨 사이즈를 구입 할 수 있습니다.\")\n",
    "else:\n",
    "    print(\"아아 톨 사이즈를 구입할 수 없습니다.\")"
   ]
  },
  {
   "cell_type": "code",
   "execution_count": 14,
   "id": "bb17a2a1",
   "metadata": {},
   "outputs": [
    {
     "name": "stdout",
     "output_type": "stream",
     "text": [
      "나에겐 5000원 이상이 있다.\n"
     ]
    }
   ],
   "source": [
    "# if - elif - else\n",
    "# if와 else 사이에 여러번 사용 가능\n",
    "# 다중조건\n",
    "\n",
    "money = 5690\n",
    "if money >= 10000:\n",
    "    print(\"나에겐 10000원 이상이 있다.\")\n",
    "elif money >= 9000:\n",
    "    print(\"나에겐 9000원 이상이 있다.\")\n",
    "elif money >= 5000:\n",
    "    print(\"나에겐 5000원 이상이 있다.\")\n",
    "else:\n",
    "    print(\"집에 갈 차비에요\")"
   ]
  },
  {
   "cell_type": "code",
   "execution_count": 16,
   "id": "da426cf3",
   "metadata": {},
   "outputs": [
    {
     "name": "stdout",
     "output_type": "stream",
     "text": [
      "현재 가지고 계신 금액을 입력하세요 : 5000\n",
      "아아 그란데 사이즈를 구입 할 수 있습니다.\n"
     ]
    }
   ],
   "source": [
    "money = int(input(\"현재 가지고 계신 금액을 입력하세요 : \"))\n",
    "\n",
    "if money >= 4600:\n",
    "    print(\"아아 그란데 사이즈를 구입 할 수 있습니다.\")\n",
    "elif money >= 4100:\n",
    "    print(\"아아 톨 사이즈를 구입 할 수 있습니다.\")\n",
    "else: #생략 가능\n",
    "    print(\"안녕히가세요\")"
   ]
  },
  {
   "cell_type": "markdown",
   "id": "6728587e",
   "metadata": {},
   "source": [
    "## while 문\n",
    "    - 반복해서 수행해야 할 경우 while문을 사용,\n",
    "    - while문의 기본 구조\n",
    "        - while <조건>:\n",
    "        <수행할 문장 1>\n",
    "        <수행할 문장 2>\n",
    "        ...\n",
    "    - while문은 조건문이 참인 동안에 while문 아래의 문장이 반복해서 수행\n",
    "    - while to loop: #무한루프"
   ]
  },
  {
   "cell_type": "code",
   "execution_count": 17,
   "id": "b443bdaf",
   "metadata": {},
   "outputs": [
    {
     "name": "stdout",
     "output_type": "stream",
     "text": [
      "1번 출력되었습니다.\n",
      "2번 출력되었습니다.\n",
      "3번 출력되었습니다.\n",
      "4번 출력되었습니다.\n",
      "5번 출력되었습니다.\n",
      "6번 출력되었습니다.\n",
      "7번 출력되었습니다.\n",
      "8번 출력되었습니다.\n",
      "9번 출력되었습니다.\n",
      "10번 출력되었습니다.\n"
     ]
    }
   ],
   "source": [
    "i = 1\n",
    "while i <= 10:\n",
    "    print(f'{i}번 출력되었습니다.')\n",
    "    i+=1 # i = i+1"
   ]
  },
  {
   "cell_type": "code",
   "execution_count": 18,
   "id": "6e69435d",
   "metadata": {},
   "outputs": [
    {
     "name": "stdout",
     "output_type": "stream",
     "text": [
      "1번 출력 되었습니다.\n",
      "2번 출력 되었습니다.\n",
      "3번 출력 되었습니다.\n",
      "4번 출력 되었습니다.\n",
      "5번 출력 되었습니다.\n",
      "6번 출력 되었습니다.\n"
     ]
    }
   ],
   "source": [
    "#braek문\n",
    "i = 0\n",
    "while i <= 10:\n",
    "    i += 1\n",
    "    if i == 7:\n",
    "        break\n",
    "    print(f'{i}번 출력 되었습니다.')"
   ]
  },
  {
   "cell_type": "code",
   "execution_count": 20,
   "id": "ea92673f",
   "metadata": {},
   "outputs": [
    {
     "name": "stdout",
     "output_type": "stream",
     "text": [
      "2 번 출력되었습니다.\n",
      "4 번 출력되었습니다.\n",
      "6 번 출력되었습니다.\n",
      "8 번 출력되었습니다.\n",
      "10 번 출력되었습니다.\n"
     ]
    }
   ],
   "source": [
    "# continue문 아래의 문장은 실행하지 않고 반복문의 시작지점으로 돌아감\n",
    "\n",
    "i = 0\n",
    "while i <= 10:\n",
    "    i+=1\n",
    "    if i % 2== 1: # %은 나머지 출력\n",
    "        continue\n",
    "    print(i,\"번 출력되었습니다.\")"
   ]
  },
  {
   "cell_type": "code",
   "execution_count": 24,
   "id": "4152b245",
   "metadata": {},
   "outputs": [
    {
     "name": "stdout",
     "output_type": "stream",
     "text": [
      "투입 하신 금액은 : 500\n",
      "상품이 출력되었습니다.\n",
      "거스름돈은  0 입니다.\n",
      "투입 하신 금액은 : 1000\n",
      "상품이 출력되었습니다.\n",
      "거스름돈은  500 입니다.\n",
      "투입 하신 금액은 : 1000\n",
      "상품이 출력되었습니다.\n",
      "거스름돈은  500 입니다.\n",
      "투입 하신 금액은 : 2000\n",
      "상품이 출력되었습니다.\n",
      "거스름돈은  1500 입니다.\n",
      "투입 하신 금액은 : 1000\n",
      "상품이 출력되었습니다.\n",
      "거스름돈은  500 입니다.\n",
      "재고가 소진되었습니다.\n"
     ]
    }
   ],
   "source": [
    "stock = 5\n",
    "\n",
    "while stock >=0:\n",
    "    money = int(input(\"투입 하신 금액은 : \"))\n",
    "    print(\"상품이 출력되었습니다.\")\n",
    "    if money >= 500:\n",
    "        print(\"거스름돈은 \", money-500,\"입니다.\")\n",
    "    stock -= 1\n",
    "    if stock == 0:\n",
    "        print(\"재고가 소진되었습니다.\")\n",
    "        break\n",
    "    "
   ]
  },
  {
   "cell_type": "code",
   "execution_count": null,
   "id": "e60bcbec",
   "metadata": {},
   "outputs": [],
   "source": []
  },
  {
   "cell_type": "code",
   "execution_count": null,
   "id": "6bab39e3",
   "metadata": {},
   "outputs": [],
   "source": []
  },
  {
   "cell_type": "code",
   "execution_count": null,
   "id": "916e2d48",
   "metadata": {},
   "outputs": [],
   "source": []
  }
 ],
 "metadata": {
  "kernelspec": {
   "display_name": "Python 3 (ipykernel)",
   "language": "python",
   "name": "python3"
  },
  "language_info": {
   "codemirror_mode": {
    "name": "ipython",
    "version": 3
   },
   "file_extension": ".py",
   "mimetype": "text/x-python",
   "name": "python",
   "nbconvert_exporter": "python",
   "pygments_lexer": "ipython3",
   "version": "3.9.7"
  },
  "toc": {
   "base_numbering": 1,
   "nav_menu": {},
   "number_sections": true,
   "sideBar": true,
   "skip_h1_title": false,
   "title_cell": "Table of Contents",
   "title_sidebar": "Contents",
   "toc_cell": false,
   "toc_position": {},
   "toc_section_display": true,
   "toc_window_display": false
  }
 },
 "nbformat": 4,
 "nbformat_minor": 5
}
