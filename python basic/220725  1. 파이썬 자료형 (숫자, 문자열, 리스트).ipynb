{
 "cells": [
  {
   "cell_type": "code",
   "execution_count": 1,
   "id": "3ce59326",
   "metadata": {},
   "outputs": [],
   "source": [
    "# = 주석"
   ]
  },
  {
   "cell_type": "code",
   "execution_count": 2,
   "id": "abf07f16",
   "metadata": {},
   "outputs": [],
   "source": [
    "# 숫자형 : 정수로 표현가능\n",
    "# 산술 연산 가능\n",
    "a = 567"
   ]
  },
  {
   "cell_type": "code",
   "execution_count": 6,
   "id": "32b9bc2f",
   "metadata": {},
   "outputs": [
    {
     "data": {
      "text/plain": [
       "567"
      ]
     },
     "execution_count": 6,
     "metadata": {},
     "output_type": "execute_result"
    }
   ],
   "source": [
    "a"
   ]
  },
  {
   "cell_type": "code",
   "execution_count": 7,
   "id": "2a5fb298",
   "metadata": {},
   "outputs": [
    {
     "data": {
      "text/plain": [
       "('a', 'a')"
      ]
     },
     "execution_count": 7,
     "metadata": {},
     "output_type": "execute_result"
    }
   ],
   "source": [
    "'a', \"a\""
   ]
  },
  {
   "cell_type": "code",
   "execution_count": 8,
   "id": "1778e1d6",
   "metadata": {},
   "outputs": [
    {
     "data": {
      "text/plain": [
       "612"
      ]
     },
     "execution_count": 8,
     "metadata": {},
     "output_type": "execute_result"
    }
   ],
   "source": [
    "a+45"
   ]
  },
  {
   "cell_type": "code",
   "execution_count": 9,
   "id": "c12cd5d1",
   "metadata": {},
   "outputs": [],
   "source": [
    "a = -123"
   ]
  },
  {
   "cell_type": "code",
   "execution_count": 10,
   "id": "1075fb4c",
   "metadata": {},
   "outputs": [
    {
     "data": {
      "text/plain": [
       "-123"
      ]
     },
     "execution_count": 10,
     "metadata": {},
     "output_type": "execute_result"
    }
   ],
   "source": [
    "a"
   ]
  },
  {
   "cell_type": "code",
   "execution_count": 11,
   "id": "eb526a64",
   "metadata": {},
   "outputs": [
    {
     "data": {
      "text/plain": [
       "0"
      ]
     },
     "execution_count": 11,
     "metadata": {},
     "output_type": "execute_result"
    }
   ],
   "source": [
    "a-a"
   ]
  },
  {
   "cell_type": "code",
   "execution_count": 12,
   "id": "40ccbf64",
   "metadata": {},
   "outputs": [],
   "source": [
    "a= 123\n",
    "b= 567"
   ]
  },
  {
   "cell_type": "code",
   "execution_count": 13,
   "id": "588528e9",
   "metadata": {},
   "outputs": [
    {
     "data": {
      "text/plain": [
       "690"
      ]
     },
     "execution_count": 13,
     "metadata": {},
     "output_type": "execute_result"
    }
   ],
   "source": [
    "a+b"
   ]
  },
  {
   "cell_type": "code",
   "execution_count": 14,
   "id": "8f37a884",
   "metadata": {},
   "outputs": [],
   "source": [
    "# 424000000.0\n",
    "a = 4.24E10"
   ]
  },
  {
   "cell_type": "code",
   "execution_count": 15,
   "id": "8a60ffb2",
   "metadata": {},
   "outputs": [
    {
     "data": {
      "text/plain": [
       "42400000000.0"
      ]
     },
     "execution_count": 15,
     "metadata": {},
     "output_type": "execute_result"
    }
   ],
   "source": [
    "a"
   ]
  },
  {
   "cell_type": "code",
   "execution_count": 16,
   "id": "2d0aaf97",
   "metadata": {},
   "outputs": [
    {
     "data": {
      "text/plain": [
       "0.00424"
      ]
     },
     "execution_count": 16,
     "metadata": {},
     "output_type": "execute_result"
    }
   ],
   "source": [
    "b = 4.24E-3\n",
    "b"
   ]
  },
  {
   "cell_type": "code",
   "execution_count": 23,
   "id": "68535c7e",
   "metadata": {},
   "outputs": [
    {
     "data": {
      "text/plain": [
       "127"
      ]
     },
     "execution_count": 23,
     "metadata": {},
     "output_type": "execute_result"
    }
   ],
   "source": [
    "#8진수\n",
    "a = 0o177 # 숫자 0과 알파벳 o를 같이 써줌\n",
    "a"
   ]
  },
  {
   "cell_type": "code",
   "execution_count": 24,
   "id": "b24214c8",
   "metadata": {},
   "outputs": [
    {
     "data": {
      "text/plain": [
       "2303"
      ]
     },
     "execution_count": 24,
     "metadata": {},
     "output_type": "execute_result"
    }
   ],
   "source": [
    "#16진수\n",
    "a = 0x8ff # 숫자0과 알파벳 x를 같이 써줌\n",
    "a"
   ]
  },
  {
   "cell_type": "code",
   "execution_count": 25,
   "id": "376881fe",
   "metadata": {},
   "outputs": [
    {
     "data": {
      "text/plain": [
       "10"
      ]
     },
     "execution_count": 25,
     "metadata": {},
     "output_type": "execute_result"
    }
   ],
   "source": [
    "#2진수\n",
    "a = 0b01010 # 숫자 0과 알파벳 b를 같이 써줌\n",
    "a"
   ]
  },
  {
   "cell_type": "code",
   "execution_count": 29,
   "id": "e96834bb",
   "metadata": {},
   "outputs": [],
   "source": [
    "# 따옴표 사용법\n",
    "# '', \" \" , ''' ''', \"\"\"  \"\"\"\n",
    "food = 'python\\'s favorite food is perl' # 따옴표앞에\\(이스케이프 문자)"
   ]
  },
  {
   "cell_type": "code",
   "execution_count": 30,
   "id": "9cd4945e",
   "metadata": {},
   "outputs": [
    {
     "data": {
      "text/plain": [
       "'Life is too short \\nYou need python'"
      ]
     },
     "execution_count": 30,
     "metadata": {},
     "output_type": "execute_result"
    }
   ],
   "source": [
    "# 1. 줄바꿈 \\n\n",
    "multiline = \"Life is too short \\nYou need python\"\n",
    "multiline"
   ]
  },
  {
   "cell_type": "code",
   "execution_count": 31,
   "id": "53f5529d",
   "metadata": {},
   "outputs": [
    {
     "name": "stdout",
     "output_type": "stream",
     "text": [
      "Life is too short \n",
      "You need python\n"
     ]
    }
   ],
   "source": [
    "print(multiline)"
   ]
  },
  {
   "cell_type": "code",
   "execution_count": 32,
   "id": "91da375e",
   "metadata": {},
   "outputs": [
    {
     "data": {
      "text/plain": [
       "'hi hello\\nnamastte'"
      ]
     },
     "execution_count": 32,
     "metadata": {},
     "output_type": "execute_result"
    }
   ],
   "source": [
    "multiline = \"\"\"hi hello\n",
    "namastte\"\"\"\n",
    "multiline"
   ]
  },
  {
   "cell_type": "code",
   "execution_count": 33,
   "id": "5700df24",
   "metadata": {},
   "outputs": [
    {
     "name": "stdout",
     "output_type": "stream",
     "text": [
      "hi hello\n",
      "namastte\n"
     ]
    }
   ],
   "source": [
    "print(multiline)"
   ]
  },
  {
   "cell_type": "markdown",
   "id": "7a546f01",
   "metadata": {},
   "source": [
    "문자열 연산은 더하기 곱하기만 가능\n",
    "더하기는 문자열끼리만, 곱하기는 정수와 같이"
   ]
  },
  {
   "cell_type": "code",
   "execution_count": 35,
   "id": "10fb04b4",
   "metadata": {},
   "outputs": [
    {
     "name": "stdout",
     "output_type": "stream",
     "text": [
      "hello\n",
      "----------------------------------------------------------------------------------------------------\n"
     ]
    }
   ],
   "source": [
    "a = 'hel'\n",
    "b = 'lo'\n",
    "print(a+b)\n",
    "print(\"-\" * 100)"
   ]
  },
  {
   "cell_type": "markdown",
   "id": "6fa3e9f7",
   "metadata": {},
   "source": [
    "##### 문자열 인덱싱과 슬라이싱"
   ]
  },
  {
   "cell_type": "code",
   "execution_count": 37,
   "id": "4f1bb2b2",
   "metadata": {},
   "outputs": [
    {
     "name": "stdout",
     "output_type": "stream",
     "text": [
      "t e n\n"
     ]
    }
   ],
   "source": [
    "a = \"Life is too short, You need Python\"\n",
    "print(a[8],a[24],a[33])"
   ]
  },
  {
   "cell_type": "code",
   "execution_count": 38,
   "id": "9eade006",
   "metadata": {},
   "outputs": [
    {
     "data": {
      "text/plain": [
       "'n'"
      ]
     },
     "execution_count": 38,
     "metadata": {},
     "output_type": "execute_result"
    }
   ],
   "source": [
    "a[-1]"
   ]
  },
  {
   "cell_type": "code",
   "execution_count": 40,
   "id": "3488dfb8",
   "metadata": {},
   "outputs": [
    {
     "data": {
      "text/plain": [
       "'Lfio'"
      ]
     },
     "execution_count": 40,
     "metadata": {},
     "output_type": "execute_result"
    }
   ],
   "source": [
    "#슬라이싱\n",
    "b = a[0]+a[2]+a[5]+a[9]\n",
    "b"
   ]
  },
  {
   "cell_type": "code",
   "execution_count": 42,
   "id": "20ff847d",
   "metadata": {},
   "outputs": [
    {
     "data": {
      "text/plain": [
       "'Life is too short,'"
      ]
     },
     "execution_count": 42,
     "metadata": {},
     "output_type": "execute_result"
    }
   ],
   "source": [
    "c = a[0:18]\n",
    "c"
   ]
  },
  {
   "cell_type": "code",
   "execution_count": 43,
   "id": "84a69d71",
   "metadata": {},
   "outputs": [
    {
     "data": {
      "text/plain": [
       "'Life is too short,'"
      ]
     },
     "execution_count": 43,
     "metadata": {},
     "output_type": "execute_result"
    }
   ],
   "source": [
    "c = a[:18]\n",
    "c"
   ]
  },
  {
   "cell_type": "code",
   "execution_count": 44,
   "id": "5cad108d",
   "metadata": {},
   "outputs": [
    {
     "data": {
      "text/plain": [
       "'You need Python'"
      ]
     },
     "execution_count": 44,
     "metadata": {},
     "output_type": "execute_result"
    }
   ],
   "source": [
    "c = a[19:]\n",
    "c"
   ]
  },
  {
   "cell_type": "code",
   "execution_count": 46,
   "id": "80beff9a",
   "metadata": {},
   "outputs": [
    {
     "data": {
      "text/plain": [
       "'Life is too short, You need Python'"
      ]
     },
     "execution_count": 46,
     "metadata": {},
     "output_type": "execute_result"
    }
   ],
   "source": [
    "c = a\n",
    "c"
   ]
  },
  {
   "cell_type": "code",
   "execution_count": 47,
   "id": "2c906594",
   "metadata": {},
   "outputs": [
    {
     "data": {
      "text/plain": [
       "'Life is too short, You need Python'"
      ]
     },
     "execution_count": 47,
     "metadata": {},
     "output_type": "execute_result"
    }
   ],
   "source": [
    "c = a[:]\n",
    "c"
   ]
  },
  {
   "cell_type": "code",
   "execution_count": 49,
   "id": "d55026e7",
   "metadata": {},
   "outputs": [],
   "source": [
    "a = \"20010331Rainy\"\n",
    "date= a[:8]\n",
    "weather = a[8:]"
   ]
  },
  {
   "cell_type": "code",
   "execution_count": 50,
   "id": "57b0f129",
   "metadata": {},
   "outputs": [
    {
     "data": {
      "text/plain": [
       "'20010331'"
      ]
     },
     "execution_count": 50,
     "metadata": {},
     "output_type": "execute_result"
    }
   ],
   "source": [
    "date"
   ]
  },
  {
   "cell_type": "code",
   "execution_count": 51,
   "id": "f8afd9f9",
   "metadata": {},
   "outputs": [
    {
     "data": {
      "text/plain": [
       "'Rainy'"
      ]
     },
     "execution_count": 51,
     "metadata": {},
     "output_type": "execute_result"
    }
   ],
   "source": [
    "weather"
   ]
  },
  {
   "cell_type": "code",
   "execution_count": 68,
   "id": "591c5549",
   "metadata": {},
   "outputs": [
    {
     "name": "stdout",
     "output_type": "stream",
     "text": [
      "year =  2001\n",
      "month =  03\n",
      "31\n",
      "Rainy\n"
     ]
    }
   ],
   "source": [
    "year = a[:4]\n",
    "month = a[4:6]\n",
    "date = a[6:8]\n",
    "weather = a[8:]\n",
    "print('year = ', year)\n",
    "print('month = ', month)\n",
    "print(date)\n",
    "print(weather)"
   ]
  },
  {
   "cell_type": "markdown",
   "id": "ae351635",
   "metadata": {},
   "source": [
    "#### 문자열 formatting\n",
    "%s = 문자열\n",
    "%d = 정수\n",
    "%% = Literal % (%문자 자체)"
   ]
  },
  {
   "cell_type": "code",
   "execution_count": 70,
   "id": "cb27a0eb",
   "metadata": {},
   "outputs": [
    {
     "data": {
      "text/plain": [
       "'나는 사과를 31개 먹었습니다.'"
      ]
     },
     "execution_count": 70,
     "metadata": {},
     "output_type": "execute_result"
    }
   ],
   "source": [
    "'나는 사과를 %d개 먹었습니다.'%int(date)"
   ]
  },
  {
   "cell_type": "code",
   "execution_count": 71,
   "id": "6135c990",
   "metadata": {},
   "outputs": [
    {
     "data": {
      "text/plain": [
       "'나는 사과를 5개 먹었습니다.'"
      ]
     },
     "execution_count": 71,
     "metadata": {},
     "output_type": "execute_result"
    }
   ],
   "source": [
    "'나는 사과를 %d개 먹었습니다.'%(3+2)"
   ]
  },
  {
   "cell_type": "code",
   "execution_count": 72,
   "id": "8df8d8e4",
   "metadata": {},
   "outputs": [
    {
     "data": {
      "text/plain": [
       "'나는 사과를 129312949120개 먹었습니다.'"
      ]
     },
     "execution_count": 72,
     "metadata": {},
     "output_type": "execute_result"
    }
   ],
   "source": [
    "eat = 129312949120\n",
    "'나는 사과를 %d개 먹었습니다.'%eat"
   ]
  },
  {
   "cell_type": "code",
   "execution_count": 73,
   "id": "e5b60614",
   "metadata": {},
   "outputs": [
    {
     "data": {
      "text/plain": [
       "'나는 사과를 다섯개 먹었습니다.'"
      ]
     },
     "execution_count": 73,
     "metadata": {},
     "output_type": "execute_result"
    }
   ],
   "source": [
    "'나는 사과를 %s개 먹었습니다.'%'다섯'"
   ]
  },
  {
   "cell_type": "code",
   "execution_count": 74,
   "id": "5defaefe",
   "metadata": {},
   "outputs": [
    {
     "data": {
      "text/plain": [
       "'나는 오일 동안 사과를 5개 먹었습니다.'"
      ]
     },
     "execution_count": 74,
     "metadata": {},
     "output_type": "execute_result"
    }
   ],
   "source": [
    "'나는 %s일 동안 사과를 %d개 먹었습니다.'%(\"오\",5)"
   ]
  },
  {
   "cell_type": "code",
   "execution_count": 75,
   "id": "830a1910",
   "metadata": {},
   "outputs": [
    {
     "data": {
      "text/plain": [
       "'나는 오일 동안 사과를 10개 먹었습니다.'"
      ]
     },
     "execution_count": 75,
     "metadata": {},
     "output_type": "execute_result"
    }
   ],
   "source": [
    "day = \"오\"\n",
    "eat = 10\n",
    "'나는 %s일 동안 사과를 %d개 먹었습니다.'%(day,eat)"
   ]
  },
  {
   "cell_type": "code",
   "execution_count": 76,
   "id": "5abe0895",
   "metadata": {},
   "outputs": [
    {
     "data": {
      "text/plain": [
       "'        hi'"
      ]
     },
     "execution_count": 76,
     "metadata": {},
     "output_type": "execute_result"
    }
   ],
   "source": [
    "# 정렬과 공백\n",
    "\"%10s\" % \"hi\" #문자 앞으로 빈칸 할당"
   ]
  },
  {
   "cell_type": "code",
   "execution_count": 77,
   "id": "54c3e976",
   "metadata": {},
   "outputs": [
    {
     "data": {
      "text/plain": [
       "'hi        '"
      ]
     },
     "execution_count": 77,
     "metadata": {},
     "output_type": "execute_result"
    }
   ],
   "source": [
    "\"%-10s\" % \"hi\" #문자 뒤로 빈칸 할당"
   ]
  },
  {
   "cell_type": "code",
   "execution_count": 78,
   "id": "c02dc1a5",
   "metadata": {},
   "outputs": [
    {
     "data": {
      "text/plain": [
       "'hi        jane.'"
      ]
     },
     "execution_count": 78,
     "metadata": {},
     "output_type": "execute_result"
    }
   ],
   "source": [
    "\"%-10sjane.\" % 'hi'"
   ]
  },
  {
   "cell_type": "code",
   "execution_count": 79,
   "id": "7d3a6565",
   "metadata": {},
   "outputs": [
    {
     "data": {
      "text/plain": [
       "'3.1416'"
      ]
     },
     "execution_count": 79,
     "metadata": {},
     "output_type": "execute_result"
    }
   ],
   "source": [
    "#소수점 자리수 지정\n",
    "'%0.4f' %3.141592"
   ]
  },
  {
   "cell_type": "code",
   "execution_count": 80,
   "id": "b25d754f",
   "metadata": {},
   "outputs": [
    {
     "data": {
      "text/plain": [
       "'I eat 3 apples'"
      ]
     },
     "execution_count": 80,
     "metadata": {},
     "output_type": "execute_result"
    }
   ],
   "source": [
    "\"I eat {0} apples\".format(3)"
   ]
  },
  {
   "cell_type": "code",
   "execution_count": 82,
   "id": "8c9db555",
   "metadata": {},
   "outputs": [
    {
     "data": {
      "text/plain": [
       "'I eat five apples'"
      ]
     },
     "execution_count": 82,
     "metadata": {},
     "output_type": "execute_result"
    }
   ],
   "source": [
    "\"I eat {0} apples\".format(\"five\")"
   ]
  },
  {
   "cell_type": "code",
   "execution_count": 85,
   "id": "aad03c70",
   "metadata": {},
   "outputs": [
    {
     "data": {
      "text/plain": [
       "'I ate 10 apples, so I was sick for three days.'"
      ]
     },
     "execution_count": 85,
     "metadata": {},
     "output_type": "execute_result"
    }
   ],
   "source": [
    "number = 10\n",
    "day = \"three\"\n",
    "\"I ate {0} apples, so I was sick for {1} days.\".format(number, day)"
   ]
  },
  {
   "cell_type": "code",
   "execution_count": 86,
   "id": "1d0ba276",
   "metadata": {},
   "outputs": [
    {
     "data": {
      "text/plain": [
       "'I ate 100 apples, so I was sick for fifty days.'"
      ]
     },
     "execution_count": 86,
     "metadata": {},
     "output_type": "execute_result"
    }
   ],
   "source": [
    "\"I ate {number} apples, so I was sick for {day} days.\".format(number = 100\n",
    "                                                              ,day = 'fifty')"
   ]
  },
  {
   "cell_type": "code",
   "execution_count": 87,
   "id": "c27d061f",
   "metadata": {},
   "outputs": [
    {
     "data": {
      "text/plain": [
       "'hi        '"
      ]
     },
     "execution_count": 87,
     "metadata": {},
     "output_type": "execute_result"
    }
   ],
   "source": [
    "#왼쪽 정렬\n",
    "\"{0:<10}\".format(\"hi\")"
   ]
  },
  {
   "cell_type": "code",
   "execution_count": 88,
   "id": "67f3437b",
   "metadata": {},
   "outputs": [
    {
     "data": {
      "text/plain": [
       "'    hi    '"
      ]
     },
     "execution_count": 88,
     "metadata": {},
     "output_type": "execute_result"
    }
   ],
   "source": [
    "#가운데 정렬\n",
    "\"{0:^10}\".format(\"hi\")"
   ]
  },
  {
   "cell_type": "code",
   "execution_count": 89,
   "id": "f56862ff",
   "metadata": {},
   "outputs": [
    {
     "data": {
      "text/plain": [
       "'====hi===='"
      ]
     },
     "execution_count": 89,
     "metadata": {},
     "output_type": "execute_result"
    }
   ],
   "source": [
    "\"{0:=^10}\".format(\"hi\")"
   ]
  },
  {
   "cell_type": "code",
   "execution_count": 90,
   "id": "d2e4316f",
   "metadata": {},
   "outputs": [
    {
     "data": {
      "text/plain": [
       "'sssshissss'"
      ]
     },
     "execution_count": 90,
     "metadata": {},
     "output_type": "execute_result"
    }
   ],
   "source": [
    "\"{0:s^10}\".format(\"hi\")"
   ]
  },
  {
   "cell_type": "code",
   "execution_count": 91,
   "id": "d4b03357",
   "metadata": {},
   "outputs": [
    {
     "data": {
      "text/plain": [
       "'나의 이름은 홍길동입니다. 나이는 30'"
      ]
     },
     "execution_count": 91,
     "metadata": {},
     "output_type": "execute_result"
    }
   ],
   "source": [
    "#f 문자열 포매팅\n",
    "name = '홍길동'\n",
    "age = 30\n",
    "f'나의 이름은 {name}입니다. 나이는 {age}'"
   ]
  },
  {
   "cell_type": "code",
   "execution_count": 94,
   "id": "918446ad",
   "metadata": {},
   "outputs": [
    {
     "data": {
      "text/plain": [
       "'나의 이름은홍길동입니다. 나이는30입니다'"
      ]
     },
     "execution_count": 94,
     "metadata": {},
     "output_type": "execute_result"
    }
   ],
   "source": [
    "name = '홍길동'\n",
    "age = 30\n",
    "'나의 이름은' +name+ '입니다. 나이는' +str(age) + '입니다'"
   ]
  },
  {
   "cell_type": "code",
   "execution_count": 96,
   "id": "0276e633",
   "metadata": {},
   "outputs": [
    {
     "data": {
      "text/plain": [
       "2"
      ]
     },
     "execution_count": 96,
     "metadata": {},
     "output_type": "execute_result"
    }
   ],
   "source": [
    "# 문자 갯수 세기\n",
    "a = 'hobby'\n",
    "a.count(\"b\")"
   ]
  },
  {
   "cell_type": "code",
   "execution_count": 98,
   "id": "cb291a17",
   "metadata": {},
   "outputs": [
    {
     "data": {
      "text/plain": [
       "3"
      ]
     },
     "execution_count": 98,
     "metadata": {},
     "output_type": "execute_result"
    }
   ],
   "source": [
    "a = 'Python is the best choice'\n",
    "a.count('t')\n",
    "'Python is the best choice'.count('t')"
   ]
  },
  {
   "cell_type": "code",
   "execution_count": 99,
   "id": "d06a78c4",
   "metadata": {},
   "outputs": [
    {
     "data": {
      "text/plain": [
       "7"
      ]
     },
     "execution_count": 99,
     "metadata": {},
     "output_type": "execute_result"
    }
   ],
   "source": [
    "# 문자열에서 해당 텍스트 위치 구하기 -> 많이사용\n",
    "a = \"python is the best choice\"\n",
    "a.find('i')"
   ]
  },
  {
   "cell_type": "code",
   "execution_count": 100,
   "id": "84d5fca3",
   "metadata": {},
   "outputs": [
    {
     "data": {
      "text/plain": [
       "-1"
      ]
     },
     "execution_count": 100,
     "metadata": {},
     "output_type": "execute_result"
    }
   ],
   "source": [
    "a.find('k') #없으면 -1"
   ]
  },
  {
   "cell_type": "code",
   "execution_count": 101,
   "id": "27de85f9",
   "metadata": {},
   "outputs": [
    {
     "data": {
      "text/plain": [
       "'a,b,c,d,e,f,g,h,i,j,k,l,m,n,o,p'"
      ]
     },
     "execution_count": 101,
     "metadata": {},
     "output_type": "execute_result"
    }
   ],
   "source": [
    "# 문자열 삽입\n",
    "','.join('abcdefghijklmnop')"
   ]
  },
  {
   "cell_type": "code",
   "execution_count": 102,
   "id": "40c64505",
   "metadata": {},
   "outputs": [
    {
     "data": {
      "text/plain": [
       "'a,b,c'"
      ]
     },
     "execution_count": 102,
     "metadata": {},
     "output_type": "execute_result"
    }
   ],
   "source": [
    "\",\".join(['a','b','c'])"
   ]
  },
  {
   "cell_type": "code",
   "execution_count": 103,
   "id": "bd5464d1",
   "metadata": {},
   "outputs": [
    {
     "data": {
      "text/plain": [
       "'abcdefghijklmnop'"
      ]
     },
     "execution_count": 103,
     "metadata": {},
     "output_type": "execute_result"
    }
   ],
   "source": [
    "''.join('abcdefghijklmnop')"
   ]
  },
  {
   "cell_type": "code",
   "execution_count": 104,
   "id": "b0865cb5",
   "metadata": {},
   "outputs": [
    {
     "data": {
      "text/plain": [
       "'a b c d e f g h i j k l m n o p'"
      ]
     },
     "execution_count": 104,
     "metadata": {},
     "output_type": "execute_result"
    }
   ],
   "source": [
    "' '.join('abcdefghijklmnop')"
   ]
  },
  {
   "cell_type": "code",
   "execution_count": 106,
   "id": "3c24b0f4",
   "metadata": {},
   "outputs": [],
   "source": [
    "#대문자 a.upper, 소문자 b.lower\n",
    "#왼쪽 공백 지우기(a.lstrip()), 오른쪽 공백 지우기(a.rstrip)\n",
    "#양쪽 공백 지우기(a.strip())"
   ]
  },
  {
   "cell_type": "code",
   "execution_count": 107,
   "id": "39208f16",
   "metadata": {},
   "outputs": [
    {
     "data": {
      "text/plain": [
       "'Your Leg is too short'"
      ]
     },
     "execution_count": 107,
     "metadata": {},
     "output_type": "execute_result"
    }
   ],
   "source": [
    "#문자열 바꾸기 replace -> 많이 사용\n",
    "a = 'Life is too short'\n",
    "a.replace('Life', 'Your Leg')"
   ]
  },
  {
   "cell_type": "code",
   "execution_count": 108,
   "id": "3dace141",
   "metadata": {},
   "outputs": [
    {
     "data": {
      "text/plain": [
       "'Lifeistooshort'"
      ]
     },
     "execution_count": 108,
     "metadata": {},
     "output_type": "execute_result"
    }
   ],
   "source": [
    "a.replace(' ','')"
   ]
  },
  {
   "cell_type": "code",
   "execution_count": 109,
   "id": "7e13ef25",
   "metadata": {},
   "outputs": [
    {
     "data": {
      "text/plain": [
       "['Life', 'is', 'too', 'short']"
      ]
     },
     "execution_count": 109,
     "metadata": {},
     "output_type": "execute_result"
    }
   ],
   "source": [
    "#문자열 나누기(split) <- 많이 사용\n",
    "a = 'Life is too short'\n",
    "a.split() #defult <- 공백 기준"
   ]
  },
  {
   "cell_type": "code",
   "execution_count": 110,
   "id": "7c4feec5",
   "metadata": {},
   "outputs": [
    {
     "data": {
      "text/plain": [
       "['a', 'b', 'c', 'd']"
      ]
     },
     "execution_count": 110,
     "metadata": {},
     "output_type": "execute_result"
    }
   ],
   "source": [
    "a = 'a,b,c,d'\n",
    "a.split(\",\")"
   ]
  },
  {
   "cell_type": "code",
   "execution_count": 113,
   "id": "b6d89b63",
   "metadata": {},
   "outputs": [
    {
     "data": {
      "text/plain": [
       "['2021', '04', '29', 'rainy']"
      ]
     },
     "execution_count": 113,
     "metadata": {},
     "output_type": "execute_result"
    }
   ],
   "source": [
    "date = \"2021/04/29/rainy\"\n",
    "date = date.split(\"/\")\n",
    "date"
   ]
  },
  {
   "cell_type": "markdown",
   "id": "3be7c22a",
   "metadata": {},
   "source": [
    "## 리스트 자료형"
   ]
  },
  {
   "cell_type": "code",
   "execution_count": 115,
   "id": "5b8436f4",
   "metadata": {},
   "outputs": [],
   "source": [
    "#빈리스트 만들기\n",
    "a = []\n",
    "b = list()"
   ]
  },
  {
   "cell_type": "code",
   "execution_count": 116,
   "id": "06686b2d",
   "metadata": {},
   "outputs": [],
   "source": [
    "#리스트는 안에 자료형이 달라도 괜찮음\n",
    "#리스트안에 리스트 가능\n",
    "#리스트도 인덱싱 슬라이싱 가능"
   ]
  },
  {
   "cell_type": "code",
   "execution_count": 118,
   "id": "32755f94",
   "metadata": {},
   "outputs": [],
   "source": [
    "c =[1,2, 'test']"
   ]
  },
  {
   "cell_type": "code",
   "execution_count": 121,
   "id": "d7019d97",
   "metadata": {},
   "outputs": [
    {
     "data": {
      "text/plain": [
       "'testtest'"
      ]
     },
     "execution_count": 121,
     "metadata": {},
     "output_type": "execute_result"
    }
   ],
   "source": [
    "c[2]*c[1]"
   ]
  },
  {
   "cell_type": "code",
   "execution_count": 122,
   "id": "40bc2adc",
   "metadata": {},
   "outputs": [
    {
     "data": {
      "text/plain": [
       "[1, 2, 3, ['python', 'fun']]"
      ]
     },
     "execution_count": 122,
     "metadata": {},
     "output_type": "execute_result"
    }
   ],
   "source": [
    "a = [1,2,3,['python','fun']]\n",
    "a"
   ]
  },
  {
   "cell_type": "code",
   "execution_count": 123,
   "id": "5b2d958b",
   "metadata": {},
   "outputs": [
    {
     "data": {
      "text/plain": [
       "'fun'"
      ]
     },
     "execution_count": 123,
     "metadata": {},
     "output_type": "execute_result"
    }
   ],
   "source": [
    "a[3][1]"
   ]
  },
  {
   "cell_type": "code",
   "execution_count": 124,
   "id": "7bd0f98b",
   "metadata": {},
   "outputs": [
    {
     "data": {
      "text/plain": [
       "5"
      ]
     },
     "execution_count": 124,
     "metadata": {},
     "output_type": "execute_result"
    }
   ],
   "source": [
    "a = [1,2,3,4,5]\n",
    "a[2]+2"
   ]
  },
  {
   "cell_type": "code",
   "execution_count": 125,
   "id": "af8dd5a1",
   "metadata": {},
   "outputs": [
    {
     "data": {
      "text/plain": [
       "5"
      ]
     },
     "execution_count": 125,
     "metadata": {},
     "output_type": "execute_result"
    }
   ],
   "source": [
    "#리스트 길이\n",
    "len(a)"
   ]
  },
  {
   "cell_type": "code",
   "execution_count": 126,
   "id": "a53a1ba0",
   "metadata": {},
   "outputs": [
    {
     "data": {
      "text/plain": [
       "'hihihihi'"
      ]
     },
     "execution_count": 126,
     "metadata": {},
     "output_type": "execute_result"
    }
   ],
   "source": [
    "a[3]*'hi'"
   ]
  },
  {
   "cell_type": "code",
   "execution_count": 130,
   "id": "ad0391d6",
   "metadata": {},
   "outputs": [
    {
     "data": {
      "text/plain": [
       "['1', '2', '3']"
      ]
     },
     "execution_count": 130,
     "metadata": {},
     "output_type": "execute_result"
    }
   ],
   "source": [
    "list(str(123))"
   ]
  },
  {
   "cell_type": "markdown",
   "id": "add8837c",
   "metadata": {},
   "source": [
    "## 리스트 수정과 삭제"
   ]
  },
  {
   "cell_type": "code",
   "execution_count": 135,
   "id": "596e78d3",
   "metadata": {},
   "outputs": [
    {
     "name": "stdout",
     "output_type": "stream",
     "text": [
      "[1, 4, 3]\n"
     ]
    }
   ],
   "source": [
    "a = [1,2,3]\n",
    "a[1] = 4\n",
    "print(a)"
   ]
  },
  {
   "cell_type": "code",
   "execution_count": 136,
   "id": "ccc34c5d",
   "metadata": {},
   "outputs": [],
   "source": [
    "del a[1]"
   ]
  },
  {
   "cell_type": "code",
   "execution_count": 137,
   "id": "343d3311",
   "metadata": {},
   "outputs": [
    {
     "data": {
      "text/plain": [
       "[1, 3]"
      ]
     },
     "execution_count": 137,
     "metadata": {},
     "output_type": "execute_result"
    }
   ],
   "source": [
    "a"
   ]
  },
  {
   "cell_type": "code",
   "execution_count": 141,
   "id": "b9f0fd0b",
   "metadata": {},
   "outputs": [],
   "source": [
    "a=[1,2,3]"
   ]
  },
  {
   "cell_type": "code",
   "execution_count": 142,
   "id": "cf48f7b2",
   "metadata": {},
   "outputs": [
    {
     "data": {
      "text/plain": [
       "[1, 2]"
      ]
     },
     "execution_count": 142,
     "metadata": {},
     "output_type": "execute_result"
    }
   ],
   "source": [
    "del a[2]\n",
    "a"
   ]
  },
  {
   "cell_type": "markdown",
   "id": "2f56461c",
   "metadata": {},
   "source": [
    "## 리스트 관련 함수\n",
    "- .을 이용해 여러가지 함수 호출"
   ]
  },
  {
   "cell_type": "code",
   "execution_count": 146,
   "id": "df76e1e8",
   "metadata": {},
   "outputs": [],
   "source": [
    "a = [1,2,3,4]\n",
    "c = [5]"
   ]
  },
  {
   "cell_type": "code",
   "execution_count": 147,
   "id": "e6ea4bca",
   "metadata": {},
   "outputs": [],
   "source": [
    "# 리스트에 요소 추가 (append()) <- 많이 사용\n",
    "# 값을 하나씩 추가\n",
    "a.append(c)"
   ]
  },
  {
   "cell_type": "code",
   "execution_count": 148,
   "id": "07e1a4ff",
   "metadata": {},
   "outputs": [
    {
     "data": {
      "text/plain": [
       "[1, 2, 3, 4, [5]]"
      ]
     },
     "execution_count": 148,
     "metadata": {},
     "output_type": "execute_result"
    }
   ],
   "source": [
    "a"
   ]
  },
  {
   "cell_type": "code",
   "execution_count": 150,
   "id": "1a784906",
   "metadata": {},
   "outputs": [
    {
     "data": {
      "text/plain": [
       "[1, 2, 3, 4, [5], [0, 6], [0, 6]]"
      ]
     },
     "execution_count": 150,
     "metadata": {},
     "output_type": "execute_result"
    }
   ],
   "source": [
    "a.append([0,6])\n",
    "a"
   ]
  },
  {
   "cell_type": "code",
   "execution_count": 151,
   "id": "054763a1",
   "metadata": {},
   "outputs": [
    {
     "data": {
      "text/plain": [
       "[1, 2, 3, 4, [5], [0, 6], [0, 6], 'a']"
      ]
     },
     "execution_count": 151,
     "metadata": {},
     "output_type": "execute_result"
    }
   ],
   "source": [
    "a.append('a')\n",
    "a"
   ]
  },
  {
   "cell_type": "code",
   "execution_count": 153,
   "id": "9b47a740",
   "metadata": {},
   "outputs": [
    {
     "data": {
      "text/plain": [
       "[1, 2, 3, 4]"
      ]
     },
     "execution_count": 153,
     "metadata": {},
     "output_type": "execute_result"
    }
   ],
   "source": [
    "#리스트 정렬 (sort) / 오름차순 정렬 문자도 가능 *반대는 reverse()\n",
    "a = [1,4,3,2]\n",
    "a.sort()\n",
    "a"
   ]
  },
  {
   "cell_type": "code",
   "execution_count": 154,
   "id": "4bf7f858",
   "metadata": {},
   "outputs": [
    {
     "data": {
      "text/plain": [
       "2"
      ]
     },
     "execution_count": 154,
     "metadata": {},
     "output_type": "execute_result"
    }
   ],
   "source": [
    "# 위치 반환(index)\n",
    "a = [1,2,3]\n",
    "a.index(3)\n",
    "#list는 find x"
   ]
  },
  {
   "cell_type": "code",
   "execution_count": 157,
   "id": "f54eaab2",
   "metadata": {},
   "outputs": [
    {
     "data": {
      "text/plain": [
       "[6, 1, 2, 3]"
      ]
     },
     "execution_count": 157,
     "metadata": {},
     "output_type": "execute_result"
    }
   ],
   "source": [
    "# 리스트에 특정 위치에 요소 삽입\n",
    "a = [1,2,3]\n",
    "a.insert(0,6) #리스트이름.(위치,넣을값)\n",
    "a"
   ]
  },
  {
   "cell_type": "code",
   "execution_count": 158,
   "id": "2b68a97c",
   "metadata": {},
   "outputs": [
    {
     "data": {
      "text/plain": [
       "[1, 2, 3, 4, 4, 4, 4]"
      ]
     },
     "execution_count": 158,
     "metadata": {},
     "output_type": "execute_result"
    }
   ],
   "source": [
    "a = [1,2,3,4,4,4,4,4]\n",
    "a.remove(4)\n",
    "a"
   ]
  },
  {
   "cell_type": "code",
   "execution_count": 160,
   "id": "63a04d3b",
   "metadata": {},
   "outputs": [
    {
     "data": {
      "text/plain": [
       "4"
      ]
     },
     "execution_count": 160,
     "metadata": {},
     "output_type": "execute_result"
    }
   ],
   "source": [
    "#count() 특정 요소의 갯수세기\n",
    "a.count(4)"
   ]
  },
  {
   "cell_type": "code",
   "execution_count": 162,
   "id": "3b7799c8",
   "metadata": {},
   "outputs": [
    {
     "data": {
      "text/plain": [
       "[1, 2, 3, 4, 5]"
      ]
     },
     "execution_count": 162,
     "metadata": {},
     "output_type": "execute_result"
    }
   ],
   "source": [
    "# 리스트 확장(extend)\n",
    "a = [1,2,3]\n",
    "a.extend([4,5])\n",
    "a #그냥 + 하는게 편함"
   ]
  }
 ],
 "metadata": {
  "kernelspec": {
   "display_name": "Python 3 (ipykernel)",
   "language": "python",
   "name": "python3"
  },
  "language_info": {
   "codemirror_mode": {
    "name": "ipython",
    "version": 3
   },
   "file_extension": ".py",
   "mimetype": "text/x-python",
   "name": "python",
   "nbconvert_exporter": "python",
   "pygments_lexer": "ipython3",
   "version": "3.9.7"
  },
  "toc": {
   "base_numbering": 1,
   "nav_menu": {},
   "number_sections": true,
   "sideBar": true,
   "skip_h1_title": false,
   "title_cell": "Table of Contents",
   "title_sidebar": "Contents",
   "toc_cell": false,
   "toc_position": {},
   "toc_section_display": true,
   "toc_window_display": false
  }
 },
 "nbformat": 4,
 "nbformat_minor": 5
}
