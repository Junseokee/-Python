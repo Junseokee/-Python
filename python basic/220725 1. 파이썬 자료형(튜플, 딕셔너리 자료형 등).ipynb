{
 "cells": [
  {
   "cell_type": "markdown",
   "id": "1f80e34d",
   "metadata": {},
   "source": [
    "## 튜플 자료형\n",
    "- 튜플과 리스트의 차이 리스트는 [], 튜플은 ()\n",
    "- 리스트는 값 생성, 수정, 삭제 가능, 튜플은 불가\n",
    "\n",
    "단지 1개의 요소만을 가질 때는 요소 뒤에 콤마를 반드시 붙여야 한다. ex) t1 = (1,) *합수랑 겹칠 우려"
   ]
  },
  {
   "cell_type": "code",
   "execution_count": 1,
   "id": "da15518c",
   "metadata": {},
   "outputs": [
    {
     "data": {
      "text/plain": [
       "[1]"
      ]
     },
     "execution_count": 1,
     "metadata": {},
     "output_type": "execute_result"
    }
   ],
   "source": [
    "a = [1]\n",
    "a"
   ]
  },
  {
   "cell_type": "code",
   "execution_count": 2,
   "id": "57a295b1",
   "metadata": {},
   "outputs": [
    {
     "data": {
      "text/plain": [
       "(1,)"
      ]
     },
     "execution_count": 2,
     "metadata": {},
     "output_type": "execute_result"
    }
   ],
   "source": [
    "b = (1,)\n",
    "b"
   ]
  },
  {
   "cell_type": "code",
   "execution_count": 3,
   "id": "88f65e09",
   "metadata": {},
   "outputs": [
    {
     "name": "stdout",
     "output_type": "stream",
     "text": [
      "(1, 2, 3, 4, 5, 6, 7)\n",
      "(1.0, 2.0, 3.0, 3.0, 4.0, 5.0)\n"
     ]
    }
   ],
   "source": [
    "a = (1,2,3,4,5,6,7) #정수형\n",
    "b = (1.0,2.,3.,3.,4.,5.)\n",
    "print(a)\n",
    "print(b)"
   ]
  },
  {
   "cell_type": "code",
   "execution_count": 4,
   "id": "e304715d",
   "metadata": {},
   "outputs": [
    {
     "data": {
      "text/plain": [
       "(1, 2, 3, [3, 4, 5])"
      ]
     },
     "execution_count": 4,
     "metadata": {},
     "output_type": "execute_result"
    }
   ],
   "source": [
    "#튜플 안에 리스트 가능 리스트안에 튜플도 가능\n",
    "e = (1,2,3,[3,4,5])\n",
    "e"
   ]
  },
  {
   "cell_type": "code",
   "execution_count": 7,
   "id": "d7d88b5d",
   "metadata": {},
   "outputs": [
    {
     "data": {
      "text/plain": [
       "(1, 2, 3, ['a', 4, 5])"
      ]
     },
     "execution_count": 7,
     "metadata": {},
     "output_type": "execute_result"
    }
   ],
   "source": [
    "#리스트의 자료형을 바꾼것\n",
    "e[3][0] = 'a'\n",
    "e"
   ]
  },
  {
   "cell_type": "code",
   "execution_count": 8,
   "id": "f5f16830",
   "metadata": {},
   "outputs": [
    {
     "data": {
      "text/plain": [
       "['a', 4, 5]"
      ]
     },
     "execution_count": 8,
     "metadata": {},
     "output_type": "execute_result"
    }
   ],
   "source": [
    "e[3]"
   ]
  },
  {
   "cell_type": "code",
   "execution_count": 9,
   "id": "1941f87b",
   "metadata": {},
   "outputs": [],
   "source": [
    "#인덱싱하는방법은 리스트와 동일하다"
   ]
  },
  {
   "cell_type": "code",
   "execution_count": 12,
   "id": "afbe4991",
   "metadata": {},
   "outputs": [
    {
     "name": "stdout",
     "output_type": "stream",
     "text": [
      "(1, 2, 3, 3, 4, 5)\n",
      "(1, 2, 3, 1, 2, 3, 1, 2, 3, 1, 2, 3)\n"
     ]
    }
   ],
   "source": [
    "# 튜플 더하기 곱하기 가능 -> 새로운 튜플 만드는 개념\n",
    "a = (1,2,3)\n",
    "b = (3,4,5)\n",
    "c = a+b\n",
    "print(c)\n",
    "print(a*b[1])"
   ]
  },
  {
   "cell_type": "markdown",
   "id": "a2cfa087",
   "metadata": {},
   "source": [
    "## 딕셔너리 자료형\n",
    "- 대응관계를 나타내는 자료형\n",
    "- 대응 관계를 연관배열 또는 해시라고 한다.\n",
    "- 딕셔너리의 구조 {Key:Value} 구조 *key 값은 고정, value 값은 유동적인 값 가능"
   ]
  },
  {
   "cell_type": "code",
   "execution_count": 13,
   "id": "28e2c49f",
   "metadata": {},
   "outputs": [
    {
     "data": {
      "text/plain": [
       "{'name': 'pey', 'phone': '01199993323', 'birth': '1118'}"
      ]
     },
     "execution_count": 13,
     "metadata": {},
     "output_type": "execute_result"
    }
   ],
   "source": [
    "dic = {'name':'pey','phone':'01199993323', 'birth':'1118'}\n",
    "dic"
   ]
  },
  {
   "cell_type": "code",
   "execution_count": 14,
   "id": "6ef5d72c",
   "metadata": {},
   "outputs": [],
   "source": [
    "# 키와 값의 자료형은 상관 x\n",
    "# 키값에 튜플 자료형 x / 밸류는 가능"
   ]
  },
  {
   "cell_type": "code",
   "execution_count": 15,
   "id": "8e9d3513",
   "metadata": {},
   "outputs": [
    {
     "data": {
      "text/plain": [
       "{1: 'a'}"
      ]
     },
     "execution_count": 15,
     "metadata": {},
     "output_type": "execute_result"
    }
   ],
   "source": [
    "#딕셔너리 쌍 추가\n",
    "dic = {1:'a'}\n",
    "dic"
   ]
  },
  {
   "cell_type": "code",
   "execution_count": 16,
   "id": "cd0b932b",
   "metadata": {},
   "outputs": [
    {
     "data": {
      "text/plain": [
       "{1: 'a', 2: 'b'}"
      ]
     },
     "execution_count": 16,
     "metadata": {},
     "output_type": "execute_result"
    }
   ],
   "source": [
    "dic[2] ='b'\n",
    "dic"
   ]
  },
  {
   "cell_type": "code",
   "execution_count": 25,
   "id": "57df7982",
   "metadata": {},
   "outputs": [
    {
     "data": {
      "text/plain": [
       "{1: 'a', 2: 'b', '트와이스': ['사나'], 'name': 'deokpyo'}"
      ]
     },
     "execution_count": 25,
     "metadata": {},
     "output_type": "execute_result"
    }
   ],
   "source": [
    "dic['name'] = 'deokpyo'\n",
    "dic"
   ]
  },
  {
   "cell_type": "code",
   "execution_count": 26,
   "id": "d849731c",
   "metadata": {},
   "outputs": [
    {
     "data": {
      "text/plain": [
       "{1: 'a', 2: 'b', '트와이스': ['나연', '쯔위', '채영'], 'name': 'deokpyo'}"
      ]
     },
     "execution_count": 26,
     "metadata": {},
     "output_type": "execute_result"
    }
   ],
   "source": [
    "dic['트와이스'] = ['나연','쯔위','채영']\n",
    "dic"
   ]
  },
  {
   "cell_type": "code",
   "execution_count": 27,
   "id": "782d110d",
   "metadata": {},
   "outputs": [
    {
     "data": {
      "text/plain": [
       "{1: 'a', 2: 'b', '트와이스': ['나연', '쯔위', '채영']}"
      ]
     },
     "execution_count": 27,
     "metadata": {},
     "output_type": "execute_result"
    }
   ],
   "source": [
    "del dic['name']\n",
    "dic"
   ]
  },
  {
   "cell_type": "code",
   "execution_count": 28,
   "id": "5300d136",
   "metadata": {},
   "outputs": [],
   "source": [
    "dic[2] = 'c' #not index -> key값"
   ]
  },
  {
   "cell_type": "code",
   "execution_count": 30,
   "id": "9fb2d284",
   "metadata": {},
   "outputs": [
    {
     "data": {
      "text/plain": [
       "dict_keys(['name', 'phone', 'birth'])"
      ]
     },
     "execution_count": 30,
     "metadata": {},
     "output_type": "execute_result"
    }
   ],
   "source": [
    "a = {'name':'pey','phone':'01199993323', 'birth':'1118'}\n",
    "#키확인\n",
    "a.keys()"
   ]
  },
  {
   "cell_type": "code",
   "execution_count": 31,
   "id": "22a69321",
   "metadata": {},
   "outputs": [
    {
     "data": {
      "text/plain": [
       "['name', 'phone', 'birth']"
      ]
     },
     "execution_count": 31,
     "metadata": {},
     "output_type": "execute_result"
    }
   ],
   "source": [
    "list(a.keys())"
   ]
  },
  {
   "cell_type": "code",
   "execution_count": 32,
   "id": "8a6ea78a",
   "metadata": {},
   "outputs": [
    {
     "data": {
      "text/plain": [
       "dict_items([('name', 'pey'), ('phone', '01199993323'), ('birth', '1118')])"
      ]
     },
     "execution_count": 32,
     "metadata": {},
     "output_type": "execute_result"
    }
   ],
   "source": [
    "#Key, Vlaue 쌍 얻기(itmems)\n",
    "a.items()"
   ]
  },
  {
   "cell_type": "code",
   "execution_count": 33,
   "id": "8bb426c4",
   "metadata": {},
   "outputs": [],
   "source": [
    "#지우기는 a.clear()"
   ]
  },
  {
   "cell_type": "code",
   "execution_count": 34,
   "id": "dda10e70",
   "metadata": {},
   "outputs": [
    {
     "data": {
      "text/plain": [
       "{'name': 'pey', 'phone': '01199993323', 'birth': '1118'}"
      ]
     },
     "execution_count": 34,
     "metadata": {},
     "output_type": "execute_result"
    }
   ],
   "source": [
    "# 해당 키가 사전에 있는지 조사하기 (IN)\n",
    "#있으면 참 없으면 거짓\n",
    "a"
   ]
  },
  {
   "cell_type": "code",
   "execution_count": 37,
   "id": "aa6fb1c8",
   "metadata": {},
   "outputs": [
    {
     "data": {
      "text/plain": [
       "True"
      ]
     },
     "execution_count": 37,
     "metadata": {},
     "output_type": "execute_result"
    }
   ],
   "source": [
    "'name' in a # 결과값이 boolean 형"
   ]
  },
  {
   "cell_type": "code",
   "execution_count": 38,
   "id": "09aa5c8b",
   "metadata": {},
   "outputs": [
    {
     "data": {
      "text/plain": [
       "False"
      ]
     },
     "execution_count": 38,
     "metadata": {},
     "output_type": "execute_result"
    }
   ],
   "source": [
    "'money' in a"
   ]
  },
  {
   "cell_type": "markdown",
   "id": "aba5b981",
   "metadata": {},
   "source": [
    "## 집합자료형의 특징\n",
    "- set 자료형의 특징 \n",
    "    - 중복을 허용 x\n",
    "    - 순서가 없음(Unordered).\n",
    "- set자료형은 인덱싱 값이 x\n",
    "- 중복제거필터로 종종 사용한다.\n",
    "- 리스트에서 중복제거 후 다시 리스트로 변경"
   ]
  },
  {
   "cell_type": "code",
   "execution_count": 41,
   "id": "ecdab562",
   "metadata": {},
   "outputs": [
    {
     "data": {
      "text/plain": [
       "{1, 2, 3, 4, 5, 6, 7, 23}"
      ]
     },
     "execution_count": 41,
     "metadata": {},
     "output_type": "execute_result"
    }
   ],
   "source": [
    "a = [1,1,2,3,4,5,6,7,7,7,2,2,23,4,5]\n",
    "a = set(a)\n",
    "a"
   ]
  },
  {
   "cell_type": "code",
   "execution_count": 42,
   "id": "4898969a",
   "metadata": {},
   "outputs": [
    {
     "data": {
      "text/plain": [
       "[1, 2, 3, 4, 5, 6, 7, 23]"
      ]
     },
     "execution_count": 42,
     "metadata": {},
     "output_type": "execute_result"
    }
   ],
   "source": [
    "a = list(a)\n",
    "a"
   ]
  },
  {
   "cell_type": "code",
   "execution_count": 43,
   "id": "c274dda0",
   "metadata": {},
   "outputs": [
    {
     "data": {
      "text/plain": [
       "2"
      ]
     },
     "execution_count": 43,
     "metadata": {},
     "output_type": "execute_result"
    }
   ],
   "source": [
    "a[1]"
   ]
  },
  {
   "cell_type": "code",
   "execution_count": 44,
   "id": "3d0c94be",
   "metadata": {},
   "outputs": [],
   "source": [
    "# 교집합, 합집합, 차집합 구하기\n",
    "# set 자료형의 유용한 사용법\n",
    "s1 = set([1,2,3,4,5,6])\n",
    "s2 = set([4,5,6,7,8,9])"
   ]
  },
  {
   "cell_type": "code",
   "execution_count": 45,
   "id": "13a69328",
   "metadata": {},
   "outputs": [
    {
     "data": {
      "text/plain": [
       "{4, 5, 6}"
      ]
     },
     "execution_count": 45,
     "metadata": {},
     "output_type": "execute_result"
    }
   ],
   "source": [
    "# 교집합 &\n",
    "s1 & s2"
   ]
  },
  {
   "cell_type": "code",
   "execution_count": 46,
   "id": "d1c0f574",
   "metadata": {},
   "outputs": [
    {
     "data": {
      "text/plain": [
       "{1, 2, 3, 4, 5, 6, 7, 8, 9}"
      ]
     },
     "execution_count": 46,
     "metadata": {},
     "output_type": "execute_result"
    }
   ],
   "source": [
    "# 합집합 | \n",
    "s1 | s2"
   ]
  },
  {
   "cell_type": "code",
   "execution_count": 48,
   "id": "04377910",
   "metadata": {},
   "outputs": [
    {
     "data": {
      "text/plain": [
       "{1, 2, 3}"
      ]
     },
     "execution_count": 48,
     "metadata": {},
     "output_type": "execute_result"
    }
   ],
   "source": [
    "# 차집합 -\n",
    "s1 - s2"
   ]
  },
  {
   "cell_type": "code",
   "execution_count": null,
   "id": "12d8969c",
   "metadata": {},
   "outputs": [],
   "source": [
    "# 값 1개 추가.add()\n",
    "# 값 여러개 추가.update([])"
   ]
  },
  {
   "cell_type": "code",
   "execution_count": 49,
   "id": "6e63e43a",
   "metadata": {},
   "outputs": [],
   "source": [
    "# 특정 값 제거.remove()"
   ]
  },
  {
   "cell_type": "code",
   "execution_count": null,
   "id": "76df26f6",
   "metadata": {},
   "outputs": [],
   "source": []
  }
 ],
 "metadata": {
  "kernelspec": {
   "display_name": "Python 3 (ipykernel)",
   "language": "python",
   "name": "python3"
  },
  "language_info": {
   "codemirror_mode": {
    "name": "ipython",
    "version": 3
   },
   "file_extension": ".py",
   "mimetype": "text/x-python",
   "name": "python",
   "nbconvert_exporter": "python",
   "pygments_lexer": "ipython3",
   "version": "3.9.7"
  },
  "toc": {
   "base_numbering": 1,
   "nav_menu": {},
   "number_sections": true,
   "sideBar": true,
   "skip_h1_title": false,
   "title_cell": "Table of Contents",
   "title_sidebar": "Contents",
   "toc_cell": false,
   "toc_position": {},
   "toc_section_display": true,
   "toc_window_display": false
  }
 },
 "nbformat": 4,
 "nbformat_minor": 5
}
