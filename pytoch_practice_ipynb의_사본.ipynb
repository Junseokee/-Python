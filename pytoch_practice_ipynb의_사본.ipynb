{
  "nbformat": 4,
  "nbformat_minor": 0,
  "metadata": {
    "colab": {
      "name": "pytoch practice.ipynb의 사본",
      "provenance": [],
      "collapsed_sections": [],
      "authorship_tag": "ABX9TyNe3dAq6G7knkJ1VG5EGdJ/",
      "include_colab_link": true
    },
    "kernelspec": {
      "name": "python3",
      "display_name": "Python 3"
    },
    "language_info": {
      "name": "python"
    },
    "accelerator": "GPU",
    "widgets": {
      "application/vnd.jupyter.widget-state+json": {
        "10d19fd395c54b51adf2286f620bad95": {
          "model_module": "@jupyter-widgets/controls",
          "model_name": "HBoxModel",
          "model_module_version": "1.5.0",
          "state": {
            "_dom_classes": [],
            "_model_module": "@jupyter-widgets/controls",
            "_model_module_version": "1.5.0",
            "_model_name": "HBoxModel",
            "_view_count": null,
            "_view_module": "@jupyter-widgets/controls",
            "_view_module_version": "1.5.0",
            "_view_name": "HBoxView",
            "box_style": "",
            "children": [
              "IPY_MODEL_ea49b8b3dfb249e49efc4bff1f893fa3",
              "IPY_MODEL_31ee14e7c315443aa027bbdfe06c42d2",
              "IPY_MODEL_439adb05964345a5bbcb88224fc01be6"
            ],
            "layout": "IPY_MODEL_8cecec2f617f42d096d5b4cd8bcb6db7"
          }
        },
        "ea49b8b3dfb249e49efc4bff1f893fa3": {
          "model_module": "@jupyter-widgets/controls",
          "model_name": "HTMLModel",
          "model_module_version": "1.5.0",
          "state": {
            "_dom_classes": [],
            "_model_module": "@jupyter-widgets/controls",
            "_model_module_version": "1.5.0",
            "_model_name": "HTMLModel",
            "_view_count": null,
            "_view_module": "@jupyter-widgets/controls",
            "_view_module_version": "1.5.0",
            "_view_name": "HTMLView",
            "description": "",
            "description_tooltip": null,
            "layout": "IPY_MODEL_4c01142997494d6086b18d4f91bc9a87",
            "placeholder": "​",
            "style": "IPY_MODEL_22cde1ea1b9c4b15b987ad0aeba051d3",
            "value": ""
          }
        },
        "31ee14e7c315443aa027bbdfe06c42d2": {
          "model_module": "@jupyter-widgets/controls",
          "model_name": "FloatProgressModel",
          "model_module_version": "1.5.0",
          "state": {
            "_dom_classes": [],
            "_model_module": "@jupyter-widgets/controls",
            "_model_module_version": "1.5.0",
            "_model_name": "FloatProgressModel",
            "_view_count": null,
            "_view_module": "@jupyter-widgets/controls",
            "_view_module_version": "1.5.0",
            "_view_name": "ProgressView",
            "bar_style": "success",
            "description": "",
            "description_tooltip": null,
            "layout": "IPY_MODEL_0fbc32722b024afb966a4e73a1c7f287",
            "max": 9912422,
            "min": 0,
            "orientation": "horizontal",
            "style": "IPY_MODEL_2d8ad2cfe2874d91a07e27e9335c16cd",
            "value": 9912422
          }
        },
        "439adb05964345a5bbcb88224fc01be6": {
          "model_module": "@jupyter-widgets/controls",
          "model_name": "HTMLModel",
          "model_module_version": "1.5.0",
          "state": {
            "_dom_classes": [],
            "_model_module": "@jupyter-widgets/controls",
            "_model_module_version": "1.5.0",
            "_model_name": "HTMLModel",
            "_view_count": null,
            "_view_module": "@jupyter-widgets/controls",
            "_view_module_version": "1.5.0",
            "_view_name": "HTMLView",
            "description": "",
            "description_tooltip": null,
            "layout": "IPY_MODEL_d3468e78dd024865b8113e04a18268e0",
            "placeholder": "​",
            "style": "IPY_MODEL_ffe3a93c434b45d6a51eca069872e5a0",
            "value": " 9913344/? [00:00&lt;00:00, 58571459.41it/s]"
          }
        },
        "8cecec2f617f42d096d5b4cd8bcb6db7": {
          "model_module": "@jupyter-widgets/base",
          "model_name": "LayoutModel",
          "model_module_version": "1.2.0",
          "state": {
            "_model_module": "@jupyter-widgets/base",
            "_model_module_version": "1.2.0",
            "_model_name": "LayoutModel",
            "_view_count": null,
            "_view_module": "@jupyter-widgets/base",
            "_view_module_version": "1.2.0",
            "_view_name": "LayoutView",
            "align_content": null,
            "align_items": null,
            "align_self": null,
            "border": null,
            "bottom": null,
            "display": null,
            "flex": null,
            "flex_flow": null,
            "grid_area": null,
            "grid_auto_columns": null,
            "grid_auto_flow": null,
            "grid_auto_rows": null,
            "grid_column": null,
            "grid_gap": null,
            "grid_row": null,
            "grid_template_areas": null,
            "grid_template_columns": null,
            "grid_template_rows": null,
            "height": null,
            "justify_content": null,
            "justify_items": null,
            "left": null,
            "margin": null,
            "max_height": null,
            "max_width": null,
            "min_height": null,
            "min_width": null,
            "object_fit": null,
            "object_position": null,
            "order": null,
            "overflow": null,
            "overflow_x": null,
            "overflow_y": null,
            "padding": null,
            "right": null,
            "top": null,
            "visibility": null,
            "width": null
          }
        },
        "4c01142997494d6086b18d4f91bc9a87": {
          "model_module": "@jupyter-widgets/base",
          "model_name": "LayoutModel",
          "model_module_version": "1.2.0",
          "state": {
            "_model_module": "@jupyter-widgets/base",
            "_model_module_version": "1.2.0",
            "_model_name": "LayoutModel",
            "_view_count": null,
            "_view_module": "@jupyter-widgets/base",
            "_view_module_version": "1.2.0",
            "_view_name": "LayoutView",
            "align_content": null,
            "align_items": null,
            "align_self": null,
            "border": null,
            "bottom": null,
            "display": null,
            "flex": null,
            "flex_flow": null,
            "grid_area": null,
            "grid_auto_columns": null,
            "grid_auto_flow": null,
            "grid_auto_rows": null,
            "grid_column": null,
            "grid_gap": null,
            "grid_row": null,
            "grid_template_areas": null,
            "grid_template_columns": null,
            "grid_template_rows": null,
            "height": null,
            "justify_content": null,
            "justify_items": null,
            "left": null,
            "margin": null,
            "max_height": null,
            "max_width": null,
            "min_height": null,
            "min_width": null,
            "object_fit": null,
            "object_position": null,
            "order": null,
            "overflow": null,
            "overflow_x": null,
            "overflow_y": null,
            "padding": null,
            "right": null,
            "top": null,
            "visibility": null,
            "width": null
          }
        },
        "22cde1ea1b9c4b15b987ad0aeba051d3": {
          "model_module": "@jupyter-widgets/controls",
          "model_name": "DescriptionStyleModel",
          "model_module_version": "1.5.0",
          "state": {
            "_model_module": "@jupyter-widgets/controls",
            "_model_module_version": "1.5.0",
            "_model_name": "DescriptionStyleModel",
            "_view_count": null,
            "_view_module": "@jupyter-widgets/base",
            "_view_module_version": "1.2.0",
            "_view_name": "StyleView",
            "description_width": ""
          }
        },
        "0fbc32722b024afb966a4e73a1c7f287": {
          "model_module": "@jupyter-widgets/base",
          "model_name": "LayoutModel",
          "model_module_version": "1.2.0",
          "state": {
            "_model_module": "@jupyter-widgets/base",
            "_model_module_version": "1.2.0",
            "_model_name": "LayoutModel",
            "_view_count": null,
            "_view_module": "@jupyter-widgets/base",
            "_view_module_version": "1.2.0",
            "_view_name": "LayoutView",
            "align_content": null,
            "align_items": null,
            "align_self": null,
            "border": null,
            "bottom": null,
            "display": null,
            "flex": null,
            "flex_flow": null,
            "grid_area": null,
            "grid_auto_columns": null,
            "grid_auto_flow": null,
            "grid_auto_rows": null,
            "grid_column": null,
            "grid_gap": null,
            "grid_row": null,
            "grid_template_areas": null,
            "grid_template_columns": null,
            "grid_template_rows": null,
            "height": null,
            "justify_content": null,
            "justify_items": null,
            "left": null,
            "margin": null,
            "max_height": null,
            "max_width": null,
            "min_height": null,
            "min_width": null,
            "object_fit": null,
            "object_position": null,
            "order": null,
            "overflow": null,
            "overflow_x": null,
            "overflow_y": null,
            "padding": null,
            "right": null,
            "top": null,
            "visibility": null,
            "width": null
          }
        },
        "2d8ad2cfe2874d91a07e27e9335c16cd": {
          "model_module": "@jupyter-widgets/controls",
          "model_name": "ProgressStyleModel",
          "model_module_version": "1.5.0",
          "state": {
            "_model_module": "@jupyter-widgets/controls",
            "_model_module_version": "1.5.0",
            "_model_name": "ProgressStyleModel",
            "_view_count": null,
            "_view_module": "@jupyter-widgets/base",
            "_view_module_version": "1.2.0",
            "_view_name": "StyleView",
            "bar_color": null,
            "description_width": ""
          }
        },
        "d3468e78dd024865b8113e04a18268e0": {
          "model_module": "@jupyter-widgets/base",
          "model_name": "LayoutModel",
          "model_module_version": "1.2.0",
          "state": {
            "_model_module": "@jupyter-widgets/base",
            "_model_module_version": "1.2.0",
            "_model_name": "LayoutModel",
            "_view_count": null,
            "_view_module": "@jupyter-widgets/base",
            "_view_module_version": "1.2.0",
            "_view_name": "LayoutView",
            "align_content": null,
            "align_items": null,
            "align_self": null,
            "border": null,
            "bottom": null,
            "display": null,
            "flex": null,
            "flex_flow": null,
            "grid_area": null,
            "grid_auto_columns": null,
            "grid_auto_flow": null,
            "grid_auto_rows": null,
            "grid_column": null,
            "grid_gap": null,
            "grid_row": null,
            "grid_template_areas": null,
            "grid_template_columns": null,
            "grid_template_rows": null,
            "height": null,
            "justify_content": null,
            "justify_items": null,
            "left": null,
            "margin": null,
            "max_height": null,
            "max_width": null,
            "min_height": null,
            "min_width": null,
            "object_fit": null,
            "object_position": null,
            "order": null,
            "overflow": null,
            "overflow_x": null,
            "overflow_y": null,
            "padding": null,
            "right": null,
            "top": null,
            "visibility": null,
            "width": null
          }
        },
        "ffe3a93c434b45d6a51eca069872e5a0": {
          "model_module": "@jupyter-widgets/controls",
          "model_name": "DescriptionStyleModel",
          "model_module_version": "1.5.0",
          "state": {
            "_model_module": "@jupyter-widgets/controls",
            "_model_module_version": "1.5.0",
            "_model_name": "DescriptionStyleModel",
            "_view_count": null,
            "_view_module": "@jupyter-widgets/base",
            "_view_module_version": "1.2.0",
            "_view_name": "StyleView",
            "description_width": ""
          }
        },
        "6bc67e5435d245c5997db7055d5e43b5": {
          "model_module": "@jupyter-widgets/controls",
          "model_name": "HBoxModel",
          "model_module_version": "1.5.0",
          "state": {
            "_dom_classes": [],
            "_model_module": "@jupyter-widgets/controls",
            "_model_module_version": "1.5.0",
            "_model_name": "HBoxModel",
            "_view_count": null,
            "_view_module": "@jupyter-widgets/controls",
            "_view_module_version": "1.5.0",
            "_view_name": "HBoxView",
            "box_style": "",
            "children": [
              "IPY_MODEL_72880ccb96e04585920fce26a0514853",
              "IPY_MODEL_468a4e198cfe4b1f93df2a024372f470",
              "IPY_MODEL_e6b11155741e456898c337756e17c588"
            ],
            "layout": "IPY_MODEL_7ca4090d98a04625b2879da501bb5cc3"
          }
        },
        "72880ccb96e04585920fce26a0514853": {
          "model_module": "@jupyter-widgets/controls",
          "model_name": "HTMLModel",
          "model_module_version": "1.5.0",
          "state": {
            "_dom_classes": [],
            "_model_module": "@jupyter-widgets/controls",
            "_model_module_version": "1.5.0",
            "_model_name": "HTMLModel",
            "_view_count": null,
            "_view_module": "@jupyter-widgets/controls",
            "_view_module_version": "1.5.0",
            "_view_name": "HTMLView",
            "description": "",
            "description_tooltip": null,
            "layout": "IPY_MODEL_23ef417601bf4ef88ae3827be5ac1f84",
            "placeholder": "​",
            "style": "IPY_MODEL_b1207ac0920141bca8425d56e95e27e6",
            "value": ""
          }
        },
        "468a4e198cfe4b1f93df2a024372f470": {
          "model_module": "@jupyter-widgets/controls",
          "model_name": "FloatProgressModel",
          "model_module_version": "1.5.0",
          "state": {
            "_dom_classes": [],
            "_model_module": "@jupyter-widgets/controls",
            "_model_module_version": "1.5.0",
            "_model_name": "FloatProgressModel",
            "_view_count": null,
            "_view_module": "@jupyter-widgets/controls",
            "_view_module_version": "1.5.0",
            "_view_name": "ProgressView",
            "bar_style": "success",
            "description": "",
            "description_tooltip": null,
            "layout": "IPY_MODEL_19974fcf3da84595b90e25478066b141",
            "max": 28881,
            "min": 0,
            "orientation": "horizontal",
            "style": "IPY_MODEL_9975bfaebd794537908639868496efab",
            "value": 28881
          }
        },
        "e6b11155741e456898c337756e17c588": {
          "model_module": "@jupyter-widgets/controls",
          "model_name": "HTMLModel",
          "model_module_version": "1.5.0",
          "state": {
            "_dom_classes": [],
            "_model_module": "@jupyter-widgets/controls",
            "_model_module_version": "1.5.0",
            "_model_name": "HTMLModel",
            "_view_count": null,
            "_view_module": "@jupyter-widgets/controls",
            "_view_module_version": "1.5.0",
            "_view_name": "HTMLView",
            "description": "",
            "description_tooltip": null,
            "layout": "IPY_MODEL_25c7135710e742f89b50fb563bccc3ab",
            "placeholder": "​",
            "style": "IPY_MODEL_72be3ebcbe0f428fa3e0f7fbd7a6c934",
            "value": " 29696/? [00:00&lt;00:00, 804358.13it/s]"
          }
        },
        "7ca4090d98a04625b2879da501bb5cc3": {
          "model_module": "@jupyter-widgets/base",
          "model_name": "LayoutModel",
          "model_module_version": "1.2.0",
          "state": {
            "_model_module": "@jupyter-widgets/base",
            "_model_module_version": "1.2.0",
            "_model_name": "LayoutModel",
            "_view_count": null,
            "_view_module": "@jupyter-widgets/base",
            "_view_module_version": "1.2.0",
            "_view_name": "LayoutView",
            "align_content": null,
            "align_items": null,
            "align_self": null,
            "border": null,
            "bottom": null,
            "display": null,
            "flex": null,
            "flex_flow": null,
            "grid_area": null,
            "grid_auto_columns": null,
            "grid_auto_flow": null,
            "grid_auto_rows": null,
            "grid_column": null,
            "grid_gap": null,
            "grid_row": null,
            "grid_template_areas": null,
            "grid_template_columns": null,
            "grid_template_rows": null,
            "height": null,
            "justify_content": null,
            "justify_items": null,
            "left": null,
            "margin": null,
            "max_height": null,
            "max_width": null,
            "min_height": null,
            "min_width": null,
            "object_fit": null,
            "object_position": null,
            "order": null,
            "overflow": null,
            "overflow_x": null,
            "overflow_y": null,
            "padding": null,
            "right": null,
            "top": null,
            "visibility": null,
            "width": null
          }
        },
        "23ef417601bf4ef88ae3827be5ac1f84": {
          "model_module": "@jupyter-widgets/base",
          "model_name": "LayoutModel",
          "model_module_version": "1.2.0",
          "state": {
            "_model_module": "@jupyter-widgets/base",
            "_model_module_version": "1.2.0",
            "_model_name": "LayoutModel",
            "_view_count": null,
            "_view_module": "@jupyter-widgets/base",
            "_view_module_version": "1.2.0",
            "_view_name": "LayoutView",
            "align_content": null,
            "align_items": null,
            "align_self": null,
            "border": null,
            "bottom": null,
            "display": null,
            "flex": null,
            "flex_flow": null,
            "grid_area": null,
            "grid_auto_columns": null,
            "grid_auto_flow": null,
            "grid_auto_rows": null,
            "grid_column": null,
            "grid_gap": null,
            "grid_row": null,
            "grid_template_areas": null,
            "grid_template_columns": null,
            "grid_template_rows": null,
            "height": null,
            "justify_content": null,
            "justify_items": null,
            "left": null,
            "margin": null,
            "max_height": null,
            "max_width": null,
            "min_height": null,
            "min_width": null,
            "object_fit": null,
            "object_position": null,
            "order": null,
            "overflow": null,
            "overflow_x": null,
            "overflow_y": null,
            "padding": null,
            "right": null,
            "top": null,
            "visibility": null,
            "width": null
          }
        },
        "b1207ac0920141bca8425d56e95e27e6": {
          "model_module": "@jupyter-widgets/controls",
          "model_name": "DescriptionStyleModel",
          "model_module_version": "1.5.0",
          "state": {
            "_model_module": "@jupyter-widgets/controls",
            "_model_module_version": "1.5.0",
            "_model_name": "DescriptionStyleModel",
            "_view_count": null,
            "_view_module": "@jupyter-widgets/base",
            "_view_module_version": "1.2.0",
            "_view_name": "StyleView",
            "description_width": ""
          }
        },
        "19974fcf3da84595b90e25478066b141": {
          "model_module": "@jupyter-widgets/base",
          "model_name": "LayoutModel",
          "model_module_version": "1.2.0",
          "state": {
            "_model_module": "@jupyter-widgets/base",
            "_model_module_version": "1.2.0",
            "_model_name": "LayoutModel",
            "_view_count": null,
            "_view_module": "@jupyter-widgets/base",
            "_view_module_version": "1.2.0",
            "_view_name": "LayoutView",
            "align_content": null,
            "align_items": null,
            "align_self": null,
            "border": null,
            "bottom": null,
            "display": null,
            "flex": null,
            "flex_flow": null,
            "grid_area": null,
            "grid_auto_columns": null,
            "grid_auto_flow": null,
            "grid_auto_rows": null,
            "grid_column": null,
            "grid_gap": null,
            "grid_row": null,
            "grid_template_areas": null,
            "grid_template_columns": null,
            "grid_template_rows": null,
            "height": null,
            "justify_content": null,
            "justify_items": null,
            "left": null,
            "margin": null,
            "max_height": null,
            "max_width": null,
            "min_height": null,
            "min_width": null,
            "object_fit": null,
            "object_position": null,
            "order": null,
            "overflow": null,
            "overflow_x": null,
            "overflow_y": null,
            "padding": null,
            "right": null,
            "top": null,
            "visibility": null,
            "width": null
          }
        },
        "9975bfaebd794537908639868496efab": {
          "model_module": "@jupyter-widgets/controls",
          "model_name": "ProgressStyleModel",
          "model_module_version": "1.5.0",
          "state": {
            "_model_module": "@jupyter-widgets/controls",
            "_model_module_version": "1.5.0",
            "_model_name": "ProgressStyleModel",
            "_view_count": null,
            "_view_module": "@jupyter-widgets/base",
            "_view_module_version": "1.2.0",
            "_view_name": "StyleView",
            "bar_color": null,
            "description_width": ""
          }
        },
        "25c7135710e742f89b50fb563bccc3ab": {
          "model_module": "@jupyter-widgets/base",
          "model_name": "LayoutModel",
          "model_module_version": "1.2.0",
          "state": {
            "_model_module": "@jupyter-widgets/base",
            "_model_module_version": "1.2.0",
            "_model_name": "LayoutModel",
            "_view_count": null,
            "_view_module": "@jupyter-widgets/base",
            "_view_module_version": "1.2.0",
            "_view_name": "LayoutView",
            "align_content": null,
            "align_items": null,
            "align_self": null,
            "border": null,
            "bottom": null,
            "display": null,
            "flex": null,
            "flex_flow": null,
            "grid_area": null,
            "grid_auto_columns": null,
            "grid_auto_flow": null,
            "grid_auto_rows": null,
            "grid_column": null,
            "grid_gap": null,
            "grid_row": null,
            "grid_template_areas": null,
            "grid_template_columns": null,
            "grid_template_rows": null,
            "height": null,
            "justify_content": null,
            "justify_items": null,
            "left": null,
            "margin": null,
            "max_height": null,
            "max_width": null,
            "min_height": null,
            "min_width": null,
            "object_fit": null,
            "object_position": null,
            "order": null,
            "overflow": null,
            "overflow_x": null,
            "overflow_y": null,
            "padding": null,
            "right": null,
            "top": null,
            "visibility": null,
            "width": null
          }
        },
        "72be3ebcbe0f428fa3e0f7fbd7a6c934": {
          "model_module": "@jupyter-widgets/controls",
          "model_name": "DescriptionStyleModel",
          "model_module_version": "1.5.0",
          "state": {
            "_model_module": "@jupyter-widgets/controls",
            "_model_module_version": "1.5.0",
            "_model_name": "DescriptionStyleModel",
            "_view_count": null,
            "_view_module": "@jupyter-widgets/base",
            "_view_module_version": "1.2.0",
            "_view_name": "StyleView",
            "description_width": ""
          }
        },
        "627aefd839244e069ecffd25053999ee": {
          "model_module": "@jupyter-widgets/controls",
          "model_name": "HBoxModel",
          "model_module_version": "1.5.0",
          "state": {
            "_dom_classes": [],
            "_model_module": "@jupyter-widgets/controls",
            "_model_module_version": "1.5.0",
            "_model_name": "HBoxModel",
            "_view_count": null,
            "_view_module": "@jupyter-widgets/controls",
            "_view_module_version": "1.5.0",
            "_view_name": "HBoxView",
            "box_style": "",
            "children": [
              "IPY_MODEL_99a72439b8634de2b522f4f2ea59ffac",
              "IPY_MODEL_5ddf48970944409b837f1b166a18601b",
              "IPY_MODEL_37a4b25be7e64fecbcbab4b1bbaf55c0"
            ],
            "layout": "IPY_MODEL_901e6fd4a114426fa5b79a19a7c6208a"
          }
        },
        "99a72439b8634de2b522f4f2ea59ffac": {
          "model_module": "@jupyter-widgets/controls",
          "model_name": "HTMLModel",
          "model_module_version": "1.5.0",
          "state": {
            "_dom_classes": [],
            "_model_module": "@jupyter-widgets/controls",
            "_model_module_version": "1.5.0",
            "_model_name": "HTMLModel",
            "_view_count": null,
            "_view_module": "@jupyter-widgets/controls",
            "_view_module_version": "1.5.0",
            "_view_name": "HTMLView",
            "description": "",
            "description_tooltip": null,
            "layout": "IPY_MODEL_668a5bc961e94984914ea5dda92c0169",
            "placeholder": "​",
            "style": "IPY_MODEL_109884d596764170ae1b608e812d89a9",
            "value": ""
          }
        },
        "5ddf48970944409b837f1b166a18601b": {
          "model_module": "@jupyter-widgets/controls",
          "model_name": "FloatProgressModel",
          "model_module_version": "1.5.0",
          "state": {
            "_dom_classes": [],
            "_model_module": "@jupyter-widgets/controls",
            "_model_module_version": "1.5.0",
            "_model_name": "FloatProgressModel",
            "_view_count": null,
            "_view_module": "@jupyter-widgets/controls",
            "_view_module_version": "1.5.0",
            "_view_name": "ProgressView",
            "bar_style": "success",
            "description": "",
            "description_tooltip": null,
            "layout": "IPY_MODEL_38f08618e37a473f88193f5bd672e8a0",
            "max": 1648877,
            "min": 0,
            "orientation": "horizontal",
            "style": "IPY_MODEL_066bb29c8ddb451ebabd6168bc5c996e",
            "value": 1648877
          }
        },
        "37a4b25be7e64fecbcbab4b1bbaf55c0": {
          "model_module": "@jupyter-widgets/controls",
          "model_name": "HTMLModel",
          "model_module_version": "1.5.0",
          "state": {
            "_dom_classes": [],
            "_model_module": "@jupyter-widgets/controls",
            "_model_module_version": "1.5.0",
            "_model_name": "HTMLModel",
            "_view_count": null,
            "_view_module": "@jupyter-widgets/controls",
            "_view_module_version": "1.5.0",
            "_view_name": "HTMLView",
            "description": "",
            "description_tooltip": null,
            "layout": "IPY_MODEL_b59f947731df45c3849494cafbf91e39",
            "placeholder": "​",
            "style": "IPY_MODEL_b0410552b14945d6a9c8794c6e6f6fb1",
            "value": " 1649664/? [00:00&lt;00:00, 1885376.61it/s]"
          }
        },
        "901e6fd4a114426fa5b79a19a7c6208a": {
          "model_module": "@jupyter-widgets/base",
          "model_name": "LayoutModel",
          "model_module_version": "1.2.0",
          "state": {
            "_model_module": "@jupyter-widgets/base",
            "_model_module_version": "1.2.0",
            "_model_name": "LayoutModel",
            "_view_count": null,
            "_view_module": "@jupyter-widgets/base",
            "_view_module_version": "1.2.0",
            "_view_name": "LayoutView",
            "align_content": null,
            "align_items": null,
            "align_self": null,
            "border": null,
            "bottom": null,
            "display": null,
            "flex": null,
            "flex_flow": null,
            "grid_area": null,
            "grid_auto_columns": null,
            "grid_auto_flow": null,
            "grid_auto_rows": null,
            "grid_column": null,
            "grid_gap": null,
            "grid_row": null,
            "grid_template_areas": null,
            "grid_template_columns": null,
            "grid_template_rows": null,
            "height": null,
            "justify_content": null,
            "justify_items": null,
            "left": null,
            "margin": null,
            "max_height": null,
            "max_width": null,
            "min_height": null,
            "min_width": null,
            "object_fit": null,
            "object_position": null,
            "order": null,
            "overflow": null,
            "overflow_x": null,
            "overflow_y": null,
            "padding": null,
            "right": null,
            "top": null,
            "visibility": null,
            "width": null
          }
        },
        "668a5bc961e94984914ea5dda92c0169": {
          "model_module": "@jupyter-widgets/base",
          "model_name": "LayoutModel",
          "model_module_version": "1.2.0",
          "state": {
            "_model_module": "@jupyter-widgets/base",
            "_model_module_version": "1.2.0",
            "_model_name": "LayoutModel",
            "_view_count": null,
            "_view_module": "@jupyter-widgets/base",
            "_view_module_version": "1.2.0",
            "_view_name": "LayoutView",
            "align_content": null,
            "align_items": null,
            "align_self": null,
            "border": null,
            "bottom": null,
            "display": null,
            "flex": null,
            "flex_flow": null,
            "grid_area": null,
            "grid_auto_columns": null,
            "grid_auto_flow": null,
            "grid_auto_rows": null,
            "grid_column": null,
            "grid_gap": null,
            "grid_row": null,
            "grid_template_areas": null,
            "grid_template_columns": null,
            "grid_template_rows": null,
            "height": null,
            "justify_content": null,
            "justify_items": null,
            "left": null,
            "margin": null,
            "max_height": null,
            "max_width": null,
            "min_height": null,
            "min_width": null,
            "object_fit": null,
            "object_position": null,
            "order": null,
            "overflow": null,
            "overflow_x": null,
            "overflow_y": null,
            "padding": null,
            "right": null,
            "top": null,
            "visibility": null,
            "width": null
          }
        },
        "109884d596764170ae1b608e812d89a9": {
          "model_module": "@jupyter-widgets/controls",
          "model_name": "DescriptionStyleModel",
          "model_module_version": "1.5.0",
          "state": {
            "_model_module": "@jupyter-widgets/controls",
            "_model_module_version": "1.5.0",
            "_model_name": "DescriptionStyleModel",
            "_view_count": null,
            "_view_module": "@jupyter-widgets/base",
            "_view_module_version": "1.2.0",
            "_view_name": "StyleView",
            "description_width": ""
          }
        },
        "38f08618e37a473f88193f5bd672e8a0": {
          "model_module": "@jupyter-widgets/base",
          "model_name": "LayoutModel",
          "model_module_version": "1.2.0",
          "state": {
            "_model_module": "@jupyter-widgets/base",
            "_model_module_version": "1.2.0",
            "_model_name": "LayoutModel",
            "_view_count": null,
            "_view_module": "@jupyter-widgets/base",
            "_view_module_version": "1.2.0",
            "_view_name": "LayoutView",
            "align_content": null,
            "align_items": null,
            "align_self": null,
            "border": null,
            "bottom": null,
            "display": null,
            "flex": null,
            "flex_flow": null,
            "grid_area": null,
            "grid_auto_columns": null,
            "grid_auto_flow": null,
            "grid_auto_rows": null,
            "grid_column": null,
            "grid_gap": null,
            "grid_row": null,
            "grid_template_areas": null,
            "grid_template_columns": null,
            "grid_template_rows": null,
            "height": null,
            "justify_content": null,
            "justify_items": null,
            "left": null,
            "margin": null,
            "max_height": null,
            "max_width": null,
            "min_height": null,
            "min_width": null,
            "object_fit": null,
            "object_position": null,
            "order": null,
            "overflow": null,
            "overflow_x": null,
            "overflow_y": null,
            "padding": null,
            "right": null,
            "top": null,
            "visibility": null,
            "width": null
          }
        },
        "066bb29c8ddb451ebabd6168bc5c996e": {
          "model_module": "@jupyter-widgets/controls",
          "model_name": "ProgressStyleModel",
          "model_module_version": "1.5.0",
          "state": {
            "_model_module": "@jupyter-widgets/controls",
            "_model_module_version": "1.5.0",
            "_model_name": "ProgressStyleModel",
            "_view_count": null,
            "_view_module": "@jupyter-widgets/base",
            "_view_module_version": "1.2.0",
            "_view_name": "StyleView",
            "bar_color": null,
            "description_width": ""
          }
        },
        "b59f947731df45c3849494cafbf91e39": {
          "model_module": "@jupyter-widgets/base",
          "model_name": "LayoutModel",
          "model_module_version": "1.2.0",
          "state": {
            "_model_module": "@jupyter-widgets/base",
            "_model_module_version": "1.2.0",
            "_model_name": "LayoutModel",
            "_view_count": null,
            "_view_module": "@jupyter-widgets/base",
            "_view_module_version": "1.2.0",
            "_view_name": "LayoutView",
            "align_content": null,
            "align_items": null,
            "align_self": null,
            "border": null,
            "bottom": null,
            "display": null,
            "flex": null,
            "flex_flow": null,
            "grid_area": null,
            "grid_auto_columns": null,
            "grid_auto_flow": null,
            "grid_auto_rows": null,
            "grid_column": null,
            "grid_gap": null,
            "grid_row": null,
            "grid_template_areas": null,
            "grid_template_columns": null,
            "grid_template_rows": null,
            "height": null,
            "justify_content": null,
            "justify_items": null,
            "left": null,
            "margin": null,
            "max_height": null,
            "max_width": null,
            "min_height": null,
            "min_width": null,
            "object_fit": null,
            "object_position": null,
            "order": null,
            "overflow": null,
            "overflow_x": null,
            "overflow_y": null,
            "padding": null,
            "right": null,
            "top": null,
            "visibility": null,
            "width": null
          }
        },
        "b0410552b14945d6a9c8794c6e6f6fb1": {
          "model_module": "@jupyter-widgets/controls",
          "model_name": "DescriptionStyleModel",
          "model_module_version": "1.5.0",
          "state": {
            "_model_module": "@jupyter-widgets/controls",
            "_model_module_version": "1.5.0",
            "_model_name": "DescriptionStyleModel",
            "_view_count": null,
            "_view_module": "@jupyter-widgets/base",
            "_view_module_version": "1.2.0",
            "_view_name": "StyleView",
            "description_width": ""
          }
        },
        "0243876b490449f4b8e8f2a3a981204e": {
          "model_module": "@jupyter-widgets/controls",
          "model_name": "HBoxModel",
          "model_module_version": "1.5.0",
          "state": {
            "_dom_classes": [],
            "_model_module": "@jupyter-widgets/controls",
            "_model_module_version": "1.5.0",
            "_model_name": "HBoxModel",
            "_view_count": null,
            "_view_module": "@jupyter-widgets/controls",
            "_view_module_version": "1.5.0",
            "_view_name": "HBoxView",
            "box_style": "",
            "children": [
              "IPY_MODEL_c199949397dd41358412fdc3ca8df039",
              "IPY_MODEL_fcbe3b483047401b9ce84a21b0a8403e",
              "IPY_MODEL_b4aaab0742ef4056a9cef82c9c0aefcf"
            ],
            "layout": "IPY_MODEL_6b4731fd93244be68e5f41fe459e08a5"
          }
        },
        "c199949397dd41358412fdc3ca8df039": {
          "model_module": "@jupyter-widgets/controls",
          "model_name": "HTMLModel",
          "model_module_version": "1.5.0",
          "state": {
            "_dom_classes": [],
            "_model_module": "@jupyter-widgets/controls",
            "_model_module_version": "1.5.0",
            "_model_name": "HTMLModel",
            "_view_count": null,
            "_view_module": "@jupyter-widgets/controls",
            "_view_module_version": "1.5.0",
            "_view_name": "HTMLView",
            "description": "",
            "description_tooltip": null,
            "layout": "IPY_MODEL_15196ca67cc645d599fe8ce96dddccaf",
            "placeholder": "​",
            "style": "IPY_MODEL_0a9da831f28a400caf49131699bf149b",
            "value": ""
          }
        },
        "fcbe3b483047401b9ce84a21b0a8403e": {
          "model_module": "@jupyter-widgets/controls",
          "model_name": "FloatProgressModel",
          "model_module_version": "1.5.0",
          "state": {
            "_dom_classes": [],
            "_model_module": "@jupyter-widgets/controls",
            "_model_module_version": "1.5.0",
            "_model_name": "FloatProgressModel",
            "_view_count": null,
            "_view_module": "@jupyter-widgets/controls",
            "_view_module_version": "1.5.0",
            "_view_name": "ProgressView",
            "bar_style": "success",
            "description": "",
            "description_tooltip": null,
            "layout": "IPY_MODEL_f230d8d9d1c4434b83df1af428ba45b9",
            "max": 4542,
            "min": 0,
            "orientation": "horizontal",
            "style": "IPY_MODEL_81afdddef59f48ab9bc8c5d39437f355",
            "value": 4542
          }
        },
        "b4aaab0742ef4056a9cef82c9c0aefcf": {
          "model_module": "@jupyter-widgets/controls",
          "model_name": "HTMLModel",
          "model_module_version": "1.5.0",
          "state": {
            "_dom_classes": [],
            "_model_module": "@jupyter-widgets/controls",
            "_model_module_version": "1.5.0",
            "_model_name": "HTMLModel",
            "_view_count": null,
            "_view_module": "@jupyter-widgets/controls",
            "_view_module_version": "1.5.0",
            "_view_name": "HTMLView",
            "description": "",
            "description_tooltip": null,
            "layout": "IPY_MODEL_f9a16e9d3bdb44778446973ba36ea0d0",
            "placeholder": "​",
            "style": "IPY_MODEL_e92a59a4c2094469846e2232d087e4d2",
            "value": " 5120/? [00:00&lt;00:00, 8757.20it/s]"
          }
        },
        "6b4731fd93244be68e5f41fe459e08a5": {
          "model_module": "@jupyter-widgets/base",
          "model_name": "LayoutModel",
          "model_module_version": "1.2.0",
          "state": {
            "_model_module": "@jupyter-widgets/base",
            "_model_module_version": "1.2.0",
            "_model_name": "LayoutModel",
            "_view_count": null,
            "_view_module": "@jupyter-widgets/base",
            "_view_module_version": "1.2.0",
            "_view_name": "LayoutView",
            "align_content": null,
            "align_items": null,
            "align_self": null,
            "border": null,
            "bottom": null,
            "display": null,
            "flex": null,
            "flex_flow": null,
            "grid_area": null,
            "grid_auto_columns": null,
            "grid_auto_flow": null,
            "grid_auto_rows": null,
            "grid_column": null,
            "grid_gap": null,
            "grid_row": null,
            "grid_template_areas": null,
            "grid_template_columns": null,
            "grid_template_rows": null,
            "height": null,
            "justify_content": null,
            "justify_items": null,
            "left": null,
            "margin": null,
            "max_height": null,
            "max_width": null,
            "min_height": null,
            "min_width": null,
            "object_fit": null,
            "object_position": null,
            "order": null,
            "overflow": null,
            "overflow_x": null,
            "overflow_y": null,
            "padding": null,
            "right": null,
            "top": null,
            "visibility": null,
            "width": null
          }
        },
        "15196ca67cc645d599fe8ce96dddccaf": {
          "model_module": "@jupyter-widgets/base",
          "model_name": "LayoutModel",
          "model_module_version": "1.2.0",
          "state": {
            "_model_module": "@jupyter-widgets/base",
            "_model_module_version": "1.2.0",
            "_model_name": "LayoutModel",
            "_view_count": null,
            "_view_module": "@jupyter-widgets/base",
            "_view_module_version": "1.2.0",
            "_view_name": "LayoutView",
            "align_content": null,
            "align_items": null,
            "align_self": null,
            "border": null,
            "bottom": null,
            "display": null,
            "flex": null,
            "flex_flow": null,
            "grid_area": null,
            "grid_auto_columns": null,
            "grid_auto_flow": null,
            "grid_auto_rows": null,
            "grid_column": null,
            "grid_gap": null,
            "grid_row": null,
            "grid_template_areas": null,
            "grid_template_columns": null,
            "grid_template_rows": null,
            "height": null,
            "justify_content": null,
            "justify_items": null,
            "left": null,
            "margin": null,
            "max_height": null,
            "max_width": null,
            "min_height": null,
            "min_width": null,
            "object_fit": null,
            "object_position": null,
            "order": null,
            "overflow": null,
            "overflow_x": null,
            "overflow_y": null,
            "padding": null,
            "right": null,
            "top": null,
            "visibility": null,
            "width": null
          }
        },
        "0a9da831f28a400caf49131699bf149b": {
          "model_module": "@jupyter-widgets/controls",
          "model_name": "DescriptionStyleModel",
          "model_module_version": "1.5.0",
          "state": {
            "_model_module": "@jupyter-widgets/controls",
            "_model_module_version": "1.5.0",
            "_model_name": "DescriptionStyleModel",
            "_view_count": null,
            "_view_module": "@jupyter-widgets/base",
            "_view_module_version": "1.2.0",
            "_view_name": "StyleView",
            "description_width": ""
          }
        },
        "f230d8d9d1c4434b83df1af428ba45b9": {
          "model_module": "@jupyter-widgets/base",
          "model_name": "LayoutModel",
          "model_module_version": "1.2.0",
          "state": {
            "_model_module": "@jupyter-widgets/base",
            "_model_module_version": "1.2.0",
            "_model_name": "LayoutModel",
            "_view_count": null,
            "_view_module": "@jupyter-widgets/base",
            "_view_module_version": "1.2.0",
            "_view_name": "LayoutView",
            "align_content": null,
            "align_items": null,
            "align_self": null,
            "border": null,
            "bottom": null,
            "display": null,
            "flex": null,
            "flex_flow": null,
            "grid_area": null,
            "grid_auto_columns": null,
            "grid_auto_flow": null,
            "grid_auto_rows": null,
            "grid_column": null,
            "grid_gap": null,
            "grid_row": null,
            "grid_template_areas": null,
            "grid_template_columns": null,
            "grid_template_rows": null,
            "height": null,
            "justify_content": null,
            "justify_items": null,
            "left": null,
            "margin": null,
            "max_height": null,
            "max_width": null,
            "min_height": null,
            "min_width": null,
            "object_fit": null,
            "object_position": null,
            "order": null,
            "overflow": null,
            "overflow_x": null,
            "overflow_y": null,
            "padding": null,
            "right": null,
            "top": null,
            "visibility": null,
            "width": null
          }
        },
        "81afdddef59f48ab9bc8c5d39437f355": {
          "model_module": "@jupyter-widgets/controls",
          "model_name": "ProgressStyleModel",
          "model_module_version": "1.5.0",
          "state": {
            "_model_module": "@jupyter-widgets/controls",
            "_model_module_version": "1.5.0",
            "_model_name": "ProgressStyleModel",
            "_view_count": null,
            "_view_module": "@jupyter-widgets/base",
            "_view_module_version": "1.2.0",
            "_view_name": "StyleView",
            "bar_color": null,
            "description_width": ""
          }
        },
        "f9a16e9d3bdb44778446973ba36ea0d0": {
          "model_module": "@jupyter-widgets/base",
          "model_name": "LayoutModel",
          "model_module_version": "1.2.0",
          "state": {
            "_model_module": "@jupyter-widgets/base",
            "_model_module_version": "1.2.0",
            "_model_name": "LayoutModel",
            "_view_count": null,
            "_view_module": "@jupyter-widgets/base",
            "_view_module_version": "1.2.0",
            "_view_name": "LayoutView",
            "align_content": null,
            "align_items": null,
            "align_self": null,
            "border": null,
            "bottom": null,
            "display": null,
            "flex": null,
            "flex_flow": null,
            "grid_area": null,
            "grid_auto_columns": null,
            "grid_auto_flow": null,
            "grid_auto_rows": null,
            "grid_column": null,
            "grid_gap": null,
            "grid_row": null,
            "grid_template_areas": null,
            "grid_template_columns": null,
            "grid_template_rows": null,
            "height": null,
            "justify_content": null,
            "justify_items": null,
            "left": null,
            "margin": null,
            "max_height": null,
            "max_width": null,
            "min_height": null,
            "min_width": null,
            "object_fit": null,
            "object_position": null,
            "order": null,
            "overflow": null,
            "overflow_x": null,
            "overflow_y": null,
            "padding": null,
            "right": null,
            "top": null,
            "visibility": null,
            "width": null
          }
        },
        "e92a59a4c2094469846e2232d087e4d2": {
          "model_module": "@jupyter-widgets/controls",
          "model_name": "DescriptionStyleModel",
          "model_module_version": "1.5.0",
          "state": {
            "_model_module": "@jupyter-widgets/controls",
            "_model_module_version": "1.5.0",
            "_model_name": "DescriptionStyleModel",
            "_view_count": null,
            "_view_module": "@jupyter-widgets/base",
            "_view_module_version": "1.2.0",
            "_view_name": "StyleView",
            "description_width": ""
          }
        }
      }
    }
  },
  "cells": [
    {
      "cell_type": "markdown",
      "metadata": {
        "id": "view-in-github",
        "colab_type": "text"
      },
      "source": [
        "<a href=\"https://colab.research.google.com/github/Junseokee/Study-Python/blob/main/pytoch_practice_ipynb%EC%9D%98_%EC%82%AC%EB%B3%B8.ipynb\" target=\"_parent\"><img src=\"https://colab.research.google.com/assets/colab-badge.svg\" alt=\"Open In Colab\"/></a>"
      ]
    },
    {
      "cell_type": "markdown",
      "source": [
        "https://www.youtube.com/watch?v=k60oT_8lyFw&t=6084s\n"
      ],
      "metadata": {
        "id": "KWKeJP6hmSP_"
      }
    },
    {
      "cell_type": "markdown",
      "source": [
        "colab use drive\n",
        "from google.colab import drive\n",
        "drive.mount('/content/drive')"
      ],
      "metadata": {
        "id": "qd_L5uF4mR8b"
      }
    },
    {
      "cell_type": "code",
      "execution_count": 1,
      "metadata": {
        "colab": {
          "base_uri": "https://localhost:8080/",
          "height": 35
        },
        "id": "rE_XS34Xia-G",
        "outputId": "a0108593-4541-4ac0-8424-3d6185fb9542"
      },
      "outputs": [
        {
          "output_type": "execute_result",
          "data": {
            "text/plain": [
              "'1.11.0+cu113'"
            ],
            "application/vnd.google.colaboratory.intrinsic+json": {
              "type": "string"
            }
          },
          "metadata": {},
          "execution_count": 1
        }
      ],
      "source": [
        "import torch\n",
        "torch.__version__"
      ]
    },
    {
      "cell_type": "markdown",
      "source": [
        "초기화되지않은 텐서"
      ],
      "metadata": {
        "id": "MskdDH_tiqnK"
      }
    },
    {
      "cell_type": "code",
      "source": [
        "x = torch.empty(4,2)\n",
        "print(x)"
      ],
      "metadata": {
        "colab": {
          "base_uri": "https://localhost:8080/"
        },
        "id": "QqhGjDUqikwE",
        "outputId": "86fea50d-ad31-4ccf-8d3a-fd05e2e2cb3f"
      },
      "execution_count": null,
      "outputs": [
        {
          "output_type": "stream",
          "name": "stdout",
          "text": [
            "tensor([[7.3409e-35, 0.0000e+00],\n",
            "        [3.3631e-44, 0.0000e+00],\n",
            "        [       nan, 5.6052e-44],\n",
            "        [1.1578e+27, 1.1362e+30]])\n"
          ]
        }
      ]
    },
    {
      "cell_type": "markdown",
      "source": [
        "무작위로 초기화된 텐서"
      ],
      "metadata": {
        "id": "VysZLk-AivEK"
      }
    },
    {
      "cell_type": "code",
      "source": [
        "x = torch.rand(4,2)\n",
        "print(x)"
      ],
      "metadata": {
        "colab": {
          "base_uri": "https://localhost:8080/"
        },
        "id": "oYT8RFGCikyS",
        "outputId": "1bc74828-dd1a-4d42-caa4-a703d0219d9c"
      },
      "execution_count": 5,
      "outputs": [
        {
          "output_type": "stream",
          "name": "stdout",
          "text": [
            "tensor([[0.2739, 0.6465],\n",
            "        [0.8216, 0.9285],\n",
            "        [0.1423, 0.3191],\n",
            "        [0.3064, 0.0505]])\n"
          ]
        }
      ]
    },
    {
      "cell_type": "markdown",
      "source": [
        "데이터타입이 long이고, 0으로 채워진 텐서"
      ],
      "metadata": {
        "id": "HBONbHHDizIz"
      }
    },
    {
      "cell_type": "code",
      "source": [
        "x = torch.zeros(4,2,dtype=torch.long) #0으로 채우기\n",
        "print(x)"
      ],
      "metadata": {
        "colab": {
          "base_uri": "https://localhost:8080/"
        },
        "id": "5I7H40o0ik1L",
        "outputId": "7f6951fe-41c4-414e-962b-b0c075ec66f5"
      },
      "execution_count": 6,
      "outputs": [
        {
          "output_type": "stream",
          "name": "stdout",
          "text": [
            "tensor([[0, 0],\n",
            "        [0, 0],\n",
            "        [0, 0],\n",
            "        [0, 0]])\n"
          ]
        }
      ]
    },
    {
      "cell_type": "markdown",
      "source": [
        "사용자가 입력한 값으로 텐서 초기화"
      ],
      "metadata": {
        "id": "q6p8OOwwi2Qf"
      }
    },
    {
      "cell_type": "code",
      "source": [
        "x = torch.tensor([3, 2.3])\n",
        "print(x) "
      ],
      "metadata": {
        "colab": {
          "base_uri": "https://localhost:8080/"
        },
        "id": "-qnVgO8rik30",
        "outputId": "076cc685-9c7f-4d86-ff1e-406149a878fe"
      },
      "execution_count": 7,
      "outputs": [
        {
          "output_type": "stream",
          "name": "stdout",
          "text": [
            "tensor([3.0000, 2.3000])\n"
          ]
        }
      ]
    },
    {
      "cell_type": "markdown",
      "source": [
        "2 x 4 크기, double 타입, 1로 채워진 텐서"
      ],
      "metadata": {
        "id": "irQYyLaEjRBU"
      }
    },
    {
      "cell_type": "code",
      "source": [
        "x = x.new_ones(4,2, dtype= torch.double)\n",
        "print(x)"
      ],
      "metadata": {
        "colab": {
          "base_uri": "https://localhost:8080/"
        },
        "id": "rOOvbDmLik6Z",
        "outputId": "67a3dbdb-e233-45f1-e85d-ea35715c7dd6"
      },
      "execution_count": 8,
      "outputs": [
        {
          "output_type": "stream",
          "name": "stdout",
          "text": [
            "tensor([[1., 1.],\n",
            "        [1., 1.],\n",
            "        [1., 1.],\n",
            "        [1., 1.]], dtype=torch.float64)\n"
          ]
        }
      ]
    },
    {
      "cell_type": "markdown",
      "source": [
        "x와 같은 크기, float 타입, 무작위로 채워진 텐서"
      ],
      "metadata": {
        "id": "DabWjru0jRc8"
      }
    },
    {
      "cell_type": "code",
      "source": [
        "x = torch.randn_like(x, dtype=torch.float) #like(x)와 같은 모양의 랜덤 float으로 생성"
      ],
      "metadata": {
        "id": "e14UFILeik9E"
      },
      "execution_count": 9,
      "outputs": []
    },
    {
      "cell_type": "markdown",
      "source": [
        "텐서의 크기 계산"
      ],
      "metadata": {
        "id": "t-AeJbZyjRyi"
      }
    },
    {
      "cell_type": "code",
      "source": [
        "print(x.size())"
      ],
      "metadata": {
        "colab": {
          "base_uri": "https://localhost:8080/"
        },
        "id": "t_guRXBnkqHc",
        "outputId": "b38bfdc3-3c37-4af4-80de-fbe21791b325"
      },
      "execution_count": 10,
      "outputs": [
        {
          "output_type": "stream",
          "name": "stdout",
          "text": [
            "torch.Size([4, 2])\n"
          ]
        }
      ]
    },
    {
      "cell_type": "code",
      "source": [
        ""
      ],
      "metadata": {
        "id": "FIp6IPlLik_r"
      },
      "execution_count": 10,
      "outputs": []
    },
    {
      "cell_type": "markdown",
      "source": [
        "#데이터 타입(Data Type)\n",
        "![image.png](data:image/png;base64,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)![image.png](\n",
        "  \n",
        ")"
      ],
      "metadata": {
        "id": "FLpS5Q7ajSIV"
      }
    },
    {
      "cell_type": "code",
      "source": [
        ""
      ],
      "metadata": {
        "id": "Koc1PMW2wzul"
      },
      "execution_count": 10,
      "outputs": []
    },
    {
      "cell_type": "code",
      "source": [
        "ft = torch.FloatTensor([1, 2, 3])\n",
        "print(ft)\n",
        "print(ft.dtype)"
      ],
      "metadata": {
        "colab": {
          "base_uri": "https://localhost:8080/"
        },
        "id": "uId9eMGOilCT",
        "outputId": "68822330-4b4c-419e-c1be-f60d5d169cb4"
      },
      "execution_count": 11,
      "outputs": [
        {
          "output_type": "stream",
          "name": "stdout",
          "text": [
            "tensor([1., 2., 3.])\n",
            "torch.float32\n"
          ]
        }
      ]
    },
    {
      "cell_type": "code",
      "source": [
        "x = torch.randn(1)\n",
        "print(x)\n",
        "print(x.item())\n",
        "print(x.dtype)"
      ],
      "metadata": {
        "colab": {
          "base_uri": "https://localhost:8080/"
        },
        "id": "1r_0wGj_w6mI",
        "outputId": "13850f32-d90d-4216-c5df-9ad4a62ca35e"
      },
      "execution_count": 12,
      "outputs": [
        {
          "output_type": "stream",
          "name": "stdout",
          "text": [
            "tensor([-0.7487])\n",
            "-0.7486861348152161\n",
            "torch.float32\n"
          ]
        }
      ]
    },
    {
      "cell_type": "code",
      "source": [
        "device = torch.device('cuda' if torch.cuda.is_available() else 'cpu') #쿠다가 가능하면 gpu쿠다로 실행 아니면 cpu\n",
        "print(device)\n",
        "y = torch.ones_like(x, device=device) #토치로 기존 x와 같은 모양의 텐서를 하나를 만들어주는데 디바이스에 넣기\n",
        "print(y)\n",
        "x = x.to(device) #x텐서를 Gpu로 보내기 Cuda로\n",
        "print(x)\n",
        "z = x+y\n",
        "print(z)\n",
        "print(z.to('cpu', torch.double)) #z를 double type으로 cpu로 옮기기"
      ],
      "metadata": {
        "id": "xk91YOdHl3mi",
        "colab": {
          "base_uri": "https://localhost:8080/"
        },
        "outputId": "0bf1f310-5d11-4006-99a7-e9109ac36db8"
      },
      "execution_count": 13,
      "outputs": [
        {
          "output_type": "stream",
          "name": "stdout",
          "text": [
            "cuda\n",
            "tensor([1.], device='cuda:0')\n",
            "tensor([-0.7487], device='cuda:0')\n",
            "tensor([0.2513], device='cuda:0')\n",
            "tensor([0.2513], dtype=torch.float64)\n"
          ]
        }
      ]
    },
    {
      "cell_type": "code",
      "source": [
        ""
      ],
      "metadata": {
        "id": "cQimvfnnxEAo"
      },
      "execution_count": null,
      "outputs": []
    },
    {
      "cell_type": "markdown",
      "source": [
        "#다차원 텐서 표현"
      ],
      "metadata": {
        "id": "mEDrvj3OwwvW"
      }
    },
    {
      "cell_type": "markdown",
      "source": [
        "#0D Tensor(Scalar)\n",
        "- 하나의 숫자를 담고 있는 텐서(tensor)\n",
        "- 축과 형상이 없음"
      ],
      "metadata": {
        "id": "d2GPBnCel6w0"
      }
    },
    {
      "cell_type": "code",
      "source": [
        "t0 = torch.tensor(0)\n",
        "print(t0.ndim)\n",
        "print(t0.shape)\n",
        "print(t0)"
      ],
      "metadata": {
        "id": "xsSPa0C5l5fE",
        "colab": {
          "base_uri": "https://localhost:8080/"
        },
        "outputId": "7dfccdaf-1f1e-41b2-b0e0-9d11e6d906e0"
      },
      "execution_count": null,
      "outputs": [
        {
          "output_type": "stream",
          "name": "stdout",
          "text": [
            "0\n",
            "torch.Size([])\n",
            "tensor(0)\n"
          ]
        }
      ]
    },
    {
      "cell_type": "markdown",
      "source": [
        "#1D Tensor(Vector)\n",
        "- 값들을 저장한 리스트와 유사한 텐서\n",
        "- 하나의 축이 존재"
      ],
      "metadata": {
        "id": "pY4Sn5XRl0ic"
      }
    },
    {
      "cell_type": "code",
      "source": [
        "t1 = torch.tensor([1,2,3])\n",
        "print(t1.ndim)\n",
        "print(t1.shape)\n",
        "print(t1)"
      ],
      "metadata": {
        "id": "jbZv72MVl0di",
        "colab": {
          "base_uri": "https://localhost:8080/"
        },
        "outputId": "7e6db73f-55b8-494b-df02-846fdff430ed"
      },
      "execution_count": null,
      "outputs": [
        {
          "output_type": "stream",
          "name": "stdout",
          "text": [
            "1\n",
            "torch.Size([3])\n",
            "tensor([1, 2, 3])\n"
          ]
        }
      ]
    },
    {
      "cell_type": "markdown",
      "source": [
        "#2D Tensor(Matrix)\n",
        "- 행렬과 같은 모양으로 두개의 축이 존재\n",
        "- 일반적인 수치, 통계 데이터셋이 해당\n",
        "- 주로 샘플(sample)과 특성(feature)을 가진 구조로 사용\n"
      ],
      "metadata": {
        "id": "yYUJvqZxl0Rs"
      }
    },
    {
      "cell_type": "code",
      "source": [
        "t2 = torch.tensor([[1,2,3],\n",
        "                   [4,5,6],\n",
        "                   [7,8,9]])\n",
        "print(t2.ndim)\n",
        "print(t2.shape)\n",
        "print(t2)"
      ],
      "metadata": {
        "id": "SAOkINrYl0O6",
        "colab": {
          "base_uri": "https://localhost:8080/"
        },
        "outputId": "3bcc9f2d-dca4-4738-a8ae-dbbdbc5be291"
      },
      "execution_count": null,
      "outputs": [
        {
          "output_type": "stream",
          "name": "stdout",
          "text": [
            "2\n",
            "torch.Size([3, 3])\n",
            "tensor([[1, 2, 3],\n",
            "        [4, 5, 6],\n",
            "        [7, 8, 9]])\n"
          ]
        }
      ]
    },
    {
      "cell_type": "markdown",
      "source": [
        "#3D Tensor\n",
        "- Cube와 같은 모양으로 세개의 축이 존재\n",
        "- 데이터가 연속된 시퀀스 데이터나 시간 축이 포함된 시계열 데이터에 해당\n",
        "- 주식가격 데이터셋, 시간에 따른 질병 발병 데이터 등이 존재\n",
        "- 주로 Sample, timesteps, features를 가진 구조로 사용"
      ],
      "metadata": {
        "id": "GwRpFNJQjS5D"
      }
    },
    {
      "cell_type": "code",
      "source": [
        "t3 = torch.tensor([[[1,2,3],\n",
        "                   [4,5,6],\n",
        "                   [7,8,9]],\n",
        "                  [[1,2,3],\n",
        "                   [4,5,6],\n",
        "                   [7,8,9]],\n",
        "                   [[1,2,3],\n",
        "                   [4,5,6],\n",
        "                   [7,8,9]]])\n",
        "print(t3.ndim)\n",
        "print(t3.shape)\n",
        "print(t3)"
      ],
      "metadata": {
        "id": "Nsy9uJfOilFF",
        "colab": {
          "base_uri": "https://localhost:8080/"
        },
        "outputId": "cc32c843-5629-4978-f1b8-2da250c46075"
      },
      "execution_count": null,
      "outputs": [
        {
          "output_type": "stream",
          "name": "stdout",
          "text": [
            "3\n",
            "torch.Size([3, 3, 3])\n",
            "tensor([[[1, 2, 3],\n",
            "         [4, 5, 6],\n",
            "         [7, 8, 9]],\n",
            "\n",
            "        [[1, 2, 3],\n",
            "         [4, 5, 6],\n",
            "         [7, 8, 9]],\n",
            "\n",
            "        [[1, 2, 3],\n",
            "         [4, 5, 6],\n",
            "         [7, 8, 9]]])\n"
          ]
        }
      ]
    },
    {
      "cell_type": "markdown",
      "source": [
        "#4D Tensor\n",
        "- 4개의 축\n",
        "- 컬러 이미지 데이터가 대표적인 사례 (흑백은 3D로 가능)\n",
        "- 주로 sample, height, width, 컬러채널(channel)을 가진 구조로 사용"
      ],
      "metadata": {
        "id": "Wsjshh92jTM2"
      }
    },
    {
      "cell_type": "markdown",
      "source": [
        ""
      ],
      "metadata": {
        "id": "U9T-GGqlilPL"
      }
    },
    {
      "cell_type": "markdown",
      "source": [
        "#5D Tensor\n",
        "- 5개의 축\n",
        "- 비디오 데이터가 대표적\n",
        "- 4D에 프레임 추가"
      ],
      "metadata": {
        "id": "jjICi4RYilRu"
      }
    },
    {
      "cell_type": "code",
      "source": [
        "import math\n",
        "\n",
        "a = torch.rand(1, 2) * 2 -1\n",
        "print(a)\n",
        "print(torch.abs(a)) #절대값\n",
        "print(torch.ceil(a)) #올림\n",
        "print(torch.floor(a)) #내림\n",
        "print(torch.clamp(a,-0.5,0.5))  #최소값과 최대값을 지정된 범위 안으로 그이상이면 0.5 이하면 -0.5로 지정"
      ],
      "metadata": {
        "colab": {
          "base_uri": "https://localhost:8080/"
        },
        "id": "-39LHX470B8E",
        "outputId": "a21d7bc7-bea7-478e-9385-3fcbc3de710f"
      },
      "execution_count": 14,
      "outputs": [
        {
          "output_type": "stream",
          "name": "stdout",
          "text": [
            "tensor([[0.6523, 0.3981]])\n",
            "tensor([[0.6523, 0.3981]])\n",
            "tensor([[1., 1.]])\n",
            "tensor([[0., 0.]])\n",
            "tensor([[0.5000, 0.3981]])\n"
          ]
        }
      ]
    },
    {
      "cell_type": "code",
      "source": [
        "print(a)\n",
        "print(torch.max(a))\n",
        "print(torch.min(a))\n",
        "print(torch.mean(a))\n",
        "print(torch.std(a))\n",
        "print(torch.prod(a)) #프로덕트 계산\n",
        "print(torch.unique(torch.tensor([1,2,3,1,2,3]))) #중복제거한 값\n"
      ],
      "metadata": {
        "id": "XaimHxiC0CF7",
        "colab": {
          "base_uri": "https://localhost:8080/"
        },
        "outputId": "6b6c36c7-bd7f-45ed-f096-2fd43e2827d2"
      },
      "execution_count": null,
      "outputs": [
        {
          "output_type": "stream",
          "name": "stdout",
          "text": [
            "tensor([[-0.2241,  0.6633]])\n",
            "tensor(0.6633)\n",
            "tensor(-0.2241)\n",
            "tensor(0.2196)\n",
            "tensor(0.6275)\n",
            "tensor(-0.1486)\n",
            "tensor([1, 2, 3])\n"
          ]
        }
      ]
    },
    {
      "cell_type": "markdown",
      "source": [
        "max와 min은 dim 인자를 줄 경우 argmax와 argmin도 함께 리턴\n",
        "- argmax : 최대값을 가진 인덱스\n",
        "- argmin : 최소값을 가진 인덱스"
      ],
      "metadata": {
        "id": "tnFsFlDU0CNa"
      }
    },
    {
      "cell_type": "code",
      "source": [
        "x = torch.rand(2,2)\n",
        "print(x)\n",
        "print(x.max(dim=0)) #배열중에 큰값을 산출\n",
        "print(x.max(dim=1)) \n",
        "print(x.min(dim=0))"
      ],
      "metadata": {
        "id": "IoouqXkd0CRd",
        "colab": {
          "base_uri": "https://localhost:8080/"
        },
        "outputId": "6384d127-74ca-4903-cfa7-9e776b60d75b"
      },
      "execution_count": null,
      "outputs": [
        {
          "output_type": "stream",
          "name": "stdout",
          "text": [
            "tensor([[0.9664, 0.9285],\n",
            "        [0.4478, 0.5808]])\n",
            "torch.return_types.max(\n",
            "values=tensor([0.9664, 0.9285]),\n",
            "indices=tensor([0, 0]))\n",
            "torch.return_types.max(\n",
            "values=tensor([0.9664, 0.5808]),\n",
            "indices=tensor([0, 1]))\n",
            "torch.return_types.min(\n",
            "values=tensor([0.4478, 0.5808]),\n",
            "indices=tensor([1, 1]))\n"
          ]
        }
      ]
    },
    {
      "cell_type": "code",
      "source": [
        "x = torch.rand(2,2)\n",
        "print(x)\n",
        "y = torch.rand(2,2)\n",
        "print(y)"
      ],
      "metadata": {
        "id": "3-SzGIvf0CVK",
        "colab": {
          "base_uri": "https://localhost:8080/"
        },
        "outputId": "fe32340b-d2be-4bce-e462-c0302f90e8e2"
      },
      "execution_count": null,
      "outputs": [
        {
          "output_type": "stream",
          "name": "stdout",
          "text": [
            "tensor([[0.0777, 0.3948],\n",
            "        [0.3700, 0.4389]])\n",
            "tensor([[0.5838, 0.1522],\n",
            "        [0.8702, 0.5382]])\n"
          ]
        }
      ]
    },
    {
      "cell_type": "code",
      "source": [
        "#덧셈\n",
        "print(torch.add(x,y))"
      ],
      "metadata": {
        "id": "L5pNKw8t0CYs",
        "colab": {
          "base_uri": "https://localhost:8080/"
        },
        "outputId": "1d0ef782-2d33-44a8-fb6b-ccb118f8e031"
      },
      "execution_count": null,
      "outputs": [
        {
          "output_type": "stream",
          "name": "stdout",
          "text": [
            "tensor([[0.6615, 0.5470],\n",
            "        [1.2402, 0.9771]])\n"
          ]
        }
      ]
    },
    {
      "cell_type": "code",
      "source": [
        "#결과를 텐서 인자로 출력\n",
        "result = torch.empty(2,4)\n",
        "torch.add(x,y, out = result)"
      ],
      "metadata": {
        "id": "zxbT7LRY0CcU",
        "colab": {
          "base_uri": "https://localhost:8080/"
        },
        "outputId": "fcb401d2-6330-4f00-ba86-275308edb319"
      },
      "execution_count": null,
      "outputs": [
        {
          "output_type": "stream",
          "name": "stderr",
          "text": [
            "/usr/local/lib/python3.7/dist-packages/ipykernel_launcher.py:3: UserWarning: An output with one or more elements was resized since it had shape [2, 4], which does not match the required output shape [2, 2].This behavior is deprecated, and in a future PyTorch release outputs will not be resized unless they have zero elements. You can explicitly reuse an out tensor t by resizing it, inplace, to zero elements with t.resize_(0). (Triggered internally at  ../aten/src/ATen/native/Resize.cpp:24.)\n",
            "  This is separate from the ipykernel package so we can avoid doing imports until\n"
          ]
        },
        {
          "output_type": "execute_result",
          "data": {
            "text/plain": [
              "tensor([[0.6615, 0.5470],\n",
              "        [1.2402, 0.9771]])"
            ]
          },
          "metadata": {},
          "execution_count": 23
        }
      ]
    },
    {
      "cell_type": "code",
      "source": [
        "#in-place방식 연산뒤엔 _가 붙음\n",
        "print(x)\n",
        "print(y)\n",
        "y.add_(x) #x를 더한값이 y로 저장\n",
        "print(y)"
      ],
      "metadata": {
        "colab": {
          "base_uri": "https://localhost:8080/"
        },
        "id": "aav_h3YQu6SU",
        "outputId": "e79ddc19-d5c3-4da7-f0ec-a0c6bc8b57e1"
      },
      "execution_count": null,
      "outputs": [
        {
          "output_type": "stream",
          "name": "stdout",
          "text": [
            "tensor([[0.0777, 0.3948],\n",
            "        [0.3700, 0.4389]])\n",
            "tensor([[0.5838, 0.1522],\n",
            "        [0.8702, 0.5382]])\n",
            "tensor([[0.6615, 0.5470],\n",
            "        [1.2402, 0.9771]])\n"
          ]
        }
      ]
    },
    {
      "cell_type": "code",
      "source": [
        "#뺄셈\n",
        "print(x)\n",
        "print(y)\n",
        "print(x-y)\n",
        "print(torch.sub(x,y))\n",
        "print(x.sub(y))"
      ],
      "metadata": {
        "colab": {
          "base_uri": "https://localhost:8080/"
        },
        "id": "wQFIEanLvCJT",
        "outputId": "b6657780-c1d1-47de-be75-50e2bcc74b1e"
      },
      "execution_count": null,
      "outputs": [
        {
          "output_type": "stream",
          "name": "stdout",
          "text": [
            "tensor([[0.0777, 0.3948],\n",
            "        [0.3700, 0.4389]])\n",
            "tensor([[0.6615, 0.5470],\n",
            "        [1.2402, 0.9771]])\n",
            "tensor([[-0.5838, -0.1522],\n",
            "        [-0.8702, -0.5382]])\n",
            "tensor([[-0.5838, -0.1522],\n",
            "        [-0.8702, -0.5382]])\n",
            "tensor([[-0.5838, -0.1522],\n",
            "        [-0.8702, -0.5382]])\n"
          ]
        }
      ]
    },
    {
      "cell_type": "code",
      "source": [
        "#곱셈\n",
        "print(x)\n",
        "print(y)\n",
        "print(x*y)\n",
        "print(torch.mul(x,y))\n",
        "print(x.mul(y))"
      ],
      "metadata": {
        "colab": {
          "base_uri": "https://localhost:8080/"
        },
        "id": "CUBOfBy-vFo1",
        "outputId": "f3e9af14-842a-41e8-b292-05b0dced9d33"
      },
      "execution_count": null,
      "outputs": [
        {
          "output_type": "stream",
          "name": "stdout",
          "text": [
            "tensor([[0.0777, 0.3948],\n",
            "        [0.3700, 0.4389]])\n",
            "tensor([[0.6615, 0.5470],\n",
            "        [1.2402, 0.9771]])\n",
            "tensor([[0.0514, 0.2160],\n",
            "        [0.4589, 0.4288]])\n",
            "tensor([[0.0514, 0.2160],\n",
            "        [0.4589, 0.4288]])\n",
            "tensor([[0.0514, 0.2160],\n",
            "        [0.4589, 0.4288]])\n"
          ]
        }
      ]
    },
    {
      "cell_type": "code",
      "source": [
        "#나눗셈\n",
        "print(x)\n",
        "print(y)\n",
        "print(x*y)\n",
        "print(torch.div(x,y))\n",
        "print(x.div(y))"
      ],
      "metadata": {
        "colab": {
          "base_uri": "https://localhost:8080/"
        },
        "id": "I7AEMm6_vFrW",
        "outputId": "4aef0ed8-7741-41d1-c69c-2c19fa7ac56c"
      },
      "execution_count": null,
      "outputs": [
        {
          "output_type": "stream",
          "name": "stdout",
          "text": [
            "tensor([[0.0777, 0.3948],\n",
            "        [0.3700, 0.4389]])\n",
            "tensor([[0.6615, 0.5470],\n",
            "        [1.2402, 0.9771]])\n",
            "tensor([[0.0514, 0.2160],\n",
            "        [0.4589, 0.4288]])\n",
            "tensor([[0.1175, 0.7218],\n",
            "        [0.2983, 0.4492]])\n",
            "tensor([[0.1175, 0.7218],\n",
            "        [0.2983, 0.4492]])\n"
          ]
        }
      ]
    },
    {
      "cell_type": "code",
      "source": [
        "#내적 (dot product)\n",
        "print(x)\n",
        "print(y)\n",
        "print(x*y)\n",
        "print(torch.matmul(x,y))\n",
        "z = torch.mm(x,y)\n",
        "print(z)\n",
        "print(torch.svd(z)) #d컴포지션? 행렬분해"
      ],
      "metadata": {
        "colab": {
          "base_uri": "https://localhost:8080/"
        },
        "id": "-MamDxO-vFt6",
        "outputId": "5eb927bf-c6a5-4385-e4e9-935af73997d4"
      },
      "execution_count": null,
      "outputs": [
        {
          "output_type": "stream",
          "name": "stdout",
          "text": [
            "tensor([[0.0777, 0.3948],\n",
            "        [0.3700, 0.4389]])\n",
            "tensor([[0.6615, 0.5470],\n",
            "        [1.2402, 0.9771]])\n",
            "tensor([[0.0514, 0.2160],\n",
            "        [0.4589, 0.4288]])\n",
            "tensor([[0.5411, 0.4283],\n",
            "        [0.7891, 0.6312]])\n",
            "tensor([[0.5411, 0.4283],\n",
            "        [0.7891, 0.6312]])\n",
            "torch.return_types.svd(\n",
            "U=tensor([[-0.5640, -0.8258],\n",
            "        [-0.8258,  0.5640]]),\n",
            "S=tensor([1.2237, 0.0029]),\n",
            "V=tensor([[-0.7819, -0.6234],\n",
            "        [-0.6234,  0.7819]]))\n"
          ]
        }
      ]
    },
    {
      "cell_type": "markdown",
      "source": [
        "#텐서의 조작(Manipulations)\n",
        " - 인덱싱 : Numpy처럼 인덱싱형태로 사용가능"
      ],
      "metadata": {
        "id": "lFfiTXlBvFwg"
      }
    },
    {
      "cell_type": "code",
      "source": [
        "x = torch.Tensor([[1,2],\n",
        "                  [3,4]])\n",
        "print(x)\n",
        "print(x[0,0])\n",
        "print(x[0,1])\n",
        "print(x[1,0])\n",
        "print(x[1,1])\n",
        "\n",
        "print(x[:,0]) #행은 전부 0번째 칼럼\n",
        "print(x[:,1]) #행은 전부 1번째 칼럼\n",
        "print(x[0,:]) #열은 전부 0번째 행\n",
        "print(x[1,:]) #열은 전부 1번째 칼럼"
      ],
      "metadata": {
        "colab": {
          "base_uri": "https://localhost:8080/"
        },
        "id": "QkBOFr0CvFzG",
        "outputId": "8074923d-a33b-4f12-e643-d506de6627e4"
      },
      "execution_count": null,
      "outputs": [
        {
          "output_type": "stream",
          "name": "stdout",
          "text": [
            "tensor([[1., 2.],\n",
            "        [3., 4.]])\n",
            "tensor(1.)\n",
            "tensor(2.)\n",
            "tensor(3.)\n",
            "tensor(4.)\n",
            "tensor([1., 3.])\n",
            "tensor([2., 4.])\n",
            "tensor([1., 2.])\n",
            "tensor([3., 4.])\n"
          ]
        }
      ]
    },
    {
      "cell_type": "code",
      "source": [
        "#텐서의 크기(size)나 모양(shape) 변경\n",
        "#기분적으로 변경전과 후에 텐서 안의 원소 개수가 유지되어야함\n",
        "# - 1로 설정되면 계산을 통해 해당 크기값 유추\n",
        "x = torch.randn(4,5)\n",
        "print(x)\n",
        "y = x.view(20)\n",
        "print(y)\n",
        "z = x.view(5,-1)"
      ],
      "metadata": {
        "colab": {
          "base_uri": "https://localhost:8080/"
        },
        "id": "i8fi1oJqvF1X",
        "outputId": "e2269978-d54f-4194-e1a3-ec8ec82bf331"
      },
      "execution_count": null,
      "outputs": [
        {
          "output_type": "stream",
          "name": "stdout",
          "text": [
            "tensor([[-1.0334, -0.3201,  0.0183, -0.0810, -0.0103],\n",
            "        [ 0.1361, -0.2377, -1.2615, -0.9908,  0.9057],\n",
            "        [-0.4629,  1.8462, -1.9622, -2.1864, -0.0116],\n",
            "        [ 0.7739,  0.6456, -1.1177,  1.1853, -1.0880]])\n",
            "tensor([-1.0334, -0.3201,  0.0183, -0.0810, -0.0103,  0.1361, -0.2377, -1.2615,\n",
            "        -0.9908,  0.9057, -0.4629,  1.8462, -1.9622, -2.1864, -0.0116,  0.7739,\n",
            "         0.6456, -1.1177,  1.1853, -1.0880])\n"
          ]
        }
      ]
    },
    {
      "cell_type": "code",
      "source": [
        "#item : 텐서에 값이 단 하나라도 존재하면 숫자값 얻음\n",
        "#스칼라값 1개만 선택해야 사용 가능\n",
        "x = torch.randn(1)\n",
        "print(x)\n",
        "print(x.item())\n",
        "print(x.dtype)"
      ],
      "metadata": {
        "colab": {
          "base_uri": "https://localhost:8080/"
        },
        "id": "bRYKs_9_vF3z",
        "outputId": "5f670f69-c47b-406d-a9c4-4d2c145d4870"
      },
      "execution_count": null,
      "outputs": [
        {
          "output_type": "stream",
          "name": "stdout",
          "text": [
            "tensor([-0.0164])\n",
            "-0.01640881411731243\n",
            "torch.float32\n"
          ]
        }
      ]
    },
    {
      "cell_type": "code",
      "source": [
        ""
      ],
      "metadata": {
        "id": "-DHEQqflvF6D"
      },
      "execution_count": null,
      "outputs": []
    },
    {
      "cell_type": "markdown",
      "source": [
        "- squeeze : 차원을 축소 제거\n",
        "- unsqueeze : 차원을 증가 생성"
      ],
      "metadata": {
        "id": "R2LE6Q_LxfCt"
      }
    },
    {
      "cell_type": "code",
      "source": [
        "tensor = torch.rand(1,3,3)\n",
        "print(tensor)\n",
        "print(tensor.shape)"
      ],
      "metadata": {
        "colab": {
          "base_uri": "https://localhost:8080/"
        },
        "id": "tdRovHCOxfLw",
        "outputId": "1c6eeefe-c0fc-45c3-a140-6e552c73e720"
      },
      "execution_count": null,
      "outputs": [
        {
          "output_type": "stream",
          "name": "stdout",
          "text": [
            "tensor([[[0.5542, 0.3076, 0.7012],\n",
            "         [0.5139, 0.5196, 0.2401],\n",
            "         [0.2422, 0.5152, 0.9291]]])\n",
            "torch.Size([1, 3, 3])\n"
          ]
        }
      ]
    },
    {
      "cell_type": "code",
      "source": [
        "t = tensor.squeeze()\n",
        "print(t)\n",
        "print(t.shape)"
      ],
      "metadata": {
        "colab": {
          "base_uri": "https://localhost:8080/"
        },
        "id": "vOh5685exfOZ",
        "outputId": "c21dc2cb-b493-4895-947a-66860793c773"
      },
      "execution_count": null,
      "outputs": [
        {
          "output_type": "stream",
          "name": "stdout",
          "text": [
            "tensor([[0.5542, 0.3076, 0.7012],\n",
            "        [0.5139, 0.5196, 0.2401],\n",
            "        [0.2422, 0.5152, 0.9291]])\n",
            "torch.Size([3, 3])\n"
          ]
        }
      ]
    },
    {
      "cell_type": "code",
      "source": [
        "t = torch.rand(3,3)\n",
        "print(t)\n",
        "print(t.shape)"
      ],
      "metadata": {
        "colab": {
          "base_uri": "https://localhost:8080/"
        },
        "id": "6GITHZmGxfRr",
        "outputId": "d3e94940-4071-4a9e-f795-9b30db345875"
      },
      "execution_count": null,
      "outputs": [
        {
          "output_type": "stream",
          "name": "stdout",
          "text": [
            "tensor([[0.8006, 0.3264, 0.6311],\n",
            "        [0.6125, 0.7013, 0.5388],\n",
            "        [0.9354, 0.6834, 0.8419]])\n",
            "torch.Size([3, 3])\n"
          ]
        }
      ]
    },
    {
      "cell_type": "code",
      "source": [
        "tensor = t.unsqueeze(dim=0) #1번째 차원을 기준으로 차원증가\n",
        "print(tensor)\n",
        "print(tensor.shape)"
      ],
      "metadata": {
        "colab": {
          "base_uri": "https://localhost:8080/"
        },
        "id": "jv6VA0XxxfUs",
        "outputId": "78ebc275-a41e-4ebc-e005-a6a7b3158199"
      },
      "execution_count": null,
      "outputs": [
        {
          "output_type": "stream",
          "name": "stdout",
          "text": [
            "tensor([[[0.8006, 0.3264, 0.6311],\n",
            "         [0.6125, 0.7013, 0.5388],\n",
            "         [0.9354, 0.6834, 0.8419]]])\n",
            "torch.Size([1, 3, 3])\n"
          ]
        }
      ]
    },
    {
      "cell_type": "code",
      "source": [
        "tensor = t.unsqueeze(dim=2) #3번째 차원을 기준으로 차원증가\n",
        "print(tensor)\n",
        "print(tensor.shape)"
      ],
      "metadata": {
        "colab": {
          "base_uri": "https://localhost:8080/"
        },
        "id": "8CoOPGp0xfX6",
        "outputId": "680295a3-e25b-4afe-ba3a-a557852a53d3"
      },
      "execution_count": null,
      "outputs": [
        {
          "output_type": "stream",
          "name": "stdout",
          "text": [
            "tensor([[[0.8006],\n",
            "         [0.3264],\n",
            "         [0.6311]],\n",
            "\n",
            "        [[0.6125],\n",
            "         [0.7013],\n",
            "         [0.5388]],\n",
            "\n",
            "        [[0.9354],\n",
            "         [0.6834],\n",
            "         [0.8419]]])\n",
            "torch.Size([3, 3, 1])\n"
          ]
        }
      ]
    },
    {
      "cell_type": "markdown",
      "source": [
        "stack : 텐서간 결합"
      ],
      "metadata": {
        "id": "qkw4SfbDxfbi"
      }
    },
    {
      "cell_type": "code",
      "source": [
        "x = torch.FloatTensor([1,4])\n",
        "print(x)\n",
        "y = torch.FloatTensor([2,5])\n",
        "print(y)\n",
        "z = torch.FloatTensor([3,6])\n",
        "print(z)\n",
        "\n",
        "print(torch.stack([x,y,z]))\n"
      ],
      "metadata": {
        "colab": {
          "base_uri": "https://localhost:8080/"
        },
        "id": "rC2DP1_0xfed",
        "outputId": "4b956e46-001e-4af9-fe0f-57d34694c262"
      },
      "execution_count": null,
      "outputs": [
        {
          "output_type": "stream",
          "name": "stdout",
          "text": [
            "tensor([1., 4.])\n",
            "tensor([2., 5.])\n",
            "tensor([3., 6.])\n",
            "tensor([[1., 4.],\n",
            "        [2., 5.],\n",
            "        [3., 6.]])\n"
          ]
        }
      ]
    },
    {
      "cell_type": "markdown",
      "source": [
        "cat : 텐서를 결합하는 메소드(concatenate)\n",
        "- 넘파이의 stack과 유사하지만, 쌓을 dim이 존재해야함\n",
        "- 해당 차원을 늘려준 후 결합"
      ],
      "metadata": {
        "id": "V9hrljQLxfhP"
      }
    },
    {
      "cell_type": "code",
      "source": [
        "a = torch.randn(1,3,3)\n",
        "b = torch.randn(1,3,3)\n",
        "c = torch.cat((a,b),dim=0)\n",
        "print(c)\n",
        "print(c.size())"
      ],
      "metadata": {
        "colab": {
          "base_uri": "https://localhost:8080/"
        },
        "id": "eavZmv0YxfkD",
        "outputId": "392c95ec-4296-4d86-f4ec-1f9dbccfeb9b"
      },
      "execution_count": null,
      "outputs": [
        {
          "output_type": "stream",
          "name": "stdout",
          "text": [
            "tensor([[[-1.4106,  0.2688,  0.2072],\n",
            "         [ 0.1910,  0.0606,  2.1284],\n",
            "         [-0.5553,  1.4421,  1.6081]],\n",
            "\n",
            "        [[ 1.4790,  0.6496, -0.1726],\n",
            "         [ 1.5154, -2.8805,  0.1770],\n",
            "         [-0.9748,  0.3069,  0.5314]]])\n",
            "torch.Size([2, 3, 3])\n"
          ]
        }
      ]
    },
    {
      "cell_type": "code",
      "source": [
        "a = torch.randn(1,3,3)\n",
        "b = torch.randn(1,3,3)\n",
        "c = torch.cat((a,b),dim=1)\n",
        "print(c)\n",
        "print(c.size())"
      ],
      "metadata": {
        "colab": {
          "base_uri": "https://localhost:8080/"
        },
        "id": "rCwa7kDezWhz",
        "outputId": "170d79bd-bb51-40db-c22d-f0c017bbb695"
      },
      "execution_count": null,
      "outputs": [
        {
          "output_type": "stream",
          "name": "stdout",
          "text": [
            "tensor([[[ 7.0540e-01, -8.6163e-01, -1.6188e+00],\n",
            "         [-2.6461e-01, -2.6146e-01,  2.2550e-01],\n",
            "         [ 2.2383e-02, -2.2910e+00,  1.3299e+00],\n",
            "         [-1.7280e-04, -1.1477e+00, -1.4623e+00],\n",
            "         [-2.3361e-02,  9.1710e-01,  2.2840e-01],\n",
            "         [ 4.4062e-01, -4.7746e-01, -7.8199e-01]]])\n",
            "torch.Size([1, 6, 3])\n"
          ]
        }
      ]
    },
    {
      "cell_type": "code",
      "source": [
        "a = torch.randn(1,3,3)\n",
        "b = torch.randn(1,3,3)\n",
        "c = torch.cat((a,b),dim=2)\n",
        "print(c)\n",
        "print(c.size())"
      ],
      "metadata": {
        "colab": {
          "base_uri": "https://localhost:8080/"
        },
        "id": "EteKOC2IzZgJ",
        "outputId": "84a36cce-be60-45b1-9461-1a7fb654b94a"
      },
      "execution_count": null,
      "outputs": [
        {
          "output_type": "stream",
          "name": "stdout",
          "text": [
            "tensor([[[-1.2233,  1.1970,  1.1302,  0.5352, -0.3243,  0.9206],\n",
            "         [-1.5815, -0.7323,  0.0570, -0.6557,  2.2825,  0.6167],\n",
            "         [-1.5696,  0.4139,  0.0859,  0.2108,  0.6472, -0.0683]]])\n",
            "torch.Size([1, 3, 6])\n"
          ]
        }
      ]
    },
    {
      "cell_type": "markdown",
      "source": [
        "chunk : 텐서를 여러개로 나눌때 사용"
      ],
      "metadata": {
        "id": "cRzdrOwnvF8r"
      }
    },
    {
      "cell_type": "code",
      "source": [
        "tensor = torch.rand(3,6)\n",
        "print(tensor)\n",
        "t1,t2,t3 = torch.chunk(tensor,3, dim=1)\n",
        "print(t1)\n",
        "print(t2)\n",
        "print(t3)"
      ],
      "metadata": {
        "colab": {
          "base_uri": "https://localhost:8080/"
        },
        "id": "JDZwoXrtzUA8",
        "outputId": "1461a888-6fbc-4e9f-cbfe-eb249abe95fe"
      },
      "execution_count": null,
      "outputs": [
        {
          "output_type": "stream",
          "name": "stdout",
          "text": [
            "tensor([[0.2939, 0.9588, 0.0116, 0.9579, 0.5827, 0.1565],\n",
            "        [0.7406, 0.5077, 0.4192, 0.8102, 0.0369, 0.5895],\n",
            "        [0.5663, 0.8585, 0.8732, 0.9989, 0.9961, 0.6360]])\n",
            "tensor([[0.2939, 0.9588],\n",
            "        [0.7406, 0.5077],\n",
            "        [0.5663, 0.8585]])\n",
            "tensor([[0.0116, 0.9579],\n",
            "        [0.4192, 0.8102],\n",
            "        [0.8732, 0.9989]])\n",
            "tensor([[0.5827, 0.1565],\n",
            "        [0.0369, 0.5895],\n",
            "        [0.9961, 0.6360]])\n"
          ]
        }
      ]
    },
    {
      "cell_type": "code",
      "source": [
        "#split :chunk랑 동일한 기능이지만 조금 다름(텐서의 크기는 몇인가?)\n",
        "tensor = torch.rand(3,6)\n",
        "t1, t2 = torch.split(tensor, 3, dim=1)\n",
        "\n",
        "print(tensor)\n",
        "print(t1)\n",
        "print(t2)"
      ],
      "metadata": {
        "colab": {
          "base_uri": "https://localhost:8080/"
        },
        "id": "vcw0Qp1PzUEJ",
        "outputId": "b439eeb8-379e-40ef-89b8-c68e2fc3b6ff"
      },
      "execution_count": null,
      "outputs": [
        {
          "output_type": "stream",
          "name": "stdout",
          "text": [
            "tensor([[0.3048, 0.0250, 0.6341, 0.4322, 0.6719, 0.4395],\n",
            "        [0.5777, 0.7293, 0.8935, 0.2534, 0.6012, 0.5277],\n",
            "        [0.3036, 0.2483, 0.9288, 0.9474, 0.2787, 0.1538]])\n",
            "tensor([[0.3048, 0.0250, 0.6341],\n",
            "        [0.5777, 0.7293, 0.8935],\n",
            "        [0.3036, 0.2483, 0.9288]])\n",
            "tensor([[0.4322, 0.6719, 0.4395],\n",
            "        [0.2534, 0.6012, 0.5277],\n",
            "        [0.9474, 0.2787, 0.1538]])\n"
          ]
        }
      ]
    },
    {
      "cell_type": "markdown",
      "source": [
        "torch <-> numpy\n",
        "- torch Tensor를 numpy array로 변환 가능\n",
        "- Tensor가 Cpu상에 있다면 Numpy 배열은 메모리 공간을 공유하므로 하나가변하면 다른 하나도 변함"
      ],
      "metadata": {
        "id": "5CVon-dKzUHK"
      }
    },
    {
      "cell_type": "code",
      "source": [
        "a = torch.ones(7)\n",
        "print(a)"
      ],
      "metadata": {
        "colab": {
          "base_uri": "https://localhost:8080/"
        },
        "id": "DSYBmidhzUMb",
        "outputId": "6af660b1-62fb-4e06-b3de-ed8d82f6904a"
      },
      "execution_count": null,
      "outputs": [
        {
          "output_type": "stream",
          "name": "stdout",
          "text": [
            "tensor([1., 1., 1., 1., 1., 1., 1.])\n"
          ]
        }
      ]
    },
    {
      "cell_type": "code",
      "source": [
        "b = a.numpy()\n",
        "print(b)"
      ],
      "metadata": {
        "colab": {
          "base_uri": "https://localhost:8080/"
        },
        "id": "lv6PAvNgzUPq",
        "outputId": "0bfa01eb-e3eb-4f74-a64c-73d77b77a660"
      },
      "execution_count": null,
      "outputs": [
        {
          "output_type": "stream",
          "name": "stdout",
          "text": [
            "[1. 1. 1. 1. 1. 1. 1.]\n"
          ]
        }
      ]
    },
    {
      "cell_type": "code",
      "source": [
        "a.add_(1) #a만 변해도 a와 b가 함께 변함\n",
        "print(a)\n",
        "print(b)"
      ],
      "metadata": {
        "colab": {
          "base_uri": "https://localhost:8080/"
        },
        "id": "B6tMGsDVzUSx",
        "outputId": "64d5015b-7ff4-45fd-a0e5-4a333c761ed0"
      },
      "execution_count": null,
      "outputs": [
        {
          "output_type": "stream",
          "name": "stdout",
          "text": [
            "tensor([3., 3., 3., 3., 3., 3., 3.])\n",
            "[3. 3. 3. 3. 3. 3. 3.]\n"
          ]
        }
      ]
    },
    {
      "cell_type": "code",
      "source": [
        "import numpy as np\n",
        "a = np.ones(7)\n",
        "b = torch.from_numpy(a)\n",
        "np.add(a, 1, out=a) #a에 1을 더하고 그걸 a에 저장\n",
        "print(a)\n",
        "print(b)"
      ],
      "metadata": {
        "colab": {
          "base_uri": "https://localhost:8080/"
        },
        "id": "6Htug_O606v7",
        "outputId": "70788971-fe61-49ff-f581-d0b814dd05fc"
      },
      "execution_count": 15,
      "outputs": [
        {
          "output_type": "stream",
          "name": "stdout",
          "text": [
            "[2. 2. 2. 2. 2. 2. 2.]\n",
            "tensor([2., 2., 2., 2., 2., 2., 2.], dtype=torch.float64)\n"
          ]
        }
      ]
    },
    {
      "cell_type": "markdown",
      "source": [
        "Autograd(자동미분)\n",
        "- torch.autograd 패키지는 Tensor의 모든 연산에 대해 자동미분 제공\n",
        "- 이는 코드를 어떻게 작성하여 실행하느냐에 따라 역전파가 정의된다는 뜻\n",
        "- backprop를 위해 미분값을 자동으로 계산"
      ],
      "metadata": {
        "id": "1Ud8Q6MLzUVy"
      }
    },
    {
      "cell_type": "markdown",
      "source": [
        "requires_grad 속성을 True로 설정하면, 해당 텐서에서 이루어지는 모든 연산들을 추적하기 시작\n",
        "기록을 추적하는 것을 중단하게 하려면, .datach()를 호출하여 연산기록으로 부터 분리"
      ],
      "metadata": {
        "id": "1c9z5f8nzUYx"
      }
    },
    {
      "cell_type": "code",
      "source": [
        "a = torch.randn(3,3)\n",
        "a = a * 3\n",
        "print(a)\n",
        "print(a.requires_grad)"
      ],
      "metadata": {
        "colab": {
          "base_uri": "https://localhost:8080/"
        },
        "id": "mfg5BuGPzUbx",
        "outputId": "a1591e5a-594b-4d9b-d696-4b549a3231e6"
      },
      "execution_count": null,
      "outputs": [
        {
          "output_type": "stream",
          "name": "stdout",
          "text": [
            "tensor([[-3.4128, -4.3669,  1.4001],\n",
            "        [-4.6175, -1.7061, -1.5089],\n",
            "        [-2.4096, -1.7948, -0.4555]])\n",
            "False\n"
          ]
        }
      ]
    },
    {
      "cell_type": "markdown",
      "source": [
        "requires_grad(...)는 기존 텐서의 requires_grad 값을 바꿔치기(in_place)하여 변경\n",
        "grad_fn : 미분값을 계산한 함수에 대한 정보 저장(어떤 함수에대해서 backprop했는지)"
      ],
      "metadata": {
        "id": "GK47R91pzUfR"
      }
    },
    {
      "cell_type": "code",
      "source": [
        "a.requires_grad_(True)\n",
        "print(a.requires_grad)\n",
        "\n",
        "b = (a*a).sum() #a*a의 총합\n",
        "print(b) #sum연산으로 한것이 기록으로 남음 SumBackward\n",
        "print(b.grad_fn)"
      ],
      "metadata": {
        "colab": {
          "base_uri": "https://localhost:8080/"
        },
        "id": "4ZjHLtVk78vs",
        "outputId": "232be76e-88e4-4c65-beb5-01026822919f"
      },
      "execution_count": null,
      "outputs": [
        {
          "output_type": "stream",
          "name": "stdout",
          "text": [
            "True\n",
            "tensor(68.4202, grad_fn=<SumBackward0>)\n",
            "<SumBackward0 object at 0x7f981e60a9d0>\n"
          ]
        }
      ]
    },
    {
      "cell_type": "markdown",
      "source": [
        "기울기(Gradient)"
      ],
      "metadata": {
        "id": "vNY9kg2878y2"
      }
    },
    {
      "cell_type": "code",
      "source": [
        "x = torch.ones(3,3, requires_grad=True)\n",
        "print(x)"
      ],
      "metadata": {
        "colab": {
          "base_uri": "https://localhost:8080/"
        },
        "id": "KuL43SLR781t",
        "outputId": "46174495-6e24-4930-f48e-67e96f4f1a0f"
      },
      "execution_count": null,
      "outputs": [
        {
          "output_type": "stream",
          "name": "stdout",
          "text": [
            "tensor([[1., 1., 1.],\n",
            "        [1., 1., 1.],\n",
            "        [1., 1., 1.]], requires_grad=True)\n"
          ]
        }
      ]
    },
    {
      "cell_type": "code",
      "source": [
        "y = x+5\n",
        "print(y)"
      ],
      "metadata": {
        "colab": {
          "base_uri": "https://localhost:8080/"
        },
        "id": "5YDGNR0t784n",
        "outputId": "f2094ffa-5915-4635-9032-5d74b4c7beb4"
      },
      "execution_count": null,
      "outputs": [
        {
          "output_type": "stream",
          "name": "stdout",
          "text": [
            "tensor([[6., 6., 6.],\n",
            "        [6., 6., 6.],\n",
            "        [6., 6., 6.]], grad_fn=<AddBackward0>)\n"
          ]
        }
      ]
    },
    {
      "cell_type": "code",
      "source": [
        "z = y * y\n",
        "out = z.mean()\n",
        "print(z, out) #Mul -> 곱에대한  Mean -> 평균에대한 연산 저장"
      ],
      "metadata": {
        "colab": {
          "base_uri": "https://localhost:8080/"
        },
        "id": "M0pQTesQ79GT",
        "outputId": "91dcb2e4-305d-4c34-a66a-409bd21f3274"
      },
      "execution_count": null,
      "outputs": [
        {
          "output_type": "stream",
          "name": "stdout",
          "text": [
            "tensor([[36., 36., 36.],\n",
            "        [36., 36., 36.],\n",
            "        [36., 36., 36.]], grad_fn=<MulBackward0>) tensor(36., grad_fn=<MeanBackward0>)\n"
          ]
        }
      ]
    },
    {
      "cell_type": "markdown",
      "source": [
        "계산이 완료된 후, .backword()를 호출하면 자동으로 역전파 계산이 가능하고, .grad 속성에 누적됨"
      ],
      "metadata": {
        "id": "btzwCs_5-L27"
      }
    },
    {
      "cell_type": "markdown",
      "source": [
        "https://ko.wikipedia.org/wiki/%EC%97%AD%EC%A0%84%ED%8C%8C\n",
        "역전파(逆傳播), 오차 역전파법(영어: Backpropagation 백프로퍼게이션[*]) 또는 오류 역전파 알고리즘은 다층 퍼셉트론 학습에 사용되는 통계적 기법을 의미한다.\n",
        "\n",
        "기계 학습에서 사용되는 학습 구조로 다층 퍼셉트론이 있다. 일반적인 다층 퍼셉트론의 형태는 입력층 - 은닉층 - 은닉층 - ... - 출력층으로 구성되며, 각 층은 서로 교차되는 가중치 값으로 연결되어 있다. 출력층에서 제시한 값이 실제 원하는 값에 가까워지도록 학습하기 위해 통계적 방법에 의한 오차역전법을 사용한다.\n",
        "\n",
        "오차역전법은 동일 입력층에 대해 원하는 값이 출력되도록 개개의 가중치를 조정하는 방법으로 사용되며, 속도는 느리지만 안정적인 결과를 얻을 수 있는 장점이 있어 기계 학습에 널리 사용되고 있다."
      ],
      "metadata": {
        "id": "94Ozorisg_cn"
      }
    },
    {
      "cell_type": "code",
      "source": [
        "print(out)\n",
        "out.backward() #역전파 계산 가능"
      ],
      "metadata": {
        "colab": {
          "base_uri": "https://localhost:8080/"
        },
        "id": "KcqSmkeR79NV",
        "outputId": "9683ac96-694b-4e13-c007-4e3c47a3015f"
      },
      "execution_count": null,
      "outputs": [
        {
          "output_type": "stream",
          "name": "stdout",
          "text": [
            "tensor(36., grad_fn=<MeanBackward0>)\n"
          ]
        }
      ]
    },
    {
      "cell_type": "markdown",
      "source": [
        "grad : data가 거쳐온 layer에 대한 미분값 저장"
      ],
      "metadata": {
        "id": "THCCbY6U79Q9"
      }
    },
    {
      "cell_type": "code",
      "source": [
        "print(x)\n",
        "print(x.grad) #미분값"
      ],
      "metadata": {
        "colab": {
          "base_uri": "https://localhost:8080/"
        },
        "id": "DTvzT6Ws79UD",
        "outputId": "eb866b96-6719-4879-82f2-6333e73b7a89"
      },
      "execution_count": null,
      "outputs": [
        {
          "output_type": "stream",
          "name": "stdout",
          "text": [
            "tensor([[1., 1., 1.],\n",
            "        [1., 1., 1.],\n",
            "        [1., 1., 1.]], requires_grad=True)\n",
            "tensor([[1.3333, 1.3333, 1.3333],\n",
            "        [1.3333, 1.3333, 1.3333],\n",
            "        [1.3333, 1.3333, 1.3333]])\n"
          ]
        }
      ]
    },
    {
      "cell_type": "code",
      "source": [
        "x = torch.randn(3, requires_grad=True)\n",
        "y = x * 2\n",
        "while y.data.norm() <1000: #반복문\n",
        "  y = y * 2\n",
        "\n",
        "print(y)"
      ],
      "metadata": {
        "colab": {
          "base_uri": "https://localhost:8080/"
        },
        "id": "O95QtL3C79XM",
        "outputId": "647ceac1-c491-42da-a467-385329738d52"
      },
      "execution_count": null,
      "outputs": [
        {
          "output_type": "stream",
          "name": "stdout",
          "text": [
            "tensor([-626.3344,  810.0084,  -81.6145], grad_fn=<MulBackward0>)\n"
          ]
        }
      ]
    },
    {
      "cell_type": "code",
      "source": [
        "v = torch.tensor([0.1,1.0,0.0001], dtype = torch.float) #[]값 기준으로\n",
        "y.backward(v)\n",
        "\n",
        "print(x.grad)"
      ],
      "metadata": {
        "colab": {
          "base_uri": "https://localhost:8080/"
        },
        "id": "O_2mui819NNh",
        "outputId": "36f03ce4-1df3-4da3-c115-afde5ae2d74f"
      },
      "execution_count": null,
      "outputs": [
        {
          "output_type": "stream",
          "name": "stdout",
          "text": [
            "tensor([5.1200e+01, 5.1200e+02, 5.1200e-02])\n"
          ]
        }
      ]
    },
    {
      "cell_type": "markdown",
      "source": [
        "with torch.no_grad()를 사용하여 기울기의 업데이트를 하지않음\n",
        "기록을 추적하는 것을 방지하기 위해 코드 블럭을 with torch.no_grad()로 감싸면 기울기 게산을 필요없지만,\n",
        "requires_grad= True로 설정되어 학습 가능한 매개변수를 갖는 모델을 평가(evaluate)할 때 유용"
      ],
      "metadata": {
        "id": "U9Vj26vMiR5V"
      }
    },
    {
      "cell_type": "code",
      "source": [
        "print(x.requires_grad)\n",
        "print((x ** 2).requires_grad)\n",
        "\n",
        "with torch.no_grad(): #기울기 계산 X\n",
        "  print((x ** 2 ).requires_grad)"
      ],
      "metadata": {
        "colab": {
          "base_uri": "https://localhost:8080/"
        },
        "id": "r0uBYboZ9mCm",
        "outputId": "bf83f9ed-ada0-4ce3-e078-eb9a08a00c45"
      },
      "execution_count": null,
      "outputs": [
        {
          "output_type": "stream",
          "name": "stdout",
          "text": [
            "True\n",
            "True\n",
            "False\n"
          ]
        }
      ]
    },
    {
      "cell_type": "markdown",
      "source": [
        "detach() : 내용물(content)는 같지만 require_grad가 다른 새로운 Tensor를 가져올 때"
      ],
      "metadata": {
        "id": "9X9aYBjg9mFi"
      }
    },
    {
      "cell_type": "code",
      "source": [
        "print(x.requires_grad)\n",
        "y = x.detach()\n",
        "print(y.requires_grad)\n",
        "print(x.eq(y).all())"
      ],
      "metadata": {
        "colab": {
          "base_uri": "https://localhost:8080/"
        },
        "id": "A0iktcLe9mJE",
        "outputId": "3c00d548-38b3-440b-9106-bd38b26053b2"
      },
      "execution_count": null,
      "outputs": [
        {
          "output_type": "stream",
          "name": "stdout",
          "text": [
            "True\n",
            "False\n",
            "tensor(True)\n"
          ]
        }
      ]
    },
    {
      "cell_type": "markdown",
      "source": [
        "![image.png](data:image/png;base64,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)!"
      ],
      "metadata": {
        "id": "fxJCISn69mMd"
      }
    },
    {
      "cell_type": "code",
      "source": [
        "a = torch.ones(2,2)\n",
        "print(a)"
      ],
      "metadata": {
        "colab": {
          "base_uri": "https://localhost:8080/"
        },
        "id": "kzX-Iczr9mRs",
        "outputId": "02b808c8-e7c1-46a8-af97-5c8dc46a96a9"
      },
      "execution_count": null,
      "outputs": [
        {
          "output_type": "stream",
          "name": "stdout",
          "text": [
            "tensor([[1., 1.],\n",
            "        [1., 1.]])\n"
          ]
        }
      ]
    },
    {
      "cell_type": "code",
      "source": [
        "a = torch.ones(2,2,requires_grad =True)\n",
        "print(a)"
      ],
      "metadata": {
        "colab": {
          "base_uri": "https://localhost:8080/"
        },
        "id": "5j_sGGwJ9mU4",
        "outputId": "1b6d387d-ebff-4c49-e5fc-b8d31a70c438"
      },
      "execution_count": null,
      "outputs": [
        {
          "output_type": "stream",
          "name": "stdout",
          "text": [
            "tensor([[1., 1.],\n",
            "        [1., 1.]], requires_grad=True)\n"
          ]
        }
      ]
    },
    {
      "cell_type": "code",
      "source": [
        "print(a.data)\n",
        "print(a.grad)\n",
        "print(a.grad_fn)"
      ],
      "metadata": {
        "colab": {
          "base_uri": "https://localhost:8080/"
        },
        "id": "dJQUadsi9mYi",
        "outputId": "d737e275-4b85-47a0-aa4e-7029b1bab1ca"
      },
      "execution_count": null,
      "outputs": [
        {
          "output_type": "stream",
          "name": "stdout",
          "text": [
            "tensor([[1., 1.],\n",
            "        [1., 1.]])\n",
            "None\n",
            "None\n"
          ]
        }
      ]
    },
    {
      "cell_type": "code",
      "source": [
        "b = a + 2\n",
        "print(b)"
      ],
      "metadata": {
        "colab": {
          "base_uri": "https://localhost:8080/"
        },
        "id": "zvl7-1lo9mcl",
        "outputId": "1e62a820-375c-4335-f749-165c07c32833"
      },
      "execution_count": null,
      "outputs": [
        {
          "output_type": "stream",
          "name": "stdout",
          "text": [
            "tensor([[3., 3.],\n",
            "        [3., 3.]], grad_fn=<AddBackward0>)\n"
          ]
        }
      ]
    },
    {
      "cell_type": "code",
      "source": [
        "c = b ** 2\n",
        "print(c)"
      ],
      "metadata": {
        "colab": {
          "base_uri": "https://localhost:8080/"
        },
        "id": "2mUQulE-jsYk",
        "outputId": "77917b67-6057-4f89-d629-1c7f16e8439e"
      },
      "execution_count": null,
      "outputs": [
        {
          "output_type": "stream",
          "name": "stdout",
          "text": [
            "tensor([[9., 9.],\n",
            "        [9., 9.]], grad_fn=<PowBackward0>)\n"
          ]
        }
      ]
    },
    {
      "cell_type": "code",
      "source": [
        "out = c.sum()\n",
        "print(out)"
      ],
      "metadata": {
        "colab": {
          "base_uri": "https://localhost:8080/"
        },
        "id": "fRuFdlc8jyDf",
        "outputId": "7d6ed999-630b-46cf-8c29-ce249a00553e"
      },
      "execution_count": null,
      "outputs": [
        {
          "output_type": "stream",
          "name": "stdout",
          "text": [
            "tensor(36., grad_fn=<SumBackward0>)\n"
          ]
        }
      ]
    },
    {
      "cell_type": "code",
      "source": [
        "print(out) #제일 마지막 계산법 Sum\n",
        "out.backward()"
      ],
      "metadata": {
        "colab": {
          "base_uri": "https://localhost:8080/"
        },
        "id": "RSBS4hE3jyVg",
        "outputId": "a70440af-d764-4421-80e5-027946d03402"
      },
      "execution_count": null,
      "outputs": [
        {
          "output_type": "stream",
          "name": "stdout",
          "text": [
            "tensor(36., grad_fn=<SumBackward0>)\n"
          ]
        }
      ]
    },
    {
      "cell_type": "code",
      "source": [
        "print(a.data)\n",
        "print(a.grad) #a의 활용값?\n",
        "print(a.grad_fn)"
      ],
      "metadata": {
        "colab": {
          "base_uri": "https://localhost:8080/"
        },
        "id": "HcwyywVtjyYt",
        "outputId": "3537b494-f87a-498e-f49b-4b57d3de64d9"
      },
      "execution_count": null,
      "outputs": [
        {
          "output_type": "stream",
          "name": "stdout",
          "text": [
            "tensor([[1., 1.],\n",
            "        [1., 1.]])\n",
            "tensor([[6., 6.],\n",
            "        [6., 6.]])\n",
            "None\n"
          ]
        }
      ]
    },
    {
      "cell_type": "code",
      "source": [
        "print(b.data) #b의 현재값\n",
        "print(b.grad) \n",
        "print(b.grad_fn)"
      ],
      "metadata": {
        "colab": {
          "base_uri": "https://localhost:8080/"
        },
        "id": "PpyMBJFbjybo",
        "outputId": "d9858732-ad1b-43f0-df0f-b980d7f8b89a"
      },
      "execution_count": null,
      "outputs": [
        {
          "output_type": "stream",
          "name": "stdout",
          "text": [
            "tensor([[3., 3.],\n",
            "        [3., 3.]])\n",
            "None\n",
            "<AddBackward0 object at 0x7f1168b33c90>\n"
          ]
        },
        {
          "output_type": "stream",
          "name": "stderr",
          "text": [
            "/usr/local/lib/python3.7/dist-packages/torch/_tensor.py:1104: UserWarning: The .grad attribute of a Tensor that is not a leaf Tensor is being accessed. Its .grad attribute won't be populated during autograd.backward(). If you indeed want the .grad field to be populated for a non-leaf Tensor, use .retain_grad() on the non-leaf Tensor. If you access the non-leaf Tensor by mistake, make sure you access the leaf Tensor instead. See github.com/pytorch/pytorch/pull/30531 for more informations. (Triggered internally at  aten/src/ATen/core/TensorBody.h:475.)\n",
            "  return self._grad\n"
          ]
        }
      ]
    },
    {
      "cell_type": "code",
      "source": [
        "print(out.data) #sum의 계산값\n",
        "print(out.grad) \n",
        "print(out.grad_fn) #sum 값"
      ],
      "metadata": {
        "colab": {
          "base_uri": "https://localhost:8080/"
        },
        "id": "rnynGXVhjyeX",
        "outputId": "a2a63a1a-192a-4e3a-eb6f-df4036f8d893"
      },
      "execution_count": null,
      "outputs": [
        {
          "output_type": "stream",
          "name": "stdout",
          "text": [
            "tensor(36.)\n",
            "None\n",
            "<SumBackward0 object at 0x7f1168abd490>\n"
          ]
        },
        {
          "output_type": "stream",
          "name": "stderr",
          "text": [
            "/usr/local/lib/python3.7/dist-packages/torch/_tensor.py:1104: UserWarning: The .grad attribute of a Tensor that is not a leaf Tensor is being accessed. Its .grad attribute won't be populated during autograd.backward(). If you indeed want the .grad field to be populated for a non-leaf Tensor, use .retain_grad() on the non-leaf Tensor. If you access the non-leaf Tensor by mistake, make sure you access the leaf Tensor instead. See github.com/pytorch/pytorch/pull/30531 for more informations. (Triggered internally at  aten/src/ATen/core/TensorBody.h:475.)\n",
            "  return self._grad\n"
          ]
        }
      ]
    },
    {
      "cell_type": "markdown",
      "source": [
        "#데이터 준비\n",
        "\n",
        "파이토치에서는 데이터 준비를 위해 torch.utils.data의 Dataset과 DataLoader 사용가능\n",
        "- Dataset에는 다양한 데이터 셋이 존재 (MNIST, FashionMNIST, CIFAR10,...)\n",
        " - Vision Dataset : https://pytorch.org/vision/stable/datasets.html\n",
        " - Text Dataset : https://pytorch.org/text/stable/datasets.html\n",
        " - Audio Dataset : https://pytorch.org/audio/stable/datasets.html\n",
        "\n",
        "- DataLoader Dataset을 통해 batch_size, train 여부, transform 등을 인자로 넣어 데이터를 어떻게 load할 것인지 정해 줄 수 있음"
      ],
      "metadata": {
        "id": "pOaMRu4Sjyhk"
      }
    },
    {
      "cell_type": "code",
      "source": [
        "from torch.utils.data import Dataset, DataLoader"
      ],
      "metadata": {
        "id": "hfLd2e4tjykm"
      },
      "execution_count": 16,
      "outputs": []
    },
    {
      "cell_type": "markdown",
      "source": [
        "*토치비전(torchvision)은 파이토치에서 제공하는 데이터셋들이 모여있는 패키지 *\n",
        " - transforms : 전처리할때 사용하는 메소드(https://pytorch.org/docs/stable/torchvision/transforms.html)\n",
        " - transforms에서 제공하는 클래스 이외는 일반적으로 클래스를 따로 만들어 전처리 단계를 진행"
      ],
      "metadata": {
        "id": "tlevI-ksjync"
      }
    },
    {
      "cell_type": "code",
      "source": [
        "import torchvision.transforms as transforms\n",
        "from torchvision import datasets"
      ],
      "metadata": {
        "id": "TGQnSooGjyqT"
      },
      "execution_count": 17,
      "outputs": []
    },
    {
      "cell_type": "markdown",
      "source": [
        "DataLoader의 인자로 들어갈 transform을 미리 정의할 수 있고, Compose를 통해 리스트 안에 순서대로 전처리 진행\n",
        "ToTensor()를 하는 이유는 torchvision이 PIL Image 형태로만 입력을 받기 때문에 데이터 처리를 위해서 Tensor 형으로 변환 필요"
      ],
      "metadata": {
        "id": "WpPLB65MjytF"
      }
    },
    {
      "cell_type": "code",
      "source": [
        "mnist_transform = transforms.Compose([transforms.ToTensor(),\n",
        "                                      transforms.Normalize(mean=(0.5,), std=(1.0,))])\n",
        "                                     "
      ],
      "metadata": {
        "id": "hBIho63cjyvv"
      },
      "execution_count": 18,
      "outputs": []
    },
    {
      "cell_type": "code",
      "source": [
        "trainset = datasets.MNIST(root='/content/',\n",
        "                          train=True, download=True,\n",
        "                          transform=mnist_transform)\n",
        "\n",
        "testset = datasets.MNIST(root='/content/',\n",
        "                          train=False, download=True,\n",
        "                          transform=mnist_transform)\n"
      ],
      "metadata": {
        "id": "zyPLO_w7jyys",
        "colab": {
          "base_uri": "https://localhost:8080/",
          "height": 439,
          "referenced_widgets": [
            "10d19fd395c54b51adf2286f620bad95",
            "ea49b8b3dfb249e49efc4bff1f893fa3",
            "31ee14e7c315443aa027bbdfe06c42d2",
            "439adb05964345a5bbcb88224fc01be6",
            "8cecec2f617f42d096d5b4cd8bcb6db7",
            "4c01142997494d6086b18d4f91bc9a87",
            "22cde1ea1b9c4b15b987ad0aeba051d3",
            "0fbc32722b024afb966a4e73a1c7f287",
            "2d8ad2cfe2874d91a07e27e9335c16cd",
            "d3468e78dd024865b8113e04a18268e0",
            "ffe3a93c434b45d6a51eca069872e5a0",
            "6bc67e5435d245c5997db7055d5e43b5",
            "72880ccb96e04585920fce26a0514853",
            "468a4e198cfe4b1f93df2a024372f470",
            "e6b11155741e456898c337756e17c588",
            "7ca4090d98a04625b2879da501bb5cc3",
            "23ef417601bf4ef88ae3827be5ac1f84",
            "b1207ac0920141bca8425d56e95e27e6",
            "19974fcf3da84595b90e25478066b141",
            "9975bfaebd794537908639868496efab",
            "25c7135710e742f89b50fb563bccc3ab",
            "72be3ebcbe0f428fa3e0f7fbd7a6c934",
            "627aefd839244e069ecffd25053999ee",
            "99a72439b8634de2b522f4f2ea59ffac",
            "5ddf48970944409b837f1b166a18601b",
            "37a4b25be7e64fecbcbab4b1bbaf55c0",
            "901e6fd4a114426fa5b79a19a7c6208a",
            "668a5bc961e94984914ea5dda92c0169",
            "109884d596764170ae1b608e812d89a9",
            "38f08618e37a473f88193f5bd672e8a0",
            "066bb29c8ddb451ebabd6168bc5c996e",
            "b59f947731df45c3849494cafbf91e39",
            "b0410552b14945d6a9c8794c6e6f6fb1",
            "0243876b490449f4b8e8f2a3a981204e",
            "c199949397dd41358412fdc3ca8df039",
            "fcbe3b483047401b9ce84a21b0a8403e",
            "b4aaab0742ef4056a9cef82c9c0aefcf",
            "6b4731fd93244be68e5f41fe459e08a5",
            "15196ca67cc645d599fe8ce96dddccaf",
            "0a9da831f28a400caf49131699bf149b",
            "f230d8d9d1c4434b83df1af428ba45b9",
            "81afdddef59f48ab9bc8c5d39437f355",
            "f9a16e9d3bdb44778446973ba36ea0d0",
            "e92a59a4c2094469846e2232d087e4d2"
          ]
        },
        "outputId": "2a066b36-ad9d-4067-85a6-d70b37c848d8"
      },
      "execution_count": 19,
      "outputs": [
        {
          "output_type": "stream",
          "name": "stdout",
          "text": [
            "Downloading http://yann.lecun.com/exdb/mnist/train-images-idx3-ubyte.gz\n",
            "Downloading http://yann.lecun.com/exdb/mnist/train-images-idx3-ubyte.gz to /content/MNIST/raw/train-images-idx3-ubyte.gz\n"
          ]
        },
        {
          "output_type": "display_data",
          "data": {
            "text/plain": [
              "  0%|          | 0/9912422 [00:00<?, ?it/s]"
            ],
            "application/vnd.jupyter.widget-view+json": {
              "version_major": 2,
              "version_minor": 0,
              "model_id": "10d19fd395c54b51adf2286f620bad95"
            }
          },
          "metadata": {}
        },
        {
          "output_type": "stream",
          "name": "stdout",
          "text": [
            "Extracting /content/MNIST/raw/train-images-idx3-ubyte.gz to /content/MNIST/raw\n",
            "\n",
            "Downloading http://yann.lecun.com/exdb/mnist/train-labels-idx1-ubyte.gz\n",
            "Downloading http://yann.lecun.com/exdb/mnist/train-labels-idx1-ubyte.gz to /content/MNIST/raw/train-labels-idx1-ubyte.gz\n"
          ]
        },
        {
          "output_type": "display_data",
          "data": {
            "text/plain": [
              "  0%|          | 0/28881 [00:00<?, ?it/s]"
            ],
            "application/vnd.jupyter.widget-view+json": {
              "version_major": 2,
              "version_minor": 0,
              "model_id": "6bc67e5435d245c5997db7055d5e43b5"
            }
          },
          "metadata": {}
        },
        {
          "output_type": "stream",
          "name": "stdout",
          "text": [
            "Extracting /content/MNIST/raw/train-labels-idx1-ubyte.gz to /content/MNIST/raw\n",
            "\n",
            "Downloading http://yann.lecun.com/exdb/mnist/t10k-images-idx3-ubyte.gz\n",
            "Downloading http://yann.lecun.com/exdb/mnist/t10k-images-idx3-ubyte.gz to /content/MNIST/raw/t10k-images-idx3-ubyte.gz\n"
          ]
        },
        {
          "output_type": "display_data",
          "data": {
            "text/plain": [
              "  0%|          | 0/1648877 [00:00<?, ?it/s]"
            ],
            "application/vnd.jupyter.widget-view+json": {
              "version_major": 2,
              "version_minor": 0,
              "model_id": "627aefd839244e069ecffd25053999ee"
            }
          },
          "metadata": {}
        },
        {
          "output_type": "stream",
          "name": "stdout",
          "text": [
            "Extracting /content/MNIST/raw/t10k-images-idx3-ubyte.gz to /content/MNIST/raw\n",
            "\n",
            "Downloading http://yann.lecun.com/exdb/mnist/t10k-labels-idx1-ubyte.gz\n",
            "Downloading http://yann.lecun.com/exdb/mnist/t10k-labels-idx1-ubyte.gz to /content/MNIST/raw/t10k-labels-idx1-ubyte.gz\n"
          ]
        },
        {
          "output_type": "display_data",
          "data": {
            "text/plain": [
              "  0%|          | 0/4542 [00:00<?, ?it/s]"
            ],
            "application/vnd.jupyter.widget-view+json": {
              "version_major": 2,
              "version_minor": 0,
              "model_id": "0243876b490449f4b8e8f2a3a981204e"
            }
          },
          "metadata": {}
        },
        {
          "output_type": "stream",
          "name": "stdout",
          "text": [
            "Extracting /content/MNIST/raw/t10k-labels-idx1-ubyte.gz to /content/MNIST/raw\n",
            "\n"
          ]
        }
      ]
    },
    {
      "cell_type": "markdown",
      "source": [
        "DataLoader는 데이터 전체를 보관했다가 실제 모델 학습을 할 때 batch_size 크기만큼 데이터를 가져옴"
      ],
      "metadata": {
        "id": "v6gV6wnknHjU"
      }
    },
    {
      "cell_type": "code",
      "source": [
        "train_loader = DataLoader(trainset, batch_size = 8, shuffle=True, num_workers=2) #셔플 = 섞는거 동작할 워커 2개\n",
        "test_loader = DataLoader(testset, batch_size = 8, shuffle=False, num_workers=2)"
      ],
      "metadata": {
        "id": "7K33JZ-anMp1"
      },
      "execution_count": 20,
      "outputs": []
    },
    {
      "cell_type": "code",
      "source": [
        "dataiter = iter(train_loader) #8개의 1이면 흑백사진을 28 * 28이미지\n",
        "images, labels = dataiter.next()\n",
        "images.shape, labels.shape"
      ],
      "metadata": {
        "colab": {
          "base_uri": "https://localhost:8080/"
        },
        "id": "11is8SBZnMtH",
        "outputId": "c8dd93f9-9b4d-4e00-af4d-cc7261339580"
      },
      "execution_count": 21,
      "outputs": [
        {
          "output_type": "execute_result",
          "data": {
            "text/plain": [
              "(torch.Size([8, 1, 28, 28]), torch.Size([8]))"
            ]
          },
          "metadata": {},
          "execution_count": 21
        }
      ]
    },
    {
      "cell_type": "code",
      "source": [
        "torch_image = torch.squeeze(images[0]) #차원 축소\n",
        "torch_image.shape"
      ],
      "metadata": {
        "colab": {
          "base_uri": "https://localhost:8080/"
        },
        "id": "uSNLWPHonMv_",
        "outputId": "a16394c7-bdec-48d7-a371-7e9ffcf68b17"
      },
      "execution_count": 22,
      "outputs": [
        {
          "output_type": "execute_result",
          "data": {
            "text/plain": [
              "torch.Size([28, 28])"
            ]
          },
          "metadata": {},
          "execution_count": 22
        }
      ]
    },
    {
      "cell_type": "code",
      "source": [
        "import matplotlib.pyplot as plt #시각화 library\n",
        "\n",
        "figure = plt.figure(figsize=(12,6)) #객체 생성 사이즈 지정\n",
        "cols, rows = 4, 2 #컬럼 행 갯수 지정\n",
        "for i in range(1, cols * rows + 1): #반복문 -> 1~9까지 반복 \n",
        "  sample_idx = torch.randint(len(trainset), size = (1,)).item() #사이즈 기준으로 랜덤하게 이미지를 받아온 아이템 값을 인덱스로 사용\n",
        "  img, label = trainset[sample_idx] #실제 샘플인덱스\n",
        "  figure.add_subplot(rows, cols, i) \n",
        "  plt.title(label) #위에 실제 라벨(정답) 표시\n",
        "  plt.axis('off') #축 삭제\n",
        "  plt.imshow(img.squeeze(), cmap='gray') #이미지 축소?\n",
        "plt.show() #출력"
      ],
      "metadata": {
        "colab": {
          "base_uri": "https://localhost:8080/",
          "height": 370
        },
        "id": "54l575y6nMy-",
        "outputId": "da11801d-a85c-41a9-8f54-2a9f28f259d4"
      },
      "execution_count": 23,
      "outputs": [
        {
          "output_type": "display_data",
          "data": {
            "text/plain": [
              "<Figure size 864x432 with 8 Axes>"
            ],
            "image/png": "[encoded data removed]"
          },
          "metadata": {
            "needs_background": "light"
          }
        }
      ]
    },
    {
      "cell_type": "markdown",
      "source": [
        "# 신경망 구성\n",
        "- layer : 신경망의 핵심 데이터 구조로 하나 이상의 텐서를 입력받아 하나 이상의  텐서를 출력\n",
        "- module : 한 개 이상의 계층이 모여서 구성\n",
        "- moder : 한 개 이상의 모듈이 모여서 구성"
      ],
      "metadata": {
        "id": "IULgag0znM2W"
      }
    },
    {
      "cell_type": "markdown",
      "source": [
        "torch.nn 패키지\n",
        "주로 가중치(weights), 편향(bias)값들이 내부에서 자동으로 생성되는 레이어들을 사용할 때 사용(weight 값들을 직접 선언안함)\n",
        "\n",
        "https://pytorch.org/docs/stable/nn.html"
      ],
      "metadata": {
        "id": "wTrQa-RRnM5U"
      }
    },
    {
      "cell_type": "code",
      "source": [
        "import torch.nn as  nn #뉴런 네트워크"
      ],
      "metadata": {
        "id": "0ssJy4cPnM8o"
      },
      "execution_count": 24,
      "outputs": []
    },
    {
      "cell_type": "markdown",
      "source": [
        "nn.Linear 계층 예제"
      ],
      "metadata": {
        "id": "8khdQ78HnM_k"
      }
    },
    {
      "cell_type": "code",
      "source": [
        "input = torch.randn(128, 20)\n",
        "print(input)\n",
        "\n",
        "m = nn.Linear(20, 30) #입력 20개 출력 30개\n",
        "print(m)\n",
        "\n",
        "\n",
        "output = m(input) #모델에 인풋값을 넣었을때 값\n",
        "print(output) #20, 30\n",
        "print(output.size())"
      ],
      "metadata": {
        "colab": {
          "base_uri": "https://localhost:8080/"
        },
        "id": "6Fn1aDGHnNCr",
        "outputId": "a7223279-d4aa-4dac-e1e5-082ce763f8c8"
      },
      "execution_count": 25,
      "outputs": [
        {
          "output_type": "stream",
          "name": "stdout",
          "text": [
            "tensor([[-1.0624,  0.4937, -0.1459,  ...,  1.6082, -0.0399, -0.5377],\n",
            "        [ 0.2431, -0.7695,  1.2858,  ...,  0.5963,  1.2873,  1.0717],\n",
            "        [-0.3024,  0.4716, -0.7794,  ...,  0.0441, -0.0860,  0.0132],\n",
            "        ...,\n",
            "        [ 1.2290,  1.6155,  0.0311,  ...,  0.1471, -0.2427,  0.6086],\n",
            "        [ 1.2819, -2.3968, -0.1677,  ...,  0.7885, -0.6690, -1.3577],\n",
            "        [-0.8583,  0.0392,  0.6436,  ...,  0.1909, -0.8794, -1.9904]])\n",
            "Linear(in_features=20, out_features=30, bias=True)\n",
            "tensor([[ 0.8515, -0.0607, -0.7777,  ...,  0.3472,  0.4120, -0.2289],\n",
            "        [ 0.3703,  0.6065, -0.1575,  ...,  0.6179,  0.6048,  0.3830],\n",
            "        [ 0.0824,  0.6558, -0.4224,  ...,  1.3371,  0.9743, -0.1581],\n",
            "        ...,\n",
            "        [ 1.1648, -0.6550, -1.8097,  ..., -0.4343, -0.1559,  0.5299],\n",
            "        [ 0.3140, -0.0648,  0.7219,  ..., -0.5802, -0.5266,  0.7440],\n",
            "        [ 0.3324, -0.4855, -0.1584,  ...,  0.3844,  0.7193, -0.6169]],\n",
            "       grad_fn=<AddmmBackward0>)\n",
            "torch.Size([128, 30])\n"
          ]
        }
      ]
    },
    {
      "cell_type": "markdown",
      "source": [
        "nn.Conv2d 계층 예시"
      ],
      "metadata": {
        "id": "-fzjnS8YnNFv"
      }
    },
    {
      "cell_type": "code",
      "source": [
        "input = torch.randn(20, 16, 50, 100)\n",
        "print(input.size())"
      ],
      "metadata": {
        "colab": {
          "base_uri": "https://localhost:8080/"
        },
        "id": "rWeYna1tnNJP",
        "outputId": "940a2b74-c846-433e-c835-7c2c3ff8cafb"
      },
      "execution_count": 26,
      "outputs": [
        {
          "output_type": "stream",
          "name": "stdout",
          "text": [
            "torch.Size([20, 16, 50, 100])\n"
          ]
        }
      ]
    },
    {
      "cell_type": "code",
      "source": [
        "m = nn.Conv2d(16, 33, 3, stride=2)\n",
        "m = nn.Conv2d(16, 33, (3,5), stride=(2,1), padding=(4,2))\n",
        "m = nn.Conv2d(16, 33, (3,5), stride=(2,1), padding=(4,2), dilation = (3,1))\n",
        "print(m)"
      ],
      "metadata": {
        "colab": {
          "base_uri": "https://localhost:8080/"
        },
        "id": "7QOedAjWnNMO",
        "outputId": "1fc94dd0-0570-4b8e-d207-a0dc40592491"
      },
      "execution_count": 27,
      "outputs": [
        {
          "output_type": "stream",
          "name": "stdout",
          "text": [
            "Conv2d(16, 33, kernel_size=(3, 5), stride=(2, 1), padding=(4, 2), dilation=(3, 1))\n"
          ]
        }
      ]
    },
    {
      "cell_type": "code",
      "source": [
        "output = m(input)\n",
        "print(output.size())"
      ],
      "metadata": {
        "colab": {
          "base_uri": "https://localhost:8080/"
        },
        "id": "oa0AKD5rsEpG",
        "outputId": "bf95daee-df7e-4f34-ae50-4fcac37d443f"
      },
      "execution_count": 28,
      "outputs": [
        {
          "output_type": "stream",
          "name": "stdout",
          "text": [
            "torch.Size([20, 33, 26, 100])\n"
          ]
        }
      ]
    },
    {
      "cell_type": "markdown",
      "source": [
        "#컨볼루션 레이어(Convolution Laters\n",
        "\n",
        "## nn.Conv2d 예제\n",
        " - in_channels : channel의 갯수\n",
        " - out_channels: 출력 채널 갯수\n",
        " - kernel_size: 커널 필터 사이즈"
      ],
      "metadata": {
        "id": "h1Q4NDv5nNPs"
      }
    },
    {
      "cell_type": "code",
      "source": [
        "nn.Conv2d(in_channels=1, out_channels=20, kernel_size=5, stride=1)"
      ],
      "metadata": {
        "colab": {
          "base_uri": "https://localhost:8080/"
        },
        "id": "jVXlq-iDnNS8",
        "outputId": "829b4c69-3b76-4f78-c3e0-6872fa8e043f"
      },
      "execution_count": 29,
      "outputs": [
        {
          "output_type": "execute_result",
          "data": {
            "text/plain": [
              "Conv2d(1, 20, kernel_size=(5, 5), stride=(1, 1))"
            ]
          },
          "metadata": {},
          "execution_count": 29
        }
      ]
    },
    {
      "cell_type": "markdown",
      "source": [
        ""
      ],
      "metadata": {
        "id": "cU-du90gnNWP"
      }
    },
    {
      "cell_type": "code",
      "source": [
        "layer = nn.Conv2d(1,20, 5, 1).to(torch.device('cpu'))\n",
        "layer"
      ],
      "metadata": {
        "colab": {
          "base_uri": "https://localhost:8080/"
        },
        "id": "z5fW4sFTnNiF",
        "outputId": "2c13466d-2364-40e7-b38b-f4ca312f34ae"
      },
      "execution_count": 30,
      "outputs": [
        {
          "output_type": "execute_result",
          "data": {
            "text/plain": [
              "Conv2d(1, 20, kernel_size=(5, 5), stride=(1, 1))"
            ]
          },
          "metadata": {},
          "execution_count": 30
        }
      ]
    },
    {
      "cell_type": "code",
      "source": [
        "#weight 확인\n",
        "#weight는 datach()를 통해 꺼내줘야 numpy() 변환이 가능\n",
        "weight = layer.weight\n",
        "weight.shape"
      ],
      "metadata": {
        "colab": {
          "base_uri": "https://localhost:8080/"
        },
        "id": "veH3RMj3nNlQ",
        "outputId": "41d7525e-1af5-49ef-8d5e-e662eeb709e0"
      },
      "execution_count": 31,
      "outputs": [
        {
          "output_type": "execute_result",
          "data": {
            "text/plain": [
              "torch.Size([20, 1, 5, 5])"
            ]
          },
          "metadata": {},
          "execution_count": 31
        }
      ]
    },
    {
      "cell_type": "code",
      "source": [
        "weight = weight.detach()"
      ],
      "metadata": {
        "id": "LNzNfBvBnNon"
      },
      "execution_count": 32,
      "outputs": []
    },
    {
      "cell_type": "code",
      "source": [
        "weight = weight.numpy()\n",
        "weight.shape"
      ],
      "metadata": {
        "colab": {
          "base_uri": "https://localhost:8080/"
        },
        "id": "DfYiPhQBnNs4",
        "outputId": "8b9d2c74-9915-4368-f7fc-e60793d44190"
      },
      "execution_count": 33,
      "outputs": [
        {
          "output_type": "execute_result",
          "data": {
            "text/plain": [
              "(20, 1, 5, 5)"
            ]
          },
          "metadata": {},
          "execution_count": 33
        }
      ]
    },
    {
      "cell_type": "code",
      "source": [
        "plt.imshow(weight[0,0,:,:], 'jet') #처음부터 끝까지 컬러백 = jet(화려)\n",
        "plt.colorbar()\n",
        "plt.show()"
      ],
      "metadata": {
        "colab": {
          "base_uri": "https://localhost:8080/",
          "height": 265
        },
        "id": "CTUDjxQYs6VB",
        "outputId": "51a1d937-26c8-420c-c084-4c0e88c6185b"
      },
      "execution_count": 34,
      "outputs": [
        {
          "output_type": "display_data",
          "data": {
            "text/plain": [
              "<Figure size 432x288 with 2 Axes>"
            ],
            "image/png": "[encoded data removed]"
          },
          "metadata": {
            "needs_background": "light"
          }
        }
      ]
    },
    {
      "cell_type": "code",
      "source": [
        "print(images.shape)\n",
        "print(images[0].size())\n",
        "\n",
        "input_image = torch.squeeze(images[0]) #차원 축소\n",
        "print(input_image.size())"
      ],
      "metadata": {
        "colab": {
          "base_uri": "https://localhost:8080/"
        },
        "id": "pGnnTe4YtI2i",
        "outputId": "73b86416-4e0f-4ce6-bf72-ac4a8422995d"
      },
      "execution_count": 35,
      "outputs": [
        {
          "output_type": "stream",
          "name": "stdout",
          "text": [
            "torch.Size([8, 1, 28, 28])\n",
            "torch.Size([1, 28, 28])\n",
            "torch.Size([28, 28])\n"
          ]
        }
      ]
    },
    {
      "cell_type": "code",
      "source": [
        "input_data = torch.unsqueeze(images[0], dim=0)\n",
        "print(input_data.size()) #흑백 사진 한장을 의미\n",
        "\n",
        "output_data = layer(input_data)\n",
        "output = output_data.data #데이터에 대해서만 변환\n",
        "output_arr = output.numpy()\n",
        "output_arr.shape #레이어 통과후 데이터만 뽑아서 넘파이로 만든것의 모양?"
      ],
      "metadata": {
        "colab": {
          "base_uri": "https://localhost:8080/"
        },
        "id": "aJ7gdxAytPtV",
        "outputId": "6d6ecee0-3990-48fb-9006-49e88f78d4f6"
      },
      "execution_count": 36,
      "outputs": [
        {
          "output_type": "stream",
          "name": "stdout",
          "text": [
            "torch.Size([1, 1, 28, 28])\n"
          ]
        },
        {
          "output_type": "execute_result",
          "data": {
            "text/plain": [
              "(1, 20, 24, 24)"
            ]
          },
          "metadata": {},
          "execution_count": 36
        }
      ]
    },
    {
      "cell_type": "code",
      "source": [
        "plt.figure(figsize=(15,30))\n",
        "\n",
        "plt.subplot(131) #인풋값\n",
        "plt.title(\"Input\")\n",
        "plt.imshow(input_image, 'gray')\n",
        "\n",
        "plt.subplot(132) #가중치 적용\n",
        "plt.title(\"Weight\")\n",
        "plt.imshow(weight[0,0,:,:], 'jet')\n",
        "\n",
        "plt.subplot(133) #가중치 적용된 값\n",
        "plt.title(\"Output\")\n",
        "plt.imshow(output_arr[0,0,:,:], 'gray')\n",
        "plt.show()"
      ],
      "metadata": {
        "colab": {
          "base_uri": "https://localhost:8080/",
          "height": 310
        },
        "id": "AJABCstBtPwe",
        "outputId": "efe81eb7-3540-4b8b-d393-86fb9d7b2acb"
      },
      "execution_count": 37,
      "outputs": [
        {
          "output_type": "display_data",
          "data": {
            "text/plain": [
              "<Figure size 1080x2160 with 3 Axes>"
            ],
            "image/png": "[encoded data removed]"
          },
          "metadata": {
            "needs_background": "light"
          }
        }
      ]
    },
    {
      "cell_type": "markdown",
      "source": [
        "#풀링 레이어(Pooling laters)\n",
        "- F.max_pool2d\n",
        " - stride\n",
        " - kernel_size\n",
        "- torch.nn.Maxpool2d도 많이 사용\n",
        "\n",
        "해상도를 낮춰서 가중치를 주는것?"
      ],
      "metadata": {
        "id": "Dl6WZev6tPz0"
      }
    },
    {
      "cell_type": "code",
      "source": [
        "import torch.nn.functional as F\n",
        "\n",
        "pool = F.max_pool2d(output,2,2) #가로세로 반으로 줄이고 최대값을 output으로\n",
        "pool.shape"
      ],
      "metadata": {
        "id": "RA7gYPOktP3N",
        "colab": {
          "base_uri": "https://localhost:8080/"
        },
        "outputId": "c7482c72-85d6-4499-9c1d-fa2476898c49"
      },
      "execution_count": 38,
      "outputs": [
        {
          "output_type": "execute_result",
          "data": {
            "text/plain": [
              "torch.Size([1, 20, 12, 12])"
            ]
          },
          "metadata": {},
          "execution_count": 38
        }
      ]
    },
    {
      "cell_type": "markdown",
      "source": [
        "- MaxPool Layer는 weight가 없기 때문에 바로 numpy() 변환 가능"
      ],
      "metadata": {
        "id": "iSfeyeDQtP6g"
      }
    },
    {
      "cell_type": "code",
      "source": [
        "pool_arr = pool.numpy()\n",
        "pool_arr.shape"
      ],
      "metadata": {
        "id": "GZTPj0q0tP91",
        "colab": {
          "base_uri": "https://localhost:8080/"
        },
        "outputId": "bb4451f5-5a1c-4d85-a0d1-7d6ae730f332"
      },
      "execution_count": 39,
      "outputs": [
        {
          "output_type": "execute_result",
          "data": {
            "text/plain": [
              "(1, 20, 12, 12)"
            ]
          },
          "metadata": {},
          "execution_count": 39
        }
      ]
    },
    {
      "cell_type": "code",
      "source": [
        "plt.figure(figsize=(10,15))\n",
        "\n",
        "plt.subplot(121) \n",
        "plt.title(\"Input\")\n",
        "plt.imshow(input_image, 'gray')\n",
        "\n",
        "plt.subplot(122)\n",
        "plt.title(\"Output\")\n",
        "plt.imshow(pool_arr[0,0,:,:], 'gray')\n",
        "plt.show()\n"
      ],
      "metadata": {
        "id": "CeF07oZqtQBO",
        "colab": {
          "base_uri": "https://localhost:8080/",
          "height": 318
        },
        "outputId": "471c8858-9137-43ef-e617-bb7864f6371b"
      },
      "execution_count": 40,
      "outputs": [
        {
          "output_type": "display_data",
          "data": {
            "text/plain": [
              "<Figure size 720x1080 with 2 Axes>"
            ],
            "image/png": "[encoded data removed]"
          },
          "metadata": {
            "needs_background": "light"
          }
        }
      ]
    },
    {
      "cell_type": "markdown",
      "source": [
        "#선형 레이어(Linear Layer)\n",
        "1d만 가능하므로  .view()를 통해 1d로 펼쳐줘야함"
      ],
      "metadata": {
        "id": "dGpMa3BQtQE7"
      }
    },
    {
      "cell_type": "code",
      "source": [
        "flatten = input_image.view(1,28*28)\n",
        "flatten.shape"
      ],
      "metadata": {
        "id": "nSBPx8B0tQIq",
        "colab": {
          "base_uri": "https://localhost:8080/"
        },
        "outputId": "4ed79efb-f5e5-4f1f-925d-b0dc97470589"
      },
      "execution_count": 41,
      "outputs": [
        {
          "output_type": "execute_result",
          "data": {
            "text/plain": [
              "torch.Size([1, 784])"
            ]
          },
          "metadata": {},
          "execution_count": 41
        }
      ]
    },
    {
      "cell_type": "code",
      "source": [
        "lin = nn.Linear(784,10)(flatten)\n",
        "lin.shape"
      ],
      "metadata": {
        "id": "jgfNMXxitQMD",
        "colab": {
          "base_uri": "https://localhost:8080/"
        },
        "outputId": "16a04ad8-a98f-4020-e7f3-d359f60f502c"
      },
      "execution_count": 42,
      "outputs": [
        {
          "output_type": "execute_result",
          "data": {
            "text/plain": [
              "torch.Size([1, 10])"
            ]
          },
          "metadata": {},
          "execution_count": 42
        }
      ]
    },
    {
      "cell_type": "code",
      "source": [
        "lin"
      ],
      "metadata": {
        "id": "6iKDOBV7tQPZ",
        "colab": {
          "base_uri": "https://localhost:8080/"
        },
        "outputId": "4d13a7f2-ef1b-4595-9c4d-57994219c697"
      },
      "execution_count": 43,
      "outputs": [
        {
          "output_type": "execute_result",
          "data": {
            "text/plain": [
              "tensor([[ 0.2802, -0.0245, -0.0859, -0.2970, -0.0406, -0.1268, -0.5290,  0.2448,\n",
              "         -0.0959,  0.1111]], grad_fn=<AddmmBackward0>)"
            ]
          },
          "metadata": {},
          "execution_count": 43
        }
      ]
    },
    {
      "cell_type": "code",
      "source": [
        "plt.imshow(lin.detach().numpy(),'jet') #detach하고 넘파이로 변경\n",
        "plt.colorbar()\n",
        "plt.show()"
      ],
      "metadata": {
        "id": "oqMS_QDatQS9",
        "colab": {
          "base_uri": "https://localhost:8080/",
          "height": 248
        },
        "outputId": "32a2ebdd-e78c-4d60-82a4-6e1725ed23c7"
      },
      "execution_count": 44,
      "outputs": [
        {
          "output_type": "display_data",
          "data": {
            "text/plain": [
              "<Figure size 432x288 with 2 Axes>"
            ],
            "image/png": "[encoded data removed]"
          },
          "metadata": {
            "needs_background": "light"
          }
        }
      ]
    },
    {
      "cell_type": "markdown",
      "source": [
        "#비선형 활성화(Non-linear Activaitions)\n",
        "\n",
        "F.softmax와 같은 활성화 함수 등"
      ],
      "metadata": {
        "id": "0siSLsq1tQWF"
      }
    },
    {
      "cell_type": "code",
      "source": [
        "with torch.no_grad():\n",
        "  flatten = input_image.view(1,28*28)\n",
        "  lin = nn.Linear(784,10)(flatten)\n",
        "  softmax = F.softmax(lin, dim=1)\n",
        "softmax"
      ],
      "metadata": {
        "id": "RVXBa33dtQZf",
        "colab": {
          "base_uri": "https://localhost:8080/"
        },
        "outputId": "0237f9df-731a-4eae-b2d6-09378896a2bc"
      },
      "execution_count": 45,
      "outputs": [
        {
          "output_type": "execute_result",
          "data": {
            "text/plain": [
              "tensor([[0.0821, 0.0980, 0.0799, 0.1311, 0.0944, 0.0870, 0.1022, 0.1250, 0.1366,\n",
              "         0.0636]])"
            ]
          },
          "metadata": {},
          "execution_count": 45
        }
      ]
    },
    {
      "cell_type": "code",
      "source": [
        "np.sum(softmax.numpy()) #10개의 대해서 합이 100%가 되게"
      ],
      "metadata": {
        "id": "4YnvndYxtQdB",
        "colab": {
          "base_uri": "https://localhost:8080/"
        },
        "outputId": "f67227ed-1774-451e-e60b-169d822721b8"
      },
      "execution_count": 46,
      "outputs": [
        {
          "output_type": "execute_result",
          "data": {
            "text/plain": [
              "1.0"
            ]
          },
          "metadata": {},
          "execution_count": 46
        }
      ]
    },
    {
      "cell_type": "markdown",
      "source": [
        "F.relu\n",
        " - ReLU함수를 적용하는 레이어\n",
        " - nn.ReLU로도 사용가능"
      ],
      "metadata": {
        "id": "bHcs9Eq-tQga"
      }
    },
    {
      "cell_type": "code",
      "source": [
        "inputs = torch.randn(4,3,28,28).to(device) #컬러로 된 4개 이미지\n",
        "inputs.shape"
      ],
      "metadata": {
        "id": "uBnpxfwstQkJ",
        "colab": {
          "base_uri": "https://localhost:8080/"
        },
        "outputId": "d608e55c-1bae-4dac-96a8-4203e3e1b51a"
      },
      "execution_count": 47,
      "outputs": [
        {
          "output_type": "execute_result",
          "data": {
            "text/plain": [
              "torch.Size([4, 3, 28, 28])"
            ]
          },
          "metadata": {},
          "execution_count": 47
        }
      ]
    },
    {
      "cell_type": "code",
      "source": [
        "layer = nn.Conv2d(3, 20, 5, 1).to(device) #컨볼루션을 통과해서 cuda로 전송\n",
        "output = F.relu(layer(inputs)) #레이어에 통과시킨 인풋의 결과값\n",
        "output.shape"
      ],
      "metadata": {
        "id": "__5PH4xatQnz",
        "colab": {
          "base_uri": "https://localhost:8080/"
        },
        "outputId": "5b3b50c0-8b36-4785-a966-33bcf40e0ad0"
      },
      "execution_count": 48,
      "outputs": [
        {
          "output_type": "execute_result",
          "data": {
            "text/plain": [
              "torch.Size([4, 20, 24, 24])"
            ]
          },
          "metadata": {},
          "execution_count": 48
        }
      ]
    },
    {
      "cell_type": "markdown",
      "source": [
        "#모델 정의"
      ],
      "metadata": {
        "id": "uiBSHnMmtQrM"
      }
    },
    {
      "cell_type": "markdown",
      "source": [
        "#nn.Module 상속 클래스 정의\n",
        " - nn.Module을 상속받는 클래스 정의\n",
        " - ㅡinitㅡ() : 모델에서 사용될 모듈과 활성화 함수등을 정의\n",
        " - forward() : 모델에서 실행되어야 하는 연산을 정의\n",
        "\n"
      ],
      "metadata": {
        "id": "fX1fbDbEx7fO"
      }
    },
    {
      "cell_type": "code",
      "source": [
        "class Model(nn.Module): #nn모듈 상속\n",
        "  def __init__(self,inputs): #초기화\n",
        "    super(Model, self).__init__() \n",
        "    self.layer = nn.Linear(inputs, 1)  #사용할 레이어\n",
        "    self.activation = nn.Sigmoid()  #액티베이션 어떻게 정의가 되는지\n",
        "  def forward(self, x):\n",
        "    x = self.layer(x) #정의된것을 통과시키고\n",
        "    x = self.activation(x) #통과시켜서\n",
        "    return x #반환"
      ],
      "metadata": {
        "id": "1Tnnq669x7im"
      },
      "execution_count": 49,
      "outputs": []
    },
    {
      "cell_type": "code",
      "source": [
        "model = Model(1)\n",
        "print(list(model.children()))\n",
        "print(list(model.modules()))"
      ],
      "metadata": {
        "colab": {
          "base_uri": "https://localhost:8080/"
        },
        "id": "tgpMlcp3zoag",
        "outputId": "4b92616b-1185-498a-a29b-6f7837ebecc0"
      },
      "execution_count": 50,
      "outputs": [
        {
          "output_type": "stream",
          "name": "stdout",
          "text": [
            "[Linear(in_features=1, out_features=1, bias=True), Sigmoid()]\n",
            "[Model(\n",
            "  (layer): Linear(in_features=1, out_features=1, bias=True)\n",
            "  (activation): Sigmoid()\n",
            "), Linear(in_features=1, out_features=1, bias=True), Sigmoid()]\n"
          ]
        }
      ]
    },
    {
      "cell_type": "markdown",
      "source": [
        "#nn.Sequential을 이용한 신경망 정의\n",
        " - nn.Sequental 객체로 그안에 각 모듈을 순차적으로 실행\n",
        " - __init__()에서 사용할네트워크 모델들을 nn.Sequential로 정의 가능\n",
        " - forward()에서 실행되어야 할 계산을 가독성 높게 작성 가능"
      ],
      "metadata": {
        "id": "GFzhbQCax7ly"
      }
    },
    {
      "cell_type": "code",
      "source": [
        "class Model(nn.Module):\n",
        "   def __init__(self):\n",
        "    super(Model, self).__init__()\n",
        "    self.layer1 = nn.Sequential(\n",
        "         nn.Conv2d(in_channels=3, out_channels=64, kernel_size=5), #입력 3개 아웃 64 커널사이즈 5\n",
        "         nn.ReLU(inplace=True),\n",
        "         nn.MaxPool2d(2) #맥스풀링\n",
        "     )\n",
        "    self.layer2 = nn.Sequential(\n",
        "         nn.Conv2d(in_channels=64, out_channels=30, kernel_size=5), #64받아서 30으로 줄이는 역할\n",
        "         nn.ReLU(inplace=True),\n",
        "         nn.MaxPool2d(2)\n",
        "     )\n",
        "    self.layer3 = nn.Sequential(\n",
        "         nn.Linear(in_features=30*5*5, out_features=10, bias=True), #최종적으로 10으로 줄이는것\n",
        "         nn.ReLU(inplace=True),\n",
        "         \n",
        "     )    \n",
        "    def forward(self,x):\n",
        "      x = self.layer1(x)\n",
        "      x = self.layer2(x)\n",
        "      x = x.view(x.shape[0],-1)#첫번째 기준으로 나머지는 알아서 (-1)\n",
        "      return x"
      ],
      "metadata": {
        "id": "l3Y_lDH5x7pM"
      },
      "execution_count": 51,
      "outputs": []
    },
    {
      "cell_type": "code",
      "source": [
        "model = Model()\n",
        "print(list(model.children()))\n",
        "print(list(model.modules()))"
      ],
      "metadata": {
        "colab": {
          "base_uri": "https://localhost:8080/"
        },
        "id": "FM_41xz4x7sh",
        "outputId": "6b918c9a-5a25-4d4c-848f-1d223ce21d5f"
      },
      "execution_count": 52,
      "outputs": [
        {
          "output_type": "stream",
          "name": "stdout",
          "text": [
            "[Sequential(\n",
            "  (0): Conv2d(3, 64, kernel_size=(5, 5), stride=(1, 1))\n",
            "  (1): ReLU(inplace=True)\n",
            "  (2): MaxPool2d(kernel_size=2, stride=2, padding=0, dilation=1, ceil_mode=False)\n",
            "), Sequential(\n",
            "  (0): Conv2d(64, 30, kernel_size=(5, 5), stride=(1, 1))\n",
            "  (1): ReLU(inplace=True)\n",
            "  (2): MaxPool2d(kernel_size=2, stride=2, padding=0, dilation=1, ceil_mode=False)\n",
            "), Sequential(\n",
            "  (0): Linear(in_features=750, out_features=10, bias=True)\n",
            "  (1): ReLU(inplace=True)\n",
            ")]\n",
            "[Model(\n",
            "  (layer1): Sequential(\n",
            "    (0): Conv2d(3, 64, kernel_size=(5, 5), stride=(1, 1))\n",
            "    (1): ReLU(inplace=True)\n",
            "    (2): MaxPool2d(kernel_size=2, stride=2, padding=0, dilation=1, ceil_mode=False)\n",
            "  )\n",
            "  (layer2): Sequential(\n",
            "    (0): Conv2d(64, 30, kernel_size=(5, 5), stride=(1, 1))\n",
            "    (1): ReLU(inplace=True)\n",
            "    (2): MaxPool2d(kernel_size=2, stride=2, padding=0, dilation=1, ceil_mode=False)\n",
            "  )\n",
            "  (layer3): Sequential(\n",
            "    (0): Linear(in_features=750, out_features=10, bias=True)\n",
            "    (1): ReLU(inplace=True)\n",
            "  )\n",
            "), Sequential(\n",
            "  (0): Conv2d(3, 64, kernel_size=(5, 5), stride=(1, 1))\n",
            "  (1): ReLU(inplace=True)\n",
            "  (2): MaxPool2d(kernel_size=2, stride=2, padding=0, dilation=1, ceil_mode=False)\n",
            "), Conv2d(3, 64, kernel_size=(5, 5), stride=(1, 1)), ReLU(inplace=True), MaxPool2d(kernel_size=2, stride=2, padding=0, dilation=1, ceil_mode=False), Sequential(\n",
            "  (0): Conv2d(64, 30, kernel_size=(5, 5), stride=(1, 1))\n",
            "  (1): ReLU(inplace=True)\n",
            "  (2): MaxPool2d(kernel_size=2, stride=2, padding=0, dilation=1, ceil_mode=False)\n",
            "), Conv2d(64, 30, kernel_size=(5, 5), stride=(1, 1)), ReLU(inplace=True), MaxPool2d(kernel_size=2, stride=2, padding=0, dilation=1, ceil_mode=False), Sequential(\n",
            "  (0): Linear(in_features=750, out_features=10, bias=True)\n",
            "  (1): ReLU(inplace=True)\n",
            "), Linear(in_features=750, out_features=10, bias=True), ReLU(inplace=True)]\n"
          ]
        }
      ]
    },
    {
      "cell_type": "markdown",
      "source": [
        "파이토치 사전학습 모델\n",
        " - https://pytorch.org/vision/stable/models.html"
      ],
      "metadata": {
        "id": "0JwlWBmQx7vr"
      }
    },
    {
      "cell_type": "markdown",
      "source": [
        "#모델 파라미터"
      ],
      "metadata": {
        "id": "iM5JTw5_x7zF"
      }
    },
    {
      "cell_type": "markdown",
      "source": [
        "###손실 함수 (Loss function)\n",
        " - 예측 값과 실제 값 사이의 오차 측정 (정답과 실제값 사이)\n",
        " - 학습이 진행되면서 해당 과정이 얼마나 잘 되고 있는지 나타내는 지표\n",
        " - 모델이 훈련되는 동안 최소화될 값으로 주어진 문제에 대한 성공지표\n",
        " - 손실함수에 따른 결과를 통해 학습 파라미터를 조정\n",
        " - 최적화 이론에서 최소화 하고자 하는 함수\n",
        " - 미분 가능한 함수 사용\n",
        " - 파이토치의 주요 손실 함수\n",
        "  - torch.nn.BCELoss : 이진분류를 위해 사용\n",
        "  - torch.nn.CrossEntropyLoss : 다중클래스 분류를 위해 사용\n",
        "  - torch.nn.MSELoss : 회귀 모델에서 사용"
      ],
      "metadata": {
        "id": "pSvcDwTLx72e"
      }
    },
    {
      "cell_type": "code",
      "source": [
        "criterion = nn.MSELoss()\n",
        "criterion = nn.CrossEntropyLoss()"
      ],
      "metadata": {
        "id": "A3Fag0tSx75n"
      },
      "execution_count": 53,
      "outputs": []
    },
    {
      "cell_type": "markdown",
      "source": [
        "###옵티마이저(Optimizer)\n",
        " - 손실함수를 기반으로 모델이 어떻게 업데이트 되어야 하는지 결정 (특정 종류의 확률적 경사 하강법 구현)\n",
        " - optimizer는 'step()'을 통해 전달받은 파라미터를 모델 업데이트\n",
        " - 모든 옵티마이저의 기본으로 'torch.optim.Optimizer(params, defaults)' 클래스 사용\n",
        " - zero_grad()를 이용해 옵티마이저에 사용된 파라미터들의 기울기를 0으로 설정\n",
        " - 'torch.optim.lr_scheduler'를 이용해 에포크(epochs)에 따라 학습률(learning rate) 조절\n",
        " - 파이토치의 주요 옵티마이저 : optim.Adadelta, optim.Adagrad, optim.Adam, optim.RMSprop, optim.SGD"
      ],
      "metadata": {
        "id": "Pek0_Rlrx78-"
      }
    },
    {
      "cell_type": "markdown",
      "source": [
        "### 학습률 스케줄러(Learning rate scheduler)\n",
        " - 학습시 특정 조건에 따라 학습률을 조정하여 최적화 진행\n",
        " - 일정 횟수 이상이 되면 학습률을 감소(decay)시키거나 전역 최소점(global minimum) 근처에 가면 학습률을 줄이는 등\n",
        " - 파이토치의 학습률 스케줄러 종류\n",
        "  - optim.lr_scheduler.LambdaLR: 람다(lambda) 함수를 이용해 그 결과를 학습률로 설정\n",
        "  - optim.lr_scheduler.StepLR: 단계(step)마다 학습률을 감마(gamma) 비율만큼 감소\n",
        "  - optim.lr_scheduler.MultiStepLR: StepLR과 비슷하지만 특정 단계가 아니라 지정된 에포크에만 감마 비율로 감소\n",
        "  - optim.lr_scheduler.ExponentialLR: 에포크마다 이전 학습률에 감마만큼 곱함\n",
        "  - optim.lr_scheduler.CosineAnnealingLR: 학습률을 코사인(cosine)함수의 형태처럼 변화시켜 학습률이 커지기도 하고 작아지기도 함\n",
        "  - optim.lr_scheduler.ReduceLROnPlateau: 학습이 잘되는지 아닌지에 따라 동적으로 학습률 변화"
      ],
      "metadata": {
        "id": "GdQz43G7x8AW"
      }
    },
    {
      "cell_type": "markdown",
      "source": [
        "###지표(Metrics)\n",
        " - 모델의 학습과 테스트 단계를 모니터링\n"
      ],
      "metadata": {
        "id": "Tn4MtdKmx8D6"
      }
    },
    {
      "cell_type": "code",
      "source": [
        "#!pip install torchmetrics"
      ],
      "metadata": {
        "colab": {
          "base_uri": "https://localhost:8080/"
        },
        "id": "DeDaURwpx8G2",
        "outputId": "40a16186-7c60-4fb9-8fae-891079193683"
      },
      "execution_count": 54,
      "outputs": [
        {
          "output_type": "stream",
          "name": "stdout",
          "text": [
            "Looking in indexes: https://pypi.org/simple, https://us-python.pkg.dev/colab-wheels/public/simple/\n",
            "Collecting torchmetrics\n",
            "  Downloading torchmetrics-0.8.2-py3-none-any.whl (409 kB)\n",
            "\u001b[K     |████████████████████████████████| 409 kB 33.8 MB/s \n",
            "\u001b[?25hRequirement already satisfied: packaging in /usr/local/lib/python3.7/dist-packages (from torchmetrics) (21.3)\n",
            "Requirement already satisfied: numpy>=1.17.2 in /usr/local/lib/python3.7/dist-packages (from torchmetrics) (1.21.6)\n",
            "Collecting pyDeprecate==0.3.*\n",
            "  Downloading pyDeprecate-0.3.2-py3-none-any.whl (10 kB)\n",
            "Requirement already satisfied: torch>=1.3.1 in /usr/local/lib/python3.7/dist-packages (from torchmetrics) (1.11.0+cu113)\n",
            "Requirement already satisfied: typing-extensions in /usr/local/lib/python3.7/dist-packages (from torch>=1.3.1->torchmetrics) (4.2.0)\n",
            "Requirement already satisfied: pyparsing!=3.0.5,>=2.0.2 in /usr/local/lib/python3.7/dist-packages (from packaging->torchmetrics) (3.0.9)\n",
            "Installing collected packages: pyDeprecate, torchmetrics\n",
            "Successfully installed pyDeprecate-0.3.2 torchmetrics-0.8.2\n"
          ]
        }
      ]
    },
    {
      "cell_type": "code",
      "source": [
        "import torchmetrics\n",
        "\n",
        "preds = torch.randn(10,5).softmax(dim=-1) #10개중에 가장 높은값이 실제 값과 얼만큼 차이가나는지 softmax했을때,\n",
        "target = torch.randint(5, (10,)) #정답값\n",
        "print(preds, target)\n",
        "\n",
        "acc = torchmetrics.functional.accuracy(preds,target)\n",
        "print(acc) #정답률"
      ],
      "metadata": {
        "colab": {
          "base_uri": "https://localhost:8080/"
        },
        "id": "1g282NUnx8KP",
        "outputId": "77659803-fc8a-4440-94d0-13e311b43127"
      },
      "execution_count": 55,
      "outputs": [
        {
          "output_type": "stream",
          "name": "stdout",
          "text": [
            "tensor([[0.1113, 0.1612, 0.0860, 0.0743, 0.5671],\n",
            "        [0.3066, 0.5315, 0.0481, 0.0678, 0.0461],\n",
            "        [0.1252, 0.5938, 0.0303, 0.1541, 0.0966],\n",
            "        [0.0169, 0.3042, 0.1113, 0.4371, 0.1305],\n",
            "        [0.0236, 0.0590, 0.7328, 0.1031, 0.0814],\n",
            "        [0.2319, 0.0509, 0.0318, 0.0528, 0.6327],\n",
            "        [0.4664, 0.0456, 0.2011, 0.0494, 0.2375],\n",
            "        [0.0800, 0.2634, 0.3073, 0.0460, 0.3033],\n",
            "        [0.5079, 0.1576, 0.1112, 0.1841, 0.0391],\n",
            "        [0.0553, 0.4305, 0.2331, 0.2554, 0.0258]]) tensor([3, 3, 3, 3, 2, 0, 4, 3, 3, 4])\n",
            "tensor(0.2000)\n"
          ]
        }
      ]
    },
    {
      "cell_type": "code",
      "source": [
        "metric = torchmetrics.Accuracy()\n",
        "\n",
        "n_batches = 10\n",
        "for i in range(n_batches):\n",
        "  preds = torch.randn(10,5).softmax(dim=-1) \n",
        "  target = torch.randint(5, (10,)) \n",
        "\n",
        "\n",
        "  acc = metric(preds,target)\n",
        "  print(acc) \n",
        "acc = metric.compute()\n",
        "print(acc)  "
      ],
      "metadata": {
        "colab": {
          "base_uri": "https://localhost:8080/"
        },
        "id": "29MIKlmrx8No",
        "outputId": "2a4e11e6-8ff2-4645-b59e-6b747dc390fd"
      },
      "execution_count": 56,
      "outputs": [
        {
          "output_type": "stream",
          "name": "stdout",
          "text": [
            "tensor(0.2000)\n",
            "tensor(0.2000)\n",
            "tensor(0.2000)\n",
            "tensor(0.3000)\n",
            "tensor(0.3000)\n",
            "tensor(0.2000)\n",
            "tensor(0.1000)\n",
            "tensor(0.1000)\n",
            "tensor(0.2000)\n",
            "tensor(0.2000)\n",
            "tensor(0.2000)\n"
          ]
        }
      ]
    },
    {
      "cell_type": "markdown",
      "source": [
        "###선형 회귀 모델"
      ],
      "metadata": {
        "id": "0tcQvJyRx8Q_"
      }
    },
    {
      "cell_type": "markdown",
      "source": [
        "###데이터 생성"
      ],
      "metadata": {
        "id": "-2Tu39Xux8Uv"
      }
    },
    {
      "cell_type": "code",
      "source": [
        "x = torch.randn(200,1) * 10\n",
        "y = x + 3 * torch.randn(200,1)\n",
        "plt.scatter(x.numpy(), y.numpy())\n",
        "plt.ylabel('y')\n",
        "plt.xlabel('x')\n",
        "plt.grid()\n",
        "plt.show()"
      ],
      "metadata": {
        "colab": {
          "base_uri": "https://localhost:8080/",
          "height": 279
        },
        "id": "CRWyrOBqdLgj",
        "outputId": "7af7a059-75cc-4c40-b29d-287a2ff62926"
      },
      "execution_count": 77,
      "outputs": [
        {
          "output_type": "display_data",
          "data": {
            "text/plain": [
              "<Figure size 432x288 with 1 Axes>"
            ],
            "image/png": "[encoded data removed]"
          },
          "metadata": {
            "needs_background": "light"
          }
        }
      ]
    },
    {
      "cell_type": "markdown",
      "source": [
        "###모델 정의 및 파라미터"
      ],
      "metadata": {
        "id": "oNntwPBfdKgQ"
      }
    },
    {
      "cell_type": "code",
      "source": [
        "class LinearRegressionModel(nn.Module):\n",
        "\n",
        "  def __init__(self):\n",
        "    super(LinearRegressionModel, self).__init__()\n",
        "    self.linear = nn.Linear(1,1) #인피쳐1 아웃피쳐1\n",
        "\n",
        "  def forward(self,x):\n",
        "    pred = self.linear(x)\n",
        "    return pred\n",
        "    "
      ],
      "metadata": {
        "id": "ZZO_ADHNdKjx"
      },
      "execution_count": 87,
      "outputs": []
    },
    {
      "cell_type": "code",
      "source": [
        "model = LinearRegressionModel()\n",
        "print(model)\n",
        "print(list(model.parameters()))"
      ],
      "metadata": {
        "colab": {
          "base_uri": "https://localhost:8080/"
        },
        "id": "JIW1SMCmdKnJ",
        "outputId": "42a3a8df-d2b0-4a04-c6d0-bb1269618bf9"
      },
      "execution_count": 88,
      "outputs": [
        {
          "output_type": "stream",
          "name": "stdout",
          "text": [
            "LinearRegressionModel(\n",
            "  (linear): Linear(in_features=1, out_features=1, bias=True)\n",
            ")\n",
            "[Parameter containing:\n",
            "tensor([[0.6922]], requires_grad=True), Parameter containing:\n",
            "tensor([0.4320], requires_grad=True)]\n"
          ]
        }
      ]
    },
    {
      "cell_type": "code",
      "source": [
        "w, b = model.parameters()\n",
        "\n",
        "w1, b1 =w[0][0].item(), b[0].item() #첫번째를 아이템으로\n",
        "x1 = np.array([-30,30])\n",
        "y1 = w1 * x1 + b1 #리니어 값\n",
        "\n",
        "plt.plot(x1,y1,'r') #빨간색으로 출력\n",
        "plt.scatter(x,y)\n",
        "plt.grid()\n",
        "plt.show()\n"
      ],
      "metadata": {
        "colab": {
          "base_uri": "https://localhost:8080/",
          "height": 265
        },
        "id": "Csg46QtndKqj",
        "outputId": "eb99ede9-5986-4a4e-f28d-f6aeca82fe8e"
      },
      "execution_count": 89,
      "outputs": [
        {
          "output_type": "display_data",
          "data": {
            "text/plain": [
              "<Figure size 432x288 with 1 Axes>"
            ],
            "image/png": "[encoded data removed]"
          },
          "metadata": {
            "needs_background": "light"
          }
        }
      ]
    },
    {
      "cell_type": "markdown",
      "source": [
        "###손실 함수 및 옵티마이저"
      ],
      "metadata": {
        "id": "KWHFj9WHdKtv"
      }
    },
    {
      "cell_type": "code",
      "source": [
        "import torch.optim as optim\n",
        "criterion = nn.MSELoss()\n",
        "optimizer = optim.SGD(model.parameters(), lr=0.001)"
      ],
      "metadata": {
        "id": "i8OvvSi1dKxA"
      },
      "execution_count": 90,
      "outputs": []
    },
    {
      "cell_type": "markdown",
      "source": [
        "###모델학습"
      ],
      "metadata": {
        "id": "nIRsvO_6dK0b"
      }
    },
    {
      "cell_type": "code",
      "source": [
        "epochs = 100\n",
        "losses = []\n",
        "\n",
        "for epoch in range(epochs):\n",
        "  optimizer.zero_grad() #gradient 값 0으로 초기화 \n",
        "  y_pred = model(x)\n",
        "  loss = criterion(y_pred, y) #손실함수 실제값과 예측값 차이\n",
        "  losses.append(loss.item())\n",
        "  loss.backward() \n",
        "\n",
        "  optimizer.step()"
      ],
      "metadata": {
        "id": "n15MIxVhfqr8"
      },
      "execution_count": 91,
      "outputs": []
    },
    {
      "cell_type": "code",
      "source": [
        "plt.plot(range(epochs), losses)\n",
        "plt.ylabel('Loss')\n",
        "plt.xlabel('Epoch')\n",
        "plt.show()"
      ],
      "metadata": {
        "colab": {
          "base_uri": "https://localhost:8080/",
          "height": 279
        },
        "id": "8xBoBXinfqvo",
        "outputId": "0cf8c0e2-ca01-4af7-b8d8-47004bb592ae"
      },
      "execution_count": 92,
      "outputs": [
        {
          "output_type": "display_data",
          "data": {
            "text/plain": [
              "<Figure size 432x288 with 1 Axes>"
            ],
            "image/png": "[encoded data removed]"
          },
          "metadata": {
            "needs_background": "light"
          }
        }
      ]
    },
    {
      "cell_type": "code",
      "source": [
        "w1, b1 =w[0][0].item(), b[0].item() #첫번째를 아이템으로\n",
        "x1 = np.array([-30,30])\n",
        "y1 = w1 * x1 + b1 #리니어 값\n",
        "\n",
        "plt.plot(x1,y1,'r') #빨간색으로 출력\n",
        "plt.scatter(x,y)\n",
        "plt.grid()\n",
        "plt.show()"
      ],
      "metadata": {
        "colab": {
          "base_uri": "https://localhost:8080/",
          "height": 265
        },
        "id": "bdMhHcmbfqy3",
        "outputId": "a7bf44af-feb9-400e-bec0-fa6359dbdedb"
      },
      "execution_count": 93,
      "outputs": [
        {
          "output_type": "display_data",
          "data": {
            "text/plain": [
              "<Figure size 432x288 with 1 Axes>"
            ],
            "image/png": "[encoded data removed]"
          },
          "metadata": {
            "needs_background": "light"
          }
        }
      ]
    },
    {
      "cell_type": "markdown",
      "source": [
        "###FashionMNIST 분류 모델"
      ],
      "metadata": {
        "id": "ljdYz6CKfq13"
      }
    },
    {
      "cell_type": "markdown",
      "source": [
        "GPU설정"
      ],
      "metadata": {
        "id": "yPg4lXfWfq44"
      }
    },
    {
      "cell_type": "code",
      "source": [
        "device = torch.device('cuda' if torch.cuda.is_available() else 'cpu')\n",
        "device"
      ],
      "metadata": {
        "colab": {
          "base_uri": "https://localhost:8080/"
        },
        "id": "3rMFnflEfq8H",
        "outputId": "b4f6a78a-a296-49a4-dadc-f2a8ba6f13ac"
      },
      "execution_count": 95,
      "outputs": [
        {
          "output_type": "execute_result",
          "data": {
            "text/plain": [
              "device(type='cuda')"
            ]
          },
          "metadata": {},
          "execution_count": 95
        }
      ]
    },
    {
      "cell_type": "code",
      "source": [
        "transform = transforms.Compose([transforms.ToTensor(),\n",
        "                               transforms.Normalize((0.5,), (0.5))])"
      ],
      "metadata": {
        "id": "LulABIhefq_P"
      },
      "execution_count": 98,
      "outputs": []
    },
    {
      "cell_type": "code",
      "source": [
        "trainset = datasets.FashionMNIST(root='/content/',\n",
        "                                 train = True, download=True,\n",
        "                                 transfrom = transform)\n",
        "testset = datasets.FashionMNIST(root='/content/',\n",
        "                                 train = False, download=True,\n",
        "                                 transfrom = transform)"
      ],
      "metadata": {
        "colab": {
          "base_uri": "https://localhost:8080/",
          "height": 248
        },
        "id": "fkRumtP8frCh",
        "outputId": "cca7c632-f52d-4daa-e643-ac0b38cb3118"
      },
      "execution_count": 105,
      "outputs": [
        {
          "output_type": "error",
          "ename": "TypeError",
          "evalue": "ignored",
          "traceback": [
            "\u001b[0;31m---------------------------------------------------------------------------\u001b[0m",
            "\u001b[0;31mTypeError\u001b[0m                                 Traceback (most recent call last)",
            "\u001b[0;32m<ipython-input-105-81787031f9ab>\u001b[0m in \u001b[0;36m<module>\u001b[0;34m()\u001b[0m\n\u001b[1;32m      1\u001b[0m trainset = datasets.FashionMNIST(root='/content/',\n\u001b[1;32m      2\u001b[0m                                  \u001b[0mtrain\u001b[0m \u001b[0;34m=\u001b[0m \u001b[0;32mTrue\u001b[0m\u001b[0;34m,\u001b[0m \u001b[0mdownload\u001b[0m\u001b[0;34m=\u001b[0m\u001b[0;32mTrue\u001b[0m\u001b[0;34m,\u001b[0m\u001b[0;34m\u001b[0m\u001b[0;34m\u001b[0m\u001b[0m\n\u001b[0;32m----> 3\u001b[0;31m                                  transfrom = transform)\n\u001b[0m\u001b[1;32m      4\u001b[0m testset = datasets.FashionMNIST(root='/content/',\n\u001b[1;32m      5\u001b[0m                                  \u001b[0mtrain\u001b[0m \u001b[0;34m=\u001b[0m \u001b[0;32mFalse\u001b[0m\u001b[0;34m,\u001b[0m \u001b[0mdownload\u001b[0m\u001b[0;34m=\u001b[0m\u001b[0;32mTrue\u001b[0m\u001b[0;34m,\u001b[0m\u001b[0;34m\u001b[0m\u001b[0;34m\u001b[0m\u001b[0m\n",
            "\u001b[0;31mTypeError\u001b[0m: __init__() got an unexpected keyword argument 'transfrom'"
          ]
        }
      ]
    },
    {
      "cell_type": "code",
      "source": [
        "train_loader = DataLoader(trainset, batch_size = 128, shuffle =True, num_workers=2)\n",
        "test_loader = DataLoader(testset, batch_size = 128, shuffle =False, num_workers=2)"
      ],
      "metadata": {
        "id": "wEmLv8yyuSNP"
      },
      "execution_count": 106,
      "outputs": []
    },
    {
      "cell_type": "code",
      "source": [
        "images, labels = next(iter(train_loader))\n",
        "images.shape, labels.shape"
      ],
      "metadata": {
        "colab": {
          "base_uri": "https://localhost:8080/"
        },
        "id": "eAKgBrnUuSQ-",
        "outputId": "949aa888-f895-4d0f-aa96-a3d2365ad0ba"
      },
      "execution_count": 107,
      "outputs": [
        {
          "output_type": "execute_result",
          "data": {
            "text/plain": [
              "(torch.Size([128, 1, 28, 28]), torch.Size([128]))"
            ]
          },
          "metadata": {},
          "execution_count": 107
        }
      ]
    },
    {
      "cell_type": "code",
      "source": [
        "labels_map = {\n",
        "    0: 'T-shirt',\n",
        "    1: 'Trouser',\n",
        "    2: 'Pullover',\n",
        "    3: 'Dress',\n",
        "    4: 'Coat',\n",
        "    5: 'Sandal',\n",
        "    6: 'Shirt',\n",
        "    7: 'Sneaker',\n",
        "    8: 'Bag',\n",
        "    9: 'Ankle Boot',\n",
        "}\n",
        "figure = plt.figure(figsize =(12,12))\n",
        "cols, rows = 4,4\n",
        "for i in range(1, cols * rows + 1):\n",
        "  image = images[i].squeeze()\n",
        "  label_idx = labels[i].item()\n",
        "  label = labels_map[label_idx]\n",
        "\n",
        "  figure.add_subplot(rows, cols, i)\n",
        "  plt.title(label)\n",
        "  plt.axis('off')\n",
        "  plt.imshow(image, cmap='gray')\n",
        "plt.show()"
      ],
      "metadata": {
        "colab": {
          "base_uri": "https://localhost:8080/",
          "height": 699
        },
        "id": "2tyx1pxduSUQ",
        "outputId": "60fcc36f-09a9-486a-afef-f20edbf4f575"
      },
      "execution_count": 104,
      "outputs": [
        {
          "output_type": "display_data",
          "data": {
            "text/plain": [
              "<Figure size 864x864 with 16 Axes>"
            ],
            "image/png": "[encoded data removed]"
          },
          "metadata": {
            "needs_background": "light"
          }
        }
      ]
    },
    {
      "cell_type": "markdown",
      "source": [
        ""
      ],
      "metadata": {
        "id": "pIagAyaauNBi"
      }
    },
    {
      "cell_type": "code",
      "source": [
        ""
      ],
      "metadata": {
        "id": "5dokJI4GfrFe"
      },
      "execution_count": null,
      "outputs": []
    }
  ]
}