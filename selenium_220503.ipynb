{
 "cells": [
  {
   "cell_type": "code",
   "execution_count": 1,
   "id": "3d7791c3",
   "metadata": {},
   "outputs": [],
   "source": [
    "from selenium import webdriver #웹드라이버 실행"
   ]
  },
  {
   "cell_type": "code",
   "execution_count": 2,
   "id": "d143f3ac",
   "metadata": {},
   "outputs": [],
   "source": [
    "c_driver = webdriver.Chrome() #동일 경로일시 빈칸으로 놔둬도 된다 아닐경우 executable_path=\"드라이버 경로\""
   ]
  },
  {
   "cell_type": "code",
   "execution_count": 3,
   "id": "c72cba37",
   "metadata": {},
   "outputs": [],
   "source": [
    "c_driver.implicitly_wait(5) #웹브라우저가 설정한 초만큼 대기"
   ]
  },
  {
   "cell_type": "code",
   "execution_count": 6,
   "id": "b975b973",
   "metadata": {},
   "outputs": [],
   "source": [
    "c_driver.get('http://www.naver.com') #c_driver가 브라우저 자체, 여기다 명령을 내림 get(url주소)"
   ]
  },
  {
   "cell_type": "code",
   "execution_count": null,
   "id": "2eaf7eea",
   "metadata": {},
   "outputs": [],
   "source": [
    "#elem = c_diver.find_element_by_class_name(\"class이름\") 파싱하는 방법이 beautiful_soap와 동일함\n",
    "#elem = c_diver.find_element_by_id(\"id이름\")\n",
    "#elem = c_diver.find_element_byname(\"name이름\")\n",
    "print(elem.text)\n",
    "print(elem.get_attribute(\"id\"))\n"
   ]
  },
  {
   "cell_type": "code",
   "execution_count": 7,
   "id": "ffbb2be9",
   "metadata": {},
   "outputs": [
    {
     "name": "stderr",
     "output_type": "stream",
     "text": [
      "<ipython-input-7-be5592f0062f>:2: DeprecationWarning: find_elements_by_* commands are deprecated. Please use find_elements() instead\n",
      "  elemList = c_driver.find_elements_by_class_name('u_cbox_contents')\n"
     ]
    },
    {
     "name": "stdout",
     "output_type": "stream",
     "text": [
      "최대한 공약대로 열심히 해주시길바랍니다\n",
      "5년간 청와대 폐기 요청 부탁합니다.\n",
      "에휴에휴에휴에휴\n",
      "불공정 비상식 후쿠시마 부패돼지 윤석열도 할수있다 전대머리도 했는데 5년 뒤를 탈원전 100% 지지 북한은 무력 통일이 길아다\n",
      "수출로 먹고 살아야 하는데 국제 흐름과 반대로 가면서 나라 망칠려고 작정했네...\n"
     ]
    }
   ],
   "source": [
    "c_driver.get('https://n.news.naver.com/article/584/0000018822?cds=news_media_pc&type=editn') #url 설정\n",
    "elemList = c_driver.find_elements_by_class_name('u_cbox_contents') #필요한 정보 파싱\n",
    "for elem in elemList: #반복문을 통해 출력\n",
    "    print(elem.text)"
   ]
  },
  {
   "cell_type": "code",
   "execution_count": 10,
   "id": "d254d46d",
   "metadata": {},
   "outputs": [
    {
     "name": "stderr",
     "output_type": "stream",
     "text": [
      "<ipython-input-10-23e1bac6ad53>:3: DeprecationWarning: find_element_by_* commands are deprecated. Please use find_element() instead\n",
      "  naverSearchStrElem = c_driver.find_element_by_id('query')\n",
      "<ipython-input-10-23e1bac6ad53>:6: DeprecationWarning: find_element_by_* commands are deprecated. Please use find_element() instead\n",
      "  searchBtnElem = c_driver.find_element_by_id('search_btn')\n"
     ]
    }
   ],
   "source": [
    "#url 설정후 검색창에 입력\n",
    "c_driver.get('http://www.naver.com')\n",
    "naverSearchStrElem = c_driver.find_element_by_id('query')\n",
    "naverSearchStrElem.send_keys(\"문자를 입력 가능\")\n",
    "\n",
    "searchBtnElem = c_driver.find_element_by_id('search_btn')\n",
    "searchBtnElem.click()\n",
    "# elem.send_keys(\"보낼문자열\") #아이디입력과 같은 행위 가능\n",
    "# elem.click() #클릭 기능"
   ]
  },
  {
   "cell_type": "code",
   "execution_count": null,
   "id": "dd16319c",
   "metadata": {},
   "outputs": [],
   "source": []
  },
  {
   "cell_type": "code",
   "execution_count": null,
   "id": "7c1b2396",
   "metadata": {},
   "outputs": [],
   "source": []
  }
 ],
 "metadata": {
  "kernelspec": {
   "display_name": "Python 3",
   "language": "python",
   "name": "python3"
  },
  "language_info": {
   "codemirror_mode": {
    "name": "ipython",
    "version": 3
   },
   "file_extension": ".py",
   "mimetype": "text/x-python",
   "name": "python",
   "nbconvert_exporter": "python",
   "pygments_lexer": "ipython3",
   "version": "3.8.8"
  }
 },
 "nbformat": 4,
 "nbformat_minor": 5
}
